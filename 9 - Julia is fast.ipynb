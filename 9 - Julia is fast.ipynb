{
 "cells": [
  {
   "cell_type": "markdown",
   "metadata": {},
   "source": [
    "# Julia is fast\n",
    "\n",
    "Very often, benchmarks are used to compare languages.  These benchmarks can lead to long discussions, first as to exactly what is being benchmarked and secondly what explains the differences.  These simple questions can sometimes get more complicated than you at first might imagine.\n",
    "\n",
    "The purpose of this notebook is for you to see a simple benchmark for yourself.  One can read the notebook and see what happened on the author's Macbook Pro with a 4-core Intel Core I7, or run the notebook yourself.\n",
    "\n",
    "(This material began life as a wonderful lecture by Steven Johnson at MIT: https://github.com/stevengj/18S096/blob/master/lectures/lecture1/Boxes-and-registers.ipynb.)"
   ]
  },
  {
   "cell_type": "markdown",
   "metadata": {},
   "source": [
    "# Outline of this notebook\n",
    "\n",
    "- Define the sum function\n",
    "- Implementations & benchmarking of sum in...\n",
    "    - C (hand-written)\n",
    "    - C (hand-written with -ffast-math)\n",
    "    - python (built-in)\n",
    "    - python (numpy)\n",
    "    - python (hand-written)\n",
    "    - Julia (built-in)\n",
    "    - Julia (hand-written)\n",
    "    - Julia (hand-written with SIMD)\n",
    "- Summary of benchmarks"
   ]
  },
  {
   "cell_type": "markdown",
   "metadata": {},
   "source": [
    "# `sum`: An easy enough function to understand"
   ]
  },
  {
   "cell_type": "markdown",
   "metadata": {},
   "source": [
    "Consider the  **sum** function `sum(a)`, which computes\n",
    "$$\n",
    "\\mathrm{sum}(a) = \\sum_{i=1}^n a_i,\n",
    "$$\n",
    "where $n$ is the length of `a`."
   ]
  },
  {
   "cell_type": "code",
   "execution_count": 1,
   "metadata": {},
   "outputs": [
    {
     "data": {
      "text/plain": [
       "10000000-element Vector{Float64}:\n",
       " 0.32869701596197043\n",
       " 0.9216340195337122\n",
       " 0.49208343437644264\n",
       " 0.2344089883063486\n",
       " 0.8476941624932173\n",
       " 0.2080047720128757\n",
       " 0.024506907602569683\n",
       " 0.6859102022651173\n",
       " 0.5206322429801868\n",
       " 0.06203806611128604\n",
       " ⋮\n",
       " 0.45221419158836595\n",
       " 0.6707395402742419\n",
       " 0.8677885154098488\n",
       " 0.29716973177440487\n",
       " 0.6262093449138764\n",
       " 0.8852636998144761\n",
       " 0.1539753990025008\n",
       " 0.9669250064792458\n",
       " 0.7113896324758077"
      ]
     },
     "metadata": {},
     "output_type": "display_data"
    }
   ],
   "source": [
    "a = rand(10^7) # 1D vector of random numbers, uniform on [0,1)"
   ]
  },
  {
   "cell_type": "code",
   "execution_count": 3,
   "metadata": {},
   "outputs": [
    {
     "data": {
      "text/plain": [
       "4.999427650656363e6"
      ]
     },
     "metadata": {},
     "output_type": "display_data"
    }
   ],
   "source": [
    "sum(a)"
   ]
  },
  {
   "cell_type": "markdown",
   "metadata": {},
   "source": [
    "The expected result is 0.5 * 10^7, since the mean of each entry is 0.5"
   ]
  },
  {
   "cell_type": "markdown",
   "metadata": {},
   "source": [
    "# Benchmarking a few ways in a few languages"
   ]
  },
  {
   "cell_type": "code",
   "execution_count": 4,
   "metadata": {},
   "outputs": [
    {
     "name": "stdout",
     "output_type": "stream",
     "text": [
      "  0.007510 seconds (1 allocation: 16 bytes)\n"
     ]
    },
    {
     "data": {
      "text/plain": [
       "4.999427650656363e6"
      ]
     },
     "metadata": {},
     "output_type": "display_data"
    }
   ],
   "source": [
    "@time sum(a)"
   ]
  },
  {
   "cell_type": "code",
   "execution_count": 5,
   "metadata": {},
   "outputs": [
    {
     "name": "stdout",
     "output_type": "stream",
     "text": [
      "  0.007327 seconds (1 allocation: 16 bytes)\n"
     ]
    },
    {
     "data": {
      "text/plain": [
       "4.999427650656363e6"
      ]
     },
     "metadata": {},
     "output_type": "display_data"
    }
   ],
   "source": [
    "@time sum(a)"
   ]
  },
  {
   "cell_type": "code",
   "execution_count": 6,
   "metadata": {},
   "outputs": [
    {
     "name": "stdout",
     "output_type": "stream",
     "text": [
      "  0.006709 seconds (1 allocation: 16 bytes)\n"
     ]
    },
    {
     "data": {
      "text/plain": [
       "4.999427650656363e6"
      ]
     },
     "metadata": {},
     "output_type": "display_data"
    }
   ],
   "source": [
    "@time sum(a)"
   ]
  },
  {
   "cell_type": "markdown",
   "metadata": {},
   "source": [
    "The `@time` macro can yield noisy results, so it's not our best choice for benchmarking!\n",
    "\n",
    "Luckily, Julia has a `BenchmarkTools.jl` package to make benchmarking easy and accurate:"
   ]
  },
  {
   "cell_type": "code",
   "execution_count": 7,
   "metadata": {},
   "outputs": [
    {
     "name": "stderr",
     "output_type": "stream",
     "text": [
      "\u001b[32m\u001b[1m    Updating\u001b[22m\u001b[39m registry at `~/.julia/registries/General.toml`\n",
      "\u001b[32m\u001b[1m   Resolving\u001b[22m\u001b[39m package versions...\n",
      "\u001b[32m\u001b[1m   Installed\u001b[22m\u001b[39m BenchmarkTools ─ v1.3.1\n",
      "\u001b[32m\u001b[1m    Updating\u001b[22m\u001b[39m `~/.julia/environments/v1.7/Project.toml`\n",
      " \u001b[90m [6e4b80f9] \u001b[39m\u001b[92m+ BenchmarkTools v1.3.1\u001b[39m\n",
      "\u001b[32m\u001b[1m    Updating\u001b[22m\u001b[39m `~/.julia/environments/v1.7/Manifest.toml`\n",
      " \u001b[90m [6e4b80f9] \u001b[39m\u001b[92m+ BenchmarkTools v1.3.1\u001b[39m\n",
      " \u001b[90m [9abbd945] \u001b[39m\u001b[92m+ Profile\u001b[39m\n",
      "\u001b[32m\u001b[1mPrecompiling\u001b[22m\u001b[39m project...\n",
      "\u001b[32m  ✓ \u001b[39mBenchmarkTools\n",
      "  1 dependency successfully precompiled in 2 seconds (152 already precompiled)\n"
     ]
    }
   ],
   "source": [
    "using Pkg\n",
    "Pkg.add(\"BenchmarkTools\")"
   ]
  },
  {
   "cell_type": "code",
   "execution_count": 8,
   "metadata": {},
   "outputs": [],
   "source": [
    "using BenchmarkTools  "
   ]
  },
  {
   "cell_type": "markdown",
   "metadata": {},
   "source": [
    "#  1. The C language\n",
    "\n",
    "C is often considered the gold standard: difficult on the human, nice for the machine. Getting within a factor of 2 of C is often satisfying. Nonetheless, even within C, there are many kinds of optimizations possible that a naive C writer may or may not get the advantage of.\n",
    "\n",
    "The current author does not speak C, so he does not read the cell below, but is happy to know that you can put C code in a Julia session, compile it, and run it. Note that the `\"\"\"` wrap a multi-line string."
   ]
  },
  {
   "cell_type": "code",
   "execution_count": 9,
   "metadata": {},
   "outputs": [
    {
     "data": {
      "text/plain": [
       "c_sum (generic function with 1 method)"
      ]
     },
     "metadata": {},
     "output_type": "display_data"
    }
   ],
   "source": [
    "using Libdl\n",
    "C_code = \"\"\"\n",
    "#include <stddef.h>\n",
    "double c_sum(size_t n, double *X) {\n",
    "    double s = 0.0;\n",
    "    for (size_t i = 0; i < n; ++i) {\n",
    "        s += X[i];\n",
    "    }\n",
    "    return s;\n",
    "}\n",
    "\"\"\"\n",
    "\n",
    "const Clib = tempname()   # make a temporary file\n",
    "\n",
    "\n",
    "# compile to a shared library by piping C_code to gcc\n",
    "# (works only if you have gcc installed):\n",
    "\n",
    "open(`gcc -fPIC -O3 -msse3 -xc -shared -o $(Clib * \".\" * Libdl.dlext) -`, \"w\") do f\n",
    "    print(f, C_code) \n",
    "end\n",
    "\n",
    "# define a Julia function that calls the C function:\n",
    "c_sum(X::Array{Float64}) = ccall((\"c_sum\", Clib), Float64, (Csize_t, Ptr{Float64}), length(X), X)"
   ]
  },
  {
   "cell_type": "code",
   "execution_count": 10,
   "metadata": {},
   "outputs": [
    {
     "data": {
      "text/plain": [
       "4.999427650656588e6"
      ]
     },
     "metadata": {},
     "output_type": "display_data"
    }
   ],
   "source": [
    "c_sum(a)"
   ]
  },
  {
   "cell_type": "code",
   "execution_count": 11,
   "metadata": {},
   "outputs": [
    {
     "data": {
      "text/plain": [
       "true"
      ]
     },
     "metadata": {},
     "output_type": "display_data"
    }
   ],
   "source": [
    "c_sum(a) ≈ sum(a) # type \\approx and then <TAB> to get the ≈ symbolb"
   ]
  },
  {
   "cell_type": "code",
   "execution_count": 12,
   "metadata": {},
   "outputs": [
    {
     "data": {
      "text/plain": [
       "2.253800630569458e-7"
      ]
     },
     "metadata": {},
     "output_type": "display_data"
    }
   ],
   "source": [
    "c_sum(a) - sum(a)  "
   ]
  },
  {
   "cell_type": "code",
   "execution_count": 13,
   "metadata": {
    "scrolled": true
   },
   "outputs": [
    {
     "data": {
      "text/plain": [
       "isapprox (generic function with 9 methods)"
      ]
     },
     "metadata": {},
     "output_type": "display_data"
    }
   ],
   "source": [
    "≈  # alias for the `isapprox` function"
   ]
  },
  {
   "cell_type": "code",
   "execution_count": 15,
   "metadata": {
    "scrolled": true
   },
   "outputs": [
    {
     "ename": "ErrorException",
     "evalue": "syntax: invalid identifier name \"?\"",
     "output_type": "error",
     "traceback": [
      "syntax: invalid identifier name \"?\"\n",
      "\n",
      "Stacktrace:\n",
      "  [1] top-level scope\n",
      "    @ ~/Documents/code/Introduction-to-Julia/9 - Julia is fast.ipynb:1\n",
      "  [2] eval\n",
      "    @ ./boot.jl:373 [inlined]\n",
      "  [3] include_string(mapexpr::typeof(REPL.softscope), mod::Module, code::String, filename::String)\n",
      "    @ Base ./loading.jl:1196\n",
      "  [4] #invokelatest#2\n",
      "    @ ./essentials.jl:716 [inlined]\n",
      "  [5] invokelatest\n",
      "    @ ./essentials.jl:714 [inlined]\n",
      "  [6] (::VSCodeServer.var\"#164#165\"{VSCodeServer.NotebookRunCellArguments, String})()\n",
      "    @ VSCodeServer ~/.vscode/extensions/julialang.language-julia-1.6.17/scripts/packages/VSCodeServer/src/serve_notebook.jl:19\n",
      "  [7] withpath(f::VSCodeServer.var\"#164#165\"{VSCodeServer.NotebookRunCellArguments, String}, path::String)\n",
      "    @ VSCodeServer ~/.vscode/extensions/julialang.language-julia-1.6.17/scripts/packages/VSCodeServer/src/repl.jl:184\n",
      "  [8] notebook_runcell_request(conn::VSCodeServer.JSONRPC.JSONRPCEndpoint{Base.PipeEndpoint, Base.PipeEndpoint}, params::VSCodeServer.NotebookRunCellArguments)\n",
      "    @ VSCodeServer ~/.vscode/extensions/julialang.language-julia-1.6.17/scripts/packages/VSCodeServer/src/serve_notebook.jl:13\n",
      "  [9] dispatch_msg(x::VSCodeServer.JSONRPC.JSONRPCEndpoint{Base.PipeEndpoint, Base.PipeEndpoint}, dispatcher::VSCodeServer.JSONRPC.MsgDispatcher, msg::Dict{String, Any})\n",
      "    @ VSCodeServer.JSONRPC ~/.vscode/extensions/julialang.language-julia-1.6.17/scripts/packages/JSONRPC/src/typed.jl:67\n",
      " [10] serve_notebook(pipename::String, outputchannel_logger::Base.CoreLogging.SimpleLogger; crashreporting_pipename::String)\n",
      "    @ VSCodeServer ~/.vscode/extensions/julialang.language-julia-1.6.17/scripts/packages/VSCodeServer/src/serve_notebook.jl:136\n",
      " [11] top-level scope\n",
      "    @ ~/.vscode/extensions/julialang.language-julia-1.6.17/scripts/notebook/notebook.jl:32\n",
      " [12] include(mod::Module, _path::String)\n",
      "    @ Base ./Base.jl:418\n",
      " [13] exec_options(opts::Base.JLOptions)\n",
      "    @ Base ./client.jl:292\n",
      " [14] _start()\n",
      "    @ Base ./client.jl:495"
     ]
    }
   ],
   "source": [
    "?isapprox"
   ]
  },
  {
   "cell_type": "markdown",
   "metadata": {},
   "source": [
    "We can now benchmark the C code directly from Julia:"
   ]
  },
  {
   "cell_type": "code",
   "execution_count": 16,
   "metadata": {},
   "outputs": [
    {
     "data": {
      "text/plain": [
       "BenchmarkTools.Trial: 297 samples with 1 evaluation.\n",
       " Range \u001b[90m(\u001b[39m\u001b[36m\u001b[1mmin\u001b[22m\u001b[39m … \u001b[35mmax\u001b[39m\u001b[90m):  \u001b[39m\u001b[36m\u001b[1m15.001 ms\u001b[22m\u001b[39m … \u001b[35m28.063 ms\u001b[39m  \u001b[90m┊\u001b[39m GC \u001b[90m(\u001b[39mmin … max\u001b[90m): \u001b[39m0.00% … 0.00%\n",
       " Time  \u001b[90m(\u001b[39m\u001b[34m\u001b[1mmedian\u001b[22m\u001b[39m\u001b[90m):     \u001b[39m\u001b[34m\u001b[1m15.862 ms              \u001b[22m\u001b[39m\u001b[90m┊\u001b[39m GC \u001b[90m(\u001b[39mmedian\u001b[90m):    \u001b[39m0.00%\n",
       " Time  \u001b[90m(\u001b[39m\u001b[32m\u001b[1mmean\u001b[22m\u001b[39m ± \u001b[32mσ\u001b[39m\u001b[90m):   \u001b[39m\u001b[32m\u001b[1m16.855 ms\u001b[22m\u001b[39m ± \u001b[32m 2.386 ms\u001b[39m  \u001b[90m┊\u001b[39m GC \u001b[90m(\u001b[39mmean ± σ\u001b[90m):  \u001b[39m0.00% ± 0.00%\n",
       "\n",
       "  \u001b[39m▄\u001b[39m▃\u001b[39m▄\u001b[39m▄\u001b[39m▃\u001b[39m█\u001b[34m \u001b[39m\u001b[39m▆\u001b[39m \u001b[39m \u001b[39m \u001b[39m \u001b[32m \u001b[39m\u001b[39m \u001b[39m \u001b[39m \u001b[39m \u001b[39m \u001b[39m \u001b[39m \u001b[39m \u001b[39m \u001b[39m \u001b[39m \u001b[39m \u001b[39m \u001b[39m \u001b[39m \u001b[39m \u001b[39m \u001b[39m \u001b[39m \u001b[39m \u001b[39m \u001b[39m \u001b[39m \u001b[39m \u001b[39m \u001b[39m \u001b[39m \u001b[39m \u001b[39m \u001b[39m \u001b[39m \u001b[39m \u001b[39m \u001b[39m \u001b[39m \u001b[39m \u001b[39m \u001b[39m \u001b[39m \u001b[39m \u001b[39m \u001b[39m \u001b[39m \u001b[39m \u001b[39m \u001b[39m \u001b[39m \u001b[39m \n",
       "  \u001b[39m█\u001b[39m█\u001b[39m█\u001b[39m█\u001b[39m█\u001b[39m█\u001b[34m█\u001b[39m\u001b[39m█\u001b[39m▆\u001b[39m▅\u001b[39m▃\u001b[39m▃\u001b[32m▂\u001b[39m\u001b[39m▂\u001b[39m▄\u001b[39m▂\u001b[39m▃\u001b[39m▂\u001b[39m▂\u001b[39m▂\u001b[39m▃\u001b[39m▂\u001b[39m▁\u001b[39m▂\u001b[39m▂\u001b[39m▃\u001b[39m▂\u001b[39m▁\u001b[39m▁\u001b[39m▃\u001b[39m▄\u001b[39m▃\u001b[39m▁\u001b[39m▃\u001b[39m▃\u001b[39m▃\u001b[39m▁\u001b[39m▁\u001b[39m▃\u001b[39m▃\u001b[39m▄\u001b[39m▃\u001b[39m▂\u001b[39m▁\u001b[39m▃\u001b[39m▃\u001b[39m▂\u001b[39m▃\u001b[39m▃\u001b[39m▂\u001b[39m▃\u001b[39m▁\u001b[39m▂\u001b[39m▁\u001b[39m▁\u001b[39m▂\u001b[39m▁\u001b[39m▂\u001b[39m▃\u001b[39m \u001b[39m▃\n",
       "  15 ms\u001b[90m           Histogram: frequency by time\u001b[39m        24.1 ms \u001b[0m\u001b[1m<\u001b[22m\n",
       "\n",
       " Memory estimate\u001b[90m: \u001b[39m\u001b[33m0 bytes\u001b[39m, allocs estimate\u001b[90m: \u001b[39m\u001b[33m0\u001b[39m."
      ]
     },
     "metadata": {},
     "output_type": "display_data"
    }
   ],
   "source": [
    "c_bench = @benchmark c_sum($a)"
   ]
  },
  {
   "cell_type": "code",
   "execution_count": 17,
   "metadata": {},
   "outputs": [
    {
     "name": "stdout",
     "output_type": "stream",
     "text": [
      "C: Fastest time was 15.000608 msec\n"
     ]
    }
   ],
   "source": [
    "println(\"C: Fastest time was $(minimum(c_bench.times) / 1e6) msec\")"
   ]
  },
  {
   "cell_type": "code",
   "execution_count": 18,
   "metadata": {
    "scrolled": true
   },
   "outputs": [
    {
     "data": {
      "text/plain": [
       "Dict{Any, Any} with 1 entry:\n",
       "  \"C\" => 15.0006"
      ]
     },
     "metadata": {},
     "output_type": "display_data"
    }
   ],
   "source": [
    "d = Dict()  # a \"dictionary\", i.e. an associative array\n",
    "d[\"C\"] = minimum(c_bench.times) / 1e6  # in milliseconds\n",
    "d"
   ]
  },
  {
   "cell_type": "code",
   "execution_count": 19,
   "metadata": {
    "scrolled": true
   },
   "outputs": [
    {
     "data": {
      "text/plain": [
       "Plots.GRBackend()"
      ]
     },
     "metadata": {},
     "output_type": "display_data"
    }
   ],
   "source": [
    "using Plots\n",
    "gr()"
   ]
  },
  {
   "cell_type": "code",
   "execution_count": 20,
   "metadata": {},
   "outputs": [
    {
     "data": {
      "image/png": "[encoded data removed]",
      "image/svg+xml": "<?xml version=\"1.0\" encoding=\"utf-8\"?>\n<svg xmlns=\"http://www.w3.org/2000/svg\" xmlns:xlink=\"http://www.w3.org/1999/xlink\" width=\"600\" height=\"400\" viewBox=\"0 0 2400 1600\">\n<defs>\n  <clipPath id=\"clip980\">\n    <rect x=\"0\" y=\"0\" width=\"2400\" height=\"1600\"/>\n  </clipPath>\n</defs>\n<path clip-path=\"url(#clip980)\" d=\"\nM0 1600 L2400 1600 L2400 0 L0 0  Z\n  \" fill=\"#ffffff\" fill-rule=\"evenodd\" fill-opacity=\"1\"/>\n<defs>\n  <clipPath id=\"clip981\">\n    <rect x=\"480\" y=\"0\" width=\"1681\" height=\"1600\"/>\n  </clipPath>\n</defs>\n<path clip-path=\"url(#clip980)\" d=\"\nM202.227 1423.18 L2352.76 1423.18 L2352.76 47.2441 L202.227 47.2441  Z\n  \" fill=\"#ffffff\" fill-rule=\"evenodd\" fill-opacity=\"1\"/>\n<defs>\n  <clipPath id=\"clip982\">\n    <rect x=\"202\" y=\"47\" width=\"2152\" height=\"1377\"/>\n  </clipPath>\n</defs>\n<polyline clip-path=\"url(#clip982)\" style=\"stroke:#000000; stroke-linecap:butt; stroke-linejoin:round; stroke-width:2; stroke-opacity:0.1; fill:none\" points=\"\n  210.657,1423.18 210.657,47.2441 \n  \"/>\n<polyline clip-path=\"url(#clip982)\" style=\"stroke:#000000; stroke-linecap:butt; stroke-linejoin:round; stroke-width:2; stroke-opacity:0.1; fill:none\" points=\"\n  659.422,1423.18 659.422,47.2441 \n  \"/>\n<polyline clip-path=\"url(#clip982)\" style=\"stroke:#000000; stroke-linecap:butt; stroke-linejoin:round; stroke-width:2; stroke-opacity:0.1; fill:none\" points=\"\n  1108.19,1423.18 1108.19,47.2441 \n  \"/>\n<polyline clip-path=\"url(#clip982)\" style=\"stroke:#000000; stroke-linecap:butt; stroke-linejoin:round; stroke-width:2; stroke-opacity:0.1; fill:none\" points=\"\n  1556.95,1423.18 1556.95,47.2441 \n  \"/>\n<polyline clip-path=\"url(#clip982)\" style=\"stroke:#000000; stroke-linecap:butt; stroke-linejoin:round; stroke-width:2; stroke-opacity:0.1; fill:none\" points=\"\n  2005.72,1423.18 2005.72,47.2441 \n  \"/>\n<polyline clip-path=\"url(#clip980)\" style=\"stroke:#000000; stroke-linecap:butt; stroke-linejoin:round; stroke-width:4; stroke-opacity:1; fill:none\" points=\"\n  202.227,1423.18 2352.76,1423.18 \n  \"/>\n<polyline clip-path=\"url(#clip980)\" style=\"stroke:#000000; stroke-linecap:butt; stroke-linejoin:round; stroke-width:4; stroke-opacity:1; fill:none\" points=\"\n  210.657,1423.18 210.657,1404.28 \n  \"/>\n<polyline clip-path=\"url(#clip980)\" style=\"stroke:#000000; stroke-linecap:butt; stroke-linejoin:round; stroke-width:4; stroke-opacity:1; fill:none\" points=\"\n  659.422,1423.18 659.422,1404.28 \n  \"/>\n<polyline clip-path=\"url(#clip980)\" style=\"stroke:#000000; stroke-linecap:butt; stroke-linejoin:round; stroke-width:4; stroke-opacity:1; fill:none\" points=\"\n  1108.19,1423.18 1108.19,1404.28 \n  \"/>\n<polyline clip-path=\"url(#clip980)\" style=\"stroke:#000000; stroke-linecap:butt; stroke-linejoin:round; stroke-width:4; stroke-opacity:1; fill:none\" points=\"\n  1556.95,1423.18 1556.95,1404.28 \n  \"/>\n<polyline clip-path=\"url(#clip980)\" style=\"stroke:#000000; stroke-linecap:butt; stroke-linejoin:round; stroke-width:4; stroke-opacity:1; fill:none\" points=\"\n  2005.72,1423.18 2005.72,1404.28 \n  \"/>\n<path clip-path=\"url(#clip980)\" d=\"M162.729 1481.64 L170.368 1481.64 L170.368 1455.28 L162.058 1456.95 L162.058 1452.69 L170.322 1451.02 L174.998 1451.02 L174.998 1481.64 L182.636 1481.64 L182.636 1485.58 L162.729 1485.58 L162.729 1481.64 Z\" fill=\"#000000\" fill-rule=\"evenodd\" fill-opacity=\"1\" /><path clip-path=\"url(#clip980)\" d=\"M192.127 1451.02 L210.483 1451.02 L210.483 1454.96 L196.409 1454.96 L196.409 1463.43 Q197.428 1463.08 198.446 1462.92 Q199.465 1462.73 200.484 1462.73 Q206.271 1462.73 209.65 1465.9 Q213.03 1469.08 213.03 1474.49 Q213.03 1480.07 209.558 1483.17 Q206.085 1486.25 199.766 1486.25 Q197.59 1486.25 195.322 1485.88 Q193.076 1485.51 190.669 1484.77 L190.669 1480.07 Q192.752 1481.2 194.974 1481.76 Q197.196 1482.32 199.673 1482.32 Q203.678 1482.32 206.016 1480.21 Q208.354 1478.1 208.354 1474.49 Q208.354 1470.88 206.016 1468.77 Q203.678 1466.67 199.673 1466.67 Q197.798 1466.67 195.923 1467.08 Q194.072 1467.5 192.127 1468.38 L192.127 1451.02 Z\" fill=\"#000000\" fill-rule=\"evenodd\" fill-opacity=\"1\" /><path clip-path=\"url(#clip980)\" d=\"M222.243 1479.7 L227.127 1479.7 L227.127 1485.58 L222.243 1485.58 L222.243 1479.7 Z\" fill=\"#000000\" fill-rule=\"evenodd\" fill-opacity=\"1\" /><path clip-path=\"url(#clip980)\" d=\"M247.312 1454.1 Q243.701 1454.1 241.872 1457.66 Q240.067 1461.2 240.067 1468.33 Q240.067 1475.44 241.872 1479.01 Q243.701 1482.55 247.312 1482.55 Q250.946 1482.55 252.752 1479.01 Q254.58 1475.44 254.58 1468.33 Q254.58 1461.2 252.752 1457.66 Q250.946 1454.1 247.312 1454.1 M247.312 1450.39 Q253.122 1450.39 256.178 1455 Q259.256 1459.58 259.256 1468.33 Q259.256 1477.06 256.178 1481.67 Q253.122 1486.25 247.312 1486.25 Q241.502 1486.25 238.423 1481.67 Q235.368 1477.06 235.368 1468.33 Q235.368 1459.58 238.423 1455 Q241.502 1450.39 247.312 1450.39 Z\" fill=\"#000000\" fill-rule=\"evenodd\" fill-opacity=\"1\" /><path clip-path=\"url(#clip980)\" d=\"M611.992 1481.64 L619.631 1481.64 L619.631 1455.28 L611.321 1456.95 L611.321 1452.69 L619.584 1451.02 L624.26 1451.02 L624.26 1481.64 L631.899 1481.64 L631.899 1485.58 L611.992 1485.58 L611.992 1481.64 Z\" fill=\"#000000\" fill-rule=\"evenodd\" fill-opacity=\"1\" /><path clip-path=\"url(#clip980)\" d=\"M641.39 1451.02 L659.746 1451.02 L659.746 1454.96 L645.672 1454.96 L645.672 1463.43 Q646.691 1463.08 647.709 1462.92 Q648.728 1462.73 649.746 1462.73 Q655.533 1462.73 658.913 1465.9 Q662.292 1469.08 662.292 1474.49 Q662.292 1480.07 658.82 1483.17 Q655.348 1486.25 649.029 1486.25 Q646.853 1486.25 644.584 1485.88 Q642.339 1485.51 639.931 1484.77 L639.931 1480.07 Q642.015 1481.2 644.237 1481.76 Q646.459 1482.32 648.936 1482.32 Q652.941 1482.32 655.279 1480.21 Q657.617 1478.1 657.617 1474.49 Q657.617 1470.88 655.279 1468.77 Q652.941 1466.67 648.936 1466.67 Q647.061 1466.67 645.186 1467.08 Q643.334 1467.5 641.39 1468.38 L641.39 1451.02 Z\" fill=\"#000000\" fill-rule=\"evenodd\" fill-opacity=\"1\" /><path clip-path=\"url(#clip980)\" d=\"M671.505 1479.7 L676.39 1479.7 L676.39 1485.58 L671.505 1485.58 L671.505 1479.7 Z\" fill=\"#000000\" fill-rule=\"evenodd\" fill-opacity=\"1\" /><path clip-path=\"url(#clip980)\" d=\"M686.621 1451.02 L704.977 1451.02 L704.977 1454.96 L690.903 1454.96 L690.903 1463.43 Q691.922 1463.08 692.94 1462.92 Q693.959 1462.73 694.977 1462.73 Q700.764 1462.73 704.144 1465.9 Q707.524 1469.08 707.524 1474.49 Q707.524 1480.07 704.051 1483.17 Q700.579 1486.25 694.26 1486.25 Q692.084 1486.25 689.815 1485.88 Q687.57 1485.51 685.163 1484.77 L685.163 1480.07 Q687.246 1481.2 689.468 1481.76 Q691.69 1482.32 694.167 1482.32 Q698.172 1482.32 700.51 1480.21 Q702.848 1478.1 702.848 1474.49 Q702.848 1470.88 700.51 1468.77 Q698.172 1466.67 694.167 1466.67 Q692.292 1466.67 690.417 1467.08 Q688.565 1467.5 686.621 1468.38 L686.621 1451.02 Z\" fill=\"#000000\" fill-rule=\"evenodd\" fill-opacity=\"1\" /><path clip-path=\"url(#clip980)\" d=\"M1060.26 1481.64 L1067.9 1481.64 L1067.9 1455.28 L1059.59 1456.95 L1059.59 1452.69 L1067.85 1451.02 L1072.53 1451.02 L1072.53 1481.64 L1080.17 1481.64 L1080.17 1485.58 L1060.26 1485.58 L1060.26 1481.64 Z\" fill=\"#000000\" fill-rule=\"evenodd\" fill-opacity=\"1\" /><path clip-path=\"url(#clip980)\" d=\"M1100.19 1466.44 Q1097.04 1466.44 1095.19 1468.59 Q1093.36 1470.74 1093.36 1474.49 Q1093.36 1478.22 1095.19 1480.39 Q1097.04 1482.55 1100.19 1482.55 Q1103.34 1482.55 1105.17 1480.39 Q1107.02 1478.22 1107.02 1474.49 Q1107.02 1470.74 1105.17 1468.59 Q1103.34 1466.44 1100.19 1466.44 M1109.47 1451.78 L1109.47 1456.04 Q1107.71 1455.21 1105.91 1454.77 Q1104.12 1454.33 1102.37 1454.33 Q1097.74 1454.33 1095.28 1457.45 Q1092.85 1460.58 1092.5 1466.9 Q1093.87 1464.89 1095.93 1463.82 Q1097.99 1462.73 1100.47 1462.73 Q1105.68 1462.73 1108.68 1465.9 Q1111.72 1469.05 1111.72 1474.49 Q1111.72 1479.82 1108.57 1483.03 Q1105.42 1486.25 1100.19 1486.25 Q1094.19 1486.25 1091.02 1481.67 Q1087.85 1477.06 1087.85 1468.33 Q1087.85 1460.14 1091.74 1455.28 Q1095.63 1450.39 1102.18 1450.39 Q1103.94 1450.39 1105.72 1450.74 Q1107.53 1451.09 1109.47 1451.78 Z\" fill=\"#000000\" fill-rule=\"evenodd\" fill-opacity=\"1\" /><path clip-path=\"url(#clip980)\" d=\"M1119.77 1479.7 L1124.66 1479.7 L1124.66 1485.58 L1119.77 1485.58 L1119.77 1479.7 Z\" fill=\"#000000\" fill-rule=\"evenodd\" fill-opacity=\"1\" /><path clip-path=\"url(#clip980)\" d=\"M1144.84 1454.1 Q1141.23 1454.1 1139.4 1457.66 Q1137.6 1461.2 1137.6 1468.33 Q1137.6 1475.44 1139.4 1479.01 Q1141.23 1482.55 1144.84 1482.55 Q1148.48 1482.55 1150.28 1479.01 Q1152.11 1475.44 1152.11 1468.33 Q1152.11 1461.2 1150.28 1457.66 Q1148.48 1454.1 1144.84 1454.1 M1144.84 1450.39 Q1150.65 1450.39 1153.71 1455 Q1156.79 1459.58 1156.79 1468.33 Q1156.79 1477.06 1153.71 1481.67 Q1150.65 1486.25 1144.84 1486.25 Q1139.03 1486.25 1135.95 1481.67 Q1132.9 1477.06 1132.9 1468.33 Q1132.9 1459.58 1135.95 1455 Q1139.03 1450.39 1144.84 1450.39 Z\" fill=\"#000000\" fill-rule=\"evenodd\" fill-opacity=\"1\" /><path clip-path=\"url(#clip980)\" d=\"M1509.52 1481.64 L1517.16 1481.64 L1517.16 1455.28 L1508.85 1456.95 L1508.85 1452.69 L1517.11 1451.02 L1521.79 1451.02 L1521.79 1481.64 L1529.43 1481.64 L1529.43 1485.58 L1509.52 1485.58 L1509.52 1481.64 Z\" fill=\"#000000\" fill-rule=\"evenodd\" fill-opacity=\"1\" /><path clip-path=\"url(#clip980)\" d=\"M1549.45 1466.44 Q1546.3 1466.44 1544.45 1468.59 Q1542.62 1470.74 1542.62 1474.49 Q1542.62 1478.22 1544.45 1480.39 Q1546.3 1482.55 1549.45 1482.55 Q1552.6 1482.55 1554.43 1480.39 Q1556.28 1478.22 1556.28 1474.49 Q1556.28 1470.74 1554.43 1468.59 Q1552.6 1466.44 1549.45 1466.44 M1558.73 1451.78 L1558.73 1456.04 Q1556.98 1455.21 1555.17 1454.77 Q1553.39 1454.33 1551.63 1454.33 Q1547 1454.33 1544.54 1457.45 Q1542.11 1460.58 1541.77 1466.9 Q1543.13 1464.89 1545.19 1463.82 Q1547.25 1462.73 1549.73 1462.73 Q1554.94 1462.73 1557.95 1465.9 Q1560.98 1469.05 1560.98 1474.49 Q1560.98 1479.82 1557.83 1483.03 Q1554.68 1486.25 1549.45 1486.25 Q1543.46 1486.25 1540.29 1481.67 Q1537.11 1477.06 1537.11 1468.33 Q1537.11 1460.14 1541 1455.28 Q1544.89 1450.39 1551.44 1450.39 Q1553.2 1450.39 1554.98 1450.74 Q1556.79 1451.09 1558.73 1451.78 Z\" fill=\"#000000\" fill-rule=\"evenodd\" fill-opacity=\"1\" /><path clip-path=\"url(#clip980)\" d=\"M1569.04 1479.7 L1573.92 1479.7 L1573.92 1485.58 L1569.04 1485.58 L1569.04 1479.7 Z\" fill=\"#000000\" fill-rule=\"evenodd\" fill-opacity=\"1\" /><path clip-path=\"url(#clip980)\" d=\"M1584.15 1451.02 L1602.51 1451.02 L1602.51 1454.96 L1588.43 1454.96 L1588.43 1463.43 Q1589.45 1463.08 1590.47 1462.92 Q1591.49 1462.73 1592.51 1462.73 Q1598.29 1462.73 1601.67 1465.9 Q1605.05 1469.08 1605.05 1474.49 Q1605.05 1480.07 1601.58 1483.17 Q1598.11 1486.25 1591.79 1486.25 Q1589.61 1486.25 1587.35 1485.88 Q1585.1 1485.51 1582.69 1484.77 L1582.69 1480.07 Q1584.78 1481.2 1587 1481.76 Q1589.22 1482.32 1591.7 1482.32 Q1595.7 1482.32 1598.04 1480.21 Q1600.38 1478.1 1600.38 1474.49 Q1600.38 1470.88 1598.04 1468.77 Q1595.7 1466.67 1591.7 1466.67 Q1589.82 1466.67 1587.95 1467.08 Q1586.1 1467.5 1584.15 1468.38 L1584.15 1451.02 Z\" fill=\"#000000\" fill-rule=\"evenodd\" fill-opacity=\"1\" /><path clip-path=\"url(#clip980)\" d=\"M1957.79 1481.64 L1965.43 1481.64 L1965.43 1455.28 L1957.12 1456.95 L1957.12 1452.69 L1965.38 1451.02 L1970.06 1451.02 L1970.06 1481.64 L1977.7 1481.64 L1977.7 1485.58 L1957.79 1485.58 L1957.79 1481.64 Z\" fill=\"#000000\" fill-rule=\"evenodd\" fill-opacity=\"1\" /><path clip-path=\"url(#clip980)\" d=\"M1985.96 1451.02 L2008.18 1451.02 L2008.18 1453.01 L1995.64 1485.58 L1990.75 1485.58 L2002.56 1454.96 L1985.96 1454.96 L1985.96 1451.02 Z\" fill=\"#000000\" fill-rule=\"evenodd\" fill-opacity=\"1\" /><path clip-path=\"url(#clip980)\" d=\"M2017.3 1479.7 L2022.19 1479.7 L2022.19 1485.58 L2017.3 1485.58 L2017.3 1479.7 Z\" fill=\"#000000\" fill-rule=\"evenodd\" fill-opacity=\"1\" /><path clip-path=\"url(#clip980)\" d=\"M2042.37 1454.1 Q2038.76 1454.1 2036.93 1457.66 Q2035.13 1461.2 2035.13 1468.33 Q2035.13 1475.44 2036.93 1479.01 Q2038.76 1482.55 2042.37 1482.55 Q2046.01 1482.55 2047.81 1479.01 Q2049.64 1475.44 2049.64 1468.33 Q2049.64 1461.2 2047.81 1457.66 Q2046.01 1454.1 2042.37 1454.1 M2042.37 1450.39 Q2048.18 1450.39 2051.24 1455 Q2054.32 1459.58 2054.32 1468.33 Q2054.32 1477.06 2051.24 1481.67 Q2048.18 1486.25 2042.37 1486.25 Q2036.56 1486.25 2033.48 1481.67 Q2030.43 1477.06 2030.43 1468.33 Q2030.43 1459.58 2033.48 1455 Q2036.56 1450.39 2042.37 1450.39 Z\" fill=\"#000000\" fill-rule=\"evenodd\" fill-opacity=\"1\" /><path clip-path=\"url(#clip980)\" d=\"M1108.83 1539.24 Q1111.03 1535.29 1114.08 1533.41 Q1117.14 1531.54 1121.28 1531.54 Q1126.85 1531.54 1129.87 1535.45 Q1132.89 1539.33 1132.89 1546.53 L1132.89 1568.04 L1127.01 1568.04 L1127.01 1546.72 Q1127.01 1541.59 1125.19 1539.11 Q1123.38 1536.63 1119.65 1536.63 Q1115.1 1536.63 1112.46 1539.65 Q1109.82 1542.68 1109.82 1547.9 L1109.82 1568.04 L1103.93 1568.04 L1103.93 1546.72 Q1103.93 1541.56 1102.12 1539.11 Q1100.3 1536.63 1096.51 1536.63 Q1092.03 1536.63 1089.39 1539.68 Q1086.74 1542.71 1086.74 1547.9 L1086.74 1568.04 L1080.86 1568.04 L1080.86 1532.4 L1086.74 1532.4 L1086.74 1537.93 Q1088.75 1534.66 1091.55 1533.1 Q1094.35 1531.54 1098.2 1531.54 Q1102.08 1531.54 1104.79 1533.51 Q1107.53 1535.48 1108.83 1539.24 Z\" fill=\"#000000\" fill-rule=\"evenodd\" fill-opacity=\"1\" /><path clip-path=\"url(#clip980)\" d=\"M1144.58 1532.4 L1150.43 1532.4 L1150.43 1568.04 L1144.58 1568.04 L1144.58 1532.4 M1144.58 1518.52 L1150.43 1518.52 L1150.43 1525.93 L1144.58 1525.93 L1144.58 1518.52 Z\" fill=\"#000000\" fill-rule=\"evenodd\" fill-opacity=\"1\" /><path clip-path=\"url(#clip980)\" d=\"M1162.69 1518.52 L1168.54 1518.52 L1168.54 1568.04 L1162.69 1568.04 L1162.69 1518.52 Z\" fill=\"#000000\" fill-rule=\"evenodd\" fill-opacity=\"1\" /><path clip-path=\"url(#clip980)\" d=\"M1180.8 1518.52 L1186.65 1518.52 L1186.65 1568.04 L1180.8 1568.04 L1180.8 1518.52 Z\" fill=\"#000000\" fill-rule=\"evenodd\" fill-opacity=\"1\" /><path clip-path=\"url(#clip980)\" d=\"M1198.91 1532.4 L1204.76 1532.4 L1204.76 1568.04 L1198.91 1568.04 L1198.91 1532.4 M1198.91 1518.52 L1204.76 1518.52 L1204.76 1525.93 L1198.91 1525.93 L1198.91 1518.52 Z\" fill=\"#000000\" fill-rule=\"evenodd\" fill-opacity=\"1\" /><path clip-path=\"url(#clip980)\" d=\"M1239.74 1533.45 L1239.74 1538.98 Q1237.26 1537.71 1234.59 1537.07 Q1231.91 1536.44 1229.05 1536.44 Q1224.69 1536.44 1222.49 1537.77 Q1220.33 1539.11 1220.33 1541.79 Q1220.33 1543.82 1221.89 1545 Q1223.45 1546.15 1228.16 1547.2 L1230.16 1547.64 Q1236.4 1548.98 1239.01 1551.43 Q1241.65 1553.85 1241.65 1558.21 Q1241.65 1563.17 1237.71 1566.07 Q1233.79 1568.97 1226.92 1568.97 Q1224.05 1568.97 1220.93 1568.39 Q1217.85 1567.85 1214.41 1566.74 L1214.41 1560.69 Q1217.65 1562.38 1220.81 1563.24 Q1223.96 1564.07 1227.04 1564.07 Q1231.18 1564.07 1233.41 1562.66 Q1235.64 1561.23 1235.64 1558.65 Q1235.64 1556.27 1234.01 1554.99 Q1232.42 1553.72 1226.98 1552.54 L1224.94 1552.07 Q1219.5 1550.92 1217.08 1548.56 Q1214.66 1546.18 1214.66 1542.04 Q1214.66 1537.01 1218.23 1534.27 Q1221.79 1531.54 1228.35 1531.54 Q1231.59 1531.54 1234.46 1532.01 Q1237.32 1532.49 1239.74 1533.45 Z\" fill=\"#000000\" fill-rule=\"evenodd\" fill-opacity=\"1\" /><path clip-path=\"url(#clip980)\" d=\"M1281.47 1548.76 L1281.47 1551.62 L1254.54 1551.62 Q1254.93 1557.67 1258.17 1560.85 Q1261.45 1564 1267.27 1564 Q1270.65 1564 1273.8 1563.17 Q1276.98 1562.35 1280.1 1560.69 L1280.1 1566.23 Q1276.95 1567.57 1273.64 1568.27 Q1270.33 1568.97 1266.92 1568.97 Q1258.39 1568.97 1253.4 1564 Q1248.43 1559.04 1248.43 1550.57 Q1248.43 1541.82 1253.14 1536.69 Q1257.89 1531.54 1265.91 1531.54 Q1273.1 1531.54 1277.27 1536.18 Q1281.47 1540.8 1281.47 1548.76 M1275.61 1547.04 Q1275.55 1542.23 1272.91 1539.37 Q1270.3 1536.5 1265.97 1536.5 Q1261.07 1536.5 1258.11 1539.27 Q1255.18 1542.04 1254.73 1547.07 L1275.61 1547.04 Z\" fill=\"#000000\" fill-rule=\"evenodd\" fill-opacity=\"1\" /><path clip-path=\"url(#clip980)\" d=\"M1316.74 1533.76 L1316.74 1539.24 Q1314.25 1537.87 1311.74 1537.2 Q1309.26 1536.5 1306.71 1536.5 Q1301.01 1536.5 1297.86 1540.13 Q1294.71 1543.73 1294.71 1550.25 Q1294.71 1556.78 1297.86 1560.4 Q1301.01 1564 1306.71 1564 Q1309.26 1564 1311.74 1563.33 Q1314.25 1562.63 1316.74 1561.26 L1316.74 1566.68 Q1314.29 1567.82 1311.64 1568.39 Q1309.03 1568.97 1306.07 1568.97 Q1298.02 1568.97 1293.28 1563.91 Q1288.54 1558.85 1288.54 1550.25 Q1288.54 1541.53 1293.31 1536.53 Q1298.12 1531.54 1306.46 1531.54 Q1309.16 1531.54 1311.74 1532.11 Q1314.32 1532.65 1316.74 1533.76 Z\" fill=\"#000000\" fill-rule=\"evenodd\" fill-opacity=\"1\" /><path clip-path=\"url(#clip980)\" d=\"M1340.73 1536.5 Q1336.02 1536.5 1333.29 1540.19 Q1330.55 1543.85 1330.55 1550.25 Q1330.55 1556.65 1333.26 1560.34 Q1335.99 1564 1340.73 1564 Q1345.41 1564 1348.15 1560.31 Q1350.89 1556.62 1350.89 1550.25 Q1350.89 1543.92 1348.15 1540.23 Q1345.41 1536.5 1340.73 1536.5 M1340.73 1531.54 Q1348.37 1531.54 1352.73 1536.5 Q1357.09 1541.47 1357.09 1550.25 Q1357.09 1559 1352.73 1564 Q1348.37 1568.97 1340.73 1568.97 Q1333.06 1568.97 1328.7 1564 Q1324.38 1559 1324.38 1550.25 Q1324.38 1541.47 1328.7 1536.5 Q1333.06 1531.54 1340.73 1531.54 Z\" fill=\"#000000\" fill-rule=\"evenodd\" fill-opacity=\"1\" /><path clip-path=\"url(#clip980)\" d=\"M1396.43 1546.53 L1396.43 1568.04 L1390.58 1568.04 L1390.58 1546.72 Q1390.58 1541.66 1388.61 1539.14 Q1386.63 1536.63 1382.68 1536.63 Q1377.94 1536.63 1375.21 1539.65 Q1372.47 1542.68 1372.47 1547.9 L1372.47 1568.04 L1366.58 1568.04 L1366.58 1532.4 L1372.47 1532.4 L1372.47 1537.93 Q1374.57 1534.72 1377.4 1533.13 Q1380.27 1531.54 1383.99 1531.54 Q1390.13 1531.54 1393.28 1535.36 Q1396.43 1539.14 1396.43 1546.53 Z\" fill=\"#000000\" fill-rule=\"evenodd\" fill-opacity=\"1\" /><path clip-path=\"url(#clip980)\" d=\"M1431.57 1537.81 L1431.57 1518.52 L1437.43 1518.52 L1437.43 1568.04 L1431.57 1568.04 L1431.57 1562.7 Q1429.73 1565.88 1426.89 1567.44 Q1424.09 1568.97 1420.15 1568.97 Q1413.69 1568.97 1409.61 1563.81 Q1405.57 1558.65 1405.57 1550.25 Q1405.57 1541.85 1409.61 1536.69 Q1413.69 1531.54 1420.15 1531.54 Q1424.09 1531.54 1426.89 1533.1 Q1429.73 1534.62 1431.57 1537.81 M1411.62 1550.25 Q1411.62 1556.71 1414.26 1560.4 Q1416.93 1564.07 1421.58 1564.07 Q1426.23 1564.07 1428.9 1560.4 Q1431.57 1556.71 1431.57 1550.25 Q1431.57 1543.79 1428.9 1540.13 Q1426.23 1536.44 1421.58 1536.44 Q1416.93 1536.44 1414.26 1540.13 Q1411.62 1543.79 1411.62 1550.25 Z\" fill=\"#000000\" fill-rule=\"evenodd\" fill-opacity=\"1\" /><path clip-path=\"url(#clip980)\" d=\"M1472.22 1533.45 L1472.22 1538.98 Q1469.74 1537.71 1467.06 1537.07 Q1464.39 1536.44 1461.52 1536.44 Q1457.16 1536.44 1454.97 1537.77 Q1452.8 1539.11 1452.8 1541.79 Q1452.8 1543.82 1454.36 1545 Q1455.92 1546.15 1460.63 1547.2 L1462.64 1547.64 Q1468.88 1548.98 1471.49 1551.43 Q1474.13 1553.85 1474.13 1558.21 Q1474.13 1563.17 1470.18 1566.07 Q1466.27 1568.97 1459.39 1568.97 Q1456.53 1568.97 1453.41 1568.39 Q1450.32 1567.85 1446.88 1566.74 L1446.88 1560.69 Q1450.13 1562.38 1453.28 1563.24 Q1456.43 1564.07 1459.52 1564.07 Q1463.66 1564.07 1465.88 1562.66 Q1468.11 1561.23 1468.11 1558.65 Q1468.11 1556.27 1466.49 1554.99 Q1464.9 1553.72 1459.46 1552.54 L1457.42 1552.07 Q1451.98 1550.92 1449.56 1548.56 Q1447.14 1546.18 1447.14 1542.04 Q1447.14 1537.01 1450.7 1534.27 Q1454.27 1531.54 1460.82 1531.54 Q1464.07 1531.54 1466.94 1532.01 Q1469.8 1532.49 1472.22 1533.45 Z\" fill=\"#000000\" fill-rule=\"evenodd\" fill-opacity=\"1\" /><polyline clip-path=\"url(#clip982)\" style=\"stroke:#000000; stroke-linecap:butt; stroke-linejoin:round; stroke-width:2; stroke-opacity:0.1; fill:none\" points=\"\n  202.227,1384.24 2352.76,1384.24 \n  \"/>\n<polyline clip-path=\"url(#clip982)\" style=\"stroke:#000000; stroke-linecap:butt; stroke-linejoin:round; stroke-width:2; stroke-opacity:0.1; fill:none\" points=\"\n  202.227,1023.67 2352.76,1023.67 \n  \"/>\n<polyline clip-path=\"url(#clip982)\" style=\"stroke:#000000; stroke-linecap:butt; stroke-linejoin:round; stroke-width:2; stroke-opacity:0.1; fill:none\" points=\"\n  202.227,663.098 2352.76,663.098 \n  \"/>\n<polyline clip-path=\"url(#clip982)\" style=\"stroke:#000000; stroke-linecap:butt; stroke-linejoin:round; stroke-width:2; stroke-opacity:0.1; fill:none\" points=\"\n  202.227,302.528 2352.76,302.528 \n  \"/>\n<polyline clip-path=\"url(#clip980)\" style=\"stroke:#000000; stroke-linecap:butt; stroke-linejoin:round; stroke-width:4; stroke-opacity:1; fill:none\" points=\"\n  202.227,1423.18 202.227,47.2441 \n  \"/>\n<polyline clip-path=\"url(#clip980)\" style=\"stroke:#000000; stroke-linecap:butt; stroke-linejoin:round; stroke-width:4; stroke-opacity:1; fill:none\" points=\"\n  202.227,1384.24 221.125,1384.24 \n  \"/>\n<polyline clip-path=\"url(#clip980)\" style=\"stroke:#000000; stroke-linecap:butt; stroke-linejoin:round; stroke-width:4; stroke-opacity:1; fill:none\" points=\"\n  202.227,1023.67 221.125,1023.67 \n  \"/>\n<polyline clip-path=\"url(#clip980)\" style=\"stroke:#000000; stroke-linecap:butt; stroke-linejoin:round; stroke-width:4; stroke-opacity:1; fill:none\" points=\"\n  202.227,663.098 221.125,663.098 \n  \"/>\n<polyline clip-path=\"url(#clip980)\" style=\"stroke:#000000; stroke-linecap:butt; stroke-linejoin:round; stroke-width:4; stroke-opacity:1; fill:none\" points=\"\n  202.227,302.528 221.125,302.528 \n  \"/>\n<path clip-path=\"url(#clip980)\" d=\"M154.283 1370.04 Q150.672 1370.04 148.843 1373.6 Q147.038 1377.14 147.038 1384.27 Q147.038 1391.38 148.843 1394.94 Q150.672 1398.49 154.283 1398.49 Q157.917 1398.49 159.723 1394.94 Q161.552 1391.38 161.552 1384.27 Q161.552 1377.14 159.723 1373.6 Q157.917 1370.04 154.283 1370.04 M154.283 1366.33 Q160.093 1366.33 163.149 1370.94 Q166.227 1375.52 166.227 1384.27 Q166.227 1393 163.149 1397.61 Q160.093 1402.19 154.283 1402.19 Q148.473 1402.19 145.394 1397.61 Q142.339 1393 142.339 1384.27 Q142.339 1375.52 145.394 1370.94 Q148.473 1366.33 154.283 1366.33 Z\" fill=\"#000000\" fill-rule=\"evenodd\" fill-opacity=\"1\" /><path clip-path=\"url(#clip980)\" d=\"M145.325 1006.39 L163.681 1006.39 L163.681 1010.32 L149.607 1010.32 L149.607 1018.8 Q150.626 1018.45 151.644 1018.29 Q152.663 1018.1 153.681 1018.1 Q159.468 1018.1 162.848 1021.27 Q166.227 1024.44 166.227 1029.86 Q166.227 1035.44 162.755 1038.54 Q159.283 1041.62 152.964 1041.62 Q150.788 1041.62 148.519 1041.25 Q146.274 1040.88 143.866 1040.14 L143.866 1035.44 Q145.95 1036.57 148.172 1037.13 Q150.394 1037.68 152.871 1037.68 Q156.876 1037.68 159.214 1035.58 Q161.552 1033.47 161.552 1029.86 Q161.552 1026.25 159.214 1024.14 Q156.876 1022.04 152.871 1022.04 Q150.996 1022.04 149.121 1022.45 Q147.269 1022.87 145.325 1023.75 L145.325 1006.39 Z\" fill=\"#000000\" fill-rule=\"evenodd\" fill-opacity=\"1\" /><path clip-path=\"url(#clip980)\" d=\"M114.931 676.443 L122.57 676.443 L122.57 650.077 L114.26 651.744 L114.26 647.485 L122.524 645.818 L127.2 645.818 L127.2 676.443 L134.839 676.443 L134.839 680.378 L114.931 680.378 L114.931 676.443 Z\" fill=\"#000000\" fill-rule=\"evenodd\" fill-opacity=\"1\" /><path clip-path=\"url(#clip980)\" d=\"M154.283 648.897 Q150.672 648.897 148.843 652.461 Q147.038 656.003 147.038 663.133 Q147.038 670.239 148.843 673.804 Q150.672 677.346 154.283 677.346 Q157.917 677.346 159.723 673.804 Q161.552 670.239 161.552 663.133 Q161.552 656.003 159.723 652.461 Q157.917 648.897 154.283 648.897 M154.283 645.193 Q160.093 645.193 163.149 649.799 Q166.227 654.383 166.227 663.133 Q166.227 671.859 163.149 676.466 Q160.093 681.049 154.283 681.049 Q148.473 681.049 145.394 676.466 Q142.339 671.859 142.339 663.133 Q142.339 654.383 145.394 649.799 Q148.473 645.193 154.283 645.193 Z\" fill=\"#000000\" fill-rule=\"evenodd\" fill-opacity=\"1\" /><path clip-path=\"url(#clip980)\" d=\"M115.927 315.873 L123.566 315.873 L123.566 289.507 L115.256 291.174 L115.256 286.914 L123.519 285.248 L128.195 285.248 L128.195 315.873 L135.834 315.873 L135.834 319.808 L115.927 319.808 L115.927 315.873 Z\" fill=\"#000000\" fill-rule=\"evenodd\" fill-opacity=\"1\" /><path clip-path=\"url(#clip980)\" d=\"M145.325 285.248 L163.681 285.248 L163.681 289.183 L149.607 289.183 L149.607 297.655 Q150.626 297.308 151.644 297.146 Q152.663 296.961 153.681 296.961 Q159.468 296.961 162.848 300.132 Q166.227 303.303 166.227 308.72 Q166.227 314.299 162.755 317.4 Q159.283 320.479 152.964 320.479 Q150.788 320.479 148.519 320.109 Q146.274 319.738 143.866 318.998 L143.866 314.299 Q145.95 315.433 148.172 315.988 Q150.394 316.544 152.871 316.544 Q156.876 316.544 159.214 314.437 Q161.552 312.331 161.552 308.72 Q161.552 305.109 159.214 303.002 Q156.876 300.896 152.871 300.896 Q150.996 300.896 149.121 301.312 Q147.269 301.729 145.325 302.609 L145.325 285.248 Z\" fill=\"#000000\" fill-rule=\"evenodd\" fill-opacity=\"1\" /><path clip-path=\"url(#clip980)\" d=\"M29.7248 796.386 L35.1993 796.386 Q33.8307 798.869 33.1623 801.383 Q32.4621 803.866 32.4621 806.412 Q32.4621 812.11 36.0905 815.261 Q39.6872 818.412 46.212 818.412 Q52.7369 818.412 56.3653 815.261 Q59.9619 812.11 59.9619 806.412 Q59.9619 803.866 59.2935 801.383 Q58.5933 798.869 57.2247 796.386 L62.6355 796.386 Q63.7814 798.837 64.3543 801.479 Q64.9272 804.089 64.9272 807.049 Q64.9272 815.102 59.8664 819.844 Q54.8057 824.586 46.212 824.586 Q37.491 824.586 32.4939 819.812 Q27.4968 815.006 27.4968 806.667 Q27.4968 803.962 28.0697 801.383 Q28.6108 798.805 29.7248 796.386 Z\" fill=\"#000000\" fill-rule=\"evenodd\" fill-opacity=\"1\" /><path clip-path=\"url(#clip980)\" d=\"M32.4621 772.388 Q32.4621 777.098 36.1542 779.836 Q39.8145 782.573 46.212 782.573 Q52.6095 782.573 56.3017 779.867 Q59.9619 777.13 59.9619 772.388 Q59.9619 767.709 56.2698 764.972 Q52.5777 762.234 46.212 762.234 Q39.8781 762.234 36.186 764.972 Q32.4621 767.709 32.4621 772.388 M27.4968 772.388 Q27.4968 764.749 32.4621 760.388 Q37.4273 756.028 46.212 756.028 Q54.9649 756.028 59.9619 760.388 Q64.9272 764.749 64.9272 772.388 Q64.9272 780.058 59.9619 784.419 Q54.9649 788.748 46.212 788.748 Q37.4273 788.748 32.4621 784.419 Q27.4968 780.058 27.4968 772.388 Z\" fill=\"#000000\" fill-rule=\"evenodd\" fill-opacity=\"1\" /><path clip-path=\"url(#clip980)\" d=\"M49.9359 746.925 L28.3562 746.925 L28.3562 741.068 L49.7131 741.068 Q54.7739 741.068 57.3202 739.095 Q59.8346 737.122 59.8346 733.175 Q59.8346 728.432 56.8109 725.695 Q53.7872 722.926 48.5673 722.926 L28.3562 722.926 L28.3562 717.07 L64.0042 717.07 L64.0042 722.926 L58.5296 722.926 Q61.7762 725.059 63.3676 727.891 Q64.9272 730.692 64.9272 734.416 Q64.9272 740.559 61.1078 743.742 Q57.2883 746.925 49.9359 746.925 M27.4968 732.188 L27.4968 732.188 Z\" fill=\"#000000\" fill-rule=\"evenodd\" fill-opacity=\"1\" /><path clip-path=\"url(#clip980)\" d=\"M42.4881 675.374 L64.0042 675.374 L64.0042 681.231 L42.679 681.231 Q37.6183 681.231 35.1038 683.204 Q32.5894 685.178 32.5894 689.124 Q32.5894 693.867 35.6131 696.604 Q38.6368 699.341 43.8567 699.341 L64.0042 699.341 L64.0042 705.229 L28.3562 705.229 L28.3562 699.341 L33.8944 699.341 Q30.6797 697.241 29.0883 694.408 Q27.4968 691.543 27.4968 687.819 Q27.4968 681.676 31.3163 678.525 Q35.1038 675.374 42.4881 675.374 Z\" fill=\"#000000\" fill-rule=\"evenodd\" fill-opacity=\"1\" /><path clip-path=\"url(#clip980)\" d=\"M18.2347 657.9 L28.3562 657.9 L28.3562 645.837 L32.9077 645.837 L32.9077 657.9 L52.2594 657.9 Q56.6199 657.9 57.8613 656.723 Q59.1026 655.513 59.1026 651.853 L59.1026 645.837 L64.0042 645.837 L64.0042 651.853 Q64.0042 658.633 61.4897 661.211 Q58.9434 663.789 52.2594 663.789 L32.9077 663.789 L32.9077 668.086 L28.3562 668.086 L28.3562 663.789 L18.2347 663.789 L18.2347 657.9 Z\" fill=\"#000000\" fill-rule=\"evenodd\" fill-opacity=\"1\" /><path clip-path=\"url(#clip982)\" d=\"\nM210.657 1095.78 L210.657 1384.24 L255.534 1384.24 L255.534 1095.78 L210.657 1095.78 L210.657 1095.78  Z\n  \" fill=\"#009af9\" fill-rule=\"evenodd\" fill-opacity=\"1\"/>\n<polyline clip-path=\"url(#clip982)\" style=\"stroke:#000000; stroke-linecap:butt; stroke-linejoin:round; stroke-width:4; stroke-opacity:1; fill:none\" points=\"\n  210.657,1095.78 210.657,1384.24 255.534,1384.24 255.534,1095.78 210.657,1095.78 \n  \"/>\n<path clip-path=\"url(#clip982)\" d=\"\nM255.534 1240.01 L255.534 1384.24 L300.41 1384.24 L300.41 1240.01 L255.534 1240.01 L255.534 1240.01  Z\n  \" fill=\"#009af9\" fill-rule=\"evenodd\" fill-opacity=\"1\"/>\n<polyline clip-path=\"url(#clip982)\" style=\"stroke:#000000; stroke-linecap:butt; stroke-linejoin:round; stroke-width:4; stroke-opacity:1; fill:none\" points=\"\n  255.534,1240.01 255.534,1384.24 300.41,1384.24 300.41,1240.01 255.534,1240.01 \n  \"/>\n<path clip-path=\"url(#clip982)\" d=\"\nM300.41 86.1857 L300.41 1384.24 L345.287 1384.24 L345.287 86.1857 L300.41 86.1857 L300.41 86.1857  Z\n  \" fill=\"#009af9\" fill-rule=\"evenodd\" fill-opacity=\"1\"/>\n<polyline clip-path=\"url(#clip982)\" style=\"stroke:#000000; stroke-linecap:butt; stroke-linejoin:round; stroke-width:4; stroke-opacity:1; fill:none\" points=\"\n  300.41,86.1857 300.41,1384.24 345.287,1384.24 345.287,86.1857 300.41,86.1857 \n  \"/>\n<path clip-path=\"url(#clip982)\" d=\"\nM345.287 663.098 L345.287 1384.24 L390.163 1384.24 L390.163 663.098 L345.287 663.098 L345.287 663.098  Z\n  \" fill=\"#009af9\" fill-rule=\"evenodd\" fill-opacity=\"1\"/>\n<polyline clip-path=\"url(#clip982)\" style=\"stroke:#000000; stroke-linecap:butt; stroke-linejoin:round; stroke-width:4; stroke-opacity:1; fill:none\" points=\"\n  345.287,663.098 345.287,1384.24 390.163,1384.24 390.163,663.098 345.287,663.098 \n  \"/>\n<path clip-path=\"url(#clip982)\" d=\"\nM390.163 1023.67 L390.163 1384.24 L435.04 1384.24 L435.04 1023.67 L390.163 1023.67 L390.163 1023.67  Z\n  \" fill=\"#009af9\" fill-rule=\"evenodd\" fill-opacity=\"1\"/>\n<polyline clip-path=\"url(#clip982)\" style=\"stroke:#000000; stroke-linecap:butt; stroke-linejoin:round; stroke-width:4; stroke-opacity:1; fill:none\" points=\"\n  390.163,1023.67 390.163,1384.24 435.04,1384.24 435.04,1023.67 390.163,1023.67 \n  \"/>\n<path clip-path=\"url(#clip982)\" d=\"\nM435.04 590.984 L435.04 1384.24 L479.916 1384.24 L479.916 590.984 L435.04 590.984 L435.04 590.984  Z\n  \" fill=\"#009af9\" fill-rule=\"evenodd\" fill-opacity=\"1\"/>\n<polyline clip-path=\"url(#clip982)\" style=\"stroke:#000000; stroke-linecap:butt; stroke-linejoin:round; stroke-width:4; stroke-opacity:1; fill:none\" points=\"\n  435.04,590.984 435.04,1384.24 479.916,1384.24 479.916,590.984 435.04,590.984 \n  \"/>\n<path clip-path=\"url(#clip982)\" d=\"\nM479.916 1023.67 L479.916 1384.24 L524.793 1384.24 L524.793 1023.67 L479.916 1023.67 L479.916 1023.67  Z\n  \" fill=\"#009af9\" fill-rule=\"evenodd\" fill-opacity=\"1\"/>\n<polyline clip-path=\"url(#clip982)\" style=\"stroke:#000000; stroke-linecap:butt; stroke-linejoin:round; stroke-width:4; stroke-opacity:1; fill:none\" points=\"\n  479.916,1023.67 479.916,1384.24 524.793,1384.24 524.793,1023.67 479.916,1023.67 \n  \"/>\n<path clip-path=\"url(#clip982)\" d=\"\nM524.793 879.44 L524.793 1384.24 L569.669 1384.24 L569.669 879.44 L524.793 879.44 L524.793 879.44  Z\n  \" fill=\"#009af9\" fill-rule=\"evenodd\" fill-opacity=\"1\"/>\n<polyline clip-path=\"url(#clip982)\" style=\"stroke:#000000; stroke-linecap:butt; stroke-linejoin:round; stroke-width:4; stroke-opacity:1; fill:none\" points=\"\n  524.793,879.44 524.793,1384.24 569.669,1384.24 569.669,879.44 524.793,879.44 \n  \"/>\n<path clip-path=\"url(#clip982)\" d=\"\nM569.669 807.326 L569.669 1384.24 L614.546 1384.24 L614.546 807.326 L569.669 807.326 L569.669 807.326  Z\n  \" fill=\"#009af9\" fill-rule=\"evenodd\" fill-opacity=\"1\"/>\n<polyline clip-path=\"url(#clip982)\" style=\"stroke:#000000; stroke-linecap:butt; stroke-linejoin:round; stroke-width:4; stroke-opacity:1; fill:none\" points=\"\n  569.669,807.326 569.669,1384.24 614.546,1384.24 614.546,807.326 569.669,807.326 \n  \"/>\n<path clip-path=\"url(#clip982)\" d=\"\nM614.546 302.528 L614.546 1384.24 L659.422 1384.24 L659.422 302.528 L614.546 302.528 L614.546 302.528  Z\n  \" fill=\"#009af9\" fill-rule=\"evenodd\" fill-opacity=\"1\"/>\n<polyline clip-path=\"url(#clip982)\" style=\"stroke:#000000; stroke-linecap:butt; stroke-linejoin:round; stroke-width:4; stroke-opacity:1; fill:none\" points=\"\n  614.546,302.528 614.546,1384.24 659.422,1384.24 659.422,302.528 614.546,302.528 \n  \"/>\n<path clip-path=\"url(#clip982)\" d=\"\nM659.422 1095.78 L659.422 1384.24 L704.299 1384.24 L704.299 1095.78 L659.422 1095.78 L659.422 1095.78  Z\n  \" fill=\"#009af9\" fill-rule=\"evenodd\" fill-opacity=\"1\"/>\n<polyline clip-path=\"url(#clip982)\" style=\"stroke:#000000; stroke-linecap:butt; stroke-linejoin:round; stroke-width:4; stroke-opacity:1; fill:none\" points=\"\n  659.422,1095.78 659.422,1384.24 704.299,1384.24 704.299,1095.78 659.422,1095.78 \n  \"/>\n<path clip-path=\"url(#clip982)\" d=\"\nM704.299 807.326 L704.299 1384.24 L749.175 1384.24 L749.175 807.326 L704.299 807.326 L704.299 807.326  Z\n  \" fill=\"#009af9\" fill-rule=\"evenodd\" fill-opacity=\"1\"/>\n<polyline clip-path=\"url(#clip982)\" style=\"stroke:#000000; stroke-linecap:butt; stroke-linejoin:round; stroke-width:4; stroke-opacity:1; fill:none\" points=\"\n  704.299,807.326 704.299,1384.24 749.175,1384.24 749.175,807.326 704.299,807.326 \n  \"/>\n<path clip-path=\"url(#clip982)\" d=\"\nM749.175 879.44 L749.175 1384.24 L794.052 1384.24 L794.052 879.44 L749.175 879.44 L749.175 879.44  Z\n  \" fill=\"#009af9\" fill-rule=\"evenodd\" fill-opacity=\"1\"/>\n<polyline clip-path=\"url(#clip982)\" style=\"stroke:#000000; stroke-linecap:butt; stroke-linejoin:round; stroke-width:4; stroke-opacity:1; fill:none\" points=\"\n  749.175,879.44 749.175,1384.24 794.052,1384.24 794.052,879.44 749.175,879.44 \n  \"/>\n<path clip-path=\"url(#clip982)\" d=\"\nM794.052 1023.67 L794.052 1384.24 L838.928 1384.24 L838.928 1023.67 L794.052 1023.67 L794.052 1023.67  Z\n  \" fill=\"#009af9\" fill-rule=\"evenodd\" fill-opacity=\"1\"/>\n<polyline clip-path=\"url(#clip982)\" style=\"stroke:#000000; stroke-linecap:butt; stroke-linejoin:round; stroke-width:4; stroke-opacity:1; fill:none\" points=\"\n  794.052,1023.67 794.052,1384.24 838.928,1384.24 838.928,1023.67 794.052,1023.67 \n  \"/>\n<path clip-path=\"url(#clip982)\" d=\"\nM838.928 807.326 L838.928 1384.24 L883.805 1384.24 L883.805 807.326 L838.928 807.326 L838.928 807.326  Z\n  \" fill=\"#009af9\" fill-rule=\"evenodd\" fill-opacity=\"1\"/>\n<polyline clip-path=\"url(#clip982)\" style=\"stroke:#000000; stroke-linecap:butt; stroke-linejoin:round; stroke-width:4; stroke-opacity:1; fill:none\" points=\"\n  838.928,807.326 838.928,1384.24 883.805,1384.24 883.805,807.326 838.928,807.326 \n  \"/>\n<path clip-path=\"url(#clip982)\" d=\"\nM883.805 302.528 L883.805 1384.24 L928.681 1384.24 L928.681 302.528 L883.805 302.528 L883.805 302.528  Z\n  \" fill=\"#009af9\" fill-rule=\"evenodd\" fill-opacity=\"1\"/>\n<polyline clip-path=\"url(#clip982)\" style=\"stroke:#000000; stroke-linecap:butt; stroke-linejoin:round; stroke-width:4; stroke-opacity:1; fill:none\" points=\"\n  883.805,302.528 883.805,1384.24 928.681,1384.24 928.681,302.528 883.805,302.528 \n  \"/>\n<path clip-path=\"url(#clip982)\" d=\"\nM928.681 374.642 L928.681 1384.24 L973.558 1384.24 L973.558 374.642 L928.681 374.642 L928.681 374.642  Z\n  \" fill=\"#009af9\" fill-rule=\"evenodd\" fill-opacity=\"1\"/>\n<polyline clip-path=\"url(#clip982)\" style=\"stroke:#000000; stroke-linecap:butt; stroke-linejoin:round; stroke-width:4; stroke-opacity:1; fill:none\" points=\"\n  928.681,374.642 928.681,1384.24 973.558,1384.24 973.558,374.642 928.681,374.642 \n  \"/>\n<path clip-path=\"url(#clip982)\" d=\"\nM973.558 735.212 L973.558 1384.24 L1018.43 1384.24 L1018.43 735.212 L973.558 735.212 L973.558 735.212  Z\n  \" fill=\"#009af9\" fill-rule=\"evenodd\" fill-opacity=\"1\"/>\n<polyline clip-path=\"url(#clip982)\" style=\"stroke:#000000; stroke-linecap:butt; stroke-linejoin:round; stroke-width:4; stroke-opacity:1; fill:none\" points=\"\n  973.558,735.212 973.558,1384.24 1018.43,1384.24 1018.43,735.212 973.558,735.212 \n  \"/>\n<path clip-path=\"url(#clip982)\" d=\"\nM1018.43 879.44 L1018.43 1384.24 L1063.31 1384.24 L1063.31 879.44 L1018.43 879.44 L1018.43 879.44  Z\n  \" fill=\"#009af9\" fill-rule=\"evenodd\" fill-opacity=\"1\"/>\n<polyline clip-path=\"url(#clip982)\" style=\"stroke:#000000; stroke-linecap:butt; stroke-linejoin:round; stroke-width:4; stroke-opacity:1; fill:none\" points=\"\n  1018.43,879.44 1018.43,1384.24 1063.31,1384.24 1063.31,879.44 1018.43,879.44 \n  \"/>\n<path clip-path=\"url(#clip982)\" d=\"\nM1063.31 879.44 L1063.31 1384.24 L1108.19 1384.24 L1108.19 879.44 L1063.31 879.44 L1063.31 879.44  Z\n  \" fill=\"#009af9\" fill-rule=\"evenodd\" fill-opacity=\"1\"/>\n<polyline clip-path=\"url(#clip982)\" style=\"stroke:#000000; stroke-linecap:butt; stroke-linejoin:round; stroke-width:4; stroke-opacity:1; fill:none\" points=\"\n  1063.31,879.44 1063.31,1384.24 1108.19,1384.24 1108.19,879.44 1063.31,879.44 \n  \"/>\n<path clip-path=\"url(#clip982)\" d=\"\nM1108.19 1095.78 L1108.19 1384.24 L1153.06 1384.24 L1153.06 1095.78 L1108.19 1095.78 L1108.19 1095.78  Z\n  \" fill=\"#009af9\" fill-rule=\"evenodd\" fill-opacity=\"1\"/>\n<polyline clip-path=\"url(#clip982)\" style=\"stroke:#000000; stroke-linecap:butt; stroke-linejoin:round; stroke-width:4; stroke-opacity:1; fill:none\" points=\"\n  1108.19,1095.78 1108.19,1384.24 1153.06,1384.24 1153.06,1095.78 1108.19,1095.78 \n  \"/>\n<path clip-path=\"url(#clip982)\" d=\"\nM1153.06 1095.78 L1153.06 1384.24 L1197.94 1384.24 L1197.94 1095.78 L1153.06 1095.78 L1153.06 1095.78  Z\n  \" fill=\"#009af9\" fill-rule=\"evenodd\" fill-opacity=\"1\"/>\n<polyline clip-path=\"url(#clip982)\" style=\"stroke:#000000; stroke-linecap:butt; stroke-linejoin:round; stroke-width:4; stroke-opacity:1; fill:none\" points=\"\n  1153.06,1095.78 1153.06,1384.24 1197.94,1384.24 1197.94,1095.78 1153.06,1095.78 \n  \"/>\n<path clip-path=\"url(#clip982)\" d=\"\nM1197.94 1240.01 L1197.94 1384.24 L1242.82 1384.24 L1242.82 1240.01 L1197.94 1240.01 L1197.94 1240.01  Z\n  \" fill=\"#009af9\" fill-rule=\"evenodd\" fill-opacity=\"1\"/>\n<polyline clip-path=\"url(#clip982)\" style=\"stroke:#000000; stroke-linecap:butt; stroke-linejoin:round; stroke-width:4; stroke-opacity:1; fill:none\" points=\"\n  1197.94,1240.01 1197.94,1384.24 1242.82,1384.24 1242.82,1240.01 1197.94,1240.01 \n  \"/>\n<path clip-path=\"url(#clip982)\" d=\"\nM1242.82 230.414 L1242.82 1384.24 L1287.69 1384.24 L1287.69 230.414 L1242.82 230.414 L1242.82 230.414  Z\n  \" fill=\"#009af9\" fill-rule=\"evenodd\" fill-opacity=\"1\"/>\n<polyline clip-path=\"url(#clip982)\" style=\"stroke:#000000; stroke-linecap:butt; stroke-linejoin:round; stroke-width:4; stroke-opacity:1; fill:none\" points=\"\n  1242.82,230.414 1242.82,1384.24 1287.69,1384.24 1287.69,230.414 1242.82,230.414 \n  \"/>\n<path clip-path=\"url(#clip982)\" d=\"\nM1287.69 446.756 L1287.69 1384.24 L1332.57 1384.24 L1332.57 446.756 L1287.69 446.756 L1287.69 446.756  Z\n  \" fill=\"#009af9\" fill-rule=\"evenodd\" fill-opacity=\"1\"/>\n<polyline clip-path=\"url(#clip982)\" style=\"stroke:#000000; stroke-linecap:butt; stroke-linejoin:round; stroke-width:4; stroke-opacity:1; fill:none\" points=\"\n  1287.69,446.756 1287.69,1384.24 1332.57,1384.24 1332.57,446.756 1287.69,446.756 \n  \"/>\n<path clip-path=\"url(#clip982)\" d=\"\nM1332.57 1240.01 L1332.57 1384.24 L1377.45 1384.24 L1377.45 1240.01 L1332.57 1240.01 L1332.57 1240.01  Z\n  \" fill=\"#009af9\" fill-rule=\"evenodd\" fill-opacity=\"1\"/>\n<polyline clip-path=\"url(#clip982)\" style=\"stroke:#000000; stroke-linecap:butt; stroke-linejoin:round; stroke-width:4; stroke-opacity:1; fill:none\" points=\"\n  1332.57,1240.01 1332.57,1384.24 1377.45,1384.24 1377.45,1240.01 1332.57,1240.01 \n  \"/>\n<path clip-path=\"url(#clip982)\" d=\"\nM1377.45 1312.12 L1377.45 1384.24 L1422.32 1384.24 L1422.32 1312.12 L1377.45 1312.12 L1377.45 1312.12  Z\n  \" fill=\"#009af9\" fill-rule=\"evenodd\" fill-opacity=\"1\"/>\n<polyline clip-path=\"url(#clip982)\" style=\"stroke:#000000; stroke-linecap:butt; stroke-linejoin:round; stroke-width:4; stroke-opacity:1; fill:none\" points=\"\n  1377.45,1312.12 1377.45,1384.24 1422.32,1384.24 1422.32,1312.12 1377.45,1312.12 \n  \"/>\n<path clip-path=\"url(#clip982)\" d=\"\nM1422.32 951.554 L1422.32 1384.24 L1467.2 1384.24 L1467.2 951.554 L1422.32 951.554 L1422.32 951.554  Z\n  \" fill=\"#009af9\" fill-rule=\"evenodd\" fill-opacity=\"1\"/>\n<polyline clip-path=\"url(#clip982)\" style=\"stroke:#000000; stroke-linecap:butt; stroke-linejoin:round; stroke-width:4; stroke-opacity:1; fill:none\" points=\"\n  1422.32,951.554 1422.32,1384.24 1467.2,1384.24 1467.2,951.554 1422.32,951.554 \n  \"/>\n<path clip-path=\"url(#clip982)\" d=\"\nM1467.2 1384.24 L1467.2 1384.24 L1512.08 1384.24 L1512.08 1384.24 L1467.2 1384.24 L1467.2 1384.24  Z\n  \" fill=\"#009af9\" fill-rule=\"evenodd\" fill-opacity=\"1\"/>\n<polyline clip-path=\"url(#clip982)\" style=\"stroke:#000000; stroke-linecap:butt; stroke-linejoin:round; stroke-width:4; stroke-opacity:1; fill:none\" points=\"\n  1467.2,1384.24 1467.2,1384.24 1512.08,1384.24 1467.2,1384.24 \n  \"/>\n<path clip-path=\"url(#clip982)\" d=\"\nM1512.08 1095.78 L1512.08 1384.24 L1556.95 1384.24 L1556.95 1095.78 L1512.08 1095.78 L1512.08 1095.78  Z\n  \" fill=\"#009af9\" fill-rule=\"evenodd\" fill-opacity=\"1\"/>\n<polyline clip-path=\"url(#clip982)\" style=\"stroke:#000000; stroke-linecap:butt; stroke-linejoin:round; stroke-width:4; stroke-opacity:1; fill:none\" points=\"\n  1512.08,1095.78 1512.08,1384.24 1556.95,1384.24 1556.95,1095.78 1512.08,1095.78 \n  \"/>\n<path clip-path=\"url(#clip982)\" d=\"\nM1556.95 1167.9 L1556.95 1384.24 L1601.83 1384.24 L1601.83 1167.9 L1556.95 1167.9 L1556.95 1167.9  Z\n  \" fill=\"#009af9\" fill-rule=\"evenodd\" fill-opacity=\"1\"/>\n<polyline clip-path=\"url(#clip982)\" style=\"stroke:#000000; stroke-linecap:butt; stroke-linejoin:round; stroke-width:4; stroke-opacity:1; fill:none\" points=\"\n  1556.95,1167.9 1556.95,1384.24 1601.83,1384.24 1601.83,1167.9 1556.95,1167.9 \n  \"/>\n<path clip-path=\"url(#clip982)\" d=\"\nM1601.83 1240.01 L1601.83 1384.24 L1646.71 1384.24 L1646.71 1240.01 L1601.83 1240.01 L1601.83 1240.01  Z\n  \" fill=\"#009af9\" fill-rule=\"evenodd\" fill-opacity=\"1\"/>\n<polyline clip-path=\"url(#clip982)\" style=\"stroke:#000000; stroke-linecap:butt; stroke-linejoin:round; stroke-width:4; stroke-opacity:1; fill:none\" points=\"\n  1601.83,1240.01 1601.83,1384.24 1646.71,1384.24 1646.71,1240.01 1601.83,1240.01 \n  \"/>\n<path clip-path=\"url(#clip982)\" d=\"\nM1646.71 1384.24 L1646.71 1384.24 L1691.58 1384.24 L1691.58 1384.24 L1646.71 1384.24 L1646.71 1384.24  Z\n  \" fill=\"#009af9\" fill-rule=\"evenodd\" fill-opacity=\"1\"/>\n<polyline clip-path=\"url(#clip982)\" style=\"stroke:#000000; stroke-linecap:butt; stroke-linejoin:round; stroke-width:4; stroke-opacity:1; fill:none\" points=\"\n  1646.71,1384.24 1646.71,1384.24 1691.58,1384.24 1646.71,1384.24 \n  \"/>\n<path clip-path=\"url(#clip982)\" d=\"\nM1691.58 1384.24 L1691.58 1384.24 L1736.46 1384.24 L1736.46 1384.24 L1691.58 1384.24 L1691.58 1384.24  Z\n  \" fill=\"#009af9\" fill-rule=\"evenodd\" fill-opacity=\"1\"/>\n<polyline clip-path=\"url(#clip982)\" style=\"stroke:#000000; stroke-linecap:butt; stroke-linejoin:round; stroke-width:4; stroke-opacity:1; fill:none\" points=\"\n  1691.58,1384.24 1691.58,1384.24 1736.46,1384.24 1691.58,1384.24 \n  \"/>\n<path clip-path=\"url(#clip982)\" d=\"\nM1736.46 1384.24 L1736.46 1384.24 L1781.33 1384.24 L1781.33 1384.24 L1736.46 1384.24 L1736.46 1384.24  Z\n  \" fill=\"#009af9\" fill-rule=\"evenodd\" fill-opacity=\"1\"/>\n<polyline clip-path=\"url(#clip982)\" style=\"stroke:#000000; stroke-linecap:butt; stroke-linejoin:round; stroke-width:4; stroke-opacity:1; fill:none\" points=\"\n  1736.46,1384.24 1736.46,1384.24 1781.33,1384.24 1736.46,1384.24 \n  \"/>\n<path clip-path=\"url(#clip982)\" d=\"\nM1781.33 1240.01 L1781.33 1384.24 L1826.21 1384.24 L1826.21 1240.01 L1781.33 1240.01 L1781.33 1240.01  Z\n  \" fill=\"#009af9\" fill-rule=\"evenodd\" fill-opacity=\"1\"/>\n<polyline clip-path=\"url(#clip982)\" style=\"stroke:#000000; stroke-linecap:butt; stroke-linejoin:round; stroke-width:4; stroke-opacity:1; fill:none\" points=\"\n  1781.33,1240.01 1781.33,1384.24 1826.21,1384.24 1826.21,1240.01 1781.33,1240.01 \n  \"/>\n<path clip-path=\"url(#clip982)\" d=\"\nM1826.21 1384.24 L1826.21 1384.24 L1871.09 1384.24 L1871.09 1384.24 L1826.21 1384.24 L1826.21 1384.24  Z\n  \" fill=\"#009af9\" fill-rule=\"evenodd\" fill-opacity=\"1\"/>\n<polyline clip-path=\"url(#clip982)\" style=\"stroke:#000000; stroke-linecap:butt; stroke-linejoin:round; stroke-width:4; stroke-opacity:1; fill:none\" points=\"\n  1826.21,1384.24 1826.21,1384.24 1871.09,1384.24 1826.21,1384.24 \n  \"/>\n<path clip-path=\"url(#clip982)\" d=\"\nM1871.09 1384.24 L1871.09 1384.24 L1915.96 1384.24 L1915.96 1384.24 L1871.09 1384.24 L1871.09 1384.24  Z\n  \" fill=\"#009af9\" fill-rule=\"evenodd\" fill-opacity=\"1\"/>\n<polyline clip-path=\"url(#clip982)\" style=\"stroke:#000000; stroke-linecap:butt; stroke-linejoin:round; stroke-width:4; stroke-opacity:1; fill:none\" points=\"\n  1871.09,1384.24 1871.09,1384.24 1915.96,1384.24 1871.09,1384.24 \n  \"/>\n<path clip-path=\"url(#clip982)\" d=\"\nM1915.96 1384.24 L1915.96 1384.24 L1960.84 1384.24 L1960.84 1384.24 L1915.96 1384.24 L1915.96 1384.24  Z\n  \" fill=\"#009af9\" fill-rule=\"evenodd\" fill-opacity=\"1\"/>\n<polyline clip-path=\"url(#clip982)\" style=\"stroke:#000000; stroke-linecap:butt; stroke-linejoin:round; stroke-width:4; stroke-opacity:1; fill:none\" points=\"\n  1915.96,1384.24 1915.96,1384.24 1960.84,1384.24 1915.96,1384.24 \n  \"/>\n<path clip-path=\"url(#clip982)\" d=\"\nM1960.84 1384.24 L1960.84 1384.24 L2005.72 1384.24 L2005.72 1384.24 L1960.84 1384.24 L1960.84 1384.24  Z\n  \" fill=\"#009af9\" fill-rule=\"evenodd\" fill-opacity=\"1\"/>\n<polyline clip-path=\"url(#clip982)\" style=\"stroke:#000000; stroke-linecap:butt; stroke-linejoin:round; stroke-width:4; stroke-opacity:1; fill:none\" points=\"\n  1960.84,1384.24 1960.84,1384.24 2005.72,1384.24 1960.84,1384.24 \n  \"/>\n<path clip-path=\"url(#clip982)\" d=\"\nM2005.72 1312.12 L2005.72 1384.24 L2050.59 1384.24 L2050.59 1312.12 L2005.72 1312.12 L2005.72 1312.12  Z\n  \" fill=\"#009af9\" fill-rule=\"evenodd\" fill-opacity=\"1\"/>\n<polyline clip-path=\"url(#clip982)\" style=\"stroke:#000000; stroke-linecap:butt; stroke-linejoin:round; stroke-width:4; stroke-opacity:1; fill:none\" points=\"\n  2005.72,1312.12 2005.72,1384.24 2050.59,1384.24 2050.59,1312.12 2005.72,1312.12 \n  \"/>\n<path clip-path=\"url(#clip982)\" d=\"\nM2050.59 1384.24 L2050.59 1384.24 L2095.47 1384.24 L2095.47 1384.24 L2050.59 1384.24 L2050.59 1384.24  Z\n  \" fill=\"#009af9\" fill-rule=\"evenodd\" fill-opacity=\"1\"/>\n<polyline clip-path=\"url(#clip982)\" style=\"stroke:#000000; stroke-linecap:butt; stroke-linejoin:round; stroke-width:4; stroke-opacity:1; fill:none\" points=\"\n  2050.59,1384.24 2050.59,1384.24 2095.47,1384.24 2050.59,1384.24 \n  \"/>\n<path clip-path=\"url(#clip982)\" d=\"\nM2095.47 1312.12 L2095.47 1384.24 L2140.35 1384.24 L2140.35 1312.12 L2095.47 1312.12 L2095.47 1312.12  Z\n  \" fill=\"#009af9\" fill-rule=\"evenodd\" fill-opacity=\"1\"/>\n<polyline clip-path=\"url(#clip982)\" style=\"stroke:#000000; stroke-linecap:butt; stroke-linejoin:round; stroke-width:4; stroke-opacity:1; fill:none\" points=\"\n  2095.47,1312.12 2095.47,1384.24 2140.35,1384.24 2140.35,1312.12 2095.47,1312.12 \n  \"/>\n<path clip-path=\"url(#clip982)\" d=\"\nM2140.35 1384.24 L2140.35 1384.24 L2185.22 1384.24 L2185.22 1384.24 L2140.35 1384.24 L2140.35 1384.24  Z\n  \" fill=\"#009af9\" fill-rule=\"evenodd\" fill-opacity=\"1\"/>\n<polyline clip-path=\"url(#clip982)\" style=\"stroke:#000000; stroke-linecap:butt; stroke-linejoin:round; stroke-width:4; stroke-opacity:1; fill:none\" points=\"\n  2140.35,1384.24 2140.35,1384.24 2185.22,1384.24 2140.35,1384.24 \n  \"/>\n<path clip-path=\"url(#clip982)\" d=\"\nM2185.22 1312.12 L2185.22 1384.24 L2230.1 1384.24 L2230.1 1312.12 L2185.22 1312.12 L2185.22 1312.12  Z\n  \" fill=\"#009af9\" fill-rule=\"evenodd\" fill-opacity=\"1\"/>\n<polyline clip-path=\"url(#clip982)\" style=\"stroke:#000000; stroke-linecap:butt; stroke-linejoin:round; stroke-width:4; stroke-opacity:1; fill:none\" points=\"\n  2185.22,1312.12 2185.22,1384.24 2230.1,1384.24 2230.1,1312.12 2185.22,1312.12 \n  \"/>\n<path clip-path=\"url(#clip982)\" d=\"\nM2230.1 1312.12 L2230.1 1384.24 L2274.98 1384.24 L2274.98 1312.12 L2230.1 1312.12 L2230.1 1312.12  Z\n  \" fill=\"#009af9\" fill-rule=\"evenodd\" fill-opacity=\"1\"/>\n<polyline clip-path=\"url(#clip982)\" style=\"stroke:#000000; stroke-linecap:butt; stroke-linejoin:round; stroke-width:4; stroke-opacity:1; fill:none\" points=\"\n  2230.1,1312.12 2230.1,1384.24 2274.98,1384.24 2274.98,1312.12 2230.1,1312.12 \n  \"/>\n<path clip-path=\"url(#clip982)\" d=\"\nM2274.98 1240.01 L2274.98 1384.24 L2319.85 1384.24 L2319.85 1240.01 L2274.98 1240.01 L2274.98 1240.01  Z\n  \" fill=\"#009af9\" fill-rule=\"evenodd\" fill-opacity=\"1\"/>\n<polyline clip-path=\"url(#clip982)\" style=\"stroke:#000000; stroke-linecap:butt; stroke-linejoin:round; stroke-width:4; stroke-opacity:1; fill:none\" points=\"\n  2274.98,1240.01 2274.98,1384.24 2319.85,1384.24 2319.85,1240.01 2274.98,1240.01 \n  \"/>\n<path clip-path=\"url(#clip982)\" d=\"\nM2319.85 1384.24 L2319.85 1384.24 L2364.73 1384.24 L2364.73 1384.24 L2319.85 1384.24 L2319.85 1384.24  Z\n  \" fill=\"#009af9\" fill-rule=\"evenodd\" fill-opacity=\"1\"/>\n<polyline clip-path=\"url(#clip982)\" style=\"stroke:#000000; stroke-linecap:butt; stroke-linejoin:round; stroke-width:4; stroke-opacity:1; fill:none\" points=\"\n  2319.85,1384.24 2319.85,1384.24 2364.73,1384.24 2319.85,1384.24 \n  \"/>\n<path clip-path=\"url(#clip982)\" d=\"\nM2364.73 1384.24 L2364.73 1384.24 L2409.61 1384.24 L2409.61 1384.24 L2364.73 1384.24 L2364.73 1384.24  Z\n  \" fill=\"#009af9\" fill-rule=\"evenodd\" fill-opacity=\"1\"/>\n<polyline clip-path=\"url(#clip982)\" style=\"stroke:#000000; stroke-linecap:butt; stroke-linejoin:round; stroke-width:4; stroke-opacity:1; fill:none\" points=\"\n  2364.73,1384.24 2364.73,1384.24 2409.61,1384.24 2364.73,1384.24 \n  \"/>\n<path clip-path=\"url(#clip982)\" d=\"\nM2409.61 1240.01 L2409.61 1384.24 L2454.48 1384.24 L2454.48 1240.01 L2409.61 1240.01 L2409.61 1240.01  Z\n  \" fill=\"#009af9\" fill-rule=\"evenodd\" fill-opacity=\"1\"/>\n<polyline clip-path=\"url(#clip982)\" style=\"stroke:#000000; stroke-linecap:butt; stroke-linejoin:round; stroke-width:4; stroke-opacity:1; fill:none\" points=\"\n  2409.61,1240.01 2409.61,1384.24 2454.48,1384.24 2454.48,1240.01 2409.61,1240.01 \n  \"/>\n<path clip-path=\"url(#clip982)\" d=\"\nM2454.48 1312.12 L2454.48 1384.24 L2499.36 1384.24 L2499.36 1312.12 L2454.48 1312.12 L2454.48 1312.12  Z\n  \" fill=\"#009af9\" fill-rule=\"evenodd\" fill-opacity=\"1\"/>\n<polyline clip-path=\"url(#clip982)\" style=\"stroke:#000000; stroke-linecap:butt; stroke-linejoin:round; stroke-width:4; stroke-opacity:1; fill:none\" points=\"\n  2454.48,1312.12 2454.48,1384.24 2499.36,1384.24 2499.36,1312.12 2454.48,1312.12 \n  \"/>\n<path clip-path=\"url(#clip982)\" d=\"\nM2499.36 1384.24 L2499.36 1384.24 L2544.24 1384.24 L2544.24 1384.24 L2499.36 1384.24 L2499.36 1384.24  Z\n  \" fill=\"#009af9\" fill-rule=\"evenodd\" fill-opacity=\"1\"/>\n<polyline clip-path=\"url(#clip982)\" style=\"stroke:#000000; stroke-linecap:butt; stroke-linejoin:round; stroke-width:4; stroke-opacity:1; fill:none\" points=\"\n  2499.36,1384.24 2499.36,1384.24 2544.24,1384.24 2499.36,1384.24 \n  \"/>\n<path clip-path=\"url(#clip982)\" d=\"\nM2544.24 1384.24 L2544.24 1384.24 L2589.11 1384.24 L2589.11 1384.24 L2544.24 1384.24 L2544.24 1384.24  Z\n  \" fill=\"#009af9\" fill-rule=\"evenodd\" fill-opacity=\"1\"/>\n<polyline clip-path=\"url(#clip982)\" style=\"stroke:#000000; stroke-linecap:butt; stroke-linejoin:round; stroke-width:4; stroke-opacity:1; fill:none\" points=\"\n  2544.24,1384.24 2544.24,1384.24 2589.11,1384.24 2544.24,1384.24 \n  \"/>\n<path clip-path=\"url(#clip982)\" d=\"\nM2589.11 1384.24 L2589.11 1384.24 L2633.99 1384.24 L2633.99 1384.24 L2589.11 1384.24 L2589.11 1384.24  Z\n  \" fill=\"#009af9\" fill-rule=\"evenodd\" fill-opacity=\"1\"/>\n<polyline clip-path=\"url(#clip982)\" style=\"stroke:#000000; stroke-linecap:butt; stroke-linejoin:round; stroke-width:4; stroke-opacity:1; fill:none\" points=\"\n  2589.11,1384.24 2589.11,1384.24 2633.99,1384.24 2589.11,1384.24 \n  \"/>\n<path clip-path=\"url(#clip982)\" d=\"\nM2633.99 1384.24 L2633.99 1384.24 L2678.86 1384.24 L2678.86 1384.24 L2633.99 1384.24 L2633.99 1384.24  Z\n  \" fill=\"#009af9\" fill-rule=\"evenodd\" fill-opacity=\"1\"/>\n<polyline clip-path=\"url(#clip982)\" style=\"stroke:#000000; stroke-linecap:butt; stroke-linejoin:round; stroke-width:4; stroke-opacity:1; fill:none\" points=\"\n  2633.99,1384.24 2633.99,1384.24 2678.86,1384.24 2633.99,1384.24 \n  \"/>\n<path clip-path=\"url(#clip982)\" d=\"\nM2678.86 1312.12 L2678.86 1384.24 L2723.74 1384.24 L2723.74 1312.12 L2678.86 1312.12 L2678.86 1312.12  Z\n  \" fill=\"#009af9\" fill-rule=\"evenodd\" fill-opacity=\"1\"/>\n<polyline clip-path=\"url(#clip982)\" style=\"stroke:#000000; stroke-linecap:butt; stroke-linejoin:round; stroke-width:4; stroke-opacity:1; fill:none\" points=\"\n  2678.86,1312.12 2678.86,1384.24 2723.74,1384.24 2723.74,1312.12 2678.86,1312.12 \n  \"/>\n<path clip-path=\"url(#clip982)\" d=\"\nM2723.74 1384.24 L2723.74 1384.24 L2768.62 1384.24 L2768.62 1384.24 L2723.74 1384.24 L2723.74 1384.24  Z\n  \" fill=\"#009af9\" fill-rule=\"evenodd\" fill-opacity=\"1\"/>\n<polyline clip-path=\"url(#clip982)\" style=\"stroke:#000000; stroke-linecap:butt; stroke-linejoin:round; stroke-width:4; stroke-opacity:1; fill:none\" points=\"\n  2723.74,1384.24 2723.74,1384.24 2768.62,1384.24 2723.74,1384.24 \n  \"/>\n<path clip-path=\"url(#clip982)\" d=\"\nM2768.62 1384.24 L2768.62 1384.24 L2813.49 1384.24 L2813.49 1384.24 L2768.62 1384.24 L2768.62 1384.24  Z\n  \" fill=\"#009af9\" fill-rule=\"evenodd\" fill-opacity=\"1\"/>\n<polyline clip-path=\"url(#clip982)\" style=\"stroke:#000000; stroke-linecap:butt; stroke-linejoin:round; stroke-width:4; stroke-opacity:1; fill:none\" points=\"\n  2768.62,1384.24 2768.62,1384.24 2813.49,1384.24 2768.62,1384.24 \n  \"/>\n<path clip-path=\"url(#clip982)\" d=\"\nM2813.49 1312.12 L2813.49 1384.24 L2858.37 1384.24 L2858.37 1312.12 L2813.49 1312.12 L2813.49 1312.12  Z\n  \" fill=\"#009af9\" fill-rule=\"evenodd\" fill-opacity=\"1\"/>\n<polyline clip-path=\"url(#clip982)\" style=\"stroke:#000000; stroke-linecap:butt; stroke-linejoin:round; stroke-width:4; stroke-opacity:1; fill:none\" points=\"\n  2813.49,1312.12 2813.49,1384.24 2858.37,1384.24 2858.37,1312.12 2813.49,1312.12 \n  \"/>\n<path clip-path=\"url(#clip982)\" d=\"\nM2858.37 1312.12 L2858.37 1384.24 L2903.25 1384.24 L2903.25 1312.12 L2858.37 1312.12 L2858.37 1312.12  Z\n  \" fill=\"#009af9\" fill-rule=\"evenodd\" fill-opacity=\"1\"/>\n<polyline clip-path=\"url(#clip982)\" style=\"stroke:#000000; stroke-linecap:butt; stroke-linejoin:round; stroke-width:4; stroke-opacity:1; fill:none\" points=\"\n  2858.37,1312.12 2858.37,1384.24 2903.25,1384.24 2903.25,1312.12 2858.37,1312.12 \n  \"/>\n<path clip-path=\"url(#clip982)\" d=\"\nM2903.25 1384.24 L2903.25 1384.24 L2948.12 1384.24 L2948.12 1384.24 L2903.25 1384.24 L2903.25 1384.24  Z\n  \" fill=\"#009af9\" fill-rule=\"evenodd\" fill-opacity=\"1\"/>\n<polyline clip-path=\"url(#clip982)\" style=\"stroke:#000000; stroke-linecap:butt; stroke-linejoin:round; stroke-width:4; stroke-opacity:1; fill:none\" points=\"\n  2903.25,1384.24 2903.25,1384.24 2948.12,1384.24 2903.25,1384.24 \n  \"/>\n<path clip-path=\"url(#clip982)\" d=\"\nM2948.12 1384.24 L2948.12 1384.24 L2993 1384.24 L2993 1384.24 L2948.12 1384.24 L2948.12 1384.24  Z\n  \" fill=\"#009af9\" fill-rule=\"evenodd\" fill-opacity=\"1\"/>\n<polyline clip-path=\"url(#clip982)\" style=\"stroke:#000000; stroke-linecap:butt; stroke-linejoin:round; stroke-width:4; stroke-opacity:1; fill:none\" points=\"\n  2948.12,1384.24 2948.12,1384.24 2993,1384.24 2948.12,1384.24 \n  \"/>\n<path clip-path=\"url(#clip982)\" d=\"\nM2993 1384.24 L2993 1384.24 L3037.88 1384.24 L3037.88 1384.24 L2993 1384.24 L2993 1384.24  Z\n  \" fill=\"#009af9\" fill-rule=\"evenodd\" fill-opacity=\"1\"/>\n<polyline clip-path=\"url(#clip982)\" style=\"stroke:#000000; stroke-linecap:butt; stroke-linejoin:round; stroke-width:4; stroke-opacity:1; fill:none\" points=\"\n  2993,1384.24 2993,1384.24 3037.88,1384.24 2993,1384.24 \n  \"/>\n<path clip-path=\"url(#clip982)\" d=\"\nM3037.88 1312.12 L3037.88 1384.24 L3082.75 1384.24 L3082.75 1312.12 L3037.88 1312.12 L3037.88 1312.12  Z\n  \" fill=\"#009af9\" fill-rule=\"evenodd\" fill-opacity=\"1\"/>\n<polyline clip-path=\"url(#clip982)\" style=\"stroke:#000000; stroke-linecap:butt; stroke-linejoin:round; stroke-width:4; stroke-opacity:1; fill:none\" points=\"\n  3037.88,1312.12 3037.88,1384.24 3082.75,1384.24 3082.75,1312.12 3037.88,1312.12 \n  \"/>\n<path clip-path=\"url(#clip982)\" d=\"\nM3082.75 1312.12 L3082.75 1384.24 L3127.63 1384.24 L3127.63 1312.12 L3082.75 1312.12 L3082.75 1312.12  Z\n  \" fill=\"#009af9\" fill-rule=\"evenodd\" fill-opacity=\"1\"/>\n<polyline clip-path=\"url(#clip982)\" style=\"stroke:#000000; stroke-linecap:butt; stroke-linejoin:round; stroke-width:4; stroke-opacity:1; fill:none\" points=\"\n  3082.75,1312.12 3082.75,1384.24 3127.63,1384.24 3127.63,1312.12 3082.75,1312.12 \n  \"/>\n<path clip-path=\"url(#clip982)\" d=\"\nM3127.63 1384.24 L3127.63 1384.24 L3172.51 1384.24 L3172.51 1384.24 L3127.63 1384.24 L3127.63 1384.24  Z\n  \" fill=\"#009af9\" fill-rule=\"evenodd\" fill-opacity=\"1\"/>\n<polyline clip-path=\"url(#clip982)\" style=\"stroke:#000000; stroke-linecap:butt; stroke-linejoin:round; stroke-width:4; stroke-opacity:1; fill:none\" points=\"\n  3127.63,1384.24 3127.63,1384.24 3172.51,1384.24 3127.63,1384.24 \n  \"/>\n<path clip-path=\"url(#clip982)\" d=\"\nM3172.51 1384.24 L3172.51 1384.24 L3217.38 1384.24 L3217.38 1384.24 L3172.51 1384.24 L3172.51 1384.24  Z\n  \" fill=\"#009af9\" fill-rule=\"evenodd\" fill-opacity=\"1\"/>\n<polyline clip-path=\"url(#clip982)\" style=\"stroke:#000000; stroke-linecap:butt; stroke-linejoin:round; stroke-width:4; stroke-opacity:1; fill:none\" points=\"\n  3172.51,1384.24 3172.51,1384.24 3217.38,1384.24 3172.51,1384.24 \n  \"/>\n<path clip-path=\"url(#clip982)\" d=\"\nM3217.38 1312.12 L3217.38 1384.24 L3262.26 1384.24 L3262.26 1312.12 L3217.38 1312.12 L3217.38 1312.12  Z\n  \" fill=\"#009af9\" fill-rule=\"evenodd\" fill-opacity=\"1\"/>\n<polyline clip-path=\"url(#clip982)\" style=\"stroke:#000000; stroke-linecap:butt; stroke-linejoin:round; stroke-width:4; stroke-opacity:1; fill:none\" points=\"\n  3217.38,1312.12 3217.38,1384.24 3262.26,1384.24 3262.26,1312.12 3217.38,1312.12 \n  \"/>\n<path clip-path=\"url(#clip982)\" d=\"\nM3262.26 1384.24 L3262.26 1384.24 L3307.14 1384.24 L3307.14 1384.24 L3262.26 1384.24 L3262.26 1384.24  Z\n  \" fill=\"#009af9\" fill-rule=\"evenodd\" fill-opacity=\"1\"/>\n<polyline clip-path=\"url(#clip982)\" style=\"stroke:#000000; stroke-linecap:butt; stroke-linejoin:round; stroke-width:4; stroke-opacity:1; fill:none\" points=\"\n  3262.26,1384.24 3262.26,1384.24 3307.14,1384.24 3262.26,1384.24 \n  \"/>\n<path clip-path=\"url(#clip982)\" d=\"\nM3307.14 1384.24 L3307.14 1384.24 L3352.01 1384.24 L3352.01 1384.24 L3307.14 1384.24 L3307.14 1384.24  Z\n  \" fill=\"#009af9\" fill-rule=\"evenodd\" fill-opacity=\"1\"/>\n<polyline clip-path=\"url(#clip982)\" style=\"stroke:#000000; stroke-linecap:butt; stroke-linejoin:round; stroke-width:4; stroke-opacity:1; fill:none\" points=\"\n  3307.14,1384.24 3307.14,1384.24 3352.01,1384.24 3307.14,1384.24 \n  \"/>\n<path clip-path=\"url(#clip982)\" d=\"\nM3352.01 1384.24 L3352.01 1384.24 L3396.89 1384.24 L3396.89 1384.24 L3352.01 1384.24 L3352.01 1384.24  Z\n  \" fill=\"#009af9\" fill-rule=\"evenodd\" fill-opacity=\"1\"/>\n<polyline clip-path=\"url(#clip982)\" style=\"stroke:#000000; stroke-linecap:butt; stroke-linejoin:round; stroke-width:4; stroke-opacity:1; fill:none\" points=\"\n  3352.01,1384.24 3352.01,1384.24 3396.89,1384.24 3352.01,1384.24 \n  \"/>\n<path clip-path=\"url(#clip982)\" d=\"\nM3396.89 1384.24 L3396.89 1384.24 L3441.77 1384.24 L3441.77 1384.24 L3396.89 1384.24 L3396.89 1384.24  Z\n  \" fill=\"#009af9\" fill-rule=\"evenodd\" fill-opacity=\"1\"/>\n<polyline clip-path=\"url(#clip982)\" style=\"stroke:#000000; stroke-linecap:butt; stroke-linejoin:round; stroke-width:4; stroke-opacity:1; fill:none\" points=\"\n  3396.89,1384.24 3396.89,1384.24 3441.77,1384.24 3396.89,1384.24 \n  \"/>\n<path clip-path=\"url(#clip982)\" d=\"\nM3441.77 1312.12 L3441.77 1384.24 L3486.64 1384.24 L3486.64 1312.12 L3441.77 1312.12 L3441.77 1312.12  Z\n  \" fill=\"#009af9\" fill-rule=\"evenodd\" fill-opacity=\"1\"/>\n<polyline clip-path=\"url(#clip982)\" style=\"stroke:#000000; stroke-linecap:butt; stroke-linejoin:round; stroke-width:4; stroke-opacity:1; fill:none\" points=\"\n  3441.77,1312.12 3441.77,1384.24 3486.64,1384.24 3486.64,1312.12 3441.77,1312.12 \n  \"/>\n<path clip-path=\"url(#clip982)\" d=\"\nM3486.64 1384.24 L3486.64 1384.24 L3531.52 1384.24 L3531.52 1384.24 L3486.64 1384.24 L3486.64 1384.24  Z\n  \" fill=\"#009af9\" fill-rule=\"evenodd\" fill-opacity=\"1\"/>\n<polyline clip-path=\"url(#clip982)\" style=\"stroke:#000000; stroke-linecap:butt; stroke-linejoin:round; stroke-width:4; stroke-opacity:1; fill:none\" points=\"\n  3486.64,1384.24 3486.64,1384.24 3531.52,1384.24 3486.64,1384.24 \n  \"/>\n<path clip-path=\"url(#clip982)\" d=\"\nM3531.52 1312.12 L3531.52 1384.24 L3576.39 1384.24 L3576.39 1312.12 L3531.52 1312.12 L3531.52 1312.12  Z\n  \" fill=\"#009af9\" fill-rule=\"evenodd\" fill-opacity=\"1\"/>\n<polyline clip-path=\"url(#clip982)\" style=\"stroke:#000000; stroke-linecap:butt; stroke-linejoin:round; stroke-width:4; stroke-opacity:1; fill:none\" points=\"\n  3531.52,1312.12 3531.52,1384.24 3576.39,1384.24 3576.39,1312.12 3531.52,1312.12 \n  \"/>\n<path clip-path=\"url(#clip982)\" d=\"\nM3576.39 1384.24 L3576.39 1384.24 L3621.27 1384.24 L3621.27 1384.24 L3576.39 1384.24 L3576.39 1384.24  Z\n  \" fill=\"#009af9\" fill-rule=\"evenodd\" fill-opacity=\"1\"/>\n<polyline clip-path=\"url(#clip982)\" style=\"stroke:#000000; stroke-linecap:butt; stroke-linejoin:round; stroke-width:4; stroke-opacity:1; fill:none\" points=\"\n  3576.39,1384.24 3576.39,1384.24 3621.27,1384.24 3576.39,1384.24 \n  \"/>\n<path clip-path=\"url(#clip982)\" d=\"\nM3621.27 1384.24 L3621.27 1384.24 L3666.15 1384.24 L3666.15 1384.24 L3621.27 1384.24 L3621.27 1384.24  Z\n  \" fill=\"#009af9\" fill-rule=\"evenodd\" fill-opacity=\"1\"/>\n<polyline clip-path=\"url(#clip982)\" style=\"stroke:#000000; stroke-linecap:butt; stroke-linejoin:round; stroke-width:4; stroke-opacity:1; fill:none\" points=\"\n  3621.27,1384.24 3621.27,1384.24 3666.15,1384.24 3621.27,1384.24 \n  \"/>\n<path clip-path=\"url(#clip982)\" d=\"\nM3666.15 1384.24 L3666.15 1384.24 L3711.02 1384.24 L3711.02 1384.24 L3666.15 1384.24 L3666.15 1384.24  Z\n  \" fill=\"#009af9\" fill-rule=\"evenodd\" fill-opacity=\"1\"/>\n<polyline clip-path=\"url(#clip982)\" style=\"stroke:#000000; stroke-linecap:butt; stroke-linejoin:round; stroke-width:4; stroke-opacity:1; fill:none\" points=\"\n  3666.15,1384.24 3666.15,1384.24 3711.02,1384.24 3666.15,1384.24 \n  \"/>\n<path clip-path=\"url(#clip982)\" d=\"\nM3711.02 1312.12 L3711.02 1384.24 L3755.9 1384.24 L3755.9 1312.12 L3711.02 1312.12 L3711.02 1312.12  Z\n  \" fill=\"#009af9\" fill-rule=\"evenodd\" fill-opacity=\"1\"/>\n<polyline clip-path=\"url(#clip982)\" style=\"stroke:#000000; stroke-linecap:butt; stroke-linejoin:round; stroke-width:4; stroke-opacity:1; fill:none\" points=\"\n  3711.02,1312.12 3711.02,1384.24 3755.9,1384.24 3755.9,1312.12 3711.02,1312.12 \n  \"/>\n<path clip-path=\"url(#clip982)\" d=\"\nM3755.9 1312.12 L3755.9 1384.24 L3800.78 1384.24 L3800.78 1312.12 L3755.9 1312.12 L3755.9 1312.12  Z\n  \" fill=\"#009af9\" fill-rule=\"evenodd\" fill-opacity=\"1\"/>\n<polyline clip-path=\"url(#clip982)\" style=\"stroke:#000000; stroke-linecap:butt; stroke-linejoin:round; stroke-width:4; stroke-opacity:1; fill:none\" points=\"\n  3755.9,1312.12 3755.9,1384.24 3800.78,1384.24 3800.78,1312.12 3755.9,1312.12 \n  \"/>\n<path clip-path=\"url(#clip982)\" d=\"\nM3800.78 1384.24 L3800.78 1384.24 L3845.65 1384.24 L3845.65 1384.24 L3800.78 1384.24 L3800.78 1384.24  Z\n  \" fill=\"#009af9\" fill-rule=\"evenodd\" fill-opacity=\"1\"/>\n<polyline clip-path=\"url(#clip982)\" style=\"stroke:#000000; stroke-linecap:butt; stroke-linejoin:round; stroke-width:4; stroke-opacity:1; fill:none\" points=\"\n  3800.78,1384.24 3800.78,1384.24 3845.65,1384.24 3800.78,1384.24 \n  \"/>\n<path clip-path=\"url(#clip982)\" d=\"\nM3845.65 1384.24 L3845.65 1384.24 L3890.53 1384.24 L3890.53 1384.24 L3845.65 1384.24 L3845.65 1384.24  Z\n  \" fill=\"#009af9\" fill-rule=\"evenodd\" fill-opacity=\"1\"/>\n<polyline clip-path=\"url(#clip982)\" style=\"stroke:#000000; stroke-linecap:butt; stroke-linejoin:round; stroke-width:4; stroke-opacity:1; fill:none\" points=\"\n  3845.65,1384.24 3845.65,1384.24 3890.53,1384.24 3845.65,1384.24 \n  \"/>\n<path clip-path=\"url(#clip982)\" d=\"\nM3890.53 1312.12 L3890.53 1384.24 L3935.41 1384.24 L3935.41 1312.12 L3890.53 1312.12 L3890.53 1312.12  Z\n  \" fill=\"#009af9\" fill-rule=\"evenodd\" fill-opacity=\"1\"/>\n<polyline clip-path=\"url(#clip982)\" style=\"stroke:#000000; stroke-linecap:butt; stroke-linejoin:round; stroke-width:4; stroke-opacity:1; fill:none\" points=\"\n  3890.53,1312.12 3890.53,1384.24 3935.41,1384.24 3935.41,1312.12 3890.53,1312.12 \n  \"/>\n<path clip-path=\"url(#clip982)\" d=\"\nM3935.41 1384.24 L3935.41 1384.24 L3980.28 1384.24 L3980.28 1384.24 L3935.41 1384.24 L3935.41 1384.24  Z\n  \" fill=\"#009af9\" fill-rule=\"evenodd\" fill-opacity=\"1\"/>\n<polyline clip-path=\"url(#clip982)\" style=\"stroke:#000000; stroke-linecap:butt; stroke-linejoin:round; stroke-width:4; stroke-opacity:1; fill:none\" points=\"\n  3935.41,1384.24 3935.41,1384.24 3980.28,1384.24 3935.41,1384.24 \n  \"/>\n<path clip-path=\"url(#clip982)\" d=\"\nM3980.28 1384.24 L3980.28 1384.24 L4025.16 1384.24 L4025.16 1384.24 L3980.28 1384.24 L3980.28 1384.24  Z\n  \" fill=\"#009af9\" fill-rule=\"evenodd\" fill-opacity=\"1\"/>\n<polyline clip-path=\"url(#clip982)\" style=\"stroke:#000000; stroke-linecap:butt; stroke-linejoin:round; stroke-width:4; stroke-opacity:1; fill:none\" points=\"\n  3980.28,1384.24 3980.28,1384.24 4025.16,1384.24 3980.28,1384.24 \n  \"/>\n<path clip-path=\"url(#clip982)\" d=\"\nM4025.16 1384.24 L4025.16 1384.24 L4070.04 1384.24 L4070.04 1384.24 L4025.16 1384.24 L4025.16 1384.24  Z\n  \" fill=\"#009af9\" fill-rule=\"evenodd\" fill-opacity=\"1\"/>\n<polyline clip-path=\"url(#clip982)\" style=\"stroke:#000000; stroke-linecap:butt; stroke-linejoin:round; stroke-width:4; stroke-opacity:1; fill:none\" points=\"\n  4025.16,1384.24 4025.16,1384.24 4070.04,1384.24 4025.16,1384.24 \n  \"/>\n<path clip-path=\"url(#clip982)\" d=\"\nM4070.04 1384.24 L4070.04 1384.24 L4114.91 1384.24 L4114.91 1384.24 L4070.04 1384.24 L4070.04 1384.24  Z\n  \" fill=\"#009af9\" fill-rule=\"evenodd\" fill-opacity=\"1\"/>\n<polyline clip-path=\"url(#clip982)\" style=\"stroke:#000000; stroke-linecap:butt; stroke-linejoin:round; stroke-width:4; stroke-opacity:1; fill:none\" points=\"\n  4070.04,1384.24 4070.04,1384.24 4114.91,1384.24 4070.04,1384.24 \n  \"/>\n<path clip-path=\"url(#clip982)\" d=\"\nM4114.91 1384.24 L4114.91 1384.24 L4159.79 1384.24 L4159.79 1384.24 L4114.91 1384.24 L4114.91 1384.24  Z\n  \" fill=\"#009af9\" fill-rule=\"evenodd\" fill-opacity=\"1\"/>\n<polyline clip-path=\"url(#clip982)\" style=\"stroke:#000000; stroke-linecap:butt; stroke-linejoin:round; stroke-width:4; stroke-opacity:1; fill:none\" points=\"\n  4114.91,1384.24 4114.91,1384.24 4159.79,1384.24 4114.91,1384.24 \n  \"/>\n<path clip-path=\"url(#clip982)\" d=\"\nM4159.79 1384.24 L4159.79 1384.24 L4204.67 1384.24 L4204.67 1384.24 L4159.79 1384.24 L4159.79 1384.24  Z\n  \" fill=\"#009af9\" fill-rule=\"evenodd\" fill-opacity=\"1\"/>\n<polyline clip-path=\"url(#clip982)\" style=\"stroke:#000000; stroke-linecap:butt; stroke-linejoin:round; stroke-width:4; stroke-opacity:1; fill:none\" points=\"\n  4159.79,1384.24 4159.79,1384.24 4204.67,1384.24 4159.79,1384.24 \n  \"/>\n<path clip-path=\"url(#clip982)\" d=\"\nM4204.67 1384.24 L4204.67 1384.24 L4249.54 1384.24 L4249.54 1384.24 L4204.67 1384.24 L4204.67 1384.24  Z\n  \" fill=\"#009af9\" fill-rule=\"evenodd\" fill-opacity=\"1\"/>\n<polyline clip-path=\"url(#clip982)\" style=\"stroke:#000000; stroke-linecap:butt; stroke-linejoin:round; stroke-width:4; stroke-opacity:1; fill:none\" points=\"\n  4204.67,1384.24 4204.67,1384.24 4249.54,1384.24 4204.67,1384.24 \n  \"/>\n<path clip-path=\"url(#clip982)\" d=\"\nM4249.54 1384.24 L4249.54 1384.24 L4294.42 1384.24 L4294.42 1384.24 L4249.54 1384.24 L4249.54 1384.24  Z\n  \" fill=\"#009af9\" fill-rule=\"evenodd\" fill-opacity=\"1\"/>\n<polyline clip-path=\"url(#clip982)\" style=\"stroke:#000000; stroke-linecap:butt; stroke-linejoin:round; stroke-width:4; stroke-opacity:1; fill:none\" points=\"\n  4249.54,1384.24 4249.54,1384.24 4294.42,1384.24 4249.54,1384.24 \n  \"/>\n<path clip-path=\"url(#clip982)\" d=\"\nM4294.42 1312.12 L4294.42 1384.24 L4339.3 1384.24 L4339.3 1312.12 L4294.42 1312.12 L4294.42 1312.12  Z\n  \" fill=\"#009af9\" fill-rule=\"evenodd\" fill-opacity=\"1\"/>\n<polyline clip-path=\"url(#clip982)\" style=\"stroke:#000000; stroke-linecap:butt; stroke-linejoin:round; stroke-width:4; stroke-opacity:1; fill:none\" points=\"\n  4294.42,1312.12 4294.42,1384.24 4339.3,1384.24 4339.3,1312.12 4294.42,1312.12 \n  \"/>\n<path clip-path=\"url(#clip982)\" d=\"\nM4339.3 1312.12 L4339.3 1384.24 L4384.17 1384.24 L4384.17 1312.12 L4339.3 1312.12 L4339.3 1312.12  Z\n  \" fill=\"#009af9\" fill-rule=\"evenodd\" fill-opacity=\"1\"/>\n<polyline clip-path=\"url(#clip982)\" style=\"stroke:#000000; stroke-linecap:butt; stroke-linejoin:round; stroke-width:4; stroke-opacity:1; fill:none\" points=\"\n  4339.3,1312.12 4339.3,1384.24 4384.17,1384.24 4384.17,1312.12 4339.3,1312.12 \n  \"/>\n<path clip-path=\"url(#clip982)\" d=\"\nM4384.17 1095.78 L4384.17 1384.24 L4429.05 1384.24 L4429.05 1095.78 L4384.17 1095.78 L4384.17 1095.78  Z\n  \" fill=\"#009af9\" fill-rule=\"evenodd\" fill-opacity=\"1\"/>\n<polyline clip-path=\"url(#clip982)\" style=\"stroke:#000000; stroke-linecap:butt; stroke-linejoin:round; stroke-width:4; stroke-opacity:1; fill:none\" points=\"\n  4384.17,1095.78 4384.17,1384.24 4429.05,1384.24 4429.05,1095.78 4384.17,1095.78 \n  \"/>\n<path clip-path=\"url(#clip982)\" d=\"\nM4429.05 1384.24 L4429.05 1384.24 L4473.92 1384.24 L4473.92 1384.24 L4429.05 1384.24 L4429.05 1384.24  Z\n  \" fill=\"#009af9\" fill-rule=\"evenodd\" fill-opacity=\"1\"/>\n<polyline clip-path=\"url(#clip982)\" style=\"stroke:#000000; stroke-linecap:butt; stroke-linejoin:round; stroke-width:4; stroke-opacity:1; fill:none\" points=\"\n  4429.05,1384.24 4429.05,1384.24 4473.92,1384.24 4429.05,1384.24 \n  \"/>\n<path clip-path=\"url(#clip982)\" d=\"\nM4473.92 1384.24 L4473.92 1384.24 L4518.8 1384.24 L4518.8 1384.24 L4473.92 1384.24 L4473.92 1384.24  Z\n  \" fill=\"#009af9\" fill-rule=\"evenodd\" fill-opacity=\"1\"/>\n<polyline clip-path=\"url(#clip982)\" style=\"stroke:#000000; stroke-linecap:butt; stroke-linejoin:round; stroke-width:4; stroke-opacity:1; fill:none\" points=\"\n  4473.92,1384.24 4473.92,1384.24 4518.8,1384.24 4473.92,1384.24 \n  \"/>\n<path clip-path=\"url(#clip982)\" d=\"\nM4518.8 1384.24 L4518.8 1384.24 L4563.68 1384.24 L4563.68 1384.24 L4518.8 1384.24 L4518.8 1384.24  Z\n  \" fill=\"#009af9\" fill-rule=\"evenodd\" fill-opacity=\"1\"/>\n<polyline clip-path=\"url(#clip982)\" style=\"stroke:#000000; stroke-linecap:butt; stroke-linejoin:round; stroke-width:4; stroke-opacity:1; fill:none\" points=\"\n  4518.8,1384.24 4518.8,1384.24 4563.68,1384.24 4518.8,1384.24 \n  \"/>\n<path clip-path=\"url(#clip982)\" d=\"\nM4563.68 1384.24 L4563.68 1384.24 L4608.55 1384.24 L4608.55 1384.24 L4563.68 1384.24 L4563.68 1384.24  Z\n  \" fill=\"#009af9\" fill-rule=\"evenodd\" fill-opacity=\"1\"/>\n<polyline clip-path=\"url(#clip982)\" style=\"stroke:#000000; stroke-linecap:butt; stroke-linejoin:round; stroke-width:4; stroke-opacity:1; fill:none\" points=\"\n  4563.68,1384.24 4563.68,1384.24 4608.55,1384.24 4563.68,1384.24 \n  \"/>\n<path clip-path=\"url(#clip982)\" d=\"\nM4608.55 1167.9 L4608.55 1384.24 L4653.43 1384.24 L4653.43 1167.9 L4608.55 1167.9 L4608.55 1167.9  Z\n  \" fill=\"#009af9\" fill-rule=\"evenodd\" fill-opacity=\"1\"/>\n<polyline clip-path=\"url(#clip982)\" style=\"stroke:#000000; stroke-linecap:butt; stroke-linejoin:round; stroke-width:4; stroke-opacity:1; fill:none\" points=\"\n  4608.55,1167.9 4608.55,1384.24 4653.43,1384.24 4653.43,1167.9 4608.55,1167.9 \n  \"/>\n<path clip-path=\"url(#clip982)\" d=\"\nM4653.43 1384.24 L4653.43 1384.24 L4698.31 1384.24 L4698.31 1384.24 L4653.43 1384.24 L4653.43 1384.24  Z\n  \" fill=\"#009af9\" fill-rule=\"evenodd\" fill-opacity=\"1\"/>\n<polyline clip-path=\"url(#clip982)\" style=\"stroke:#000000; stroke-linecap:butt; stroke-linejoin:round; stroke-width:4; stroke-opacity:1; fill:none\" points=\"\n  4653.43,1384.24 4653.43,1384.24 4698.31,1384.24 4653.43,1384.24 \n  \"/>\n<path clip-path=\"url(#clip982)\" d=\"\nM4698.31 1384.24 L4698.31 1384.24 L4743.18 1384.24 L4743.18 1384.24 L4698.31 1384.24 L4698.31 1384.24  Z\n  \" fill=\"#009af9\" fill-rule=\"evenodd\" fill-opacity=\"1\"/>\n<polyline clip-path=\"url(#clip982)\" style=\"stroke:#000000; stroke-linecap:butt; stroke-linejoin:round; stroke-width:4; stroke-opacity:1; fill:none\" points=\"\n  4698.31,1384.24 4698.31,1384.24 4743.18,1384.24 4698.31,1384.24 \n  \"/>\n<path clip-path=\"url(#clip982)\" d=\"\nM4743.18 1384.24 L4743.18 1384.24 L4788.06 1384.24 L4788.06 1384.24 L4743.18 1384.24 L4743.18 1384.24  Z\n  \" fill=\"#009af9\" fill-rule=\"evenodd\" fill-opacity=\"1\"/>\n<polyline clip-path=\"url(#clip982)\" style=\"stroke:#000000; stroke-linecap:butt; stroke-linejoin:round; stroke-width:4; stroke-opacity:1; fill:none\" points=\"\n  4743.18,1384.24 4743.18,1384.24 4788.06,1384.24 4743.18,1384.24 \n  \"/>\n<path clip-path=\"url(#clip982)\" d=\"\nM4788.06 1384.24 L4788.06 1384.24 L4832.94 1384.24 L4832.94 1384.24 L4788.06 1384.24 L4788.06 1384.24  Z\n  \" fill=\"#009af9\" fill-rule=\"evenodd\" fill-opacity=\"1\"/>\n<polyline clip-path=\"url(#clip982)\" style=\"stroke:#000000; stroke-linecap:butt; stroke-linejoin:round; stroke-width:4; stroke-opacity:1; fill:none\" points=\"\n  4788.06,1384.24 4788.06,1384.24 4832.94,1384.24 4788.06,1384.24 \n  \"/>\n<path clip-path=\"url(#clip982)\" d=\"\nM4832.94 1384.24 L4832.94 1384.24 L4877.81 1384.24 L4877.81 1384.24 L4832.94 1384.24 L4832.94 1384.24  Z\n  \" fill=\"#009af9\" fill-rule=\"evenodd\" fill-opacity=\"1\"/>\n<polyline clip-path=\"url(#clip982)\" style=\"stroke:#000000; stroke-linecap:butt; stroke-linejoin:round; stroke-width:4; stroke-opacity:1; fill:none\" points=\"\n  4832.94,1384.24 4832.94,1384.24 4877.81,1384.24 4832.94,1384.24 \n  \"/>\n<path clip-path=\"url(#clip982)\" d=\"\nM4877.81 1240.01 L4877.81 1384.24 L4922.69 1384.24 L4922.69 1240.01 L4877.81 1240.01 L4877.81 1240.01  Z\n  \" fill=\"#009af9\" fill-rule=\"evenodd\" fill-opacity=\"1\"/>\n<polyline clip-path=\"url(#clip982)\" style=\"stroke:#000000; stroke-linecap:butt; stroke-linejoin:round; stroke-width:4; stroke-opacity:1; fill:none\" points=\"\n  4877.81,1240.01 4877.81,1384.24 4922.69,1384.24 4922.69,1240.01 4877.81,1240.01 \n  \"/>\n<path clip-path=\"url(#clip982)\" d=\"\nM4922.69 1384.24 L4922.69 1384.24 L4967.57 1384.24 L4967.57 1384.24 L4922.69 1384.24 L4922.69 1384.24  Z\n  \" fill=\"#009af9\" fill-rule=\"evenodd\" fill-opacity=\"1\"/>\n<polyline clip-path=\"url(#clip982)\" style=\"stroke:#000000; stroke-linecap:butt; stroke-linejoin:round; stroke-width:4; stroke-opacity:1; fill:none\" points=\"\n  4922.69,1384.24 4922.69,1384.24 4967.57,1384.24 4922.69,1384.24 \n  \"/>\n<path clip-path=\"url(#clip982)\" d=\"\nM4967.57 1312.12 L4967.57 1384.24 L5012.44 1384.24 L5012.44 1312.12 L4967.57 1312.12 L4967.57 1312.12  Z\n  \" fill=\"#009af9\" fill-rule=\"evenodd\" fill-opacity=\"1\"/>\n<polyline clip-path=\"url(#clip982)\" style=\"stroke:#000000; stroke-linecap:butt; stroke-linejoin:round; stroke-width:4; stroke-opacity:1; fill:none\" points=\"\n  4967.57,1312.12 4967.57,1384.24 5012.44,1384.24 5012.44,1312.12 4967.57,1312.12 \n  \"/>\n<path clip-path=\"url(#clip982)\" d=\"\nM5012.44 1312.12 L5012.44 1384.24 L5057.32 1384.24 L5057.32 1312.12 L5012.44 1312.12 L5012.44 1312.12  Z\n  \" fill=\"#009af9\" fill-rule=\"evenodd\" fill-opacity=\"1\"/>\n<polyline clip-path=\"url(#clip982)\" style=\"stroke:#000000; stroke-linecap:butt; stroke-linejoin:round; stroke-width:4; stroke-opacity:1; fill:none\" points=\"\n  5012.44,1312.12 5012.44,1384.24 5057.32,1384.24 5057.32,1312.12 5012.44,1312.12 \n  \"/>\n<path clip-path=\"url(#clip982)\" d=\"\nM5057.32 1312.12 L5057.32 1384.24 L5102.2 1384.24 L5102.2 1312.12 L5057.32 1312.12 L5057.32 1312.12  Z\n  \" fill=\"#009af9\" fill-rule=\"evenodd\" fill-opacity=\"1\"/>\n<polyline clip-path=\"url(#clip982)\" style=\"stroke:#000000; stroke-linecap:butt; stroke-linejoin:round; stroke-width:4; stroke-opacity:1; fill:none\" points=\"\n  5057.32,1312.12 5057.32,1384.24 5102.2,1384.24 5102.2,1312.12 5057.32,1312.12 \n  \"/>\n<path clip-path=\"url(#clip982)\" d=\"\nM5102.2 1384.24 L5102.2 1384.24 L5147.07 1384.24 L5147.07 1384.24 L5102.2 1384.24 L5102.2 1384.24  Z\n  \" fill=\"#009af9\" fill-rule=\"evenodd\" fill-opacity=\"1\"/>\n<polyline clip-path=\"url(#clip982)\" style=\"stroke:#000000; stroke-linecap:butt; stroke-linejoin:round; stroke-width:4; stroke-opacity:1; fill:none\" points=\"\n  5102.2,1384.24 5102.2,1384.24 5147.07,1384.24 5102.2,1384.24 \n  \"/>\n<path clip-path=\"url(#clip982)\" d=\"\nM5147.07 1240.01 L5147.07 1384.24 L5191.95 1384.24 L5191.95 1240.01 L5147.07 1240.01 L5147.07 1240.01  Z\n  \" fill=\"#009af9\" fill-rule=\"evenodd\" fill-opacity=\"1\"/>\n<polyline clip-path=\"url(#clip982)\" style=\"stroke:#000000; stroke-linecap:butt; stroke-linejoin:round; stroke-width:4; stroke-opacity:1; fill:none\" points=\"\n  5147.07,1240.01 5147.07,1384.24 5191.95,1384.24 5191.95,1240.01 5147.07,1240.01 \n  \"/>\n<path clip-path=\"url(#clip982)\" d=\"\nM5191.95 1384.24 L5191.95 1384.24 L5236.83 1384.24 L5236.83 1384.24 L5191.95 1384.24 L5191.95 1384.24  Z\n  \" fill=\"#009af9\" fill-rule=\"evenodd\" fill-opacity=\"1\"/>\n<polyline clip-path=\"url(#clip982)\" style=\"stroke:#000000; stroke-linecap:butt; stroke-linejoin:round; stroke-width:4; stroke-opacity:1; fill:none\" points=\"\n  5191.95,1384.24 5191.95,1384.24 5236.83,1384.24 5191.95,1384.24 \n  \"/>\n<path clip-path=\"url(#clip982)\" d=\"\nM5236.83 1384.24 L5236.83 1384.24 L5281.7 1384.24 L5281.7 1384.24 L5236.83 1384.24 L5236.83 1384.24  Z\n  \" fill=\"#009af9\" fill-rule=\"evenodd\" fill-opacity=\"1\"/>\n<polyline clip-path=\"url(#clip982)\" style=\"stroke:#000000; stroke-linecap:butt; stroke-linejoin:round; stroke-width:4; stroke-opacity:1; fill:none\" points=\"\n  5236.83,1384.24 5236.83,1384.24 5281.7,1384.24 5236.83,1384.24 \n  \"/>\n<path clip-path=\"url(#clip982)\" d=\"\nM5281.7 1384.24 L5281.7 1384.24 L5326.58 1384.24 L5326.58 1384.24 L5281.7 1384.24 L5281.7 1384.24  Z\n  \" fill=\"#009af9\" fill-rule=\"evenodd\" fill-opacity=\"1\"/>\n<polyline clip-path=\"url(#clip982)\" style=\"stroke:#000000; stroke-linecap:butt; stroke-linejoin:round; stroke-width:4; stroke-opacity:1; fill:none\" points=\"\n  5281.7,1384.24 5281.7,1384.24 5326.58,1384.24 5281.7,1384.24 \n  \"/>\n<path clip-path=\"url(#clip982)\" d=\"\nM5326.58 1384.24 L5326.58 1384.24 L5371.45 1384.24 L5371.45 1384.24 L5326.58 1384.24 L5326.58 1384.24  Z\n  \" fill=\"#009af9\" fill-rule=\"evenodd\" fill-opacity=\"1\"/>\n<polyline clip-path=\"url(#clip982)\" style=\"stroke:#000000; stroke-linecap:butt; stroke-linejoin:round; stroke-width:4; stroke-opacity:1; fill:none\" points=\"\n  5326.58,1384.24 5326.58,1384.24 5371.45,1384.24 5326.58,1384.24 \n  \"/>\n<path clip-path=\"url(#clip982)\" d=\"\nM5371.45 1384.24 L5371.45 1384.24 L5416.33 1384.24 L5416.33 1384.24 L5371.45 1384.24 L5371.45 1384.24  Z\n  \" fill=\"#009af9\" fill-rule=\"evenodd\" fill-opacity=\"1\"/>\n<polyline clip-path=\"url(#clip982)\" style=\"stroke:#000000; stroke-linecap:butt; stroke-linejoin:round; stroke-width:4; stroke-opacity:1; fill:none\" points=\"\n  5371.45,1384.24 5371.45,1384.24 5416.33,1384.24 5371.45,1384.24 \n  \"/>\n<path clip-path=\"url(#clip982)\" d=\"\nM5416.33 1384.24 L5416.33 1384.24 L5461.21 1384.24 L5461.21 1384.24 L5416.33 1384.24 L5416.33 1384.24  Z\n  \" fill=\"#009af9\" fill-rule=\"evenodd\" fill-opacity=\"1\"/>\n<polyline clip-path=\"url(#clip982)\" style=\"stroke:#000000; stroke-linecap:butt; stroke-linejoin:round; stroke-width:4; stroke-opacity:1; fill:none\" points=\"\n  5416.33,1384.24 5416.33,1384.24 5461.21,1384.24 5416.33,1384.24 \n  \"/>\n<path clip-path=\"url(#clip982)\" d=\"\nM5461.21 1312.12 L5461.21 1384.24 L5506.08 1384.24 L5506.08 1312.12 L5461.21 1312.12 L5461.21 1312.12  Z\n  \" fill=\"#009af9\" fill-rule=\"evenodd\" fill-opacity=\"1\"/>\n<polyline clip-path=\"url(#clip982)\" style=\"stroke:#000000; stroke-linecap:butt; stroke-linejoin:round; stroke-width:4; stroke-opacity:1; fill:none\" points=\"\n  5461.21,1312.12 5461.21,1384.24 5506.08,1384.24 5506.08,1312.12 5461.21,1312.12 \n  \"/>\n<path clip-path=\"url(#clip982)\" d=\"\nM5506.08 1384.24 L5506.08 1384.24 L5550.96 1384.24 L5550.96 1384.24 L5506.08 1384.24 L5506.08 1384.24  Z\n  \" fill=\"#009af9\" fill-rule=\"evenodd\" fill-opacity=\"1\"/>\n<polyline clip-path=\"url(#clip982)\" style=\"stroke:#000000; stroke-linecap:butt; stroke-linejoin:round; stroke-width:4; stroke-opacity:1; fill:none\" points=\"\n  5506.08,1384.24 5506.08,1384.24 5550.96,1384.24 5506.08,1384.24 \n  \"/>\n<path clip-path=\"url(#clip982)\" d=\"\nM5550.96 1312.12 L5550.96 1384.24 L5595.84 1384.24 L5595.84 1312.12 L5550.96 1312.12 L5550.96 1312.12  Z\n  \" fill=\"#009af9\" fill-rule=\"evenodd\" fill-opacity=\"1\"/>\n<polyline clip-path=\"url(#clip982)\" style=\"stroke:#000000; stroke-linecap:butt; stroke-linejoin:round; stroke-width:4; stroke-opacity:1; fill:none\" points=\"\n  5550.96,1312.12 5550.96,1384.24 5595.84,1384.24 5595.84,1312.12 5550.96,1312.12 \n  \"/>\n<path clip-path=\"url(#clip982)\" d=\"\nM5595.84 1384.24 L5595.84 1384.24 L5640.71 1384.24 L5640.71 1384.24 L5595.84 1384.24 L5595.84 1384.24  Z\n  \" fill=\"#009af9\" fill-rule=\"evenodd\" fill-opacity=\"1\"/>\n<polyline clip-path=\"url(#clip982)\" style=\"stroke:#000000; stroke-linecap:butt; stroke-linejoin:round; stroke-width:4; stroke-opacity:1; fill:none\" points=\"\n  5595.84,1384.24 5595.84,1384.24 5640.71,1384.24 5595.84,1384.24 \n  \"/>\n<path clip-path=\"url(#clip982)\" d=\"\nM5640.71 1384.24 L5640.71 1384.24 L5685.59 1384.24 L5685.59 1384.24 L5640.71 1384.24 L5640.71 1384.24  Z\n  \" fill=\"#009af9\" fill-rule=\"evenodd\" fill-opacity=\"1\"/>\n<polyline clip-path=\"url(#clip982)\" style=\"stroke:#000000; stroke-linecap:butt; stroke-linejoin:round; stroke-width:4; stroke-opacity:1; fill:none\" points=\"\n  5640.71,1384.24 5640.71,1384.24 5685.59,1384.24 5640.71,1384.24 \n  \"/>\n<path clip-path=\"url(#clip982)\" d=\"\nM5685.59 1312.12 L5685.59 1384.24 L5730.47 1384.24 L5730.47 1312.12 L5685.59 1312.12 L5685.59 1312.12  Z\n  \" fill=\"#009af9\" fill-rule=\"evenodd\" fill-opacity=\"1\"/>\n<polyline clip-path=\"url(#clip982)\" style=\"stroke:#000000; stroke-linecap:butt; stroke-linejoin:round; stroke-width:4; stroke-opacity:1; fill:none\" points=\"\n  5685.59,1312.12 5685.59,1384.24 5730.47,1384.24 5730.47,1312.12 5685.59,1312.12 \n  \"/>\n<path clip-path=\"url(#clip982)\" d=\"\nM5730.47 1312.12 L5730.47 1384.24 L5775.34 1384.24 L5775.34 1312.12 L5730.47 1312.12 L5730.47 1312.12  Z\n  \" fill=\"#009af9\" fill-rule=\"evenodd\" fill-opacity=\"1\"/>\n<polyline clip-path=\"url(#clip982)\" style=\"stroke:#000000; stroke-linecap:butt; stroke-linejoin:round; stroke-width:4; stroke-opacity:1; fill:none\" points=\"\n  5730.47,1312.12 5730.47,1384.24 5775.34,1384.24 5775.34,1312.12 5730.47,1312.12 \n  \"/>\n<path clip-path=\"url(#clip982)\" d=\"\nM5775.34 1167.9 L5775.34 1384.24 L5820.22 1384.24 L5820.22 1167.9 L5775.34 1167.9 L5775.34 1167.9  Z\n  \" fill=\"#009af9\" fill-rule=\"evenodd\" fill-opacity=\"1\"/>\n<polyline clip-path=\"url(#clip982)\" style=\"stroke:#000000; stroke-linecap:butt; stroke-linejoin:round; stroke-width:4; stroke-opacity:1; fill:none\" points=\"\n  5775.34,1167.9 5775.34,1384.24 5820.22,1384.24 5820.22,1167.9 5775.34,1167.9 \n  \"/>\n<path clip-path=\"url(#clip982)\" d=\"\nM5820.22 1384.24 L5820.22 1384.24 L5865.1 1384.24 L5865.1 1384.24 L5820.22 1384.24 L5820.22 1384.24  Z\n  \" fill=\"#009af9\" fill-rule=\"evenodd\" fill-opacity=\"1\"/>\n<polyline clip-path=\"url(#clip982)\" style=\"stroke:#000000; stroke-linecap:butt; stroke-linejoin:round; stroke-width:4; stroke-opacity:1; fill:none\" points=\"\n  5820.22,1384.24 5820.22,1384.24 5865.1,1384.24 5820.22,1384.24 \n  \"/>\n<path clip-path=\"url(#clip982)\" d=\"\nM5865.1 1240.01 L5865.1 1384.24 L5909.97 1384.24 L5909.97 1240.01 L5865.1 1240.01 L5865.1 1240.01  Z\n  \" fill=\"#009af9\" fill-rule=\"evenodd\" fill-opacity=\"1\"/>\n<polyline clip-path=\"url(#clip982)\" style=\"stroke:#000000; stroke-linecap:butt; stroke-linejoin:round; stroke-width:4; stroke-opacity:1; fill:none\" points=\"\n  5865.1,1240.01 5865.1,1384.24 5909.97,1384.24 5909.97,1240.01 5865.1,1240.01 \n  \"/>\n<path clip-path=\"url(#clip982)\" d=\"\nM5909.97 1384.24 L5909.97 1384.24 L5954.85 1384.24 L5954.85 1384.24 L5909.97 1384.24 L5909.97 1384.24  Z\n  \" fill=\"#009af9\" fill-rule=\"evenodd\" fill-opacity=\"1\"/>\n<polyline clip-path=\"url(#clip982)\" style=\"stroke:#000000; stroke-linecap:butt; stroke-linejoin:round; stroke-width:4; stroke-opacity:1; fill:none\" points=\"\n  5909.97,1384.24 5909.97,1384.24 5954.85,1384.24 5909.97,1384.24 \n  \"/>\n<path clip-path=\"url(#clip982)\" d=\"\nM5954.85 1312.12 L5954.85 1384.24 L5999.73 1384.24 L5999.73 1312.12 L5954.85 1312.12 L5954.85 1312.12  Z\n  \" fill=\"#009af9\" fill-rule=\"evenodd\" fill-opacity=\"1\"/>\n<polyline clip-path=\"url(#clip982)\" style=\"stroke:#000000; stroke-linecap:butt; stroke-linejoin:round; stroke-width:4; stroke-opacity:1; fill:none\" points=\"\n  5954.85,1312.12 5954.85,1384.24 5999.73,1384.24 5999.73,1312.12 5954.85,1312.12 \n  \"/>\n<path clip-path=\"url(#clip982)\" d=\"\nM5999.73 1384.24 L5999.73 1384.24 L6044.6 1384.24 L6044.6 1384.24 L5999.73 1384.24 L5999.73 1384.24  Z\n  \" fill=\"#009af9\" fill-rule=\"evenodd\" fill-opacity=\"1\"/>\n<polyline clip-path=\"url(#clip982)\" style=\"stroke:#000000; stroke-linecap:butt; stroke-linejoin:round; stroke-width:4; stroke-opacity:1; fill:none\" points=\"\n  5999.73,1384.24 5999.73,1384.24 6044.6,1384.24 5999.73,1384.24 \n  \"/>\n<path clip-path=\"url(#clip982)\" d=\"\nM6044.6 1384.24 L6044.6 1384.24 L6089.48 1384.24 L6089.48 1384.24 L6044.6 1384.24 L6044.6 1384.24  Z\n  \" fill=\"#009af9\" fill-rule=\"evenodd\" fill-opacity=\"1\"/>\n<polyline clip-path=\"url(#clip982)\" style=\"stroke:#000000; stroke-linecap:butt; stroke-linejoin:round; stroke-width:4; stroke-opacity:1; fill:none\" points=\"\n  6044.6,1384.24 6044.6,1384.24 6089.48,1384.24 6044.6,1384.24 \n  \"/>\n<path clip-path=\"url(#clip982)\" d=\"\nM6089.48 1312.12 L6089.48 1384.24 L6134.36 1384.24 L6134.36 1312.12 L6089.48 1312.12 L6089.48 1312.12  Z\n  \" fill=\"#009af9\" fill-rule=\"evenodd\" fill-opacity=\"1\"/>\n<polyline clip-path=\"url(#clip982)\" style=\"stroke:#000000; stroke-linecap:butt; stroke-linejoin:round; stroke-width:4; stroke-opacity:1; fill:none\" points=\"\n  6089.48,1312.12 6089.48,1384.24 6134.36,1384.24 6134.36,1312.12 6089.48,1312.12 \n  \"/>\n<path clip-path=\"url(#clip982)\" d=\"\nM6134.36 1384.24 L6134.36 1384.24 L6179.23 1384.24 L6179.23 1384.24 L6134.36 1384.24 L6134.36 1384.24  Z\n  \" fill=\"#009af9\" fill-rule=\"evenodd\" fill-opacity=\"1\"/>\n<polyline clip-path=\"url(#clip982)\" style=\"stroke:#000000; stroke-linecap:butt; stroke-linejoin:round; stroke-width:4; stroke-opacity:1; fill:none\" points=\"\n  6134.36,1384.24 6134.36,1384.24 6179.23,1384.24 6134.36,1384.24 \n  \"/>\n<path clip-path=\"url(#clip982)\" d=\"\nM6179.23 1384.24 L6179.23 1384.24 L6224.11 1384.24 L6224.11 1384.24 L6179.23 1384.24 L6179.23 1384.24  Z\n  \" fill=\"#009af9\" fill-rule=\"evenodd\" fill-opacity=\"1\"/>\n<polyline clip-path=\"url(#clip982)\" style=\"stroke:#000000; stroke-linecap:butt; stroke-linejoin:round; stroke-width:4; stroke-opacity:1; fill:none\" points=\"\n  6179.23,1384.24 6179.23,1384.24 6224.11,1384.24 6179.23,1384.24 \n  \"/>\n<path clip-path=\"url(#clip982)\" d=\"\nM6224.11 1384.24 L6224.11 1384.24 L6268.98 1384.24 L6268.98 1384.24 L6224.11 1384.24 L6224.11 1384.24  Z\n  \" fill=\"#009af9\" fill-rule=\"evenodd\" fill-opacity=\"1\"/>\n<polyline clip-path=\"url(#clip982)\" style=\"stroke:#000000; stroke-linecap:butt; stroke-linejoin:round; stroke-width:4; stroke-opacity:1; fill:none\" points=\"\n  6224.11,1384.24 6224.11,1384.24 6268.98,1384.24 6224.11,1384.24 \n  \"/>\n<path clip-path=\"url(#clip982)\" d=\"\nM6268.98 1384.24 L6268.98 1384.24 L6313.86 1384.24 L6313.86 1384.24 L6268.98 1384.24 L6268.98 1384.24  Z\n  \" fill=\"#009af9\" fill-rule=\"evenodd\" fill-opacity=\"1\"/>\n<polyline clip-path=\"url(#clip982)\" style=\"stroke:#000000; stroke-linecap:butt; stroke-linejoin:round; stroke-width:4; stroke-opacity:1; fill:none\" points=\"\n  6268.98,1384.24 6268.98,1384.24 6313.86,1384.24 6268.98,1384.24 \n  \"/>\n<path clip-path=\"url(#clip982)\" d=\"\nM6313.86 1384.24 L6313.86 1384.24 L6358.74 1384.24 L6358.74 1384.24 L6313.86 1384.24 L6313.86 1384.24  Z\n  \" fill=\"#009af9\" fill-rule=\"evenodd\" fill-opacity=\"1\"/>\n<polyline clip-path=\"url(#clip982)\" style=\"stroke:#000000; stroke-linecap:butt; stroke-linejoin:round; stroke-width:4; stroke-opacity:1; fill:none\" points=\"\n  6313.86,1384.24 6313.86,1384.24 6358.74,1384.24 6313.86,1384.24 \n  \"/>\n<path clip-path=\"url(#clip982)\" d=\"\nM6358.74 1240.01 L6358.74 1384.24 L6403.61 1384.24 L6403.61 1240.01 L6358.74 1240.01 L6358.74 1240.01  Z\n  \" fill=\"#009af9\" fill-rule=\"evenodd\" fill-opacity=\"1\"/>\n<polyline clip-path=\"url(#clip982)\" style=\"stroke:#000000; stroke-linecap:butt; stroke-linejoin:round; stroke-width:4; stroke-opacity:1; fill:none\" points=\"\n  6358.74,1240.01 6358.74,1384.24 6403.61,1384.24 6403.61,1240.01 6358.74,1240.01 \n  \"/>\n<path clip-path=\"url(#clip982)\" d=\"\nM6403.61 1312.12 L6403.61 1384.24 L6448.49 1384.24 L6448.49 1312.12 L6403.61 1312.12 L6403.61 1312.12  Z\n  \" fill=\"#009af9\" fill-rule=\"evenodd\" fill-opacity=\"1\"/>\n<polyline clip-path=\"url(#clip982)\" style=\"stroke:#000000; stroke-linecap:butt; stroke-linejoin:round; stroke-width:4; stroke-opacity:1; fill:none\" points=\"\n  6403.61,1312.12 6403.61,1384.24 6448.49,1384.24 6448.49,1312.12 6403.61,1312.12 \n  \"/>\n<path clip-path=\"url(#clip982)\" d=\"\nM6448.49 1312.12 L6448.49 1384.24 L6493.37 1384.24 L6493.37 1312.12 L6448.49 1312.12 L6448.49 1312.12  Z\n  \" fill=\"#009af9\" fill-rule=\"evenodd\" fill-opacity=\"1\"/>\n<polyline clip-path=\"url(#clip982)\" style=\"stroke:#000000; stroke-linecap:butt; stroke-linejoin:round; stroke-width:4; stroke-opacity:1; fill:none\" points=\"\n  6448.49,1312.12 6448.49,1384.24 6493.37,1384.24 6493.37,1312.12 6448.49,1312.12 \n  \"/>\n<path clip-path=\"url(#clip982)\" d=\"\nM6493.37 1312.12 L6493.37 1384.24 L6538.24 1384.24 L6538.24 1312.12 L6493.37 1312.12 L6493.37 1312.12  Z\n  \" fill=\"#009af9\" fill-rule=\"evenodd\" fill-opacity=\"1\"/>\n<polyline clip-path=\"url(#clip982)\" style=\"stroke:#000000; stroke-linecap:butt; stroke-linejoin:round; stroke-width:4; stroke-opacity:1; fill:none\" points=\"\n  6493.37,1312.12 6493.37,1384.24 6538.24,1384.24 6538.24,1312.12 6493.37,1312.12 \n  \"/>\n<path clip-path=\"url(#clip982)\" d=\"\nM6538.24 1384.24 L6538.24 1384.24 L6583.12 1384.24 L6583.12 1384.24 L6538.24 1384.24 L6538.24 1384.24  Z\n  \" fill=\"#009af9\" fill-rule=\"evenodd\" fill-opacity=\"1\"/>\n<polyline clip-path=\"url(#clip982)\" style=\"stroke:#000000; stroke-linecap:butt; stroke-linejoin:round; stroke-width:4; stroke-opacity:1; fill:none\" points=\"\n  6538.24,1384.24 6538.24,1384.24 6583.12,1384.24 6538.24,1384.24 \n  \"/>\n<path clip-path=\"url(#clip982)\" d=\"\nM6583.12 1384.24 L6583.12 1384.24 L6628 1384.24 L6628 1384.24 L6583.12 1384.24 L6583.12 1384.24  Z\n  \" fill=\"#009af9\" fill-rule=\"evenodd\" fill-opacity=\"1\"/>\n<polyline clip-path=\"url(#clip982)\" style=\"stroke:#000000; stroke-linecap:butt; stroke-linejoin:round; stroke-width:4; stroke-opacity:1; fill:none\" points=\"\n  6583.12,1384.24 6583.12,1384.24 6628,1384.24 6583.12,1384.24 \n  \"/>\n<path clip-path=\"url(#clip982)\" d=\"\nM6628 1384.24 L6628 1384.24 L6672.87 1384.24 L6672.87 1384.24 L6628 1384.24 L6628 1384.24  Z\n  \" fill=\"#009af9\" fill-rule=\"evenodd\" fill-opacity=\"1\"/>\n<polyline clip-path=\"url(#clip982)\" style=\"stroke:#000000; stroke-linecap:butt; stroke-linejoin:round; stroke-width:4; stroke-opacity:1; fill:none\" points=\"\n  6628,1384.24 6628,1384.24 6672.87,1384.24 6628,1384.24 \n  \"/>\n<path clip-path=\"url(#clip982)\" d=\"\nM6672.87 1312.12 L6672.87 1384.24 L6717.75 1384.24 L6717.75 1312.12 L6672.87 1312.12 L6672.87 1312.12  Z\n  \" fill=\"#009af9\" fill-rule=\"evenodd\" fill-opacity=\"1\"/>\n<polyline clip-path=\"url(#clip982)\" style=\"stroke:#000000; stroke-linecap:butt; stroke-linejoin:round; stroke-width:4; stroke-opacity:1; fill:none\" points=\"\n  6672.87,1312.12 6672.87,1384.24 6717.75,1384.24 6717.75,1312.12 6672.87,1312.12 \n  \"/>\n<path clip-path=\"url(#clip982)\" d=\"\nM6717.75 1384.24 L6717.75 1384.24 L6762.63 1384.24 L6762.63 1384.24 L6717.75 1384.24 L6717.75 1384.24  Z\n  \" fill=\"#009af9\" fill-rule=\"evenodd\" fill-opacity=\"1\"/>\n<polyline clip-path=\"url(#clip982)\" style=\"stroke:#000000; stroke-linecap:butt; stroke-linejoin:round; stroke-width:4; stroke-opacity:1; fill:none\" points=\"\n  6717.75,1384.24 6717.75,1384.24 6762.63,1384.24 6717.75,1384.24 \n  \"/>\n<path clip-path=\"url(#clip982)\" d=\"\nM6762.63 1312.12 L6762.63 1384.24 L6807.5 1384.24 L6807.5 1312.12 L6762.63 1312.12 L6762.63 1312.12  Z\n  \" fill=\"#009af9\" fill-rule=\"evenodd\" fill-opacity=\"1\"/>\n<polyline clip-path=\"url(#clip982)\" style=\"stroke:#000000; stroke-linecap:butt; stroke-linejoin:round; stroke-width:4; stroke-opacity:1; fill:none\" points=\"\n  6762.63,1312.12 6762.63,1384.24 6807.5,1384.24 6807.5,1312.12 6762.63,1312.12 \n  \"/>\n<path clip-path=\"url(#clip982)\" d=\"\nM6807.5 1384.24 L6807.5 1384.24 L6852.38 1384.24 L6852.38 1384.24 L6807.5 1384.24 L6807.5 1384.24  Z\n  \" fill=\"#009af9\" fill-rule=\"evenodd\" fill-opacity=\"1\"/>\n<polyline clip-path=\"url(#clip982)\" style=\"stroke:#000000; stroke-linecap:butt; stroke-linejoin:round; stroke-width:4; stroke-opacity:1; fill:none\" points=\"\n  6807.5,1384.24 6807.5,1384.24 6852.38,1384.24 6807.5,1384.24 \n  \"/>\n<path clip-path=\"url(#clip982)\" d=\"\nM6852.38 1312.12 L6852.38 1384.24 L6897.26 1384.24 L6897.26 1312.12 L6852.38 1312.12 L6852.38 1312.12  Z\n  \" fill=\"#009af9\" fill-rule=\"evenodd\" fill-opacity=\"1\"/>\n<polyline clip-path=\"url(#clip982)\" style=\"stroke:#000000; stroke-linecap:butt; stroke-linejoin:round; stroke-width:4; stroke-opacity:1; fill:none\" points=\"\n  6852.38,1312.12 6852.38,1384.24 6897.26,1384.24 6897.26,1312.12 6852.38,1312.12 \n  \"/>\n<path clip-path=\"url(#clip982)\" d=\"\nM6897.26 1240.01 L6897.26 1384.24 L6942.13 1384.24 L6942.13 1240.01 L6897.26 1240.01 L6897.26 1240.01  Z\n  \" fill=\"#009af9\" fill-rule=\"evenodd\" fill-opacity=\"1\"/>\n<polyline clip-path=\"url(#clip982)\" style=\"stroke:#000000; stroke-linecap:butt; stroke-linejoin:round; stroke-width:4; stroke-opacity:1; fill:none\" points=\"\n  6897.26,1240.01 6897.26,1384.24 6942.13,1384.24 6942.13,1240.01 6897.26,1240.01 \n  \"/>\n<path clip-path=\"url(#clip982)\" d=\"\nM6942.13 1384.24 L6942.13 1384.24 L6987.01 1384.24 L6987.01 1384.24 L6942.13 1384.24 L6942.13 1384.24  Z\n  \" fill=\"#009af9\" fill-rule=\"evenodd\" fill-opacity=\"1\"/>\n<polyline clip-path=\"url(#clip982)\" style=\"stroke:#000000; stroke-linecap:butt; stroke-linejoin:round; stroke-width:4; stroke-opacity:1; fill:none\" points=\"\n  6942.13,1384.24 6942.13,1384.24 6987.01,1384.24 6942.13,1384.24 \n  \"/>\n<path clip-path=\"url(#clip982)\" d=\"\nM6987.01 1312.12 L6987.01 1384.24 L7031.89 1384.24 L7031.89 1312.12 L6987.01 1312.12 L6987.01 1312.12  Z\n  \" fill=\"#009af9\" fill-rule=\"evenodd\" fill-opacity=\"1\"/>\n<polyline clip-path=\"url(#clip982)\" style=\"stroke:#000000; stroke-linecap:butt; stroke-linejoin:round; stroke-width:4; stroke-opacity:1; fill:none\" points=\"\n  6987.01,1312.12 6987.01,1384.24 7031.89,1384.24 7031.89,1312.12 6987.01,1312.12 \n  \"/>\n<path clip-path=\"url(#clip982)\" d=\"\nM7031.89 1384.24 L7031.89 1384.24 L7076.76 1384.24 L7076.76 1384.24 L7031.89 1384.24 L7031.89 1384.24  Z\n  \" fill=\"#009af9\" fill-rule=\"evenodd\" fill-opacity=\"1\"/>\n<polyline clip-path=\"url(#clip982)\" style=\"stroke:#000000; stroke-linecap:butt; stroke-linejoin:round; stroke-width:4; stroke-opacity:1; fill:none\" points=\"\n  7031.89,1384.24 7031.89,1384.24 7076.76,1384.24 7031.89,1384.24 \n  \"/>\n<path clip-path=\"url(#clip982)\" d=\"\nM7076.76 1384.24 L7076.76 1384.24 L7121.64 1384.24 L7121.64 1384.24 L7076.76 1384.24 L7076.76 1384.24  Z\n  \" fill=\"#009af9\" fill-rule=\"evenodd\" fill-opacity=\"1\"/>\n<polyline clip-path=\"url(#clip982)\" style=\"stroke:#000000; stroke-linecap:butt; stroke-linejoin:round; stroke-width:4; stroke-opacity:1; fill:none\" points=\"\n  7076.76,1384.24 7076.76,1384.24 7121.64,1384.24 7076.76,1384.24 \n  \"/>\n<path clip-path=\"url(#clip982)\" d=\"\nM7121.64 1384.24 L7121.64 1384.24 L7166.51 1384.24 L7166.51 1384.24 L7121.64 1384.24 L7121.64 1384.24  Z\n  \" fill=\"#009af9\" fill-rule=\"evenodd\" fill-opacity=\"1\"/>\n<polyline clip-path=\"url(#clip982)\" style=\"stroke:#000000; stroke-linecap:butt; stroke-linejoin:round; stroke-width:4; stroke-opacity:1; fill:none\" points=\"\n  7121.64,1384.24 7121.64,1384.24 7166.51,1384.24 7121.64,1384.24 \n  \"/>\n<path clip-path=\"url(#clip982)\" d=\"\nM7166.51 1312.12 L7166.51 1384.24 L7211.39 1384.24 L7211.39 1312.12 L7166.51 1312.12 L7166.51 1312.12  Z\n  \" fill=\"#009af9\" fill-rule=\"evenodd\" fill-opacity=\"1\"/>\n<polyline clip-path=\"url(#clip982)\" style=\"stroke:#000000; stroke-linecap:butt; stroke-linejoin:round; stroke-width:4; stroke-opacity:1; fill:none\" points=\"\n  7166.51,1312.12 7166.51,1384.24 7211.39,1384.24 7211.39,1312.12 7166.51,1312.12 \n  \"/>\n<path clip-path=\"url(#clip982)\" d=\"\nM7211.39 1312.12 L7211.39 1384.24 L7256.27 1384.24 L7256.27 1312.12 L7211.39 1312.12 L7211.39 1312.12  Z\n  \" fill=\"#009af9\" fill-rule=\"evenodd\" fill-opacity=\"1\"/>\n<polyline clip-path=\"url(#clip982)\" style=\"stroke:#000000; stroke-linecap:butt; stroke-linejoin:round; stroke-width:4; stroke-opacity:1; fill:none\" points=\"\n  7211.39,1312.12 7211.39,1384.24 7256.27,1384.24 7256.27,1312.12 7211.39,1312.12 \n  \"/>\n<path clip-path=\"url(#clip982)\" d=\"\nM7256.27 1384.24 L7256.27 1384.24 L7301.14 1384.24 L7301.14 1384.24 L7256.27 1384.24 L7256.27 1384.24  Z\n  \" fill=\"#009af9\" fill-rule=\"evenodd\" fill-opacity=\"1\"/>\n<polyline clip-path=\"url(#clip982)\" style=\"stroke:#000000; stroke-linecap:butt; stroke-linejoin:round; stroke-width:4; stroke-opacity:1; fill:none\" points=\"\n  7256.27,1384.24 7256.27,1384.24 7301.14,1384.24 7256.27,1384.24 \n  \"/>\n<path clip-path=\"url(#clip982)\" d=\"\nM7301.14 1384.24 L7301.14 1384.24 L7346.02 1384.24 L7346.02 1384.24 L7301.14 1384.24 L7301.14 1384.24  Z\n  \" fill=\"#009af9\" fill-rule=\"evenodd\" fill-opacity=\"1\"/>\n<polyline clip-path=\"url(#clip982)\" style=\"stroke:#000000; stroke-linecap:butt; stroke-linejoin:round; stroke-width:4; stroke-opacity:1; fill:none\" points=\"\n  7301.14,1384.24 7301.14,1384.24 7346.02,1384.24 7301.14,1384.24 \n  \"/>\n<path clip-path=\"url(#clip982)\" d=\"\nM7346.02 1384.24 L7346.02 1384.24 L7390.9 1384.24 L7390.9 1384.24 L7346.02 1384.24 L7346.02 1384.24  Z\n  \" fill=\"#009af9\" fill-rule=\"evenodd\" fill-opacity=\"1\"/>\n<polyline clip-path=\"url(#clip982)\" style=\"stroke:#000000; stroke-linecap:butt; stroke-linejoin:round; stroke-width:4; stroke-opacity:1; fill:none\" points=\"\n  7346.02,1384.24 7346.02,1384.24 7390.9,1384.24 7346.02,1384.24 \n  \"/>\n<path clip-path=\"url(#clip982)\" d=\"\nM7390.9 1384.24 L7390.9 1384.24 L7435.77 1384.24 L7435.77 1384.24 L7390.9 1384.24 L7390.9 1384.24  Z\n  \" fill=\"#009af9\" fill-rule=\"evenodd\" fill-opacity=\"1\"/>\n<polyline clip-path=\"url(#clip982)\" style=\"stroke:#000000; stroke-linecap:butt; stroke-linejoin:round; stroke-width:4; stroke-opacity:1; fill:none\" points=\"\n  7390.9,1384.24 7390.9,1384.24 7435.77,1384.24 7390.9,1384.24 \n  \"/>\n<path clip-path=\"url(#clip982)\" d=\"\nM7435.77 1312.12 L7435.77 1384.24 L7480.65 1384.24 L7480.65 1312.12 L7435.77 1312.12 L7435.77 1312.12  Z\n  \" fill=\"#009af9\" fill-rule=\"evenodd\" fill-opacity=\"1\"/>\n<polyline clip-path=\"url(#clip982)\" style=\"stroke:#000000; stroke-linecap:butt; stroke-linejoin:round; stroke-width:4; stroke-opacity:1; fill:none\" points=\"\n  7435.77,1312.12 7435.77,1384.24 7480.65,1384.24 7480.65,1312.12 7435.77,1312.12 \n  \"/>\n<path clip-path=\"url(#clip982)\" d=\"\nM7480.65 1384.24 L7480.65 1384.24 L7525.53 1384.24 L7525.53 1384.24 L7480.65 1384.24 L7480.65 1384.24  Z\n  \" fill=\"#009af9\" fill-rule=\"evenodd\" fill-opacity=\"1\"/>\n<polyline clip-path=\"url(#clip982)\" style=\"stroke:#000000; stroke-linecap:butt; stroke-linejoin:round; stroke-width:4; stroke-opacity:1; fill:none\" points=\"\n  7480.65,1384.24 7480.65,1384.24 7525.53,1384.24 7480.65,1384.24 \n  \"/>\n<path clip-path=\"url(#clip982)\" d=\"\nM7525.53 1384.24 L7525.53 1384.24 L7570.4 1384.24 L7570.4 1384.24 L7525.53 1384.24 L7525.53 1384.24  Z\n  \" fill=\"#009af9\" fill-rule=\"evenodd\" fill-opacity=\"1\"/>\n<polyline clip-path=\"url(#clip982)\" style=\"stroke:#000000; stroke-linecap:butt; stroke-linejoin:round; stroke-width:4; stroke-opacity:1; fill:none\" points=\"\n  7525.53,1384.24 7525.53,1384.24 7570.4,1384.24 7525.53,1384.24 \n  \"/>\n<path clip-path=\"url(#clip982)\" d=\"\nM7570.4 1384.24 L7570.4 1384.24 L7615.28 1384.24 L7615.28 1384.24 L7570.4 1384.24 L7570.4 1384.24  Z\n  \" fill=\"#009af9\" fill-rule=\"evenodd\" fill-opacity=\"1\"/>\n<polyline clip-path=\"url(#clip982)\" style=\"stroke:#000000; stroke-linecap:butt; stroke-linejoin:round; stroke-width:4; stroke-opacity:1; fill:none\" points=\"\n  7570.4,1384.24 7570.4,1384.24 7615.28,1384.24 7570.4,1384.24 \n  \"/>\n<path clip-path=\"url(#clip982)\" d=\"\nM7615.28 1384.24 L7615.28 1384.24 L7660.16 1384.24 L7660.16 1384.24 L7615.28 1384.24 L7615.28 1384.24  Z\n  \" fill=\"#009af9\" fill-rule=\"evenodd\" fill-opacity=\"1\"/>\n<polyline clip-path=\"url(#clip982)\" style=\"stroke:#000000; stroke-linecap:butt; stroke-linejoin:round; stroke-width:4; stroke-opacity:1; fill:none\" points=\"\n  7615.28,1384.24 7615.28,1384.24 7660.16,1384.24 7615.28,1384.24 \n  \"/>\n<path clip-path=\"url(#clip982)\" d=\"\nM7660.16 1384.24 L7660.16 1384.24 L7705.03 1384.24 L7705.03 1384.24 L7660.16 1384.24 L7660.16 1384.24  Z\n  \" fill=\"#009af9\" fill-rule=\"evenodd\" fill-opacity=\"1\"/>\n<polyline clip-path=\"url(#clip982)\" style=\"stroke:#000000; stroke-linecap:butt; stroke-linejoin:round; stroke-width:4; stroke-opacity:1; fill:none\" points=\"\n  7660.16,1384.24 7660.16,1384.24 7705.03,1384.24 7660.16,1384.24 \n  \"/>\n<path clip-path=\"url(#clip982)\" d=\"\nM7705.03 1384.24 L7705.03 1384.24 L7749.91 1384.24 L7749.91 1384.24 L7705.03 1384.24 L7705.03 1384.24  Z\n  \" fill=\"#009af9\" fill-rule=\"evenodd\" fill-opacity=\"1\"/>\n<polyline clip-path=\"url(#clip982)\" style=\"stroke:#000000; stroke-linecap:butt; stroke-linejoin:round; stroke-width:4; stroke-opacity:1; fill:none\" points=\"\n  7705.03,1384.24 7705.03,1384.24 7749.91,1384.24 7705.03,1384.24 \n  \"/>\n<path clip-path=\"url(#clip982)\" d=\"\nM7749.91 1384.24 L7749.91 1384.24 L7794.79 1384.24 L7794.79 1384.24 L7749.91 1384.24 L7749.91 1384.24  Z\n  \" fill=\"#009af9\" fill-rule=\"evenodd\" fill-opacity=\"1\"/>\n<polyline clip-path=\"url(#clip982)\" style=\"stroke:#000000; stroke-linecap:butt; stroke-linejoin:round; stroke-width:4; stroke-opacity:1; fill:none\" points=\"\n  7749.91,1384.24 7749.91,1384.24 7794.79,1384.24 7749.91,1384.24 \n  \"/>\n<path clip-path=\"url(#clip982)\" d=\"\nM7794.79 1384.24 L7794.79 1384.24 L7839.66 1384.24 L7839.66 1384.24 L7794.79 1384.24 L7794.79 1384.24  Z\n  \" fill=\"#009af9\" fill-rule=\"evenodd\" fill-opacity=\"1\"/>\n<polyline clip-path=\"url(#clip982)\" style=\"stroke:#000000; stroke-linecap:butt; stroke-linejoin:round; stroke-width:4; stroke-opacity:1; fill:none\" points=\"\n  7794.79,1384.24 7794.79,1384.24 7839.66,1384.24 7794.79,1384.24 \n  \"/>\n<path clip-path=\"url(#clip982)\" d=\"\nM7839.66 1384.24 L7839.66 1384.24 L7884.54 1384.24 L7884.54 1384.24 L7839.66 1384.24 L7839.66 1384.24  Z\n  \" fill=\"#009af9\" fill-rule=\"evenodd\" fill-opacity=\"1\"/>\n<polyline clip-path=\"url(#clip982)\" style=\"stroke:#000000; stroke-linecap:butt; stroke-linejoin:round; stroke-width:4; stroke-opacity:1; fill:none\" points=\"\n  7839.66,1384.24 7839.66,1384.24 7884.54,1384.24 7839.66,1384.24 \n  \"/>\n<path clip-path=\"url(#clip982)\" d=\"\nM7884.54 1384.24 L7884.54 1384.24 L7929.42 1384.24 L7929.42 1384.24 L7884.54 1384.24 L7884.54 1384.24  Z\n  \" fill=\"#009af9\" fill-rule=\"evenodd\" fill-opacity=\"1\"/>\n<polyline clip-path=\"url(#clip982)\" style=\"stroke:#000000; stroke-linecap:butt; stroke-linejoin:round; stroke-width:4; stroke-opacity:1; fill:none\" points=\"\n  7884.54,1384.24 7884.54,1384.24 7929.42,1384.24 7884.54,1384.24 \n  \"/>\n<path clip-path=\"url(#clip982)\" d=\"\nM7929.42 1312.12 L7929.42 1384.24 L7974.29 1384.24 L7974.29 1312.12 L7929.42 1312.12 L7929.42 1312.12  Z\n  \" fill=\"#009af9\" fill-rule=\"evenodd\" fill-opacity=\"1\"/>\n<polyline clip-path=\"url(#clip982)\" style=\"stroke:#000000; stroke-linecap:butt; stroke-linejoin:round; stroke-width:4; stroke-opacity:1; fill:none\" points=\"\n  7929.42,1312.12 7929.42,1384.24 7974.29,1384.24 7974.29,1312.12 7929.42,1312.12 \n  \"/>\n<path clip-path=\"url(#clip982)\" d=\"\nM7974.29 1384.24 L7974.29 1384.24 L8019.17 1384.24 L8019.17 1384.24 L7974.29 1384.24 L7974.29 1384.24  Z\n  \" fill=\"#009af9\" fill-rule=\"evenodd\" fill-opacity=\"1\"/>\n<polyline clip-path=\"url(#clip982)\" style=\"stroke:#000000; stroke-linecap:butt; stroke-linejoin:round; stroke-width:4; stroke-opacity:1; fill:none\" points=\"\n  7974.29,1384.24 7974.29,1384.24 8019.17,1384.24 7974.29,1384.24 \n  \"/>\n<path clip-path=\"url(#clip982)\" d=\"\nM8019.17 1384.24 L8019.17 1384.24 L8064.05 1384.24 L8064.05 1384.24 L8019.17 1384.24 L8019.17 1384.24  Z\n  \" fill=\"#009af9\" fill-rule=\"evenodd\" fill-opacity=\"1\"/>\n<polyline clip-path=\"url(#clip982)\" style=\"stroke:#000000; stroke-linecap:butt; stroke-linejoin:round; stroke-width:4; stroke-opacity:1; fill:none\" points=\"\n  8019.17,1384.24 8019.17,1384.24 8064.05,1384.24 8019.17,1384.24 \n  \"/>\n<path clip-path=\"url(#clip982)\" d=\"\nM8064.05 1384.24 L8064.05 1384.24 L8108.92 1384.24 L8108.92 1384.24 L8064.05 1384.24 L8064.05 1384.24  Z\n  \" fill=\"#009af9\" fill-rule=\"evenodd\" fill-opacity=\"1\"/>\n<polyline clip-path=\"url(#clip982)\" style=\"stroke:#000000; stroke-linecap:butt; stroke-linejoin:round; stroke-width:4; stroke-opacity:1; fill:none\" points=\"\n  8064.05,1384.24 8064.05,1384.24 8108.92,1384.24 8064.05,1384.24 \n  \"/>\n<path clip-path=\"url(#clip982)\" d=\"\nM8108.92 1384.24 L8108.92 1384.24 L8153.8 1384.24 L8153.8 1384.24 L8108.92 1384.24 L8108.92 1384.24  Z\n  \" fill=\"#009af9\" fill-rule=\"evenodd\" fill-opacity=\"1\"/>\n<polyline clip-path=\"url(#clip982)\" style=\"stroke:#000000; stroke-linecap:butt; stroke-linejoin:round; stroke-width:4; stroke-opacity:1; fill:none\" points=\"\n  8108.92,1384.24 8108.92,1384.24 8153.8,1384.24 8108.92,1384.24 \n  \"/>\n<path clip-path=\"url(#clip982)\" d=\"\nM8153.8 1384.24 L8153.8 1384.24 L8198.67 1384.24 L8198.67 1384.24 L8153.8 1384.24 L8153.8 1384.24  Z\n  \" fill=\"#009af9\" fill-rule=\"evenodd\" fill-opacity=\"1\"/>\n<polyline clip-path=\"url(#clip982)\" style=\"stroke:#000000; stroke-linecap:butt; stroke-linejoin:round; stroke-width:4; stroke-opacity:1; fill:none\" points=\"\n  8153.8,1384.24 8153.8,1384.24 8198.67,1384.24 8153.8,1384.24 \n  \"/>\n<path clip-path=\"url(#clip982)\" d=\"\nM8198.67 1312.12 L8198.67 1384.24 L8243.55 1384.24 L8243.55 1312.12 L8198.67 1312.12 L8198.67 1312.12  Z\n  \" fill=\"#009af9\" fill-rule=\"evenodd\" fill-opacity=\"1\"/>\n<polyline clip-path=\"url(#clip982)\" style=\"stroke:#000000; stroke-linecap:butt; stroke-linejoin:round; stroke-width:4; stroke-opacity:1; fill:none\" points=\"\n  8198.67,1312.12 8198.67,1384.24 8243.55,1384.24 8243.55,1312.12 8198.67,1312.12 \n  \"/>\n<path clip-path=\"url(#clip982)\" d=\"\nM8243.55 1312.12 L8243.55 1384.24 L8288.43 1384.24 L8288.43 1312.12 L8243.55 1312.12 L8243.55 1312.12  Z\n  \" fill=\"#009af9\" fill-rule=\"evenodd\" fill-opacity=\"1\"/>\n<polyline clip-path=\"url(#clip982)\" style=\"stroke:#000000; stroke-linecap:butt; stroke-linejoin:round; stroke-width:4; stroke-opacity:1; fill:none\" points=\"\n  8243.55,1312.12 8243.55,1384.24 8288.43,1384.24 8288.43,1312.12 8243.55,1312.12 \n  \"/>\n<path clip-path=\"url(#clip982)\" d=\"\nM8288.43 1384.24 L8288.43 1384.24 L8333.3 1384.24 L8333.3 1384.24 L8288.43 1384.24 L8288.43 1384.24  Z\n  \" fill=\"#009af9\" fill-rule=\"evenodd\" fill-opacity=\"1\"/>\n<polyline clip-path=\"url(#clip982)\" style=\"stroke:#000000; stroke-linecap:butt; stroke-linejoin:round; stroke-width:4; stroke-opacity:1; fill:none\" points=\"\n  8288.43,1384.24 8288.43,1384.24 8333.3,1384.24 8288.43,1384.24 \n  \"/>\n<path clip-path=\"url(#clip982)\" d=\"\nM8333.3 1384.24 L8333.3 1384.24 L8378.18 1384.24 L8378.18 1384.24 L8333.3 1384.24 L8333.3 1384.24  Z\n  \" fill=\"#009af9\" fill-rule=\"evenodd\" fill-opacity=\"1\"/>\n<polyline clip-path=\"url(#clip982)\" style=\"stroke:#000000; stroke-linecap:butt; stroke-linejoin:round; stroke-width:4; stroke-opacity:1; fill:none\" points=\"\n  8333.3,1384.24 8333.3,1384.24 8378.18,1384.24 8333.3,1384.24 \n  \"/>\n<path clip-path=\"url(#clip982)\" d=\"\nM8378.18 1240.01 L8378.18 1384.24 L8423.06 1384.24 L8423.06 1240.01 L8378.18 1240.01 L8378.18 1240.01  Z\n  \" fill=\"#009af9\" fill-rule=\"evenodd\" fill-opacity=\"1\"/>\n<polyline clip-path=\"url(#clip982)\" style=\"stroke:#000000; stroke-linecap:butt; stroke-linejoin:round; stroke-width:4; stroke-opacity:1; fill:none\" points=\"\n  8378.18,1240.01 8378.18,1384.24 8423.06,1384.24 8423.06,1240.01 8378.18,1240.01 \n  \"/>\n<path clip-path=\"url(#clip982)\" d=\"\nM8423.06 1384.24 L8423.06 1384.24 L8467.93 1384.24 L8467.93 1384.24 L8423.06 1384.24 L8423.06 1384.24  Z\n  \" fill=\"#009af9\" fill-rule=\"evenodd\" fill-opacity=\"1\"/>\n<polyline clip-path=\"url(#clip982)\" style=\"stroke:#000000; stroke-linecap:butt; stroke-linejoin:round; stroke-width:4; stroke-opacity:1; fill:none\" points=\"\n  8423.06,1384.24 8423.06,1384.24 8467.93,1384.24 8423.06,1384.24 \n  \"/>\n<path clip-path=\"url(#clip982)\" d=\"\nM8467.93 1384.24 L8467.93 1384.24 L8512.81 1384.24 L8512.81 1384.24 L8467.93 1384.24 L8467.93 1384.24  Z\n  \" fill=\"#009af9\" fill-rule=\"evenodd\" fill-opacity=\"1\"/>\n<polyline clip-path=\"url(#clip982)\" style=\"stroke:#000000; stroke-linecap:butt; stroke-linejoin:round; stroke-width:4; stroke-opacity:1; fill:none\" points=\"\n  8467.93,1384.24 8467.93,1384.24 8512.81,1384.24 8467.93,1384.24 \n  \"/>\n<path clip-path=\"url(#clip982)\" d=\"\nM8512.81 1384.24 L8512.81 1384.24 L8557.69 1384.24 L8557.69 1384.24 L8512.81 1384.24 L8512.81 1384.24  Z\n  \" fill=\"#009af9\" fill-rule=\"evenodd\" fill-opacity=\"1\"/>\n<polyline clip-path=\"url(#clip982)\" style=\"stroke:#000000; stroke-linecap:butt; stroke-linejoin:round; stroke-width:4; stroke-opacity:1; fill:none\" points=\"\n  8512.81,1384.24 8512.81,1384.24 8557.69,1384.24 8512.81,1384.24 \n  \"/>\n<path clip-path=\"url(#clip982)\" d=\"\nM8557.69 1384.24 L8557.69 1384.24 L8602.56 1384.24 L8602.56 1384.24 L8557.69 1384.24 L8557.69 1384.24  Z\n  \" fill=\"#009af9\" fill-rule=\"evenodd\" fill-opacity=\"1\"/>\n<polyline clip-path=\"url(#clip982)\" style=\"stroke:#000000; stroke-linecap:butt; stroke-linejoin:round; stroke-width:4; stroke-opacity:1; fill:none\" points=\"\n  8557.69,1384.24 8557.69,1384.24 8602.56,1384.24 8557.69,1384.24 \n  \"/>\n<path clip-path=\"url(#clip982)\" d=\"\nM8602.56 1384.24 L8602.56 1384.24 L8647.44 1384.24 L8647.44 1384.24 L8602.56 1384.24 L8602.56 1384.24  Z\n  \" fill=\"#009af9\" fill-rule=\"evenodd\" fill-opacity=\"1\"/>\n<polyline clip-path=\"url(#clip982)\" style=\"stroke:#000000; stroke-linecap:butt; stroke-linejoin:round; stroke-width:4; stroke-opacity:1; fill:none\" points=\"\n  8602.56,1384.24 8602.56,1384.24 8647.44,1384.24 8602.56,1384.24 \n  \"/>\n<path clip-path=\"url(#clip982)\" d=\"\nM8647.44 1384.24 L8647.44 1384.24 L8692.32 1384.24 L8692.32 1384.24 L8647.44 1384.24 L8647.44 1384.24  Z\n  \" fill=\"#009af9\" fill-rule=\"evenodd\" fill-opacity=\"1\"/>\n<polyline clip-path=\"url(#clip982)\" style=\"stroke:#000000; stroke-linecap:butt; stroke-linejoin:round; stroke-width:4; stroke-opacity:1; fill:none\" points=\"\n  8647.44,1384.24 8647.44,1384.24 8692.32,1384.24 8647.44,1384.24 \n  \"/>\n<path clip-path=\"url(#clip982)\" d=\"\nM8692.32 1384.24 L8692.32 1384.24 L8737.19 1384.24 L8737.19 1384.24 L8692.32 1384.24 L8692.32 1384.24  Z\n  \" fill=\"#009af9\" fill-rule=\"evenodd\" fill-opacity=\"1\"/>\n<polyline clip-path=\"url(#clip982)\" style=\"stroke:#000000; stroke-linecap:butt; stroke-linejoin:round; stroke-width:4; stroke-opacity:1; fill:none\" points=\"\n  8692.32,1384.24 8692.32,1384.24 8737.19,1384.24 8692.32,1384.24 \n  \"/>\n<path clip-path=\"url(#clip982)\" d=\"\nM8737.19 1384.24 L8737.19 1384.24 L8782.07 1384.24 L8782.07 1384.24 L8737.19 1384.24 L8737.19 1384.24  Z\n  \" fill=\"#009af9\" fill-rule=\"evenodd\" fill-opacity=\"1\"/>\n<polyline clip-path=\"url(#clip982)\" style=\"stroke:#000000; stroke-linecap:butt; stroke-linejoin:round; stroke-width:4; stroke-opacity:1; fill:none\" points=\"\n  8737.19,1384.24 8737.19,1384.24 8782.07,1384.24 8737.19,1384.24 \n  \"/>\n<path clip-path=\"url(#clip982)\" d=\"\nM8782.07 1384.24 L8782.07 1384.24 L8826.95 1384.24 L8826.95 1384.24 L8782.07 1384.24 L8782.07 1384.24  Z\n  \" fill=\"#009af9\" fill-rule=\"evenodd\" fill-opacity=\"1\"/>\n<polyline clip-path=\"url(#clip982)\" style=\"stroke:#000000; stroke-linecap:butt; stroke-linejoin:round; stroke-width:4; stroke-opacity:1; fill:none\" points=\"\n  8782.07,1384.24 8782.07,1384.24 8826.95,1384.24 8782.07,1384.24 \n  \"/>\n<path clip-path=\"url(#clip982)\" d=\"\nM8826.95 1384.24 L8826.95 1384.24 L8871.82 1384.24 L8871.82 1384.24 L8826.95 1384.24 L8826.95 1384.24  Z\n  \" fill=\"#009af9\" fill-rule=\"evenodd\" fill-opacity=\"1\"/>\n<polyline clip-path=\"url(#clip982)\" style=\"stroke:#000000; stroke-linecap:butt; stroke-linejoin:round; stroke-width:4; stroke-opacity:1; fill:none\" points=\"\n  8826.95,1384.24 8826.95,1384.24 8871.82,1384.24 8826.95,1384.24 \n  \"/>\n<path clip-path=\"url(#clip982)\" d=\"\nM8871.82 1384.24 L8871.82 1384.24 L8916.7 1384.24 L8916.7 1384.24 L8871.82 1384.24 L8871.82 1384.24  Z\n  \" fill=\"#009af9\" fill-rule=\"evenodd\" fill-opacity=\"1\"/>\n<polyline clip-path=\"url(#clip982)\" style=\"stroke:#000000; stroke-linecap:butt; stroke-linejoin:round; stroke-width:4; stroke-opacity:1; fill:none\" points=\"\n  8871.82,1384.24 8871.82,1384.24 8916.7,1384.24 8871.82,1384.24 \n  \"/>\n<path clip-path=\"url(#clip982)\" d=\"\nM8916.7 1384.24 L8916.7 1384.24 L8961.58 1384.24 L8961.58 1384.24 L8916.7 1384.24 L8916.7 1384.24  Z\n  \" fill=\"#009af9\" fill-rule=\"evenodd\" fill-opacity=\"1\"/>\n<polyline clip-path=\"url(#clip982)\" style=\"stroke:#000000; stroke-linecap:butt; stroke-linejoin:round; stroke-width:4; stroke-opacity:1; fill:none\" points=\"\n  8916.7,1384.24 8916.7,1384.24 8961.58,1384.24 8916.7,1384.24 \n  \"/>\n<path clip-path=\"url(#clip982)\" d=\"\nM8961.58 1384.24 L8961.58 1384.24 L9006.45 1384.24 L9006.45 1384.24 L8961.58 1384.24 L8961.58 1384.24  Z\n  \" fill=\"#009af9\" fill-rule=\"evenodd\" fill-opacity=\"1\"/>\n<polyline clip-path=\"url(#clip982)\" style=\"stroke:#000000; stroke-linecap:butt; stroke-linejoin:round; stroke-width:4; stroke-opacity:1; fill:none\" points=\"\n  8961.58,1384.24 8961.58,1384.24 9006.45,1384.24 8961.58,1384.24 \n  \"/>\n<path clip-path=\"url(#clip982)\" d=\"\nM9006.45 1384.24 L9006.45 1384.24 L9051.33 1384.24 L9051.33 1384.24 L9006.45 1384.24 L9006.45 1384.24  Z\n  \" fill=\"#009af9\" fill-rule=\"evenodd\" fill-opacity=\"1\"/>\n<polyline clip-path=\"url(#clip982)\" style=\"stroke:#000000; stroke-linecap:butt; stroke-linejoin:round; stroke-width:4; stroke-opacity:1; fill:none\" points=\"\n  9006.45,1384.24 9006.45,1384.24 9051.33,1384.24 9006.45,1384.24 \n  \"/>\n<path clip-path=\"url(#clip982)\" d=\"\nM9051.33 1384.24 L9051.33 1384.24 L9096.2 1384.24 L9096.2 1384.24 L9051.33 1384.24 L9051.33 1384.24  Z\n  \" fill=\"#009af9\" fill-rule=\"evenodd\" fill-opacity=\"1\"/>\n<polyline clip-path=\"url(#clip982)\" style=\"stroke:#000000; stroke-linecap:butt; stroke-linejoin:round; stroke-width:4; stroke-opacity:1; fill:none\" points=\"\n  9051.33,1384.24 9051.33,1384.24 9096.2,1384.24 9051.33,1384.24 \n  \"/>\n<path clip-path=\"url(#clip982)\" d=\"\nM9096.2 1384.24 L9096.2 1384.24 L9141.08 1384.24 L9141.08 1384.24 L9096.2 1384.24 L9096.2 1384.24  Z\n  \" fill=\"#009af9\" fill-rule=\"evenodd\" fill-opacity=\"1\"/>\n<polyline clip-path=\"url(#clip982)\" style=\"stroke:#000000; stroke-linecap:butt; stroke-linejoin:round; stroke-width:4; stroke-opacity:1; fill:none\" points=\"\n  9096.2,1384.24 9096.2,1384.24 9141.08,1384.24 9096.2,1384.24 \n  \"/>\n<path clip-path=\"url(#clip982)\" d=\"\nM9141.08 1312.12 L9141.08 1384.24 L9185.96 1384.24 L9185.96 1312.12 L9141.08 1312.12 L9141.08 1312.12  Z\n  \" fill=\"#009af9\" fill-rule=\"evenodd\" fill-opacity=\"1\"/>\n<polyline clip-path=\"url(#clip982)\" style=\"stroke:#000000; stroke-linecap:butt; stroke-linejoin:round; stroke-width:4; stroke-opacity:1; fill:none\" points=\"\n  9141.08,1312.12 9141.08,1384.24 9185.96,1384.24 9185.96,1312.12 9141.08,1312.12 \n  \"/>\n<path clip-path=\"url(#clip982)\" d=\"\nM9185.96 1384.24 L9185.96 1384.24 L9230.83 1384.24 L9230.83 1384.24 L9185.96 1384.24 L9185.96 1384.24  Z\n  \" fill=\"#009af9\" fill-rule=\"evenodd\" fill-opacity=\"1\"/>\n<polyline clip-path=\"url(#clip982)\" style=\"stroke:#000000; stroke-linecap:butt; stroke-linejoin:round; stroke-width:4; stroke-opacity:1; fill:none\" points=\"\n  9185.96,1384.24 9185.96,1384.24 9230.83,1384.24 9185.96,1384.24 \n  \"/>\n<path clip-path=\"url(#clip982)\" d=\"\nM9230.83 1384.24 L9230.83 1384.24 L9275.71 1384.24 L9275.71 1384.24 L9230.83 1384.24 L9230.83 1384.24  Z\n  \" fill=\"#009af9\" fill-rule=\"evenodd\" fill-opacity=\"1\"/>\n<polyline clip-path=\"url(#clip982)\" style=\"stroke:#000000; stroke-linecap:butt; stroke-linejoin:round; stroke-width:4; stroke-opacity:1; fill:none\" points=\"\n  9230.83,1384.24 9230.83,1384.24 9275.71,1384.24 9230.83,1384.24 \n  \"/>\n<path clip-path=\"url(#clip982)\" d=\"\nM9275.71 1384.24 L9275.71 1384.24 L9320.59 1384.24 L9320.59 1384.24 L9275.71 1384.24 L9275.71 1384.24  Z\n  \" fill=\"#009af9\" fill-rule=\"evenodd\" fill-opacity=\"1\"/>\n<polyline clip-path=\"url(#clip982)\" style=\"stroke:#000000; stroke-linecap:butt; stroke-linejoin:round; stroke-width:4; stroke-opacity:1; fill:none\" points=\"\n  9275.71,1384.24 9275.71,1384.24 9320.59,1384.24 9275.71,1384.24 \n  \"/>\n<path clip-path=\"url(#clip982)\" d=\"\nM9320.59 1384.24 L9320.59 1384.24 L9365.46 1384.24 L9365.46 1384.24 L9320.59 1384.24 L9320.59 1384.24  Z\n  \" fill=\"#009af9\" fill-rule=\"evenodd\" fill-opacity=\"1\"/>\n<polyline clip-path=\"url(#clip982)\" style=\"stroke:#000000; stroke-linecap:butt; stroke-linejoin:round; stroke-width:4; stroke-opacity:1; fill:none\" points=\"\n  9320.59,1384.24 9320.59,1384.24 9365.46,1384.24 9320.59,1384.24 \n  \"/>\n<path clip-path=\"url(#clip982)\" d=\"\nM9365.46 1384.24 L9365.46 1384.24 L9410.34 1384.24 L9410.34 1384.24 L9365.46 1384.24 L9365.46 1384.24  Z\n  \" fill=\"#009af9\" fill-rule=\"evenodd\" fill-opacity=\"1\"/>\n<polyline clip-path=\"url(#clip982)\" style=\"stroke:#000000; stroke-linecap:butt; stroke-linejoin:round; stroke-width:4; stroke-opacity:1; fill:none\" points=\"\n  9365.46,1384.24 9365.46,1384.24 9410.34,1384.24 9365.46,1384.24 \n  \"/>\n<path clip-path=\"url(#clip982)\" d=\"\nM9410.34 1384.24 L9410.34 1384.24 L9455.22 1384.24 L9455.22 1384.24 L9410.34 1384.24 L9410.34 1384.24  Z\n  \" fill=\"#009af9\" fill-rule=\"evenodd\" fill-opacity=\"1\"/>\n<polyline clip-path=\"url(#clip982)\" style=\"stroke:#000000; stroke-linecap:butt; stroke-linejoin:round; stroke-width:4; stroke-opacity:1; fill:none\" points=\"\n  9410.34,1384.24 9410.34,1384.24 9455.22,1384.24 9410.34,1384.24 \n  \"/>\n<path clip-path=\"url(#clip982)\" d=\"\nM9455.22 1384.24 L9455.22 1384.24 L9500.09 1384.24 L9500.09 1384.24 L9455.22 1384.24 L9455.22 1384.24  Z\n  \" fill=\"#009af9\" fill-rule=\"evenodd\" fill-opacity=\"1\"/>\n<polyline clip-path=\"url(#clip982)\" style=\"stroke:#000000; stroke-linecap:butt; stroke-linejoin:round; stroke-width:4; stroke-opacity:1; fill:none\" points=\"\n  9455.22,1384.24 9455.22,1384.24 9500.09,1384.24 9455.22,1384.24 \n  \"/>\n<path clip-path=\"url(#clip982)\" d=\"\nM9500.09 1384.24 L9500.09 1384.24 L9544.97 1384.24 L9544.97 1384.24 L9500.09 1384.24 L9500.09 1384.24  Z\n  \" fill=\"#009af9\" fill-rule=\"evenodd\" fill-opacity=\"1\"/>\n<polyline clip-path=\"url(#clip982)\" style=\"stroke:#000000; stroke-linecap:butt; stroke-linejoin:round; stroke-width:4; stroke-opacity:1; fill:none\" points=\"\n  9500.09,1384.24 9500.09,1384.24 9544.97,1384.24 9500.09,1384.24 \n  \"/>\n<path clip-path=\"url(#clip982)\" d=\"\nM9544.97 1384.24 L9544.97 1384.24 L9589.85 1384.24 L9589.85 1384.24 L9544.97 1384.24 L9544.97 1384.24  Z\n  \" fill=\"#009af9\" fill-rule=\"evenodd\" fill-opacity=\"1\"/>\n<polyline clip-path=\"url(#clip982)\" style=\"stroke:#000000; stroke-linecap:butt; stroke-linejoin:round; stroke-width:4; stroke-opacity:1; fill:none\" points=\"\n  9544.97,1384.24 9544.97,1384.24 9589.85,1384.24 9544.97,1384.24 \n  \"/>\n<path clip-path=\"url(#clip982)\" d=\"\nM9589.85 1384.24 L9589.85 1384.24 L9634.72 1384.24 L9634.72 1384.24 L9589.85 1384.24 L9589.85 1384.24  Z\n  \" fill=\"#009af9\" fill-rule=\"evenodd\" fill-opacity=\"1\"/>\n<polyline clip-path=\"url(#clip982)\" style=\"stroke:#000000; stroke-linecap:butt; stroke-linejoin:round; stroke-width:4; stroke-opacity:1; fill:none\" points=\"\n  9589.85,1384.24 9589.85,1384.24 9634.72,1384.24 9589.85,1384.24 \n  \"/>\n<path clip-path=\"url(#clip982)\" d=\"\nM9634.72 1384.24 L9634.72 1384.24 L9679.6 1384.24 L9679.6 1384.24 L9634.72 1384.24 L9634.72 1384.24  Z\n  \" fill=\"#009af9\" fill-rule=\"evenodd\" fill-opacity=\"1\"/>\n<polyline clip-path=\"url(#clip982)\" style=\"stroke:#000000; stroke-linecap:butt; stroke-linejoin:round; stroke-width:4; stroke-opacity:1; fill:none\" points=\"\n  9634.72,1384.24 9634.72,1384.24 9679.6,1384.24 9634.72,1384.24 \n  \"/>\n<path clip-path=\"url(#clip982)\" d=\"\nM9679.6 1312.12 L9679.6 1384.24 L9724.48 1384.24 L9724.48 1312.12 L9679.6 1312.12 L9679.6 1312.12  Z\n  \" fill=\"#009af9\" fill-rule=\"evenodd\" fill-opacity=\"1\"/>\n<polyline clip-path=\"url(#clip982)\" style=\"stroke:#000000; stroke-linecap:butt; stroke-linejoin:round; stroke-width:4; stroke-opacity:1; fill:none\" points=\"\n  9679.6,1312.12 9679.6,1384.24 9724.48,1384.24 9724.48,1312.12 9679.6,1312.12 \n  \"/>\n<path clip-path=\"url(#clip982)\" d=\"\nM9724.48 1384.24 L9724.48 1384.24 L9769.35 1384.24 L9769.35 1384.24 L9724.48 1384.24 L9724.48 1384.24  Z\n  \" fill=\"#009af9\" fill-rule=\"evenodd\" fill-opacity=\"1\"/>\n<polyline clip-path=\"url(#clip982)\" style=\"stroke:#000000; stroke-linecap:butt; stroke-linejoin:round; stroke-width:4; stroke-opacity:1; fill:none\" points=\"\n  9724.48,1384.24 9724.48,1384.24 9769.35,1384.24 9724.48,1384.24 \n  \"/>\n<path clip-path=\"url(#clip982)\" d=\"\nM9769.35 1384.24 L9769.35 1384.24 L9814.23 1384.24 L9814.23 1384.24 L9769.35 1384.24 L9769.35 1384.24  Z\n  \" fill=\"#009af9\" fill-rule=\"evenodd\" fill-opacity=\"1\"/>\n<polyline clip-path=\"url(#clip982)\" style=\"stroke:#000000; stroke-linecap:butt; stroke-linejoin:round; stroke-width:4; stroke-opacity:1; fill:none\" points=\"\n  9769.35,1384.24 9769.35,1384.24 9814.23,1384.24 9769.35,1384.24 \n  \"/>\n<path clip-path=\"url(#clip982)\" d=\"\nM9814.23 1384.24 L9814.23 1384.24 L9859.11 1384.24 L9859.11 1384.24 L9814.23 1384.24 L9814.23 1384.24  Z\n  \" fill=\"#009af9\" fill-rule=\"evenodd\" fill-opacity=\"1\"/>\n<polyline clip-path=\"url(#clip982)\" style=\"stroke:#000000; stroke-linecap:butt; stroke-linejoin:round; stroke-width:4; stroke-opacity:1; fill:none\" points=\"\n  9814.23,1384.24 9814.23,1384.24 9859.11,1384.24 9814.23,1384.24 \n  \"/>\n<path clip-path=\"url(#clip982)\" d=\"\nM9859.11 1384.24 L9859.11 1384.24 L9903.98 1384.24 L9903.98 1384.24 L9859.11 1384.24 L9859.11 1384.24  Z\n  \" fill=\"#009af9\" fill-rule=\"evenodd\" fill-opacity=\"1\"/>\n<polyline clip-path=\"url(#clip982)\" style=\"stroke:#000000; stroke-linecap:butt; stroke-linejoin:round; stroke-width:4; stroke-opacity:1; fill:none\" points=\"\n  9859.11,1384.24 9859.11,1384.24 9903.98,1384.24 9859.11,1384.24 \n  \"/>\n<path clip-path=\"url(#clip982)\" d=\"\nM9903.98 1384.24 L9903.98 1384.24 L9948.86 1384.24 L9948.86 1384.24 L9903.98 1384.24 L9903.98 1384.24  Z\n  \" fill=\"#009af9\" fill-rule=\"evenodd\" fill-opacity=\"1\"/>\n<polyline clip-path=\"url(#clip982)\" style=\"stroke:#000000; stroke-linecap:butt; stroke-linejoin:round; stroke-width:4; stroke-opacity:1; fill:none\" points=\"\n  9903.98,1384.24 9903.98,1384.24 9948.86,1384.24 9903.98,1384.24 \n  \"/>\n<path clip-path=\"url(#clip982)\" d=\"\nM9948.86 1384.24 L9948.86 1384.24 L9993.73 1384.24 L9993.73 1384.24 L9948.86 1384.24 L9948.86 1384.24  Z\n  \" fill=\"#009af9\" fill-rule=\"evenodd\" fill-opacity=\"1\"/>\n<polyline clip-path=\"url(#clip982)\" style=\"stroke:#000000; stroke-linecap:butt; stroke-linejoin:round; stroke-width:4; stroke-opacity:1; fill:none\" points=\"\n  9948.86,1384.24 9948.86,1384.24 9993.73,1384.24 9948.86,1384.24 \n  \"/>\n<path clip-path=\"url(#clip982)\" d=\"\nM9993.73 1384.24 L9993.73 1384.24 L10038.6 1384.24 L10038.6 1384.24 L9993.73 1384.24 L9993.73 1384.24  Z\n  \" fill=\"#009af9\" fill-rule=\"evenodd\" fill-opacity=\"1\"/>\n<polyline clip-path=\"url(#clip982)\" style=\"stroke:#000000; stroke-linecap:butt; stroke-linejoin:round; stroke-width:4; stroke-opacity:1; fill:none\" points=\"\n  9993.73,1384.24 9993.73,1384.24 10038.6,1384.24 9993.73,1384.24 \n  \"/>\n<path clip-path=\"url(#clip982)\" d=\"\nM10038.6 1384.24 L10038.6 1384.24 L10083.5 1384.24 L10083.5 1384.24 L10038.6 1384.24 L10038.6 1384.24  Z\n  \" fill=\"#009af9\" fill-rule=\"evenodd\" fill-opacity=\"1\"/>\n<polyline clip-path=\"url(#clip982)\" style=\"stroke:#000000; stroke-linecap:butt; stroke-linejoin:round; stroke-width:4; stroke-opacity:1; fill:none\" points=\"\n  10038.6,1384.24 10038.6,1384.24 10083.5,1384.24 10038.6,1384.24 \n  \"/>\n<path clip-path=\"url(#clip982)\" d=\"\nM10083.5 1384.24 L10083.5 1384.24 L10128.4 1384.24 L10128.4 1384.24 L10083.5 1384.24 L10083.5 1384.24  Z\n  \" fill=\"#009af9\" fill-rule=\"evenodd\" fill-opacity=\"1\"/>\n<polyline clip-path=\"url(#clip982)\" style=\"stroke:#000000; stroke-linecap:butt; stroke-linejoin:round; stroke-width:4; stroke-opacity:1; fill:none\" points=\"\n  10083.5,1384.24 10083.5,1384.24 10128.4,1384.24 10083.5,1384.24 \n  \"/>\n<path clip-path=\"url(#clip982)\" d=\"\nM10128.4 1384.24 L10128.4 1384.24 L10173.2 1384.24 L10173.2 1384.24 L10128.4 1384.24 L10128.4 1384.24  Z\n  \" fill=\"#009af9\" fill-rule=\"evenodd\" fill-opacity=\"1\"/>\n<polyline clip-path=\"url(#clip982)\" style=\"stroke:#000000; stroke-linecap:butt; stroke-linejoin:round; stroke-width:4; stroke-opacity:1; fill:none\" points=\"\n  10128.4,1384.24 10128.4,1384.24 10173.2,1384.24 10128.4,1384.24 \n  \"/>\n<path clip-path=\"url(#clip982)\" d=\"\nM10173.2 1384.24 L10173.2 1384.24 L10218.1 1384.24 L10218.1 1384.24 L10173.2 1384.24 L10173.2 1384.24  Z\n  \" fill=\"#009af9\" fill-rule=\"evenodd\" fill-opacity=\"1\"/>\n<polyline clip-path=\"url(#clip982)\" style=\"stroke:#000000; stroke-linecap:butt; stroke-linejoin:round; stroke-width:4; stroke-opacity:1; fill:none\" points=\"\n  10173.2,1384.24 10173.2,1384.24 10218.1,1384.24 10173.2,1384.24 \n  \"/>\n<path clip-path=\"url(#clip982)\" d=\"\nM10218.1 1384.24 L10218.1 1384.24 L10263 1384.24 L10263 1384.24 L10218.1 1384.24 L10218.1 1384.24  Z\n  \" fill=\"#009af9\" fill-rule=\"evenodd\" fill-opacity=\"1\"/>\n<polyline clip-path=\"url(#clip982)\" style=\"stroke:#000000; stroke-linecap:butt; stroke-linejoin:round; stroke-width:4; stroke-opacity:1; fill:none\" points=\"\n  10218.1,1384.24 10218.1,1384.24 10263,1384.24 10218.1,1384.24 \n  \"/>\n<path clip-path=\"url(#clip982)\" d=\"\nM10263 1384.24 L10263 1384.24 L10307.9 1384.24 L10307.9 1384.24 L10263 1384.24 L10263 1384.24  Z\n  \" fill=\"#009af9\" fill-rule=\"evenodd\" fill-opacity=\"1\"/>\n<polyline clip-path=\"url(#clip982)\" style=\"stroke:#000000; stroke-linecap:butt; stroke-linejoin:round; stroke-width:4; stroke-opacity:1; fill:none\" points=\"\n  10263,1384.24 10263,1384.24 10307.9,1384.24 10263,1384.24 \n  \"/>\n<path clip-path=\"url(#clip982)\" d=\"\nM10307.9 1384.24 L10307.9 1384.24 L10352.7 1384.24 L10352.7 1384.24 L10307.9 1384.24 L10307.9 1384.24  Z\n  \" fill=\"#009af9\" fill-rule=\"evenodd\" fill-opacity=\"1\"/>\n<polyline clip-path=\"url(#clip982)\" style=\"stroke:#000000; stroke-linecap:butt; stroke-linejoin:round; stroke-width:4; stroke-opacity:1; fill:none\" points=\"\n  10307.9,1384.24 10307.9,1384.24 10352.7,1384.24 10307.9,1384.24 \n  \"/>\n<path clip-path=\"url(#clip982)\" d=\"\nM10352.7 1384.24 L10352.7 1384.24 L10397.6 1384.24 L10397.6 1384.24 L10352.7 1384.24 L10352.7 1384.24  Z\n  \" fill=\"#009af9\" fill-rule=\"evenodd\" fill-opacity=\"1\"/>\n<polyline clip-path=\"url(#clip982)\" style=\"stroke:#000000; stroke-linecap:butt; stroke-linejoin:round; stroke-width:4; stroke-opacity:1; fill:none\" points=\"\n  10352.7,1384.24 10352.7,1384.24 10397.6,1384.24 10352.7,1384.24 \n  \"/>\n<path clip-path=\"url(#clip982)\" d=\"\nM10397.6 1384.24 L10397.6 1384.24 L10442.5 1384.24 L10442.5 1384.24 L10397.6 1384.24 L10397.6 1384.24  Z\n  \" fill=\"#009af9\" fill-rule=\"evenodd\" fill-opacity=\"1\"/>\n<polyline clip-path=\"url(#clip982)\" style=\"stroke:#000000; stroke-linecap:butt; stroke-linejoin:round; stroke-width:4; stroke-opacity:1; fill:none\" points=\"\n  10397.6,1384.24 10397.6,1384.24 10442.5,1384.24 10397.6,1384.24 \n  \"/>\n<path clip-path=\"url(#clip982)\" d=\"\nM10442.5 1384.24 L10442.5 1384.24 L10487.4 1384.24 L10487.4 1384.24 L10442.5 1384.24 L10442.5 1384.24  Z\n  \" fill=\"#009af9\" fill-rule=\"evenodd\" fill-opacity=\"1\"/>\n<polyline clip-path=\"url(#clip982)\" style=\"stroke:#000000; stroke-linecap:butt; stroke-linejoin:round; stroke-width:4; stroke-opacity:1; fill:none\" points=\"\n  10442.5,1384.24 10442.5,1384.24 10487.4,1384.24 10442.5,1384.24 \n  \"/>\n<path clip-path=\"url(#clip982)\" d=\"\nM10487.4 1384.24 L10487.4 1384.24 L10532.3 1384.24 L10532.3 1384.24 L10487.4 1384.24 L10487.4 1384.24  Z\n  \" fill=\"#009af9\" fill-rule=\"evenodd\" fill-opacity=\"1\"/>\n<polyline clip-path=\"url(#clip982)\" style=\"stroke:#000000; stroke-linecap:butt; stroke-linejoin:round; stroke-width:4; stroke-opacity:1; fill:none\" points=\"\n  10487.4,1384.24 10487.4,1384.24 10532.3,1384.24 10487.4,1384.24 \n  \"/>\n<path clip-path=\"url(#clip982)\" d=\"\nM10532.3 1384.24 L10532.3 1384.24 L10577.1 1384.24 L10577.1 1384.24 L10532.3 1384.24 L10532.3 1384.24  Z\n  \" fill=\"#009af9\" fill-rule=\"evenodd\" fill-opacity=\"1\"/>\n<polyline clip-path=\"url(#clip982)\" style=\"stroke:#000000; stroke-linecap:butt; stroke-linejoin:round; stroke-width:4; stroke-opacity:1; fill:none\" points=\"\n  10532.3,1384.24 10532.3,1384.24 10577.1,1384.24 10532.3,1384.24 \n  \"/>\n<path clip-path=\"url(#clip982)\" d=\"\nM10577.1 1384.24 L10577.1 1384.24 L10622 1384.24 L10622 1384.24 L10577.1 1384.24 L10577.1 1384.24  Z\n  \" fill=\"#009af9\" fill-rule=\"evenodd\" fill-opacity=\"1\"/>\n<polyline clip-path=\"url(#clip982)\" style=\"stroke:#000000; stroke-linecap:butt; stroke-linejoin:round; stroke-width:4; stroke-opacity:1; fill:none\" points=\"\n  10577.1,1384.24 10577.1,1384.24 10622,1384.24 10577.1,1384.24 \n  \"/>\n<path clip-path=\"url(#clip982)\" d=\"\nM10622 1384.24 L10622 1384.24 L10666.9 1384.24 L10666.9 1384.24 L10622 1384.24 L10622 1384.24  Z\n  \" fill=\"#009af9\" fill-rule=\"evenodd\" fill-opacity=\"1\"/>\n<polyline clip-path=\"url(#clip982)\" style=\"stroke:#000000; stroke-linecap:butt; stroke-linejoin:round; stroke-width:4; stroke-opacity:1; fill:none\" points=\"\n  10622,1384.24 10622,1384.24 10666.9,1384.24 10622,1384.24 \n  \"/>\n<path clip-path=\"url(#clip982)\" d=\"\nM10666.9 1384.24 L10666.9 1384.24 L10711.8 1384.24 L10711.8 1384.24 L10666.9 1384.24 L10666.9 1384.24  Z\n  \" fill=\"#009af9\" fill-rule=\"evenodd\" fill-opacity=\"1\"/>\n<polyline clip-path=\"url(#clip982)\" style=\"stroke:#000000; stroke-linecap:butt; stroke-linejoin:round; stroke-width:4; stroke-opacity:1; fill:none\" points=\"\n  10666.9,1384.24 10666.9,1384.24 10711.8,1384.24 10666.9,1384.24 \n  \"/>\n<path clip-path=\"url(#clip982)\" d=\"\nM10711.8 1384.24 L10711.8 1384.24 L10756.6 1384.24 L10756.6 1384.24 L10711.8 1384.24 L10711.8 1384.24  Z\n  \" fill=\"#009af9\" fill-rule=\"evenodd\" fill-opacity=\"1\"/>\n<polyline clip-path=\"url(#clip982)\" style=\"stroke:#000000; stroke-linecap:butt; stroke-linejoin:round; stroke-width:4; stroke-opacity:1; fill:none\" points=\"\n  10711.8,1384.24 10711.8,1384.24 10756.6,1384.24 10711.8,1384.24 \n  \"/>\n<path clip-path=\"url(#clip982)\" d=\"\nM10756.6 1384.24 L10756.6 1384.24 L10801.5 1384.24 L10801.5 1384.24 L10756.6 1384.24 L10756.6 1384.24  Z\n  \" fill=\"#009af9\" fill-rule=\"evenodd\" fill-opacity=\"1\"/>\n<polyline clip-path=\"url(#clip982)\" style=\"stroke:#000000; stroke-linecap:butt; stroke-linejoin:round; stroke-width:4; stroke-opacity:1; fill:none\" points=\"\n  10756.6,1384.24 10756.6,1384.24 10801.5,1384.24 10756.6,1384.24 \n  \"/>\n<path clip-path=\"url(#clip982)\" d=\"\nM10801.5 1384.24 L10801.5 1384.24 L10846.4 1384.24 L10846.4 1384.24 L10801.5 1384.24 L10801.5 1384.24  Z\n  \" fill=\"#009af9\" fill-rule=\"evenodd\" fill-opacity=\"1\"/>\n<polyline clip-path=\"url(#clip982)\" style=\"stroke:#000000; stroke-linecap:butt; stroke-linejoin:round; stroke-width:4; stroke-opacity:1; fill:none\" points=\"\n  10801.5,1384.24 10801.5,1384.24 10846.4,1384.24 10801.5,1384.24 \n  \"/>\n<path clip-path=\"url(#clip982)\" d=\"\nM10846.4 1384.24 L10846.4 1384.24 L10891.3 1384.24 L10891.3 1384.24 L10846.4 1384.24 L10846.4 1384.24  Z\n  \" fill=\"#009af9\" fill-rule=\"evenodd\" fill-opacity=\"1\"/>\n<polyline clip-path=\"url(#clip982)\" style=\"stroke:#000000; stroke-linecap:butt; stroke-linejoin:round; stroke-width:4; stroke-opacity:1; fill:none\" points=\"\n  10846.4,1384.24 10846.4,1384.24 10891.3,1384.24 10846.4,1384.24 \n  \"/>\n<path clip-path=\"url(#clip982)\" d=\"\nM10891.3 1384.24 L10891.3 1384.24 L10936.1 1384.24 L10936.1 1384.24 L10891.3 1384.24 L10891.3 1384.24  Z\n  \" fill=\"#009af9\" fill-rule=\"evenodd\" fill-opacity=\"1\"/>\n<polyline clip-path=\"url(#clip982)\" style=\"stroke:#000000; stroke-linecap:butt; stroke-linejoin:round; stroke-width:4; stroke-opacity:1; fill:none\" points=\"\n  10891.3,1384.24 10891.3,1384.24 10936.1,1384.24 10891.3,1384.24 \n  \"/>\n<path clip-path=\"url(#clip982)\" d=\"\nM10936.1 1384.24 L10936.1 1384.24 L10981 1384.24 L10981 1384.24 L10936.1 1384.24 L10936.1 1384.24  Z\n  \" fill=\"#009af9\" fill-rule=\"evenodd\" fill-opacity=\"1\"/>\n<polyline clip-path=\"url(#clip982)\" style=\"stroke:#000000; stroke-linecap:butt; stroke-linejoin:round; stroke-width:4; stroke-opacity:1; fill:none\" points=\"\n  10936.1,1384.24 10936.1,1384.24 10981,1384.24 10936.1,1384.24 \n  \"/>\n<path clip-path=\"url(#clip982)\" d=\"\nM10981 1384.24 L10981 1384.24 L11025.9 1384.24 L11025.9 1384.24 L10981 1384.24 L10981 1384.24  Z\n  \" fill=\"#009af9\" fill-rule=\"evenodd\" fill-opacity=\"1\"/>\n<polyline clip-path=\"url(#clip982)\" style=\"stroke:#000000; stroke-linecap:butt; stroke-linejoin:round; stroke-width:4; stroke-opacity:1; fill:none\" points=\"\n  10981,1384.24 10981,1384.24 11025.9,1384.24 10981,1384.24 \n  \"/>\n<path clip-path=\"url(#clip982)\" d=\"\nM11025.9 1384.24 L11025.9 1384.24 L11070.8 1384.24 L11070.8 1384.24 L11025.9 1384.24 L11025.9 1384.24  Z\n  \" fill=\"#009af9\" fill-rule=\"evenodd\" fill-opacity=\"1\"/>\n<polyline clip-path=\"url(#clip982)\" style=\"stroke:#000000; stroke-linecap:butt; stroke-linejoin:round; stroke-width:4; stroke-opacity:1; fill:none\" points=\"\n  11025.9,1384.24 11025.9,1384.24 11070.8,1384.24 11025.9,1384.24 \n  \"/>\n<path clip-path=\"url(#clip982)\" d=\"\nM11070.8 1384.24 L11070.8 1384.24 L11115.6 1384.24 L11115.6 1384.24 L11070.8 1384.24 L11070.8 1384.24  Z\n  \" fill=\"#009af9\" fill-rule=\"evenodd\" fill-opacity=\"1\"/>\n<polyline clip-path=\"url(#clip982)\" style=\"stroke:#000000; stroke-linecap:butt; stroke-linejoin:round; stroke-width:4; stroke-opacity:1; fill:none\" points=\"\n  11070.8,1384.24 11070.8,1384.24 11115.6,1384.24 11070.8,1384.24 \n  \"/>\n<path clip-path=\"url(#clip982)\" d=\"\nM11115.6 1384.24 L11115.6 1384.24 L11160.5 1384.24 L11160.5 1384.24 L11115.6 1384.24 L11115.6 1384.24  Z\n  \" fill=\"#009af9\" fill-rule=\"evenodd\" fill-opacity=\"1\"/>\n<polyline clip-path=\"url(#clip982)\" style=\"stroke:#000000; stroke-linecap:butt; stroke-linejoin:round; stroke-width:4; stroke-opacity:1; fill:none\" points=\"\n  11115.6,1384.24 11115.6,1384.24 11160.5,1384.24 11115.6,1384.24 \n  \"/>\n<path clip-path=\"url(#clip982)\" d=\"\nM11160.5 1384.24 L11160.5 1384.24 L11205.4 1384.24 L11205.4 1384.24 L11160.5 1384.24 L11160.5 1384.24  Z\n  \" fill=\"#009af9\" fill-rule=\"evenodd\" fill-opacity=\"1\"/>\n<polyline clip-path=\"url(#clip982)\" style=\"stroke:#000000; stroke-linecap:butt; stroke-linejoin:round; stroke-width:4; stroke-opacity:1; fill:none\" points=\"\n  11160.5,1384.24 11160.5,1384.24 11205.4,1384.24 11160.5,1384.24 \n  \"/>\n<path clip-path=\"url(#clip982)\" d=\"\nM11205.4 1384.24 L11205.4 1384.24 L11250.3 1384.24 L11250.3 1384.24 L11205.4 1384.24 L11205.4 1384.24  Z\n  \" fill=\"#009af9\" fill-rule=\"evenodd\" fill-opacity=\"1\"/>\n<polyline clip-path=\"url(#clip982)\" style=\"stroke:#000000; stroke-linecap:butt; stroke-linejoin:round; stroke-width:4; stroke-opacity:1; fill:none\" points=\"\n  11205.4,1384.24 11205.4,1384.24 11250.3,1384.24 11205.4,1384.24 \n  \"/>\n<path clip-path=\"url(#clip982)\" d=\"\nM11250.3 1384.24 L11250.3 1384.24 L11295.2 1384.24 L11295.2 1384.24 L11250.3 1384.24 L11250.3 1384.24  Z\n  \" fill=\"#009af9\" fill-rule=\"evenodd\" fill-opacity=\"1\"/>\n<polyline clip-path=\"url(#clip982)\" style=\"stroke:#000000; stroke-linecap:butt; stroke-linejoin:round; stroke-width:4; stroke-opacity:1; fill:none\" points=\"\n  11250.3,1384.24 11250.3,1384.24 11295.2,1384.24 11250.3,1384.24 \n  \"/>\n<path clip-path=\"url(#clip982)\" d=\"\nM11295.2 1384.24 L11295.2 1384.24 L11340 1384.24 L11340 1384.24 L11295.2 1384.24 L11295.2 1384.24  Z\n  \" fill=\"#009af9\" fill-rule=\"evenodd\" fill-opacity=\"1\"/>\n<polyline clip-path=\"url(#clip982)\" style=\"stroke:#000000; stroke-linecap:butt; stroke-linejoin:round; stroke-width:4; stroke-opacity:1; fill:none\" points=\"\n  11295.2,1384.24 11295.2,1384.24 11340,1384.24 11295.2,1384.24 \n  \"/>\n<path clip-path=\"url(#clip982)\" d=\"\nM11340 1384.24 L11340 1384.24 L11384.9 1384.24 L11384.9 1384.24 L11340 1384.24 L11340 1384.24  Z\n  \" fill=\"#009af9\" fill-rule=\"evenodd\" fill-opacity=\"1\"/>\n<polyline clip-path=\"url(#clip982)\" style=\"stroke:#000000; stroke-linecap:butt; stroke-linejoin:round; stroke-width:4; stroke-opacity:1; fill:none\" points=\"\n  11340,1384.24 11340,1384.24 11384.9,1384.24 11340,1384.24 \n  \"/>\n<path clip-path=\"url(#clip982)\" d=\"\nM11384.9 1384.24 L11384.9 1384.24 L11429.8 1384.24 L11429.8 1384.24 L11384.9 1384.24 L11384.9 1384.24  Z\n  \" fill=\"#009af9\" fill-rule=\"evenodd\" fill-opacity=\"1\"/>\n<polyline clip-path=\"url(#clip982)\" style=\"stroke:#000000; stroke-linecap:butt; stroke-linejoin:round; stroke-width:4; stroke-opacity:1; fill:none\" points=\"\n  11384.9,1384.24 11384.9,1384.24 11429.8,1384.24 11384.9,1384.24 \n  \"/>\n<path clip-path=\"url(#clip982)\" d=\"\nM11429.8 1384.24 L11429.8 1384.24 L11474.7 1384.24 L11474.7 1384.24 L11429.8 1384.24 L11429.8 1384.24  Z\n  \" fill=\"#009af9\" fill-rule=\"evenodd\" fill-opacity=\"1\"/>\n<polyline clip-path=\"url(#clip982)\" style=\"stroke:#000000; stroke-linecap:butt; stroke-linejoin:round; stroke-width:4; stroke-opacity:1; fill:none\" points=\"\n  11429.8,1384.24 11429.8,1384.24 11474.7,1384.24 11429.8,1384.24 \n  \"/>\n<path clip-path=\"url(#clip982)\" d=\"\nM11474.7 1384.24 L11474.7 1384.24 L11519.5 1384.24 L11519.5 1384.24 L11474.7 1384.24 L11474.7 1384.24  Z\n  \" fill=\"#009af9\" fill-rule=\"evenodd\" fill-opacity=\"1\"/>\n<polyline clip-path=\"url(#clip982)\" style=\"stroke:#000000; stroke-linecap:butt; stroke-linejoin:round; stroke-width:4; stroke-opacity:1; fill:none\" points=\"\n  11474.7,1384.24 11474.7,1384.24 11519.5,1384.24 11474.7,1384.24 \n  \"/>\n<path clip-path=\"url(#clip982)\" d=\"\nM11519.5 1384.24 L11519.5 1384.24 L11564.4 1384.24 L11564.4 1384.24 L11519.5 1384.24 L11519.5 1384.24  Z\n  \" fill=\"#009af9\" fill-rule=\"evenodd\" fill-opacity=\"1\"/>\n<polyline clip-path=\"url(#clip982)\" style=\"stroke:#000000; stroke-linecap:butt; stroke-linejoin:round; stroke-width:4; stroke-opacity:1; fill:none\" points=\"\n  11519.5,1384.24 11519.5,1384.24 11564.4,1384.24 11519.5,1384.24 \n  \"/>\n<path clip-path=\"url(#clip982)\" d=\"\nM11564.4 1384.24 L11564.4 1384.24 L11609.3 1384.24 L11609.3 1384.24 L11564.4 1384.24 L11564.4 1384.24  Z\n  \" fill=\"#009af9\" fill-rule=\"evenodd\" fill-opacity=\"1\"/>\n<polyline clip-path=\"url(#clip982)\" style=\"stroke:#000000; stroke-linecap:butt; stroke-linejoin:round; stroke-width:4; stroke-opacity:1; fill:none\" points=\"\n  11564.4,1384.24 11564.4,1384.24 11609.3,1384.24 11564.4,1384.24 \n  \"/>\n<path clip-path=\"url(#clip982)\" d=\"\nM11609.3 1384.24 L11609.3 1384.24 L11654.2 1384.24 L11654.2 1384.24 L11609.3 1384.24 L11609.3 1384.24  Z\n  \" fill=\"#009af9\" fill-rule=\"evenodd\" fill-opacity=\"1\"/>\n<polyline clip-path=\"url(#clip982)\" style=\"stroke:#000000; stroke-linecap:butt; stroke-linejoin:round; stroke-width:4; stroke-opacity:1; fill:none\" points=\"\n  11609.3,1384.24 11609.3,1384.24 11654.2,1384.24 11609.3,1384.24 \n  \"/>\n<path clip-path=\"url(#clip982)\" d=\"\nM11654.2 1384.24 L11654.2 1384.24 L11699 1384.24 L11699 1384.24 L11654.2 1384.24 L11654.2 1384.24  Z\n  \" fill=\"#009af9\" fill-rule=\"evenodd\" fill-opacity=\"1\"/>\n<polyline clip-path=\"url(#clip982)\" style=\"stroke:#000000; stroke-linecap:butt; stroke-linejoin:round; stroke-width:4; stroke-opacity:1; fill:none\" points=\"\n  11654.2,1384.24 11654.2,1384.24 11699,1384.24 11654.2,1384.24 \n  \"/>\n<path clip-path=\"url(#clip982)\" d=\"\nM11699 1384.24 L11699 1384.24 L11743.9 1384.24 L11743.9 1384.24 L11699 1384.24 L11699 1384.24  Z\n  \" fill=\"#009af9\" fill-rule=\"evenodd\" fill-opacity=\"1\"/>\n<polyline clip-path=\"url(#clip982)\" style=\"stroke:#000000; stroke-linecap:butt; stroke-linejoin:round; stroke-width:4; stroke-opacity:1; fill:none\" points=\"\n  11699,1384.24 11699,1384.24 11743.9,1384.24 11699,1384.24 \n  \"/>\n<path clip-path=\"url(#clip982)\" d=\"\nM11743.9 1384.24 L11743.9 1384.24 L11788.8 1384.24 L11788.8 1384.24 L11743.9 1384.24 L11743.9 1384.24  Z\n  \" fill=\"#009af9\" fill-rule=\"evenodd\" fill-opacity=\"1\"/>\n<polyline clip-path=\"url(#clip982)\" style=\"stroke:#000000; stroke-linecap:butt; stroke-linejoin:round; stroke-width:4; stroke-opacity:1; fill:none\" points=\"\n  11743.9,1384.24 11743.9,1384.24 11788.8,1384.24 11743.9,1384.24 \n  \"/>\n<path clip-path=\"url(#clip982)\" d=\"\nM11788.8 1384.24 L11788.8 1384.24 L11833.7 1384.24 L11833.7 1384.24 L11788.8 1384.24 L11788.8 1384.24  Z\n  \" fill=\"#009af9\" fill-rule=\"evenodd\" fill-opacity=\"1\"/>\n<polyline clip-path=\"url(#clip982)\" style=\"stroke:#000000; stroke-linecap:butt; stroke-linejoin:round; stroke-width:4; stroke-opacity:1; fill:none\" points=\"\n  11788.8,1384.24 11788.8,1384.24 11833.7,1384.24 11788.8,1384.24 \n  \"/>\n<path clip-path=\"url(#clip982)\" d=\"\nM11833.7 1384.24 L11833.7 1384.24 L11878.5 1384.24 L11878.5 1384.24 L11833.7 1384.24 L11833.7 1384.24  Z\n  \" fill=\"#009af9\" fill-rule=\"evenodd\" fill-opacity=\"1\"/>\n<polyline clip-path=\"url(#clip982)\" style=\"stroke:#000000; stroke-linecap:butt; stroke-linejoin:round; stroke-width:4; stroke-opacity:1; fill:none\" points=\"\n  11833.7,1384.24 11833.7,1384.24 11878.5,1384.24 11833.7,1384.24 \n  \"/>\n<path clip-path=\"url(#clip982)\" d=\"\nM11878.5 1384.24 L11878.5 1384.24 L11923.4 1384.24 L11923.4 1384.24 L11878.5 1384.24 L11878.5 1384.24  Z\n  \" fill=\"#009af9\" fill-rule=\"evenodd\" fill-opacity=\"1\"/>\n<polyline clip-path=\"url(#clip982)\" style=\"stroke:#000000; stroke-linecap:butt; stroke-linejoin:round; stroke-width:4; stroke-opacity:1; fill:none\" points=\"\n  11878.5,1384.24 11878.5,1384.24 11923.4,1384.24 11878.5,1384.24 \n  \"/>\n<path clip-path=\"url(#clip982)\" d=\"\nM11923.4 1312.12 L11923.4 1384.24 L11968.3 1384.24 L11968.3 1312.12 L11923.4 1312.12 L11923.4 1312.12  Z\n  \" fill=\"#009af9\" fill-rule=\"evenodd\" fill-opacity=\"1\"/>\n<polyline clip-path=\"url(#clip982)\" style=\"stroke:#000000; stroke-linecap:butt; stroke-linejoin:round; stroke-width:4; stroke-opacity:1; fill:none\" points=\"\n  11923.4,1312.12 11923.4,1384.24 11968.3,1384.24 11968.3,1312.12 11923.4,1312.12 \n  \"/>\n<circle clip-path=\"url(#clip982)\" style=\"fill:#009af9; stroke:none; fill-opacity:0\" cx=\"233.095\" cy=\"1095.78\" r=\"2\"/>\n<circle clip-path=\"url(#clip982)\" style=\"fill:#009af9; stroke:none; fill-opacity:0\" cx=\"277.972\" cy=\"1240.01\" r=\"2\"/>\n<circle clip-path=\"url(#clip982)\" style=\"fill:#009af9; stroke:none; fill-opacity:0\" cx=\"322.848\" cy=\"86.1857\" r=\"2\"/>\n<circle clip-path=\"url(#clip982)\" style=\"fill:#009af9; stroke:none; fill-opacity:0\" cx=\"367.725\" cy=\"663.098\" r=\"2\"/>\n<circle clip-path=\"url(#clip982)\" style=\"fill:#009af9; stroke:none; fill-opacity:0\" cx=\"412.601\" cy=\"1023.67\" r=\"2\"/>\n<circle clip-path=\"url(#clip982)\" style=\"fill:#009af9; stroke:none; fill-opacity:0\" cx=\"457.478\" cy=\"590.984\" r=\"2\"/>\n<circle clip-path=\"url(#clip982)\" style=\"fill:#009af9; stroke:none; fill-opacity:0\" cx=\"502.354\" cy=\"1023.67\" r=\"2\"/>\n<circle clip-path=\"url(#clip982)\" style=\"fill:#009af9; stroke:none; fill-opacity:0\" cx=\"547.231\" cy=\"879.44\" r=\"2\"/>\n<circle clip-path=\"url(#clip982)\" style=\"fill:#009af9; stroke:none; fill-opacity:0\" cx=\"592.107\" cy=\"807.326\" r=\"2\"/>\n<circle clip-path=\"url(#clip982)\" style=\"fill:#009af9; stroke:none; fill-opacity:0\" cx=\"636.984\" cy=\"302.528\" r=\"2\"/>\n<circle clip-path=\"url(#clip982)\" style=\"fill:#009af9; stroke:none; fill-opacity:0\" cx=\"681.86\" cy=\"1095.78\" r=\"2\"/>\n<circle clip-path=\"url(#clip982)\" style=\"fill:#009af9; stroke:none; fill-opacity:0\" cx=\"726.737\" cy=\"807.326\" r=\"2\"/>\n<circle clip-path=\"url(#clip982)\" style=\"fill:#009af9; stroke:none; fill-opacity:0\" cx=\"771.613\" cy=\"879.44\" r=\"2\"/>\n<circle clip-path=\"url(#clip982)\" style=\"fill:#009af9; stroke:none; fill-opacity:0\" cx=\"816.49\" cy=\"1023.67\" r=\"2\"/>\n<circle clip-path=\"url(#clip982)\" style=\"fill:#009af9; stroke:none; fill-opacity:0\" cx=\"861.366\" cy=\"807.326\" r=\"2\"/>\n<circle clip-path=\"url(#clip982)\" style=\"fill:#009af9; stroke:none; fill-opacity:0\" cx=\"906.243\" cy=\"302.528\" r=\"2\"/>\n<circle clip-path=\"url(#clip982)\" style=\"fill:#009af9; stroke:none; fill-opacity:0\" cx=\"951.119\" cy=\"374.642\" r=\"2\"/>\n<circle clip-path=\"url(#clip982)\" style=\"fill:#009af9; stroke:none; fill-opacity:0\" cx=\"995.996\" cy=\"735.212\" r=\"2\"/>\n<circle clip-path=\"url(#clip982)\" style=\"fill:#009af9; stroke:none; fill-opacity:0\" cx=\"1040.87\" cy=\"879.44\" r=\"2\"/>\n<circle clip-path=\"url(#clip982)\" style=\"fill:#009af9; stroke:none; fill-opacity:0\" cx=\"1085.75\" cy=\"879.44\" r=\"2\"/>\n<circle clip-path=\"url(#clip982)\" style=\"fill:#009af9; stroke:none; fill-opacity:0\" cx=\"1130.63\" cy=\"1095.78\" r=\"2\"/>\n<circle clip-path=\"url(#clip982)\" style=\"fill:#009af9; stroke:none; fill-opacity:0\" cx=\"1175.5\" cy=\"1095.78\" r=\"2\"/>\n<circle clip-path=\"url(#clip982)\" style=\"fill:#009af9; stroke:none; fill-opacity:0\" cx=\"1220.38\" cy=\"1240.01\" r=\"2\"/>\n<circle clip-path=\"url(#clip982)\" style=\"fill:#009af9; stroke:none; fill-opacity:0\" cx=\"1265.25\" cy=\"230.414\" r=\"2\"/>\n<circle clip-path=\"url(#clip982)\" style=\"fill:#009af9; stroke:none; fill-opacity:0\" cx=\"1310.13\" cy=\"446.756\" r=\"2\"/>\n<circle clip-path=\"url(#clip982)\" style=\"fill:#009af9; stroke:none; fill-opacity:0\" cx=\"1355.01\" cy=\"1240.01\" r=\"2\"/>\n<circle clip-path=\"url(#clip982)\" style=\"fill:#009af9; stroke:none; fill-opacity:0\" cx=\"1399.88\" cy=\"1312.12\" r=\"2\"/>\n<circle clip-path=\"url(#clip982)\" style=\"fill:#009af9; stroke:none; fill-opacity:0\" cx=\"1444.76\" cy=\"951.554\" r=\"2\"/>\n<circle clip-path=\"url(#clip982)\" style=\"fill:#009af9; stroke:none; fill-opacity:0\" cx=\"1489.64\" cy=\"1384.24\" r=\"2\"/>\n<circle clip-path=\"url(#clip982)\" style=\"fill:#009af9; stroke:none; fill-opacity:0\" cx=\"1534.51\" cy=\"1095.78\" r=\"2\"/>\n<circle clip-path=\"url(#clip982)\" style=\"fill:#009af9; stroke:none; fill-opacity:0\" cx=\"1579.39\" cy=\"1167.9\" r=\"2\"/>\n<circle clip-path=\"url(#clip982)\" style=\"fill:#009af9; stroke:none; fill-opacity:0\" cx=\"1624.27\" cy=\"1240.01\" r=\"2\"/>\n<circle clip-path=\"url(#clip982)\" style=\"fill:#009af9; stroke:none; fill-opacity:0\" cx=\"1669.14\" cy=\"1384.24\" r=\"2\"/>\n<circle clip-path=\"url(#clip982)\" style=\"fill:#009af9; stroke:none; fill-opacity:0\" cx=\"1714.02\" cy=\"1384.24\" r=\"2\"/>\n<circle clip-path=\"url(#clip982)\" style=\"fill:#009af9; stroke:none; fill-opacity:0\" cx=\"1758.9\" cy=\"1384.24\" r=\"2\"/>\n<circle clip-path=\"url(#clip982)\" style=\"fill:#009af9; stroke:none; fill-opacity:0\" cx=\"1803.77\" cy=\"1240.01\" r=\"2\"/>\n<circle clip-path=\"url(#clip982)\" style=\"fill:#009af9; stroke:none; fill-opacity:0\" cx=\"1848.65\" cy=\"1384.24\" r=\"2\"/>\n<circle clip-path=\"url(#clip982)\" style=\"fill:#009af9; stroke:none; fill-opacity:0\" cx=\"1893.53\" cy=\"1384.24\" r=\"2\"/>\n<circle clip-path=\"url(#clip982)\" style=\"fill:#009af9; stroke:none; fill-opacity:0\" cx=\"1938.4\" cy=\"1384.24\" r=\"2\"/>\n<circle clip-path=\"url(#clip982)\" style=\"fill:#009af9; stroke:none; fill-opacity:0\" cx=\"1983.28\" cy=\"1384.24\" r=\"2\"/>\n<circle clip-path=\"url(#clip982)\" style=\"fill:#009af9; stroke:none; fill-opacity:0\" cx=\"2028.16\" cy=\"1312.12\" r=\"2\"/>\n<circle clip-path=\"url(#clip982)\" style=\"fill:#009af9; stroke:none; fill-opacity:0\" cx=\"2073.03\" cy=\"1384.24\" r=\"2\"/>\n<circle clip-path=\"url(#clip982)\" style=\"fill:#009af9; stroke:none; fill-opacity:0\" cx=\"2117.91\" cy=\"1312.12\" r=\"2\"/>\n<circle clip-path=\"url(#clip982)\" style=\"fill:#009af9; stroke:none; fill-opacity:0\" cx=\"2162.78\" cy=\"1384.24\" r=\"2\"/>\n<circle clip-path=\"url(#clip982)\" style=\"fill:#009af9; stroke:none; fill-opacity:0\" cx=\"2207.66\" cy=\"1312.12\" r=\"2\"/>\n<circle clip-path=\"url(#clip982)\" style=\"fill:#009af9; stroke:none; fill-opacity:0\" cx=\"2252.54\" cy=\"1312.12\" r=\"2\"/>\n<circle clip-path=\"url(#clip982)\" style=\"fill:#009af9; stroke:none; fill-opacity:0\" cx=\"2297.41\" cy=\"1240.01\" r=\"2\"/>\n<circle clip-path=\"url(#clip982)\" style=\"fill:#009af9; stroke:none; fill-opacity:0\" cx=\"2342.29\" cy=\"1384.24\" r=\"2\"/>\n</svg>\n",
      "text/html": [
       "<?xml version=\"1.0\" encoding=\"utf-8\"?>\n",
       "<svg xmlns=\"http://www.w3.org/2000/svg\" xmlns:xlink=\"http://www.w3.org/1999/xlink\" width=\"600\" height=\"400\" viewBox=\"0 0 2400 1600\">\n",
       "<defs>\n",
       "  <clipPath id=\"clip030\">\n",
       "    <rect x=\"0\" y=\"0\" width=\"2400\" height=\"1600\"/>\n",
       "  </clipPath>\n",
       "</defs>\n",
       "<path clip-path=\"url(#clip030)\" d=\"\n",
       "M0 1600 L2400 1600 L2400 0 L0 0  Z\n",
       "  \" fill=\"#ffffff\" fill-rule=\"evenodd\" fill-opacity=\"1\"/>\n",
       "<defs>\n",
       "  <clipPath id=\"clip031\">\n",
       "    <rect x=\"480\" y=\"0\" width=\"1681\" height=\"1600\"/>\n",
       "  </clipPath>\n",
       "</defs>\n",
       "<path clip-path=\"url(#clip030)\" d=\"\n",
       "M202.227 1423.18 L2352.76 1423.18 L2352.76 47.2441 L202.227 47.2441  Z\n",
       "  \" fill=\"#ffffff\" fill-rule=\"evenodd\" fill-opacity=\"1\"/>\n",
       "<defs>\n",
       "  <clipPath id=\"clip032\">\n",
       "    <rect x=\"202\" y=\"47\" width=\"2152\" height=\"1377\"/>\n",
       "  </clipPath>\n",
       "</defs>\n",
       "<polyline clip-path=\"url(#clip032)\" style=\"stroke:#000000; stroke-linecap:butt; stroke-linejoin:round; stroke-width:2; stroke-opacity:0.1; fill:none\" points=\"\n",
       "  210.657,1423.18 210.657,47.2441 \n",
       "  \"/>\n",
       "<polyline clip-path=\"url(#clip032)\" style=\"stroke:#000000; stroke-linecap:butt; stroke-linejoin:round; stroke-width:2; stroke-opacity:0.1; fill:none\" points=\"\n",
       "  659.422,1423.18 659.422,47.2441 \n",
       "  \"/>\n",
       "<polyline clip-path=\"url(#clip032)\" style=\"stroke:#000000; stroke-linecap:butt; stroke-linejoin:round; stroke-width:2; stroke-opacity:0.1; fill:none\" points=\"\n",
       "  1108.19,1423.18 1108.19,47.2441 \n",
       "  \"/>\n",
       "<polyline clip-path=\"url(#clip032)\" style=\"stroke:#000000; stroke-linecap:butt; stroke-linejoin:round; stroke-width:2; stroke-opacity:0.1; fill:none\" points=\"\n",
       "  1556.95,1423.18 1556.95,47.2441 \n",
       "  \"/>\n",
       "<polyline clip-path=\"url(#clip032)\" style=\"stroke:#000000; stroke-linecap:butt; stroke-linejoin:round; stroke-width:2; stroke-opacity:0.1; fill:none\" points=\"\n",
       "  2005.72,1423.18 2005.72,47.2441 \n",
       "  \"/>\n",
       "<polyline clip-path=\"url(#clip030)\" style=\"stroke:#000000; stroke-linecap:butt; stroke-linejoin:round; stroke-width:4; stroke-opacity:1; fill:none\" points=\"\n",
       "  202.227,1423.18 2352.76,1423.18 \n",
       "  \"/>\n",
       "<polyline clip-path=\"url(#clip030)\" style=\"stroke:#000000; stroke-linecap:butt; stroke-linejoin:round; stroke-width:4; stroke-opacity:1; fill:none\" points=\"\n",
       "  210.657,1423.18 210.657,1404.28 \n",
       "  \"/>\n",
       "<polyline clip-path=\"url(#clip030)\" style=\"stroke:#000000; stroke-linecap:butt; stroke-linejoin:round; stroke-width:4; stroke-opacity:1; fill:none\" points=\"\n",
       "  659.422,1423.18 659.422,1404.28 \n",
       "  \"/>\n",
       "<polyline clip-path=\"url(#clip030)\" style=\"stroke:#000000; stroke-linecap:butt; stroke-linejoin:round; stroke-width:4; stroke-opacity:1; fill:none\" points=\"\n",
       "  1108.19,1423.18 1108.19,1404.28 \n",
       "  \"/>\n",
       "<polyline clip-path=\"url(#clip030)\" style=\"stroke:#000000; stroke-linecap:butt; stroke-linejoin:round; stroke-width:4; stroke-opacity:1; fill:none\" points=\"\n",
       "  1556.95,1423.18 1556.95,1404.28 \n",
       "  \"/>\n",
       "<polyline clip-path=\"url(#clip030)\" style=\"stroke:#000000; stroke-linecap:butt; stroke-linejoin:round; stroke-width:4; stroke-opacity:1; fill:none\" points=\"\n",
       "  2005.72,1423.18 2005.72,1404.28 \n",
       "  \"/>\n",
       "<path clip-path=\"url(#clip030)\" d=\"M162.729 1481.64 L170.368 1481.64 L170.368 1455.28 L162.058 1456.95 L162.058 1452.69 L170.322 1451.02 L174.998 1451.02 L174.998 1481.64 L182.636 1481.64 L182.636 1485.58 L162.729 1485.58 L162.729 1481.64 Z\" fill=\"#000000\" fill-rule=\"evenodd\" fill-opacity=\"1\" /><path clip-path=\"url(#clip030)\" d=\"M192.127 1451.02 L210.483 1451.02 L210.483 1454.96 L196.409 1454.96 L196.409 1463.43 Q197.428 1463.08 198.446 1462.92 Q199.465 1462.73 200.484 1462.73 Q206.271 1462.73 209.65 1465.9 Q213.03 1469.08 213.03 1474.49 Q213.03 1480.07 209.558 1483.17 Q206.085 1486.25 199.766 1486.25 Q197.59 1486.25 195.322 1485.88 Q193.076 1485.51 190.669 1484.77 L190.669 1480.07 Q192.752 1481.2 194.974 1481.76 Q197.196 1482.32 199.673 1482.32 Q203.678 1482.32 206.016 1480.21 Q208.354 1478.1 208.354 1474.49 Q208.354 1470.88 206.016 1468.77 Q203.678 1466.67 199.673 1466.67 Q197.798 1466.67 195.923 1467.08 Q194.072 1467.5 192.127 1468.38 L192.127 1451.02 Z\" fill=\"#000000\" fill-rule=\"evenodd\" fill-opacity=\"1\" /><path clip-path=\"url(#clip030)\" d=\"M222.243 1479.7 L227.127 1479.7 L227.127 1485.58 L222.243 1485.58 L222.243 1479.7 Z\" fill=\"#000000\" fill-rule=\"evenodd\" fill-opacity=\"1\" /><path clip-path=\"url(#clip030)\" d=\"M247.312 1454.1 Q243.701 1454.1 241.872 1457.66 Q240.067 1461.2 240.067 1468.33 Q240.067 1475.44 241.872 1479.01 Q243.701 1482.55 247.312 1482.55 Q250.946 1482.55 252.752 1479.01 Q254.58 1475.44 254.58 1468.33 Q254.58 1461.2 252.752 1457.66 Q250.946 1454.1 247.312 1454.1 M247.312 1450.39 Q253.122 1450.39 256.178 1455 Q259.256 1459.58 259.256 1468.33 Q259.256 1477.06 256.178 1481.67 Q253.122 1486.25 247.312 1486.25 Q241.502 1486.25 238.423 1481.67 Q235.368 1477.06 235.368 1468.33 Q235.368 1459.58 238.423 1455 Q241.502 1450.39 247.312 1450.39 Z\" fill=\"#000000\" fill-rule=\"evenodd\" fill-opacity=\"1\" /><path clip-path=\"url(#clip030)\" d=\"M611.992 1481.64 L619.631 1481.64 L619.631 1455.28 L611.321 1456.95 L611.321 1452.69 L619.584 1451.02 L624.26 1451.02 L624.26 1481.64 L631.899 1481.64 L631.899 1485.58 L611.992 1485.58 L611.992 1481.64 Z\" fill=\"#000000\" fill-rule=\"evenodd\" fill-opacity=\"1\" /><path clip-path=\"url(#clip030)\" d=\"M641.39 1451.02 L659.746 1451.02 L659.746 1454.96 L645.672 1454.96 L645.672 1463.43 Q646.691 1463.08 647.709 1462.92 Q648.728 1462.73 649.746 1462.73 Q655.533 1462.73 658.913 1465.9 Q662.292 1469.08 662.292 1474.49 Q662.292 1480.07 658.82 1483.17 Q655.348 1486.25 649.029 1486.25 Q646.853 1486.25 644.584 1485.88 Q642.339 1485.51 639.931 1484.77 L639.931 1480.07 Q642.015 1481.2 644.237 1481.76 Q646.459 1482.32 648.936 1482.32 Q652.941 1482.32 655.279 1480.21 Q657.617 1478.1 657.617 1474.49 Q657.617 1470.88 655.279 1468.77 Q652.941 1466.67 648.936 1466.67 Q647.061 1466.67 645.186 1467.08 Q643.334 1467.5 641.39 1468.38 L641.39 1451.02 Z\" fill=\"#000000\" fill-rule=\"evenodd\" fill-opacity=\"1\" /><path clip-path=\"url(#clip030)\" d=\"M671.505 1479.7 L676.39 1479.7 L676.39 1485.58 L671.505 1485.58 L671.505 1479.7 Z\" fill=\"#000000\" fill-rule=\"evenodd\" fill-opacity=\"1\" /><path clip-path=\"url(#clip030)\" d=\"M686.621 1451.02 L704.977 1451.02 L704.977 1454.96 L690.903 1454.96 L690.903 1463.43 Q691.922 1463.08 692.94 1462.92 Q693.959 1462.73 694.977 1462.73 Q700.764 1462.73 704.144 1465.9 Q707.524 1469.08 707.524 1474.49 Q707.524 1480.07 704.051 1483.17 Q700.579 1486.25 694.26 1486.25 Q692.084 1486.25 689.815 1485.88 Q687.57 1485.51 685.163 1484.77 L685.163 1480.07 Q687.246 1481.2 689.468 1481.76 Q691.69 1482.32 694.167 1482.32 Q698.172 1482.32 700.51 1480.21 Q702.848 1478.1 702.848 1474.49 Q702.848 1470.88 700.51 1468.77 Q698.172 1466.67 694.167 1466.67 Q692.292 1466.67 690.417 1467.08 Q688.565 1467.5 686.621 1468.38 L686.621 1451.02 Z\" fill=\"#000000\" fill-rule=\"evenodd\" fill-opacity=\"1\" /><path clip-path=\"url(#clip030)\" d=\"M1060.26 1481.64 L1067.9 1481.64 L1067.9 1455.28 L1059.59 1456.95 L1059.59 1452.69 L1067.85 1451.02 L1072.53 1451.02 L1072.53 1481.64 L1080.17 1481.64 L1080.17 1485.58 L1060.26 1485.58 L1060.26 1481.64 Z\" fill=\"#000000\" fill-rule=\"evenodd\" fill-opacity=\"1\" /><path clip-path=\"url(#clip030)\" d=\"M1100.19 1466.44 Q1097.04 1466.44 1095.19 1468.59 Q1093.36 1470.74 1093.36 1474.49 Q1093.36 1478.22 1095.19 1480.39 Q1097.04 1482.55 1100.19 1482.55 Q1103.34 1482.55 1105.17 1480.39 Q1107.02 1478.22 1107.02 1474.49 Q1107.02 1470.74 1105.17 1468.59 Q1103.34 1466.44 1100.19 1466.44 M1109.47 1451.78 L1109.47 1456.04 Q1107.71 1455.21 1105.91 1454.77 Q1104.12 1454.33 1102.37 1454.33 Q1097.74 1454.33 1095.28 1457.45 Q1092.85 1460.58 1092.5 1466.9 Q1093.87 1464.89 1095.93 1463.82 Q1097.99 1462.73 1100.47 1462.73 Q1105.68 1462.73 1108.68 1465.9 Q1111.72 1469.05 1111.72 1474.49 Q1111.72 1479.82 1108.57 1483.03 Q1105.42 1486.25 1100.19 1486.25 Q1094.19 1486.25 1091.02 1481.67 Q1087.85 1477.06 1087.85 1468.33 Q1087.85 1460.14 1091.74 1455.28 Q1095.63 1450.39 1102.18 1450.39 Q1103.94 1450.39 1105.72 1450.74 Q1107.53 1451.09 1109.47 1451.78 Z\" fill=\"#000000\" fill-rule=\"evenodd\" fill-opacity=\"1\" /><path clip-path=\"url(#clip030)\" d=\"M1119.77 1479.7 L1124.66 1479.7 L1124.66 1485.58 L1119.77 1485.58 L1119.77 1479.7 Z\" fill=\"#000000\" fill-rule=\"evenodd\" fill-opacity=\"1\" /><path clip-path=\"url(#clip030)\" d=\"M1144.84 1454.1 Q1141.23 1454.1 1139.4 1457.66 Q1137.6 1461.2 1137.6 1468.33 Q1137.6 1475.44 1139.4 1479.01 Q1141.23 1482.55 1144.84 1482.55 Q1148.48 1482.55 1150.28 1479.01 Q1152.11 1475.44 1152.11 1468.33 Q1152.11 1461.2 1150.28 1457.66 Q1148.48 1454.1 1144.84 1454.1 M1144.84 1450.39 Q1150.65 1450.39 1153.71 1455 Q1156.79 1459.58 1156.79 1468.33 Q1156.79 1477.06 1153.71 1481.67 Q1150.65 1486.25 1144.84 1486.25 Q1139.03 1486.25 1135.95 1481.67 Q1132.9 1477.06 1132.9 1468.33 Q1132.9 1459.58 1135.95 1455 Q1139.03 1450.39 1144.84 1450.39 Z\" fill=\"#000000\" fill-rule=\"evenodd\" fill-opacity=\"1\" /><path clip-path=\"url(#clip030)\" d=\"M1509.52 1481.64 L1517.16 1481.64 L1517.16 1455.28 L1508.85 1456.95 L1508.85 1452.69 L1517.11 1451.02 L1521.79 1451.02 L1521.79 1481.64 L1529.43 1481.64 L1529.43 1485.58 L1509.52 1485.58 L1509.52 1481.64 Z\" fill=\"#000000\" fill-rule=\"evenodd\" fill-opacity=\"1\" /><path clip-path=\"url(#clip030)\" d=\"M1549.45 1466.44 Q1546.3 1466.44 1544.45 1468.59 Q1542.62 1470.74 1542.62 1474.49 Q1542.62 1478.22 1544.45 1480.39 Q1546.3 1482.55 1549.45 1482.55 Q1552.6 1482.55 1554.43 1480.39 Q1556.28 1478.22 1556.28 1474.49 Q1556.28 1470.74 1554.43 1468.59 Q1552.6 1466.44 1549.45 1466.44 M1558.73 1451.78 L1558.73 1456.04 Q1556.98 1455.21 1555.17 1454.77 Q1553.39 1454.33 1551.63 1454.33 Q1547 1454.33 1544.54 1457.45 Q1542.11 1460.58 1541.77 1466.9 Q1543.13 1464.89 1545.19 1463.82 Q1547.25 1462.73 1549.73 1462.73 Q1554.94 1462.73 1557.95 1465.9 Q1560.98 1469.05 1560.98 1474.49 Q1560.98 1479.82 1557.83 1483.03 Q1554.68 1486.25 1549.45 1486.25 Q1543.46 1486.25 1540.29 1481.67 Q1537.11 1477.06 1537.11 1468.33 Q1537.11 1460.14 1541 1455.28 Q1544.89 1450.39 1551.44 1450.39 Q1553.2 1450.39 1554.98 1450.74 Q1556.79 1451.09 1558.73 1451.78 Z\" fill=\"#000000\" fill-rule=\"evenodd\" fill-opacity=\"1\" /><path clip-path=\"url(#clip030)\" d=\"M1569.04 1479.7 L1573.92 1479.7 L1573.92 1485.58 L1569.04 1485.58 L1569.04 1479.7 Z\" fill=\"#000000\" fill-rule=\"evenodd\" fill-opacity=\"1\" /><path clip-path=\"url(#clip030)\" d=\"M1584.15 1451.02 L1602.51 1451.02 L1602.51 1454.96 L1588.43 1454.96 L1588.43 1463.43 Q1589.45 1463.08 1590.47 1462.92 Q1591.49 1462.73 1592.51 1462.73 Q1598.29 1462.73 1601.67 1465.9 Q1605.05 1469.08 1605.05 1474.49 Q1605.05 1480.07 1601.58 1483.17 Q1598.11 1486.25 1591.79 1486.25 Q1589.61 1486.25 1587.35 1485.88 Q1585.1 1485.51 1582.69 1484.77 L1582.69 1480.07 Q1584.78 1481.2 1587 1481.76 Q1589.22 1482.32 1591.7 1482.32 Q1595.7 1482.32 1598.04 1480.21 Q1600.38 1478.1 1600.38 1474.49 Q1600.38 1470.88 1598.04 1468.77 Q1595.7 1466.67 1591.7 1466.67 Q1589.82 1466.67 1587.95 1467.08 Q1586.1 1467.5 1584.15 1468.38 L1584.15 1451.02 Z\" fill=\"#000000\" fill-rule=\"evenodd\" fill-opacity=\"1\" /><path clip-path=\"url(#clip030)\" d=\"M1957.79 1481.64 L1965.43 1481.64 L1965.43 1455.28 L1957.12 1456.95 L1957.12 1452.69 L1965.38 1451.02 L1970.06 1451.02 L1970.06 1481.64 L1977.7 1481.64 L1977.7 1485.58 L1957.79 1485.58 L1957.79 1481.64 Z\" fill=\"#000000\" fill-rule=\"evenodd\" fill-opacity=\"1\" /><path clip-path=\"url(#clip030)\" d=\"M1985.96 1451.02 L2008.18 1451.02 L2008.18 1453.01 L1995.64 1485.58 L1990.75 1485.58 L2002.56 1454.96 L1985.96 1454.96 L1985.96 1451.02 Z\" fill=\"#000000\" fill-rule=\"evenodd\" fill-opacity=\"1\" /><path clip-path=\"url(#clip030)\" d=\"M2017.3 1479.7 L2022.19 1479.7 L2022.19 1485.58 L2017.3 1485.58 L2017.3 1479.7 Z\" fill=\"#000000\" fill-rule=\"evenodd\" fill-opacity=\"1\" /><path clip-path=\"url(#clip030)\" d=\"M2042.37 1454.1 Q2038.76 1454.1 2036.93 1457.66 Q2035.13 1461.2 2035.13 1468.33 Q2035.13 1475.44 2036.93 1479.01 Q2038.76 1482.55 2042.37 1482.55 Q2046.01 1482.55 2047.81 1479.01 Q2049.64 1475.44 2049.64 1468.33 Q2049.64 1461.2 2047.81 1457.66 Q2046.01 1454.1 2042.37 1454.1 M2042.37 1450.39 Q2048.18 1450.39 2051.24 1455 Q2054.32 1459.58 2054.32 1468.33 Q2054.32 1477.06 2051.24 1481.67 Q2048.18 1486.25 2042.37 1486.25 Q2036.56 1486.25 2033.48 1481.67 Q2030.43 1477.06 2030.43 1468.33 Q2030.43 1459.58 2033.48 1455 Q2036.56 1450.39 2042.37 1450.39 Z\" fill=\"#000000\" fill-rule=\"evenodd\" fill-opacity=\"1\" /><path clip-path=\"url(#clip030)\" d=\"M1108.83 1539.24 Q1111.03 1535.29 1114.08 1533.41 Q1117.14 1531.54 1121.28 1531.54 Q1126.85 1531.54 1129.87 1535.45 Q1132.89 1539.33 1132.89 1546.53 L1132.89 1568.04 L1127.01 1568.04 L1127.01 1546.72 Q1127.01 1541.59 1125.19 1539.11 Q1123.38 1536.63 1119.65 1536.63 Q1115.1 1536.63 1112.46 1539.65 Q1109.82 1542.68 1109.82 1547.9 L1109.82 1568.04 L1103.93 1568.04 L1103.93 1546.72 Q1103.93 1541.56 1102.12 1539.11 Q1100.3 1536.63 1096.51 1536.63 Q1092.03 1536.63 1089.39 1539.68 Q1086.74 1542.71 1086.74 1547.9 L1086.74 1568.04 L1080.86 1568.04 L1080.86 1532.4 L1086.74 1532.4 L1086.74 1537.93 Q1088.75 1534.66 1091.55 1533.1 Q1094.35 1531.54 1098.2 1531.54 Q1102.08 1531.54 1104.79 1533.51 Q1107.53 1535.48 1108.83 1539.24 Z\" fill=\"#000000\" fill-rule=\"evenodd\" fill-opacity=\"1\" /><path clip-path=\"url(#clip030)\" d=\"M1144.58 1532.4 L1150.43 1532.4 L1150.43 1568.04 L1144.58 1568.04 L1144.58 1532.4 M1144.58 1518.52 L1150.43 1518.52 L1150.43 1525.93 L1144.58 1525.93 L1144.58 1518.52 Z\" fill=\"#000000\" fill-rule=\"evenodd\" fill-opacity=\"1\" /><path clip-path=\"url(#clip030)\" d=\"M1162.69 1518.52 L1168.54 1518.52 L1168.54 1568.04 L1162.69 1568.04 L1162.69 1518.52 Z\" fill=\"#000000\" fill-rule=\"evenodd\" fill-opacity=\"1\" /><path clip-path=\"url(#clip030)\" d=\"M1180.8 1518.52 L1186.65 1518.52 L1186.65 1568.04 L1180.8 1568.04 L1180.8 1518.52 Z\" fill=\"#000000\" fill-rule=\"evenodd\" fill-opacity=\"1\" /><path clip-path=\"url(#clip030)\" d=\"M1198.91 1532.4 L1204.76 1532.4 L1204.76 1568.04 L1198.91 1568.04 L1198.91 1532.4 M1198.91 1518.52 L1204.76 1518.52 L1204.76 1525.93 L1198.91 1525.93 L1198.91 1518.52 Z\" fill=\"#000000\" fill-rule=\"evenodd\" fill-opacity=\"1\" /><path clip-path=\"url(#clip030)\" d=\"M1239.74 1533.45 L1239.74 1538.98 Q1237.26 1537.71 1234.59 1537.07 Q1231.91 1536.44 1229.05 1536.44 Q1224.69 1536.44 1222.49 1537.77 Q1220.33 1539.11 1220.33 1541.79 Q1220.33 1543.82 1221.89 1545 Q1223.45 1546.15 1228.16 1547.2 L1230.16 1547.64 Q1236.4 1548.98 1239.01 1551.43 Q1241.65 1553.85 1241.65 1558.21 Q1241.65 1563.17 1237.71 1566.07 Q1233.79 1568.97 1226.92 1568.97 Q1224.05 1568.97 1220.93 1568.39 Q1217.85 1567.85 1214.41 1566.74 L1214.41 1560.69 Q1217.65 1562.38 1220.81 1563.24 Q1223.96 1564.07 1227.04 1564.07 Q1231.18 1564.07 1233.41 1562.66 Q1235.64 1561.23 1235.64 1558.65 Q1235.64 1556.27 1234.01 1554.99 Q1232.42 1553.72 1226.98 1552.54 L1224.94 1552.07 Q1219.5 1550.92 1217.08 1548.56 Q1214.66 1546.18 1214.66 1542.04 Q1214.66 1537.01 1218.23 1534.27 Q1221.79 1531.54 1228.35 1531.54 Q1231.59 1531.54 1234.46 1532.01 Q1237.32 1532.49 1239.74 1533.45 Z\" fill=\"#000000\" fill-rule=\"evenodd\" fill-opacity=\"1\" /><path clip-path=\"url(#clip030)\" d=\"M1281.47 1548.76 L1281.47 1551.62 L1254.54 1551.62 Q1254.93 1557.67 1258.17 1560.85 Q1261.45 1564 1267.27 1564 Q1270.65 1564 1273.8 1563.17 Q1276.98 1562.35 1280.1 1560.69 L1280.1 1566.23 Q1276.95 1567.57 1273.64 1568.27 Q1270.33 1568.97 1266.92 1568.97 Q1258.39 1568.97 1253.4 1564 Q1248.43 1559.04 1248.43 1550.57 Q1248.43 1541.82 1253.14 1536.69 Q1257.89 1531.54 1265.91 1531.54 Q1273.1 1531.54 1277.27 1536.18 Q1281.47 1540.8 1281.47 1548.76 M1275.61 1547.04 Q1275.55 1542.23 1272.91 1539.37 Q1270.3 1536.5 1265.97 1536.5 Q1261.07 1536.5 1258.11 1539.27 Q1255.18 1542.04 1254.73 1547.07 L1275.61 1547.04 Z\" fill=\"#000000\" fill-rule=\"evenodd\" fill-opacity=\"1\" /><path clip-path=\"url(#clip030)\" d=\"M1316.74 1533.76 L1316.74 1539.24 Q1314.25 1537.87 1311.74 1537.2 Q1309.26 1536.5 1306.71 1536.5 Q1301.01 1536.5 1297.86 1540.13 Q1294.71 1543.73 1294.71 1550.25 Q1294.71 1556.78 1297.86 1560.4 Q1301.01 1564 1306.71 1564 Q1309.26 1564 1311.74 1563.33 Q1314.25 1562.63 1316.74 1561.26 L1316.74 1566.68 Q1314.29 1567.82 1311.64 1568.39 Q1309.03 1568.97 1306.07 1568.97 Q1298.02 1568.97 1293.28 1563.91 Q1288.54 1558.85 1288.54 1550.25 Q1288.54 1541.53 1293.31 1536.53 Q1298.12 1531.54 1306.46 1531.54 Q1309.16 1531.54 1311.74 1532.11 Q1314.32 1532.65 1316.74 1533.76 Z\" fill=\"#000000\" fill-rule=\"evenodd\" fill-opacity=\"1\" /><path clip-path=\"url(#clip030)\" d=\"M1340.73 1536.5 Q1336.02 1536.5 1333.29 1540.19 Q1330.55 1543.85 1330.55 1550.25 Q1330.55 1556.65 1333.26 1560.34 Q1335.99 1564 1340.73 1564 Q1345.41 1564 1348.15 1560.31 Q1350.89 1556.62 1350.89 1550.25 Q1350.89 1543.92 1348.15 1540.23 Q1345.41 1536.5 1340.73 1536.5 M1340.73 1531.54 Q1348.37 1531.54 1352.73 1536.5 Q1357.09 1541.47 1357.09 1550.25 Q1357.09 1559 1352.73 1564 Q1348.37 1568.97 1340.73 1568.97 Q1333.06 1568.97 1328.7 1564 Q1324.38 1559 1324.38 1550.25 Q1324.38 1541.47 1328.7 1536.5 Q1333.06 1531.54 1340.73 1531.54 Z\" fill=\"#000000\" fill-rule=\"evenodd\" fill-opacity=\"1\" /><path clip-path=\"url(#clip030)\" d=\"M1396.43 1546.53 L1396.43 1568.04 L1390.58 1568.04 L1390.58 1546.72 Q1390.58 1541.66 1388.61 1539.14 Q1386.63 1536.63 1382.68 1536.63 Q1377.94 1536.63 1375.21 1539.65 Q1372.47 1542.68 1372.47 1547.9 L1372.47 1568.04 L1366.58 1568.04 L1366.58 1532.4 L1372.47 1532.4 L1372.47 1537.93 Q1374.57 1534.72 1377.4 1533.13 Q1380.27 1531.54 1383.99 1531.54 Q1390.13 1531.54 1393.28 1535.36 Q1396.43 1539.14 1396.43 1546.53 Z\" fill=\"#000000\" fill-rule=\"evenodd\" fill-opacity=\"1\" /><path clip-path=\"url(#clip030)\" d=\"M1431.57 1537.81 L1431.57 1518.52 L1437.43 1518.52 L1437.43 1568.04 L1431.57 1568.04 L1431.57 1562.7 Q1429.73 1565.88 1426.89 1567.44 Q1424.09 1568.97 1420.15 1568.97 Q1413.69 1568.97 1409.61 1563.81 Q1405.57 1558.65 1405.57 1550.25 Q1405.57 1541.85 1409.61 1536.69 Q1413.69 1531.54 1420.15 1531.54 Q1424.09 1531.54 1426.89 1533.1 Q1429.73 1534.62 1431.57 1537.81 M1411.62 1550.25 Q1411.62 1556.71 1414.26 1560.4 Q1416.93 1564.07 1421.58 1564.07 Q1426.23 1564.07 1428.9 1560.4 Q1431.57 1556.71 1431.57 1550.25 Q1431.57 1543.79 1428.9 1540.13 Q1426.23 1536.44 1421.58 1536.44 Q1416.93 1536.44 1414.26 1540.13 Q1411.62 1543.79 1411.62 1550.25 Z\" fill=\"#000000\" fill-rule=\"evenodd\" fill-opacity=\"1\" /><path clip-path=\"url(#clip030)\" d=\"M1472.22 1533.45 L1472.22 1538.98 Q1469.74 1537.71 1467.06 1537.07 Q1464.39 1536.44 1461.52 1536.44 Q1457.16 1536.44 1454.97 1537.77 Q1452.8 1539.11 1452.8 1541.79 Q1452.8 1543.82 1454.36 1545 Q1455.92 1546.15 1460.63 1547.2 L1462.64 1547.64 Q1468.88 1548.98 1471.49 1551.43 Q1474.13 1553.85 1474.13 1558.21 Q1474.13 1563.17 1470.18 1566.07 Q1466.27 1568.97 1459.39 1568.97 Q1456.53 1568.97 1453.41 1568.39 Q1450.32 1567.85 1446.88 1566.74 L1446.88 1560.69 Q1450.13 1562.38 1453.28 1563.24 Q1456.43 1564.07 1459.52 1564.07 Q1463.66 1564.07 1465.88 1562.66 Q1468.11 1561.23 1468.11 1558.65 Q1468.11 1556.27 1466.49 1554.99 Q1464.9 1553.72 1459.46 1552.54 L1457.42 1552.07 Q1451.98 1550.92 1449.56 1548.56 Q1447.14 1546.18 1447.14 1542.04 Q1447.14 1537.01 1450.7 1534.27 Q1454.27 1531.54 1460.82 1531.54 Q1464.07 1531.54 1466.94 1532.01 Q1469.8 1532.49 1472.22 1533.45 Z\" fill=\"#000000\" fill-rule=\"evenodd\" fill-opacity=\"1\" /><polyline clip-path=\"url(#clip032)\" style=\"stroke:#000000; stroke-linecap:butt; stroke-linejoin:round; stroke-width:2; stroke-opacity:0.1; fill:none\" points=\"\n",
       "  202.227,1384.24 2352.76,1384.24 \n",
       "  \"/>\n",
       "<polyline clip-path=\"url(#clip032)\" style=\"stroke:#000000; stroke-linecap:butt; stroke-linejoin:round; stroke-width:2; stroke-opacity:0.1; fill:none\" points=\"\n",
       "  202.227,1023.67 2352.76,1023.67 \n",
       "  \"/>\n",
       "<polyline clip-path=\"url(#clip032)\" style=\"stroke:#000000; stroke-linecap:butt; stroke-linejoin:round; stroke-width:2; stroke-opacity:0.1; fill:none\" points=\"\n",
       "  202.227,663.098 2352.76,663.098 \n",
       "  \"/>\n",
       "<polyline clip-path=\"url(#clip032)\" style=\"stroke:#000000; stroke-linecap:butt; stroke-linejoin:round; stroke-width:2; stroke-opacity:0.1; fill:none\" points=\"\n",
       "  202.227,302.528 2352.76,302.528 \n",
       "  \"/>\n",
       "<polyline clip-path=\"url(#clip030)\" style=\"stroke:#000000; stroke-linecap:butt; stroke-linejoin:round; stroke-width:4; stroke-opacity:1; fill:none\" points=\"\n",
       "  202.227,1423.18 202.227,47.2441 \n",
       "  \"/>\n",
       "<polyline clip-path=\"url(#clip030)\" style=\"stroke:#000000; stroke-linecap:butt; stroke-linejoin:round; stroke-width:4; stroke-opacity:1; fill:none\" points=\"\n",
       "  202.227,1384.24 221.125,1384.24 \n",
       "  \"/>\n",
       "<polyline clip-path=\"url(#clip030)\" style=\"stroke:#000000; stroke-linecap:butt; stroke-linejoin:round; stroke-width:4; stroke-opacity:1; fill:none\" points=\"\n",
       "  202.227,1023.67 221.125,1023.67 \n",
       "  \"/>\n",
       "<polyline clip-path=\"url(#clip030)\" style=\"stroke:#000000; stroke-linecap:butt; stroke-linejoin:round; stroke-width:4; stroke-opacity:1; fill:none\" points=\"\n",
       "  202.227,663.098 221.125,663.098 \n",
       "  \"/>\n",
       "<polyline clip-path=\"url(#clip030)\" style=\"stroke:#000000; stroke-linecap:butt; stroke-linejoin:round; stroke-width:4; stroke-opacity:1; fill:none\" points=\"\n",
       "  202.227,302.528 221.125,302.528 \n",
       "  \"/>\n",
       "<path clip-path=\"url(#clip030)\" d=\"M154.283 1370.04 Q150.672 1370.04 148.843 1373.6 Q147.038 1377.14 147.038 1384.27 Q147.038 1391.38 148.843 1394.94 Q150.672 1398.49 154.283 1398.49 Q157.917 1398.49 159.723 1394.94 Q161.552 1391.38 161.552 1384.27 Q161.552 1377.14 159.723 1373.6 Q157.917 1370.04 154.283 1370.04 M154.283 1366.33 Q160.093 1366.33 163.149 1370.94 Q166.227 1375.52 166.227 1384.27 Q166.227 1393 163.149 1397.61 Q160.093 1402.19 154.283 1402.19 Q148.473 1402.19 145.394 1397.61 Q142.339 1393 142.339 1384.27 Q142.339 1375.52 145.394 1370.94 Q148.473 1366.33 154.283 1366.33 Z\" fill=\"#000000\" fill-rule=\"evenodd\" fill-opacity=\"1\" /><path clip-path=\"url(#clip030)\" d=\"M145.325 1006.39 L163.681 1006.39 L163.681 1010.32 L149.607 1010.32 L149.607 1018.8 Q150.626 1018.45 151.644 1018.29 Q152.663 1018.1 153.681 1018.1 Q159.468 1018.1 162.848 1021.27 Q166.227 1024.44 166.227 1029.86 Q166.227 1035.44 162.755 1038.54 Q159.283 1041.62 152.964 1041.62 Q150.788 1041.62 148.519 1041.25 Q146.274 1040.88 143.866 1040.14 L143.866 1035.44 Q145.95 1036.57 148.172 1037.13 Q150.394 1037.68 152.871 1037.68 Q156.876 1037.68 159.214 1035.58 Q161.552 1033.47 161.552 1029.86 Q161.552 1026.25 159.214 1024.14 Q156.876 1022.04 152.871 1022.04 Q150.996 1022.04 149.121 1022.45 Q147.269 1022.87 145.325 1023.75 L145.325 1006.39 Z\" fill=\"#000000\" fill-rule=\"evenodd\" fill-opacity=\"1\" /><path clip-path=\"url(#clip030)\" d=\"M114.931 676.443 L122.57 676.443 L122.57 650.077 L114.26 651.744 L114.26 647.485 L122.524 645.818 L127.2 645.818 L127.2 676.443 L134.839 676.443 L134.839 680.378 L114.931 680.378 L114.931 676.443 Z\" fill=\"#000000\" fill-rule=\"evenodd\" fill-opacity=\"1\" /><path clip-path=\"url(#clip030)\" d=\"M154.283 648.897 Q150.672 648.897 148.843 652.461 Q147.038 656.003 147.038 663.133 Q147.038 670.239 148.843 673.804 Q150.672 677.346 154.283 677.346 Q157.917 677.346 159.723 673.804 Q161.552 670.239 161.552 663.133 Q161.552 656.003 159.723 652.461 Q157.917 648.897 154.283 648.897 M154.283 645.193 Q160.093 645.193 163.149 649.799 Q166.227 654.383 166.227 663.133 Q166.227 671.859 163.149 676.466 Q160.093 681.049 154.283 681.049 Q148.473 681.049 145.394 676.466 Q142.339 671.859 142.339 663.133 Q142.339 654.383 145.394 649.799 Q148.473 645.193 154.283 645.193 Z\" fill=\"#000000\" fill-rule=\"evenodd\" fill-opacity=\"1\" /><path clip-path=\"url(#clip030)\" d=\"M115.927 315.873 L123.566 315.873 L123.566 289.507 L115.256 291.174 L115.256 286.914 L123.519 285.248 L128.195 285.248 L128.195 315.873 L135.834 315.873 L135.834 319.808 L115.927 319.808 L115.927 315.873 Z\" fill=\"#000000\" fill-rule=\"evenodd\" fill-opacity=\"1\" /><path clip-path=\"url(#clip030)\" d=\"M145.325 285.248 L163.681 285.248 L163.681 289.183 L149.607 289.183 L149.607 297.655 Q150.626 297.308 151.644 297.146 Q152.663 296.961 153.681 296.961 Q159.468 296.961 162.848 300.132 Q166.227 303.303 166.227 308.72 Q166.227 314.299 162.755 317.4 Q159.283 320.479 152.964 320.479 Q150.788 320.479 148.519 320.109 Q146.274 319.738 143.866 318.998 L143.866 314.299 Q145.95 315.433 148.172 315.988 Q150.394 316.544 152.871 316.544 Q156.876 316.544 159.214 314.437 Q161.552 312.331 161.552 308.72 Q161.552 305.109 159.214 303.002 Q156.876 300.896 152.871 300.896 Q150.996 300.896 149.121 301.312 Q147.269 301.729 145.325 302.609 L145.325 285.248 Z\" fill=\"#000000\" fill-rule=\"evenodd\" fill-opacity=\"1\" /><path clip-path=\"url(#clip030)\" d=\"M29.7248 796.386 L35.1993 796.386 Q33.8307 798.869 33.1623 801.383 Q32.4621 803.866 32.4621 806.412 Q32.4621 812.11 36.0905 815.261 Q39.6872 818.412 46.212 818.412 Q52.7369 818.412 56.3653 815.261 Q59.9619 812.11 59.9619 806.412 Q59.9619 803.866 59.2935 801.383 Q58.5933 798.869 57.2247 796.386 L62.6355 796.386 Q63.7814 798.837 64.3543 801.479 Q64.9272 804.089 64.9272 807.049 Q64.9272 815.102 59.8664 819.844 Q54.8057 824.586 46.212 824.586 Q37.491 824.586 32.4939 819.812 Q27.4968 815.006 27.4968 806.667 Q27.4968 803.962 28.0697 801.383 Q28.6108 798.805 29.7248 796.386 Z\" fill=\"#000000\" fill-rule=\"evenodd\" fill-opacity=\"1\" /><path clip-path=\"url(#clip030)\" d=\"M32.4621 772.388 Q32.4621 777.098 36.1542 779.836 Q39.8145 782.573 46.212 782.573 Q52.6095 782.573 56.3017 779.867 Q59.9619 777.13 59.9619 772.388 Q59.9619 767.709 56.2698 764.972 Q52.5777 762.234 46.212 762.234 Q39.8781 762.234 36.186 764.972 Q32.4621 767.709 32.4621 772.388 M27.4968 772.388 Q27.4968 764.749 32.4621 760.388 Q37.4273 756.028 46.212 756.028 Q54.9649 756.028 59.9619 760.388 Q64.9272 764.749 64.9272 772.388 Q64.9272 780.058 59.9619 784.419 Q54.9649 788.748 46.212 788.748 Q37.4273 788.748 32.4621 784.419 Q27.4968 780.058 27.4968 772.388 Z\" fill=\"#000000\" fill-rule=\"evenodd\" fill-opacity=\"1\" /><path clip-path=\"url(#clip030)\" d=\"M49.9359 746.925 L28.3562 746.925 L28.3562 741.068 L49.7131 741.068 Q54.7739 741.068 57.3202 739.095 Q59.8346 737.122 59.8346 733.175 Q59.8346 728.432 56.8109 725.695 Q53.7872 722.926 48.5673 722.926 L28.3562 722.926 L28.3562 717.07 L64.0042 717.07 L64.0042 722.926 L58.5296 722.926 Q61.7762 725.059 63.3676 727.891 Q64.9272 730.692 64.9272 734.416 Q64.9272 740.559 61.1078 743.742 Q57.2883 746.925 49.9359 746.925 M27.4968 732.188 L27.4968 732.188 Z\" fill=\"#000000\" fill-rule=\"evenodd\" fill-opacity=\"1\" /><path clip-path=\"url(#clip030)\" d=\"M42.4881 675.374 L64.0042 675.374 L64.0042 681.231 L42.679 681.231 Q37.6183 681.231 35.1038 683.204 Q32.5894 685.178 32.5894 689.124 Q32.5894 693.867 35.6131 696.604 Q38.6368 699.341 43.8567 699.341 L64.0042 699.341 L64.0042 705.229 L28.3562 705.229 L28.3562 699.341 L33.8944 699.341 Q30.6797 697.241 29.0883 694.408 Q27.4968 691.543 27.4968 687.819 Q27.4968 681.676 31.3163 678.525 Q35.1038 675.374 42.4881 675.374 Z\" fill=\"#000000\" fill-rule=\"evenodd\" fill-opacity=\"1\" /><path clip-path=\"url(#clip030)\" d=\"M18.2347 657.9 L28.3562 657.9 L28.3562 645.837 L32.9077 645.837 L32.9077 657.9 L52.2594 657.9 Q56.6199 657.9 57.8613 656.723 Q59.1026 655.513 59.1026 651.853 L59.1026 645.837 L64.0042 645.837 L64.0042 651.853 Q64.0042 658.633 61.4897 661.211 Q58.9434 663.789 52.2594 663.789 L32.9077 663.789 L32.9077 668.086 L28.3562 668.086 L28.3562 663.789 L18.2347 663.789 L18.2347 657.9 Z\" fill=\"#000000\" fill-rule=\"evenodd\" fill-opacity=\"1\" /><path clip-path=\"url(#clip032)\" d=\"\n",
       "M210.657 1095.78 L210.657 1384.24 L255.534 1384.24 L255.534 1095.78 L210.657 1095.78 L210.657 1095.78  Z\n",
       "  \" fill=\"#009af9\" fill-rule=\"evenodd\" fill-opacity=\"1\"/>\n",
       "<polyline clip-path=\"url(#clip032)\" style=\"stroke:#000000; stroke-linecap:butt; stroke-linejoin:round; stroke-width:4; stroke-opacity:1; fill:none\" points=\"\n",
       "  210.657,1095.78 210.657,1384.24 255.534,1384.24 255.534,1095.78 210.657,1095.78 \n",
       "  \"/>\n",
       "<path clip-path=\"url(#clip032)\" d=\"\n",
       "M255.534 1240.01 L255.534 1384.24 L300.41 1384.24 L300.41 1240.01 L255.534 1240.01 L255.534 1240.01  Z\n",
       "  \" fill=\"#009af9\" fill-rule=\"evenodd\" fill-opacity=\"1\"/>\n",
       "<polyline clip-path=\"url(#clip032)\" style=\"stroke:#000000; stroke-linecap:butt; stroke-linejoin:round; stroke-width:4; stroke-opacity:1; fill:none\" points=\"\n",
       "  255.534,1240.01 255.534,1384.24 300.41,1384.24 300.41,1240.01 255.534,1240.01 \n",
       "  \"/>\n",
       "<path clip-path=\"url(#clip032)\" d=\"\n",
       "M300.41 86.1857 L300.41 1384.24 L345.287 1384.24 L345.287 86.1857 L300.41 86.1857 L300.41 86.1857  Z\n",
       "  \" fill=\"#009af9\" fill-rule=\"evenodd\" fill-opacity=\"1\"/>\n",
       "<polyline clip-path=\"url(#clip032)\" style=\"stroke:#000000; stroke-linecap:butt; stroke-linejoin:round; stroke-width:4; stroke-opacity:1; fill:none\" points=\"\n",
       "  300.41,86.1857 300.41,1384.24 345.287,1384.24 345.287,86.1857 300.41,86.1857 \n",
       "  \"/>\n",
       "<path clip-path=\"url(#clip032)\" d=\"\n",
       "M345.287 663.098 L345.287 1384.24 L390.163 1384.24 L390.163 663.098 L345.287 663.098 L345.287 663.098  Z\n",
       "  \" fill=\"#009af9\" fill-rule=\"evenodd\" fill-opacity=\"1\"/>\n",
       "<polyline clip-path=\"url(#clip032)\" style=\"stroke:#000000; stroke-linecap:butt; stroke-linejoin:round; stroke-width:4; stroke-opacity:1; fill:none\" points=\"\n",
       "  345.287,663.098 345.287,1384.24 390.163,1384.24 390.163,663.098 345.287,663.098 \n",
       "  \"/>\n",
       "<path clip-path=\"url(#clip032)\" d=\"\n",
       "M390.163 1023.67 L390.163 1384.24 L435.04 1384.24 L435.04 1023.67 L390.163 1023.67 L390.163 1023.67  Z\n",
       "  \" fill=\"#009af9\" fill-rule=\"evenodd\" fill-opacity=\"1\"/>\n",
       "<polyline clip-path=\"url(#clip032)\" style=\"stroke:#000000; stroke-linecap:butt; stroke-linejoin:round; stroke-width:4; stroke-opacity:1; fill:none\" points=\"\n",
       "  390.163,1023.67 390.163,1384.24 435.04,1384.24 435.04,1023.67 390.163,1023.67 \n",
       "  \"/>\n",
       "<path clip-path=\"url(#clip032)\" d=\"\n",
       "M435.04 590.984 L435.04 1384.24 L479.916 1384.24 L479.916 590.984 L435.04 590.984 L435.04 590.984  Z\n",
       "  \" fill=\"#009af9\" fill-rule=\"evenodd\" fill-opacity=\"1\"/>\n",
       "<polyline clip-path=\"url(#clip032)\" style=\"stroke:#000000; stroke-linecap:butt; stroke-linejoin:round; stroke-width:4; stroke-opacity:1; fill:none\" points=\"\n",
       "  435.04,590.984 435.04,1384.24 479.916,1384.24 479.916,590.984 435.04,590.984 \n",
       "  \"/>\n",
       "<path clip-path=\"url(#clip032)\" d=\"\n",
       "M479.916 1023.67 L479.916 1384.24 L524.793 1384.24 L524.793 1023.67 L479.916 1023.67 L479.916 1023.67  Z\n",
       "  \" fill=\"#009af9\" fill-rule=\"evenodd\" fill-opacity=\"1\"/>\n",
       "<polyline clip-path=\"url(#clip032)\" style=\"stroke:#000000; stroke-linecap:butt; stroke-linejoin:round; stroke-width:4; stroke-opacity:1; fill:none\" points=\"\n",
       "  479.916,1023.67 479.916,1384.24 524.793,1384.24 524.793,1023.67 479.916,1023.67 \n",
       "  \"/>\n",
       "<path clip-path=\"url(#clip032)\" d=\"\n",
       "M524.793 879.44 L524.793 1384.24 L569.669 1384.24 L569.669 879.44 L524.793 879.44 L524.793 879.44  Z\n",
       "  \" fill=\"#009af9\" fill-rule=\"evenodd\" fill-opacity=\"1\"/>\n",
       "<polyline clip-path=\"url(#clip032)\" style=\"stroke:#000000; stroke-linecap:butt; stroke-linejoin:round; stroke-width:4; stroke-opacity:1; fill:none\" points=\"\n",
       "  524.793,879.44 524.793,1384.24 569.669,1384.24 569.669,879.44 524.793,879.44 \n",
       "  \"/>\n",
       "<path clip-path=\"url(#clip032)\" d=\"\n",
       "M569.669 807.326 L569.669 1384.24 L614.546 1384.24 L614.546 807.326 L569.669 807.326 L569.669 807.326  Z\n",
       "  \" fill=\"#009af9\" fill-rule=\"evenodd\" fill-opacity=\"1\"/>\n",
       "<polyline clip-path=\"url(#clip032)\" style=\"stroke:#000000; stroke-linecap:butt; stroke-linejoin:round; stroke-width:4; stroke-opacity:1; fill:none\" points=\"\n",
       "  569.669,807.326 569.669,1384.24 614.546,1384.24 614.546,807.326 569.669,807.326 \n",
       "  \"/>\n",
       "<path clip-path=\"url(#clip032)\" d=\"\n",
       "M614.546 302.528 L614.546 1384.24 L659.422 1384.24 L659.422 302.528 L614.546 302.528 L614.546 302.528  Z\n",
       "  \" fill=\"#009af9\" fill-rule=\"evenodd\" fill-opacity=\"1\"/>\n",
       "<polyline clip-path=\"url(#clip032)\" style=\"stroke:#000000; stroke-linecap:butt; stroke-linejoin:round; stroke-width:4; stroke-opacity:1; fill:none\" points=\"\n",
       "  614.546,302.528 614.546,1384.24 659.422,1384.24 659.422,302.528 614.546,302.528 \n",
       "  \"/>\n",
       "<path clip-path=\"url(#clip032)\" d=\"\n",
       "M659.422 1095.78 L659.422 1384.24 L704.299 1384.24 L704.299 1095.78 L659.422 1095.78 L659.422 1095.78  Z\n",
       "  \" fill=\"#009af9\" fill-rule=\"evenodd\" fill-opacity=\"1\"/>\n",
       "<polyline clip-path=\"url(#clip032)\" style=\"stroke:#000000; stroke-linecap:butt; stroke-linejoin:round; stroke-width:4; stroke-opacity:1; fill:none\" points=\"\n",
       "  659.422,1095.78 659.422,1384.24 704.299,1384.24 704.299,1095.78 659.422,1095.78 \n",
       "  \"/>\n",
       "<path clip-path=\"url(#clip032)\" d=\"\n",
       "M704.299 807.326 L704.299 1384.24 L749.175 1384.24 L749.175 807.326 L704.299 807.326 L704.299 807.326  Z\n",
       "  \" fill=\"#009af9\" fill-rule=\"evenodd\" fill-opacity=\"1\"/>\n",
       "<polyline clip-path=\"url(#clip032)\" style=\"stroke:#000000; stroke-linecap:butt; stroke-linejoin:round; stroke-width:4; stroke-opacity:1; fill:none\" points=\"\n",
       "  704.299,807.326 704.299,1384.24 749.175,1384.24 749.175,807.326 704.299,807.326 \n",
       "  \"/>\n",
       "<path clip-path=\"url(#clip032)\" d=\"\n",
       "M749.175 879.44 L749.175 1384.24 L794.052 1384.24 L794.052 879.44 L749.175 879.44 L749.175 879.44  Z\n",
       "  \" fill=\"#009af9\" fill-rule=\"evenodd\" fill-opacity=\"1\"/>\n",
       "<polyline clip-path=\"url(#clip032)\" style=\"stroke:#000000; stroke-linecap:butt; stroke-linejoin:round; stroke-width:4; stroke-opacity:1; fill:none\" points=\"\n",
       "  749.175,879.44 749.175,1384.24 794.052,1384.24 794.052,879.44 749.175,879.44 \n",
       "  \"/>\n",
       "<path clip-path=\"url(#clip032)\" d=\"\n",
       "M794.052 1023.67 L794.052 1384.24 L838.928 1384.24 L838.928 1023.67 L794.052 1023.67 L794.052 1023.67  Z\n",
       "  \" fill=\"#009af9\" fill-rule=\"evenodd\" fill-opacity=\"1\"/>\n",
       "<polyline clip-path=\"url(#clip032)\" style=\"stroke:#000000; stroke-linecap:butt; stroke-linejoin:round; stroke-width:4; stroke-opacity:1; fill:none\" points=\"\n",
       "  794.052,1023.67 794.052,1384.24 838.928,1384.24 838.928,1023.67 794.052,1023.67 \n",
       "  \"/>\n",
       "<path clip-path=\"url(#clip032)\" d=\"\n",
       "M838.928 807.326 L838.928 1384.24 L883.805 1384.24 L883.805 807.326 L838.928 807.326 L838.928 807.326  Z\n",
       "  \" fill=\"#009af9\" fill-rule=\"evenodd\" fill-opacity=\"1\"/>\n",
       "<polyline clip-path=\"url(#clip032)\" style=\"stroke:#000000; stroke-linecap:butt; stroke-linejoin:round; stroke-width:4; stroke-opacity:1; fill:none\" points=\"\n",
       "  838.928,807.326 838.928,1384.24 883.805,1384.24 883.805,807.326 838.928,807.326 \n",
       "  \"/>\n",
       "<path clip-path=\"url(#clip032)\" d=\"\n",
       "M883.805 302.528 L883.805 1384.24 L928.681 1384.24 L928.681 302.528 L883.805 302.528 L883.805 302.528  Z\n",
       "  \" fill=\"#009af9\" fill-rule=\"evenodd\" fill-opacity=\"1\"/>\n",
       "<polyline clip-path=\"url(#clip032)\" style=\"stroke:#000000; stroke-linecap:butt; stroke-linejoin:round; stroke-width:4; stroke-opacity:1; fill:none\" points=\"\n",
       "  883.805,302.528 883.805,1384.24 928.681,1384.24 928.681,302.528 883.805,302.528 \n",
       "  \"/>\n",
       "<path clip-path=\"url(#clip032)\" d=\"\n",
       "M928.681 374.642 L928.681 1384.24 L973.558 1384.24 L973.558 374.642 L928.681 374.642 L928.681 374.642  Z\n",
       "  \" fill=\"#009af9\" fill-rule=\"evenodd\" fill-opacity=\"1\"/>\n",
       "<polyline clip-path=\"url(#clip032)\" style=\"stroke:#000000; stroke-linecap:butt; stroke-linejoin:round; stroke-width:4; stroke-opacity:1; fill:none\" points=\"\n",
       "  928.681,374.642 928.681,1384.24 973.558,1384.24 973.558,374.642 928.681,374.642 \n",
       "  \"/>\n",
       "<path clip-path=\"url(#clip032)\" d=\"\n",
       "M973.558 735.212 L973.558 1384.24 L1018.43 1384.24 L1018.43 735.212 L973.558 735.212 L973.558 735.212  Z\n",
       "  \" fill=\"#009af9\" fill-rule=\"evenodd\" fill-opacity=\"1\"/>\n",
       "<polyline clip-path=\"url(#clip032)\" style=\"stroke:#000000; stroke-linecap:butt; stroke-linejoin:round; stroke-width:4; stroke-opacity:1; fill:none\" points=\"\n",
       "  973.558,735.212 973.558,1384.24 1018.43,1384.24 1018.43,735.212 973.558,735.212 \n",
       "  \"/>\n",
       "<path clip-path=\"url(#clip032)\" d=\"\n",
       "M1018.43 879.44 L1018.43 1384.24 L1063.31 1384.24 L1063.31 879.44 L1018.43 879.44 L1018.43 879.44  Z\n",
       "  \" fill=\"#009af9\" fill-rule=\"evenodd\" fill-opacity=\"1\"/>\n",
       "<polyline clip-path=\"url(#clip032)\" style=\"stroke:#000000; stroke-linecap:butt; stroke-linejoin:round; stroke-width:4; stroke-opacity:1; fill:none\" points=\"\n",
       "  1018.43,879.44 1018.43,1384.24 1063.31,1384.24 1063.31,879.44 1018.43,879.44 \n",
       "  \"/>\n",
       "<path clip-path=\"url(#clip032)\" d=\"\n",
       "M1063.31 879.44 L1063.31 1384.24 L1108.19 1384.24 L1108.19 879.44 L1063.31 879.44 L1063.31 879.44  Z\n",
       "  \" fill=\"#009af9\" fill-rule=\"evenodd\" fill-opacity=\"1\"/>\n",
       "<polyline clip-path=\"url(#clip032)\" style=\"stroke:#000000; stroke-linecap:butt; stroke-linejoin:round; stroke-width:4; stroke-opacity:1; fill:none\" points=\"\n",
       "  1063.31,879.44 1063.31,1384.24 1108.19,1384.24 1108.19,879.44 1063.31,879.44 \n",
       "  \"/>\n",
       "<path clip-path=\"url(#clip032)\" d=\"\n",
       "M1108.19 1095.78 L1108.19 1384.24 L1153.06 1384.24 L1153.06 1095.78 L1108.19 1095.78 L1108.19 1095.78  Z\n",
       "  \" fill=\"#009af9\" fill-rule=\"evenodd\" fill-opacity=\"1\"/>\n",
       "<polyline clip-path=\"url(#clip032)\" style=\"stroke:#000000; stroke-linecap:butt; stroke-linejoin:round; stroke-width:4; stroke-opacity:1; fill:none\" points=\"\n",
       "  1108.19,1095.78 1108.19,1384.24 1153.06,1384.24 1153.06,1095.78 1108.19,1095.78 \n",
       "  \"/>\n",
       "<path clip-path=\"url(#clip032)\" d=\"\n",
       "M1153.06 1095.78 L1153.06 1384.24 L1197.94 1384.24 L1197.94 1095.78 L1153.06 1095.78 L1153.06 1095.78  Z\n",
       "  \" fill=\"#009af9\" fill-rule=\"evenodd\" fill-opacity=\"1\"/>\n",
       "<polyline clip-path=\"url(#clip032)\" style=\"stroke:#000000; stroke-linecap:butt; stroke-linejoin:round; stroke-width:4; stroke-opacity:1; fill:none\" points=\"\n",
       "  1153.06,1095.78 1153.06,1384.24 1197.94,1384.24 1197.94,1095.78 1153.06,1095.78 \n",
       "  \"/>\n",
       "<path clip-path=\"url(#clip032)\" d=\"\n",
       "M1197.94 1240.01 L1197.94 1384.24 L1242.82 1384.24 L1242.82 1240.01 L1197.94 1240.01 L1197.94 1240.01  Z\n",
       "  \" fill=\"#009af9\" fill-rule=\"evenodd\" fill-opacity=\"1\"/>\n",
       "<polyline clip-path=\"url(#clip032)\" style=\"stroke:#000000; stroke-linecap:butt; stroke-linejoin:round; stroke-width:4; stroke-opacity:1; fill:none\" points=\"\n",
       "  1197.94,1240.01 1197.94,1384.24 1242.82,1384.24 1242.82,1240.01 1197.94,1240.01 \n",
       "  \"/>\n",
       "<path clip-path=\"url(#clip032)\" d=\"\n",
       "M1242.82 230.414 L1242.82 1384.24 L1287.69 1384.24 L1287.69 230.414 L1242.82 230.414 L1242.82 230.414  Z\n",
       "  \" fill=\"#009af9\" fill-rule=\"evenodd\" fill-opacity=\"1\"/>\n",
       "<polyline clip-path=\"url(#clip032)\" style=\"stroke:#000000; stroke-linecap:butt; stroke-linejoin:round; stroke-width:4; stroke-opacity:1; fill:none\" points=\"\n",
       "  1242.82,230.414 1242.82,1384.24 1287.69,1384.24 1287.69,230.414 1242.82,230.414 \n",
       "  \"/>\n",
       "<path clip-path=\"url(#clip032)\" d=\"\n",
       "M1287.69 446.756 L1287.69 1384.24 L1332.57 1384.24 L1332.57 446.756 L1287.69 446.756 L1287.69 446.756  Z\n",
       "  \" fill=\"#009af9\" fill-rule=\"evenodd\" fill-opacity=\"1\"/>\n",
       "<polyline clip-path=\"url(#clip032)\" style=\"stroke:#000000; stroke-linecap:butt; stroke-linejoin:round; stroke-width:4; stroke-opacity:1; fill:none\" points=\"\n",
       "  1287.69,446.756 1287.69,1384.24 1332.57,1384.24 1332.57,446.756 1287.69,446.756 \n",
       "  \"/>\n",
       "<path clip-path=\"url(#clip032)\" d=\"\n",
       "M1332.57 1240.01 L1332.57 1384.24 L1377.45 1384.24 L1377.45 1240.01 L1332.57 1240.01 L1332.57 1240.01  Z\n",
       "  \" fill=\"#009af9\" fill-rule=\"evenodd\" fill-opacity=\"1\"/>\n",
       "<polyline clip-path=\"url(#clip032)\" style=\"stroke:#000000; stroke-linecap:butt; stroke-linejoin:round; stroke-width:4; stroke-opacity:1; fill:none\" points=\"\n",
       "  1332.57,1240.01 1332.57,1384.24 1377.45,1384.24 1377.45,1240.01 1332.57,1240.01 \n",
       "  \"/>\n",
       "<path clip-path=\"url(#clip032)\" d=\"\n",
       "M1377.45 1312.12 L1377.45 1384.24 L1422.32 1384.24 L1422.32 1312.12 L1377.45 1312.12 L1377.45 1312.12  Z\n",
       "  \" fill=\"#009af9\" fill-rule=\"evenodd\" fill-opacity=\"1\"/>\n",
       "<polyline clip-path=\"url(#clip032)\" style=\"stroke:#000000; stroke-linecap:butt; stroke-linejoin:round; stroke-width:4; stroke-opacity:1; fill:none\" points=\"\n",
       "  1377.45,1312.12 1377.45,1384.24 1422.32,1384.24 1422.32,1312.12 1377.45,1312.12 \n",
       "  \"/>\n",
       "<path clip-path=\"url(#clip032)\" d=\"\n",
       "M1422.32 951.554 L1422.32 1384.24 L1467.2 1384.24 L1467.2 951.554 L1422.32 951.554 L1422.32 951.554  Z\n",
       "  \" fill=\"#009af9\" fill-rule=\"evenodd\" fill-opacity=\"1\"/>\n",
       "<polyline clip-path=\"url(#clip032)\" style=\"stroke:#000000; stroke-linecap:butt; stroke-linejoin:round; stroke-width:4; stroke-opacity:1; fill:none\" points=\"\n",
       "  1422.32,951.554 1422.32,1384.24 1467.2,1384.24 1467.2,951.554 1422.32,951.554 \n",
       "  \"/>\n",
       "<path clip-path=\"url(#clip032)\" d=\"\n",
       "M1467.2 1384.24 L1467.2 1384.24 L1512.08 1384.24 L1512.08 1384.24 L1467.2 1384.24 L1467.2 1384.24  Z\n",
       "  \" fill=\"#009af9\" fill-rule=\"evenodd\" fill-opacity=\"1\"/>\n",
       "<polyline clip-path=\"url(#clip032)\" style=\"stroke:#000000; stroke-linecap:butt; stroke-linejoin:round; stroke-width:4; stroke-opacity:1; fill:none\" points=\"\n",
       "  1467.2,1384.24 1467.2,1384.24 1512.08,1384.24 1467.2,1384.24 \n",
       "  \"/>\n",
       "<path clip-path=\"url(#clip032)\" d=\"\n",
       "M1512.08 1095.78 L1512.08 1384.24 L1556.95 1384.24 L1556.95 1095.78 L1512.08 1095.78 L1512.08 1095.78  Z\n",
       "  \" fill=\"#009af9\" fill-rule=\"evenodd\" fill-opacity=\"1\"/>\n",
       "<polyline clip-path=\"url(#clip032)\" style=\"stroke:#000000; stroke-linecap:butt; stroke-linejoin:round; stroke-width:4; stroke-opacity:1; fill:none\" points=\"\n",
       "  1512.08,1095.78 1512.08,1384.24 1556.95,1384.24 1556.95,1095.78 1512.08,1095.78 \n",
       "  \"/>\n",
       "<path clip-path=\"url(#clip032)\" d=\"\n",
       "M1556.95 1167.9 L1556.95 1384.24 L1601.83 1384.24 L1601.83 1167.9 L1556.95 1167.9 L1556.95 1167.9  Z\n",
       "  \" fill=\"#009af9\" fill-rule=\"evenodd\" fill-opacity=\"1\"/>\n",
       "<polyline clip-path=\"url(#clip032)\" style=\"stroke:#000000; stroke-linecap:butt; stroke-linejoin:round; stroke-width:4; stroke-opacity:1; fill:none\" points=\"\n",
       "  1556.95,1167.9 1556.95,1384.24 1601.83,1384.24 1601.83,1167.9 1556.95,1167.9 \n",
       "  \"/>\n",
       "<path clip-path=\"url(#clip032)\" d=\"\n",
       "M1601.83 1240.01 L1601.83 1384.24 L1646.71 1384.24 L1646.71 1240.01 L1601.83 1240.01 L1601.83 1240.01  Z\n",
       "  \" fill=\"#009af9\" fill-rule=\"evenodd\" fill-opacity=\"1\"/>\n",
       "<polyline clip-path=\"url(#clip032)\" style=\"stroke:#000000; stroke-linecap:butt; stroke-linejoin:round; stroke-width:4; stroke-opacity:1; fill:none\" points=\"\n",
       "  1601.83,1240.01 1601.83,1384.24 1646.71,1384.24 1646.71,1240.01 1601.83,1240.01 \n",
       "  \"/>\n",
       "<path clip-path=\"url(#clip032)\" d=\"\n",
       "M1646.71 1384.24 L1646.71 1384.24 L1691.58 1384.24 L1691.58 1384.24 L1646.71 1384.24 L1646.71 1384.24  Z\n",
       "  \" fill=\"#009af9\" fill-rule=\"evenodd\" fill-opacity=\"1\"/>\n",
       "<polyline clip-path=\"url(#clip032)\" style=\"stroke:#000000; stroke-linecap:butt; stroke-linejoin:round; stroke-width:4; stroke-opacity:1; fill:none\" points=\"\n",
       "  1646.71,1384.24 1646.71,1384.24 1691.58,1384.24 1646.71,1384.24 \n",
       "  \"/>\n",
       "<path clip-path=\"url(#clip032)\" d=\"\n",
       "M1691.58 1384.24 L1691.58 1384.24 L1736.46 1384.24 L1736.46 1384.24 L1691.58 1384.24 L1691.58 1384.24  Z\n",
       "  \" fill=\"#009af9\" fill-rule=\"evenodd\" fill-opacity=\"1\"/>\n",
       "<polyline clip-path=\"url(#clip032)\" style=\"stroke:#000000; stroke-linecap:butt; stroke-linejoin:round; stroke-width:4; stroke-opacity:1; fill:none\" points=\"\n",
       "  1691.58,1384.24 1691.58,1384.24 1736.46,1384.24 1691.58,1384.24 \n",
       "  \"/>\n",
       "<path clip-path=\"url(#clip032)\" d=\"\n",
       "M1736.46 1384.24 L1736.46 1384.24 L1781.33 1384.24 L1781.33 1384.24 L1736.46 1384.24 L1736.46 1384.24  Z\n",
       "  \" fill=\"#009af9\" fill-rule=\"evenodd\" fill-opacity=\"1\"/>\n",
       "<polyline clip-path=\"url(#clip032)\" style=\"stroke:#000000; stroke-linecap:butt; stroke-linejoin:round; stroke-width:4; stroke-opacity:1; fill:none\" points=\"\n",
       "  1736.46,1384.24 1736.46,1384.24 1781.33,1384.24 1736.46,1384.24 \n",
       "  \"/>\n",
       "<path clip-path=\"url(#clip032)\" d=\"\n",
       "M1781.33 1240.01 L1781.33 1384.24 L1826.21 1384.24 L1826.21 1240.01 L1781.33 1240.01 L1781.33 1240.01  Z\n",
       "  \" fill=\"#009af9\" fill-rule=\"evenodd\" fill-opacity=\"1\"/>\n",
       "<polyline clip-path=\"url(#clip032)\" style=\"stroke:#000000; stroke-linecap:butt; stroke-linejoin:round; stroke-width:4; stroke-opacity:1; fill:none\" points=\"\n",
       "  1781.33,1240.01 1781.33,1384.24 1826.21,1384.24 1826.21,1240.01 1781.33,1240.01 \n",
       "  \"/>\n",
       "<path clip-path=\"url(#clip032)\" d=\"\n",
       "M1826.21 1384.24 L1826.21 1384.24 L1871.09 1384.24 L1871.09 1384.24 L1826.21 1384.24 L1826.21 1384.24  Z\n",
       "  \" fill=\"#009af9\" fill-rule=\"evenodd\" fill-opacity=\"1\"/>\n",
       "<polyline clip-path=\"url(#clip032)\" style=\"stroke:#000000; stroke-linecap:butt; stroke-linejoin:round; stroke-width:4; stroke-opacity:1; fill:none\" points=\"\n",
       "  1826.21,1384.24 1826.21,1384.24 1871.09,1384.24 1826.21,1384.24 \n",
       "  \"/>\n",
       "<path clip-path=\"url(#clip032)\" d=\"\n",
       "M1871.09 1384.24 L1871.09 1384.24 L1915.96 1384.24 L1915.96 1384.24 L1871.09 1384.24 L1871.09 1384.24  Z\n",
       "  \" fill=\"#009af9\" fill-rule=\"evenodd\" fill-opacity=\"1\"/>\n",
       "<polyline clip-path=\"url(#clip032)\" style=\"stroke:#000000; stroke-linecap:butt; stroke-linejoin:round; stroke-width:4; stroke-opacity:1; fill:none\" points=\"\n",
       "  1871.09,1384.24 1871.09,1384.24 1915.96,1384.24 1871.09,1384.24 \n",
       "  \"/>\n",
       "<path clip-path=\"url(#clip032)\" d=\"\n",
       "M1915.96 1384.24 L1915.96 1384.24 L1960.84 1384.24 L1960.84 1384.24 L1915.96 1384.24 L1915.96 1384.24  Z\n",
       "  \" fill=\"#009af9\" fill-rule=\"evenodd\" fill-opacity=\"1\"/>\n",
       "<polyline clip-path=\"url(#clip032)\" style=\"stroke:#000000; stroke-linecap:butt; stroke-linejoin:round; stroke-width:4; stroke-opacity:1; fill:none\" points=\"\n",
       "  1915.96,1384.24 1915.96,1384.24 1960.84,1384.24 1915.96,1384.24 \n",
       "  \"/>\n",
       "<path clip-path=\"url(#clip032)\" d=\"\n",
       "M1960.84 1384.24 L1960.84 1384.24 L2005.72 1384.24 L2005.72 1384.24 L1960.84 1384.24 L1960.84 1384.24  Z\n",
       "  \" fill=\"#009af9\" fill-rule=\"evenodd\" fill-opacity=\"1\"/>\n",
       "<polyline clip-path=\"url(#clip032)\" style=\"stroke:#000000; stroke-linecap:butt; stroke-linejoin:round; stroke-width:4; stroke-opacity:1; fill:none\" points=\"\n",
       "  1960.84,1384.24 1960.84,1384.24 2005.72,1384.24 1960.84,1384.24 \n",
       "  \"/>\n",
       "<path clip-path=\"url(#clip032)\" d=\"\n",
       "M2005.72 1312.12 L2005.72 1384.24 L2050.59 1384.24 L2050.59 1312.12 L2005.72 1312.12 L2005.72 1312.12  Z\n",
       "  \" fill=\"#009af9\" fill-rule=\"evenodd\" fill-opacity=\"1\"/>\n",
       "<polyline clip-path=\"url(#clip032)\" style=\"stroke:#000000; stroke-linecap:butt; stroke-linejoin:round; stroke-width:4; stroke-opacity:1; fill:none\" points=\"\n",
       "  2005.72,1312.12 2005.72,1384.24 2050.59,1384.24 2050.59,1312.12 2005.72,1312.12 \n",
       "  \"/>\n",
       "<path clip-path=\"url(#clip032)\" d=\"\n",
       "M2050.59 1384.24 L2050.59 1384.24 L2095.47 1384.24 L2095.47 1384.24 L2050.59 1384.24 L2050.59 1384.24  Z\n",
       "  \" fill=\"#009af9\" fill-rule=\"evenodd\" fill-opacity=\"1\"/>\n",
       "<polyline clip-path=\"url(#clip032)\" style=\"stroke:#000000; stroke-linecap:butt; stroke-linejoin:round; stroke-width:4; stroke-opacity:1; fill:none\" points=\"\n",
       "  2050.59,1384.24 2050.59,1384.24 2095.47,1384.24 2050.59,1384.24 \n",
       "  \"/>\n",
       "<path clip-path=\"url(#clip032)\" d=\"\n",
       "M2095.47 1312.12 L2095.47 1384.24 L2140.35 1384.24 L2140.35 1312.12 L2095.47 1312.12 L2095.47 1312.12  Z\n",
       "  \" fill=\"#009af9\" fill-rule=\"evenodd\" fill-opacity=\"1\"/>\n",
       "<polyline clip-path=\"url(#clip032)\" style=\"stroke:#000000; stroke-linecap:butt; stroke-linejoin:round; stroke-width:4; stroke-opacity:1; fill:none\" points=\"\n",
       "  2095.47,1312.12 2095.47,1384.24 2140.35,1384.24 2140.35,1312.12 2095.47,1312.12 \n",
       "  \"/>\n",
       "<path clip-path=\"url(#clip032)\" d=\"\n",
       "M2140.35 1384.24 L2140.35 1384.24 L2185.22 1384.24 L2185.22 1384.24 L2140.35 1384.24 L2140.35 1384.24  Z\n",
       "  \" fill=\"#009af9\" fill-rule=\"evenodd\" fill-opacity=\"1\"/>\n",
       "<polyline clip-path=\"url(#clip032)\" style=\"stroke:#000000; stroke-linecap:butt; stroke-linejoin:round; stroke-width:4; stroke-opacity:1; fill:none\" points=\"\n",
       "  2140.35,1384.24 2140.35,1384.24 2185.22,1384.24 2140.35,1384.24 \n",
       "  \"/>\n",
       "<path clip-path=\"url(#clip032)\" d=\"\n",
       "M2185.22 1312.12 L2185.22 1384.24 L2230.1 1384.24 L2230.1 1312.12 L2185.22 1312.12 L2185.22 1312.12  Z\n",
       "  \" fill=\"#009af9\" fill-rule=\"evenodd\" fill-opacity=\"1\"/>\n",
       "<polyline clip-path=\"url(#clip032)\" style=\"stroke:#000000; stroke-linecap:butt; stroke-linejoin:round; stroke-width:4; stroke-opacity:1; fill:none\" points=\"\n",
       "  2185.22,1312.12 2185.22,1384.24 2230.1,1384.24 2230.1,1312.12 2185.22,1312.12 \n",
       "  \"/>\n",
       "<path clip-path=\"url(#clip032)\" d=\"\n",
       "M2230.1 1312.12 L2230.1 1384.24 L2274.98 1384.24 L2274.98 1312.12 L2230.1 1312.12 L2230.1 1312.12  Z\n",
       "  \" fill=\"#009af9\" fill-rule=\"evenodd\" fill-opacity=\"1\"/>\n",
       "<polyline clip-path=\"url(#clip032)\" style=\"stroke:#000000; stroke-linecap:butt; stroke-linejoin:round; stroke-width:4; stroke-opacity:1; fill:none\" points=\"\n",
       "  2230.1,1312.12 2230.1,1384.24 2274.98,1384.24 2274.98,1312.12 2230.1,1312.12 \n",
       "  \"/>\n",
       "<path clip-path=\"url(#clip032)\" d=\"\n",
       "M2274.98 1240.01 L2274.98 1384.24 L2319.85 1384.24 L2319.85 1240.01 L2274.98 1240.01 L2274.98 1240.01  Z\n",
       "  \" fill=\"#009af9\" fill-rule=\"evenodd\" fill-opacity=\"1\"/>\n",
       "<polyline clip-path=\"url(#clip032)\" style=\"stroke:#000000; stroke-linecap:butt; stroke-linejoin:round; stroke-width:4; stroke-opacity:1; fill:none\" points=\"\n",
       "  2274.98,1240.01 2274.98,1384.24 2319.85,1384.24 2319.85,1240.01 2274.98,1240.01 \n",
       "  \"/>\n",
       "<path clip-path=\"url(#clip032)\" d=\"\n",
       "M2319.85 1384.24 L2319.85 1384.24 L2364.73 1384.24 L2364.73 1384.24 L2319.85 1384.24 L2319.85 1384.24  Z\n",
       "  \" fill=\"#009af9\" fill-rule=\"evenodd\" fill-opacity=\"1\"/>\n",
       "<polyline clip-path=\"url(#clip032)\" style=\"stroke:#000000; stroke-linecap:butt; stroke-linejoin:round; stroke-width:4; stroke-opacity:1; fill:none\" points=\"\n",
       "  2319.85,1384.24 2319.85,1384.24 2364.73,1384.24 2319.85,1384.24 \n",
       "  \"/>\n",
       "<path clip-path=\"url(#clip032)\" d=\"\n",
       "M2364.73 1384.24 L2364.73 1384.24 L2409.61 1384.24 L2409.61 1384.24 L2364.73 1384.24 L2364.73 1384.24  Z\n",
       "  \" fill=\"#009af9\" fill-rule=\"evenodd\" fill-opacity=\"1\"/>\n",
       "<polyline clip-path=\"url(#clip032)\" style=\"stroke:#000000; stroke-linecap:butt; stroke-linejoin:round; stroke-width:4; stroke-opacity:1; fill:none\" points=\"\n",
       "  2364.73,1384.24 2364.73,1384.24 2409.61,1384.24 2364.73,1384.24 \n",
       "  \"/>\n",
       "<path clip-path=\"url(#clip032)\" d=\"\n",
       "M2409.61 1240.01 L2409.61 1384.24 L2454.48 1384.24 L2454.48 1240.01 L2409.61 1240.01 L2409.61 1240.01  Z\n",
       "  \" fill=\"#009af9\" fill-rule=\"evenodd\" fill-opacity=\"1\"/>\n",
       "<polyline clip-path=\"url(#clip032)\" style=\"stroke:#000000; stroke-linecap:butt; stroke-linejoin:round; stroke-width:4; stroke-opacity:1; fill:none\" points=\"\n",
       "  2409.61,1240.01 2409.61,1384.24 2454.48,1384.24 2454.48,1240.01 2409.61,1240.01 \n",
       "  \"/>\n",
       "<path clip-path=\"url(#clip032)\" d=\"\n",
       "M2454.48 1312.12 L2454.48 1384.24 L2499.36 1384.24 L2499.36 1312.12 L2454.48 1312.12 L2454.48 1312.12  Z\n",
       "  \" fill=\"#009af9\" fill-rule=\"evenodd\" fill-opacity=\"1\"/>\n",
       "<polyline clip-path=\"url(#clip032)\" style=\"stroke:#000000; stroke-linecap:butt; stroke-linejoin:round; stroke-width:4; stroke-opacity:1; fill:none\" points=\"\n",
       "  2454.48,1312.12 2454.48,1384.24 2499.36,1384.24 2499.36,1312.12 2454.48,1312.12 \n",
       "  \"/>\n",
       "<path clip-path=\"url(#clip032)\" d=\"\n",
       "M2499.36 1384.24 L2499.36 1384.24 L2544.24 1384.24 L2544.24 1384.24 L2499.36 1384.24 L2499.36 1384.24  Z\n",
       "  \" fill=\"#009af9\" fill-rule=\"evenodd\" fill-opacity=\"1\"/>\n",
       "<polyline clip-path=\"url(#clip032)\" style=\"stroke:#000000; stroke-linecap:butt; stroke-linejoin:round; stroke-width:4; stroke-opacity:1; fill:none\" points=\"\n",
       "  2499.36,1384.24 2499.36,1384.24 2544.24,1384.24 2499.36,1384.24 \n",
       "  \"/>\n",
       "<path clip-path=\"url(#clip032)\" d=\"\n",
       "M2544.24 1384.24 L2544.24 1384.24 L2589.11 1384.24 L2589.11 1384.24 L2544.24 1384.24 L2544.24 1384.24  Z\n",
       "  \" fill=\"#009af9\" fill-rule=\"evenodd\" fill-opacity=\"1\"/>\n",
       "<polyline clip-path=\"url(#clip032)\" style=\"stroke:#000000; stroke-linecap:butt; stroke-linejoin:round; stroke-width:4; stroke-opacity:1; fill:none\" points=\"\n",
       "  2544.24,1384.24 2544.24,1384.24 2589.11,1384.24 2544.24,1384.24 \n",
       "  \"/>\n",
       "<path clip-path=\"url(#clip032)\" d=\"\n",
       "M2589.11 1384.24 L2589.11 1384.24 L2633.99 1384.24 L2633.99 1384.24 L2589.11 1384.24 L2589.11 1384.24  Z\n",
       "  \" fill=\"#009af9\" fill-rule=\"evenodd\" fill-opacity=\"1\"/>\n",
       "<polyline clip-path=\"url(#clip032)\" style=\"stroke:#000000; stroke-linecap:butt; stroke-linejoin:round; stroke-width:4; stroke-opacity:1; fill:none\" points=\"\n",
       "  2589.11,1384.24 2589.11,1384.24 2633.99,1384.24 2589.11,1384.24 \n",
       "  \"/>\n",
       "<path clip-path=\"url(#clip032)\" d=\"\n",
       "M2633.99 1384.24 L2633.99 1384.24 L2678.86 1384.24 L2678.86 1384.24 L2633.99 1384.24 L2633.99 1384.24  Z\n",
       "  \" fill=\"#009af9\" fill-rule=\"evenodd\" fill-opacity=\"1\"/>\n",
       "<polyline clip-path=\"url(#clip032)\" style=\"stroke:#000000; stroke-linecap:butt; stroke-linejoin:round; stroke-width:4; stroke-opacity:1; fill:none\" points=\"\n",
       "  2633.99,1384.24 2633.99,1384.24 2678.86,1384.24 2633.99,1384.24 \n",
       "  \"/>\n",
       "<path clip-path=\"url(#clip032)\" d=\"\n",
       "M2678.86 1312.12 L2678.86 1384.24 L2723.74 1384.24 L2723.74 1312.12 L2678.86 1312.12 L2678.86 1312.12  Z\n",
       "  \" fill=\"#009af9\" fill-rule=\"evenodd\" fill-opacity=\"1\"/>\n",
       "<polyline clip-path=\"url(#clip032)\" style=\"stroke:#000000; stroke-linecap:butt; stroke-linejoin:round; stroke-width:4; stroke-opacity:1; fill:none\" points=\"\n",
       "  2678.86,1312.12 2678.86,1384.24 2723.74,1384.24 2723.74,1312.12 2678.86,1312.12 \n",
       "  \"/>\n",
       "<path clip-path=\"url(#clip032)\" d=\"\n",
       "M2723.74 1384.24 L2723.74 1384.24 L2768.62 1384.24 L2768.62 1384.24 L2723.74 1384.24 L2723.74 1384.24  Z\n",
       "  \" fill=\"#009af9\" fill-rule=\"evenodd\" fill-opacity=\"1\"/>\n",
       "<polyline clip-path=\"url(#clip032)\" style=\"stroke:#000000; stroke-linecap:butt; stroke-linejoin:round; stroke-width:4; stroke-opacity:1; fill:none\" points=\"\n",
       "  2723.74,1384.24 2723.74,1384.24 2768.62,1384.24 2723.74,1384.24 \n",
       "  \"/>\n",
       "<path clip-path=\"url(#clip032)\" d=\"\n",
       "M2768.62 1384.24 L2768.62 1384.24 L2813.49 1384.24 L2813.49 1384.24 L2768.62 1384.24 L2768.62 1384.24  Z\n",
       "  \" fill=\"#009af9\" fill-rule=\"evenodd\" fill-opacity=\"1\"/>\n",
       "<polyline clip-path=\"url(#clip032)\" style=\"stroke:#000000; stroke-linecap:butt; stroke-linejoin:round; stroke-width:4; stroke-opacity:1; fill:none\" points=\"\n",
       "  2768.62,1384.24 2768.62,1384.24 2813.49,1384.24 2768.62,1384.24 \n",
       "  \"/>\n",
       "<path clip-path=\"url(#clip032)\" d=\"\n",
       "M2813.49 1312.12 L2813.49 1384.24 L2858.37 1384.24 L2858.37 1312.12 L2813.49 1312.12 L2813.49 1312.12  Z\n",
       "  \" fill=\"#009af9\" fill-rule=\"evenodd\" fill-opacity=\"1\"/>\n",
       "<polyline clip-path=\"url(#clip032)\" style=\"stroke:#000000; stroke-linecap:butt; stroke-linejoin:round; stroke-width:4; stroke-opacity:1; fill:none\" points=\"\n",
       "  2813.49,1312.12 2813.49,1384.24 2858.37,1384.24 2858.37,1312.12 2813.49,1312.12 \n",
       "  \"/>\n",
       "<path clip-path=\"url(#clip032)\" d=\"\n",
       "M2858.37 1312.12 L2858.37 1384.24 L2903.25 1384.24 L2903.25 1312.12 L2858.37 1312.12 L2858.37 1312.12  Z\n",
       "  \" fill=\"#009af9\" fill-rule=\"evenodd\" fill-opacity=\"1\"/>\n",
       "<polyline clip-path=\"url(#clip032)\" style=\"stroke:#000000; stroke-linecap:butt; stroke-linejoin:round; stroke-width:4; stroke-opacity:1; fill:none\" points=\"\n",
       "  2858.37,1312.12 2858.37,1384.24 2903.25,1384.24 2903.25,1312.12 2858.37,1312.12 \n",
       "  \"/>\n",
       "<path clip-path=\"url(#clip032)\" d=\"\n",
       "M2903.25 1384.24 L2903.25 1384.24 L2948.12 1384.24 L2948.12 1384.24 L2903.25 1384.24 L2903.25 1384.24  Z\n",
       "  \" fill=\"#009af9\" fill-rule=\"evenodd\" fill-opacity=\"1\"/>\n",
       "<polyline clip-path=\"url(#clip032)\" style=\"stroke:#000000; stroke-linecap:butt; stroke-linejoin:round; stroke-width:4; stroke-opacity:1; fill:none\" points=\"\n",
       "  2903.25,1384.24 2903.25,1384.24 2948.12,1384.24 2903.25,1384.24 \n",
       "  \"/>\n",
       "<path clip-path=\"url(#clip032)\" d=\"\n",
       "M2948.12 1384.24 L2948.12 1384.24 L2993 1384.24 L2993 1384.24 L2948.12 1384.24 L2948.12 1384.24  Z\n",
       "  \" fill=\"#009af9\" fill-rule=\"evenodd\" fill-opacity=\"1\"/>\n",
       "<polyline clip-path=\"url(#clip032)\" style=\"stroke:#000000; stroke-linecap:butt; stroke-linejoin:round; stroke-width:4; stroke-opacity:1; fill:none\" points=\"\n",
       "  2948.12,1384.24 2948.12,1384.24 2993,1384.24 2948.12,1384.24 \n",
       "  \"/>\n",
       "<path clip-path=\"url(#clip032)\" d=\"\n",
       "M2993 1384.24 L2993 1384.24 L3037.88 1384.24 L3037.88 1384.24 L2993 1384.24 L2993 1384.24  Z\n",
       "  \" fill=\"#009af9\" fill-rule=\"evenodd\" fill-opacity=\"1\"/>\n",
       "<polyline clip-path=\"url(#clip032)\" style=\"stroke:#000000; stroke-linecap:butt; stroke-linejoin:round; stroke-width:4; stroke-opacity:1; fill:none\" points=\"\n",
       "  2993,1384.24 2993,1384.24 3037.88,1384.24 2993,1384.24 \n",
       "  \"/>\n",
       "<path clip-path=\"url(#clip032)\" d=\"\n",
       "M3037.88 1312.12 L3037.88 1384.24 L3082.75 1384.24 L3082.75 1312.12 L3037.88 1312.12 L3037.88 1312.12  Z\n",
       "  \" fill=\"#009af9\" fill-rule=\"evenodd\" fill-opacity=\"1\"/>\n",
       "<polyline clip-path=\"url(#clip032)\" style=\"stroke:#000000; stroke-linecap:butt; stroke-linejoin:round; stroke-width:4; stroke-opacity:1; fill:none\" points=\"\n",
       "  3037.88,1312.12 3037.88,1384.24 3082.75,1384.24 3082.75,1312.12 3037.88,1312.12 \n",
       "  \"/>\n",
       "<path clip-path=\"url(#clip032)\" d=\"\n",
       "M3082.75 1312.12 L3082.75 1384.24 L3127.63 1384.24 L3127.63 1312.12 L3082.75 1312.12 L3082.75 1312.12  Z\n",
       "  \" fill=\"#009af9\" fill-rule=\"evenodd\" fill-opacity=\"1\"/>\n",
       "<polyline clip-path=\"url(#clip032)\" style=\"stroke:#000000; stroke-linecap:butt; stroke-linejoin:round; stroke-width:4; stroke-opacity:1; fill:none\" points=\"\n",
       "  3082.75,1312.12 3082.75,1384.24 3127.63,1384.24 3127.63,1312.12 3082.75,1312.12 \n",
       "  \"/>\n",
       "<path clip-path=\"url(#clip032)\" d=\"\n",
       "M3127.63 1384.24 L3127.63 1384.24 L3172.51 1384.24 L3172.51 1384.24 L3127.63 1384.24 L3127.63 1384.24  Z\n",
       "  \" fill=\"#009af9\" fill-rule=\"evenodd\" fill-opacity=\"1\"/>\n",
       "<polyline clip-path=\"url(#clip032)\" style=\"stroke:#000000; stroke-linecap:butt; stroke-linejoin:round; stroke-width:4; stroke-opacity:1; fill:none\" points=\"\n",
       "  3127.63,1384.24 3127.63,1384.24 3172.51,1384.24 3127.63,1384.24 \n",
       "  \"/>\n",
       "<path clip-path=\"url(#clip032)\" d=\"\n",
       "M3172.51 1384.24 L3172.51 1384.24 L3217.38 1384.24 L3217.38 1384.24 L3172.51 1384.24 L3172.51 1384.24  Z\n",
       "  \" fill=\"#009af9\" fill-rule=\"evenodd\" fill-opacity=\"1\"/>\n",
       "<polyline clip-path=\"url(#clip032)\" style=\"stroke:#000000; stroke-linecap:butt; stroke-linejoin:round; stroke-width:4; stroke-opacity:1; fill:none\" points=\"\n",
       "  3172.51,1384.24 3172.51,1384.24 3217.38,1384.24 3172.51,1384.24 \n",
       "  \"/>\n",
       "<path clip-path=\"url(#clip032)\" d=\"\n",
       "M3217.38 1312.12 L3217.38 1384.24 L3262.26 1384.24 L3262.26 1312.12 L3217.38 1312.12 L3217.38 1312.12  Z\n",
       "  \" fill=\"#009af9\" fill-rule=\"evenodd\" fill-opacity=\"1\"/>\n",
       "<polyline clip-path=\"url(#clip032)\" style=\"stroke:#000000; stroke-linecap:butt; stroke-linejoin:round; stroke-width:4; stroke-opacity:1; fill:none\" points=\"\n",
       "  3217.38,1312.12 3217.38,1384.24 3262.26,1384.24 3262.26,1312.12 3217.38,1312.12 \n",
       "  \"/>\n",
       "<path clip-path=\"url(#clip032)\" d=\"\n",
       "M3262.26 1384.24 L3262.26 1384.24 L3307.14 1384.24 L3307.14 1384.24 L3262.26 1384.24 L3262.26 1384.24  Z\n",
       "  \" fill=\"#009af9\" fill-rule=\"evenodd\" fill-opacity=\"1\"/>\n",
       "<polyline clip-path=\"url(#clip032)\" style=\"stroke:#000000; stroke-linecap:butt; stroke-linejoin:round; stroke-width:4; stroke-opacity:1; fill:none\" points=\"\n",
       "  3262.26,1384.24 3262.26,1384.24 3307.14,1384.24 3262.26,1384.24 \n",
       "  \"/>\n",
       "<path clip-path=\"url(#clip032)\" d=\"\n",
       "M3307.14 1384.24 L3307.14 1384.24 L3352.01 1384.24 L3352.01 1384.24 L3307.14 1384.24 L3307.14 1384.24  Z\n",
       "  \" fill=\"#009af9\" fill-rule=\"evenodd\" fill-opacity=\"1\"/>\n",
       "<polyline clip-path=\"url(#clip032)\" style=\"stroke:#000000; stroke-linecap:butt; stroke-linejoin:round; stroke-width:4; stroke-opacity:1; fill:none\" points=\"\n",
       "  3307.14,1384.24 3307.14,1384.24 3352.01,1384.24 3307.14,1384.24 \n",
       "  \"/>\n",
       "<path clip-path=\"url(#clip032)\" d=\"\n",
       "M3352.01 1384.24 L3352.01 1384.24 L3396.89 1384.24 L3396.89 1384.24 L3352.01 1384.24 L3352.01 1384.24  Z\n",
       "  \" fill=\"#009af9\" fill-rule=\"evenodd\" fill-opacity=\"1\"/>\n",
       "<polyline clip-path=\"url(#clip032)\" style=\"stroke:#000000; stroke-linecap:butt; stroke-linejoin:round; stroke-width:4; stroke-opacity:1; fill:none\" points=\"\n",
       "  3352.01,1384.24 3352.01,1384.24 3396.89,1384.24 3352.01,1384.24 \n",
       "  \"/>\n",
       "<path clip-path=\"url(#clip032)\" d=\"\n",
       "M3396.89 1384.24 L3396.89 1384.24 L3441.77 1384.24 L3441.77 1384.24 L3396.89 1384.24 L3396.89 1384.24  Z\n",
       "  \" fill=\"#009af9\" fill-rule=\"evenodd\" fill-opacity=\"1\"/>\n",
       "<polyline clip-path=\"url(#clip032)\" style=\"stroke:#000000; stroke-linecap:butt; stroke-linejoin:round; stroke-width:4; stroke-opacity:1; fill:none\" points=\"\n",
       "  3396.89,1384.24 3396.89,1384.24 3441.77,1384.24 3396.89,1384.24 \n",
       "  \"/>\n",
       "<path clip-path=\"url(#clip032)\" d=\"\n",
       "M3441.77 1312.12 L3441.77 1384.24 L3486.64 1384.24 L3486.64 1312.12 L3441.77 1312.12 L3441.77 1312.12  Z\n",
       "  \" fill=\"#009af9\" fill-rule=\"evenodd\" fill-opacity=\"1\"/>\n",
       "<polyline clip-path=\"url(#clip032)\" style=\"stroke:#000000; stroke-linecap:butt; stroke-linejoin:round; stroke-width:4; stroke-opacity:1; fill:none\" points=\"\n",
       "  3441.77,1312.12 3441.77,1384.24 3486.64,1384.24 3486.64,1312.12 3441.77,1312.12 \n",
       "  \"/>\n",
       "<path clip-path=\"url(#clip032)\" d=\"\n",
       "M3486.64 1384.24 L3486.64 1384.24 L3531.52 1384.24 L3531.52 1384.24 L3486.64 1384.24 L3486.64 1384.24  Z\n",
       "  \" fill=\"#009af9\" fill-rule=\"evenodd\" fill-opacity=\"1\"/>\n",
       "<polyline clip-path=\"url(#clip032)\" style=\"stroke:#000000; stroke-linecap:butt; stroke-linejoin:round; stroke-width:4; stroke-opacity:1; fill:none\" points=\"\n",
       "  3486.64,1384.24 3486.64,1384.24 3531.52,1384.24 3486.64,1384.24 \n",
       "  \"/>\n",
       "<path clip-path=\"url(#clip032)\" d=\"\n",
       "M3531.52 1312.12 L3531.52 1384.24 L3576.39 1384.24 L3576.39 1312.12 L3531.52 1312.12 L3531.52 1312.12  Z\n",
       "  \" fill=\"#009af9\" fill-rule=\"evenodd\" fill-opacity=\"1\"/>\n",
       "<polyline clip-path=\"url(#clip032)\" style=\"stroke:#000000; stroke-linecap:butt; stroke-linejoin:round; stroke-width:4; stroke-opacity:1; fill:none\" points=\"\n",
       "  3531.52,1312.12 3531.52,1384.24 3576.39,1384.24 3576.39,1312.12 3531.52,1312.12 \n",
       "  \"/>\n",
       "<path clip-path=\"url(#clip032)\" d=\"\n",
       "M3576.39 1384.24 L3576.39 1384.24 L3621.27 1384.24 L3621.27 1384.24 L3576.39 1384.24 L3576.39 1384.24  Z\n",
       "  \" fill=\"#009af9\" fill-rule=\"evenodd\" fill-opacity=\"1\"/>\n",
       "<polyline clip-path=\"url(#clip032)\" style=\"stroke:#000000; stroke-linecap:butt; stroke-linejoin:round; stroke-width:4; stroke-opacity:1; fill:none\" points=\"\n",
       "  3576.39,1384.24 3576.39,1384.24 3621.27,1384.24 3576.39,1384.24 \n",
       "  \"/>\n",
       "<path clip-path=\"url(#clip032)\" d=\"\n",
       "M3621.27 1384.24 L3621.27 1384.24 L3666.15 1384.24 L3666.15 1384.24 L3621.27 1384.24 L3621.27 1384.24  Z\n",
       "  \" fill=\"#009af9\" fill-rule=\"evenodd\" fill-opacity=\"1\"/>\n",
       "<polyline clip-path=\"url(#clip032)\" style=\"stroke:#000000; stroke-linecap:butt; stroke-linejoin:round; stroke-width:4; stroke-opacity:1; fill:none\" points=\"\n",
       "  3621.27,1384.24 3621.27,1384.24 3666.15,1384.24 3621.27,1384.24 \n",
       "  \"/>\n",
       "<path clip-path=\"url(#clip032)\" d=\"\n",
       "M3666.15 1384.24 L3666.15 1384.24 L3711.02 1384.24 L3711.02 1384.24 L3666.15 1384.24 L3666.15 1384.24  Z\n",
       "  \" fill=\"#009af9\" fill-rule=\"evenodd\" fill-opacity=\"1\"/>\n",
       "<polyline clip-path=\"url(#clip032)\" style=\"stroke:#000000; stroke-linecap:butt; stroke-linejoin:round; stroke-width:4; stroke-opacity:1; fill:none\" points=\"\n",
       "  3666.15,1384.24 3666.15,1384.24 3711.02,1384.24 3666.15,1384.24 \n",
       "  \"/>\n",
       "<path clip-path=\"url(#clip032)\" d=\"\n",
       "M3711.02 1312.12 L3711.02 1384.24 L3755.9 1384.24 L3755.9 1312.12 L3711.02 1312.12 L3711.02 1312.12  Z\n",
       "  \" fill=\"#009af9\" fill-rule=\"evenodd\" fill-opacity=\"1\"/>\n",
       "<polyline clip-path=\"url(#clip032)\" style=\"stroke:#000000; stroke-linecap:butt; stroke-linejoin:round; stroke-width:4; stroke-opacity:1; fill:none\" points=\"\n",
       "  3711.02,1312.12 3711.02,1384.24 3755.9,1384.24 3755.9,1312.12 3711.02,1312.12 \n",
       "  \"/>\n",
       "<path clip-path=\"url(#clip032)\" d=\"\n",
       "M3755.9 1312.12 L3755.9 1384.24 L3800.78 1384.24 L3800.78 1312.12 L3755.9 1312.12 L3755.9 1312.12  Z\n",
       "  \" fill=\"#009af9\" fill-rule=\"evenodd\" fill-opacity=\"1\"/>\n",
       "<polyline clip-path=\"url(#clip032)\" style=\"stroke:#000000; stroke-linecap:butt; stroke-linejoin:round; stroke-width:4; stroke-opacity:1; fill:none\" points=\"\n",
       "  3755.9,1312.12 3755.9,1384.24 3800.78,1384.24 3800.78,1312.12 3755.9,1312.12 \n",
       "  \"/>\n",
       "<path clip-path=\"url(#clip032)\" d=\"\n",
       "M3800.78 1384.24 L3800.78 1384.24 L3845.65 1384.24 L3845.65 1384.24 L3800.78 1384.24 L3800.78 1384.24  Z\n",
       "  \" fill=\"#009af9\" fill-rule=\"evenodd\" fill-opacity=\"1\"/>\n",
       "<polyline clip-path=\"url(#clip032)\" style=\"stroke:#000000; stroke-linecap:butt; stroke-linejoin:round; stroke-width:4; stroke-opacity:1; fill:none\" points=\"\n",
       "  3800.78,1384.24 3800.78,1384.24 3845.65,1384.24 3800.78,1384.24 \n",
       "  \"/>\n",
       "<path clip-path=\"url(#clip032)\" d=\"\n",
       "M3845.65 1384.24 L3845.65 1384.24 L3890.53 1384.24 L3890.53 1384.24 L3845.65 1384.24 L3845.65 1384.24  Z\n",
       "  \" fill=\"#009af9\" fill-rule=\"evenodd\" fill-opacity=\"1\"/>\n",
       "<polyline clip-path=\"url(#clip032)\" style=\"stroke:#000000; stroke-linecap:butt; stroke-linejoin:round; stroke-width:4; stroke-opacity:1; fill:none\" points=\"\n",
       "  3845.65,1384.24 3845.65,1384.24 3890.53,1384.24 3845.65,1384.24 \n",
       "  \"/>\n",
       "<path clip-path=\"url(#clip032)\" d=\"\n",
       "M3890.53 1312.12 L3890.53 1384.24 L3935.41 1384.24 L3935.41 1312.12 L3890.53 1312.12 L3890.53 1312.12  Z\n",
       "  \" fill=\"#009af9\" fill-rule=\"evenodd\" fill-opacity=\"1\"/>\n",
       "<polyline clip-path=\"url(#clip032)\" style=\"stroke:#000000; stroke-linecap:butt; stroke-linejoin:round; stroke-width:4; stroke-opacity:1; fill:none\" points=\"\n",
       "  3890.53,1312.12 3890.53,1384.24 3935.41,1384.24 3935.41,1312.12 3890.53,1312.12 \n",
       "  \"/>\n",
       "<path clip-path=\"url(#clip032)\" d=\"\n",
       "M3935.41 1384.24 L3935.41 1384.24 L3980.28 1384.24 L3980.28 1384.24 L3935.41 1384.24 L3935.41 1384.24  Z\n",
       "  \" fill=\"#009af9\" fill-rule=\"evenodd\" fill-opacity=\"1\"/>\n",
       "<polyline clip-path=\"url(#clip032)\" style=\"stroke:#000000; stroke-linecap:butt; stroke-linejoin:round; stroke-width:4; stroke-opacity:1; fill:none\" points=\"\n",
       "  3935.41,1384.24 3935.41,1384.24 3980.28,1384.24 3935.41,1384.24 \n",
       "  \"/>\n",
       "<path clip-path=\"url(#clip032)\" d=\"\n",
       "M3980.28 1384.24 L3980.28 1384.24 L4025.16 1384.24 L4025.16 1384.24 L3980.28 1384.24 L3980.28 1384.24  Z\n",
       "  \" fill=\"#009af9\" fill-rule=\"evenodd\" fill-opacity=\"1\"/>\n",
       "<polyline clip-path=\"url(#clip032)\" style=\"stroke:#000000; stroke-linecap:butt; stroke-linejoin:round; stroke-width:4; stroke-opacity:1; fill:none\" points=\"\n",
       "  3980.28,1384.24 3980.28,1384.24 4025.16,1384.24 3980.28,1384.24 \n",
       "  \"/>\n",
       "<path clip-path=\"url(#clip032)\" d=\"\n",
       "M4025.16 1384.24 L4025.16 1384.24 L4070.04 1384.24 L4070.04 1384.24 L4025.16 1384.24 L4025.16 1384.24  Z\n",
       "  \" fill=\"#009af9\" fill-rule=\"evenodd\" fill-opacity=\"1\"/>\n",
       "<polyline clip-path=\"url(#clip032)\" style=\"stroke:#000000; stroke-linecap:butt; stroke-linejoin:round; stroke-width:4; stroke-opacity:1; fill:none\" points=\"\n",
       "  4025.16,1384.24 4025.16,1384.24 4070.04,1384.24 4025.16,1384.24 \n",
       "  \"/>\n",
       "<path clip-path=\"url(#clip032)\" d=\"\n",
       "M4070.04 1384.24 L4070.04 1384.24 L4114.91 1384.24 L4114.91 1384.24 L4070.04 1384.24 L4070.04 1384.24  Z\n",
       "  \" fill=\"#009af9\" fill-rule=\"evenodd\" fill-opacity=\"1\"/>\n",
       "<polyline clip-path=\"url(#clip032)\" style=\"stroke:#000000; stroke-linecap:butt; stroke-linejoin:round; stroke-width:4; stroke-opacity:1; fill:none\" points=\"\n",
       "  4070.04,1384.24 4070.04,1384.24 4114.91,1384.24 4070.04,1384.24 \n",
       "  \"/>\n",
       "<path clip-path=\"url(#clip032)\" d=\"\n",
       "M4114.91 1384.24 L4114.91 1384.24 L4159.79 1384.24 L4159.79 1384.24 L4114.91 1384.24 L4114.91 1384.24  Z\n",
       "  \" fill=\"#009af9\" fill-rule=\"evenodd\" fill-opacity=\"1\"/>\n",
       "<polyline clip-path=\"url(#clip032)\" style=\"stroke:#000000; stroke-linecap:butt; stroke-linejoin:round; stroke-width:4; stroke-opacity:1; fill:none\" points=\"\n",
       "  4114.91,1384.24 4114.91,1384.24 4159.79,1384.24 4114.91,1384.24 \n",
       "  \"/>\n",
       "<path clip-path=\"url(#clip032)\" d=\"\n",
       "M4159.79 1384.24 L4159.79 1384.24 L4204.67 1384.24 L4204.67 1384.24 L4159.79 1384.24 L4159.79 1384.24  Z\n",
       "  \" fill=\"#009af9\" fill-rule=\"evenodd\" fill-opacity=\"1\"/>\n",
       "<polyline clip-path=\"url(#clip032)\" style=\"stroke:#000000; stroke-linecap:butt; stroke-linejoin:round; stroke-width:4; stroke-opacity:1; fill:none\" points=\"\n",
       "  4159.79,1384.24 4159.79,1384.24 4204.67,1384.24 4159.79,1384.24 \n",
       "  \"/>\n",
       "<path clip-path=\"url(#clip032)\" d=\"\n",
       "M4204.67 1384.24 L4204.67 1384.24 L4249.54 1384.24 L4249.54 1384.24 L4204.67 1384.24 L4204.67 1384.24  Z\n",
       "  \" fill=\"#009af9\" fill-rule=\"evenodd\" fill-opacity=\"1\"/>\n",
       "<polyline clip-path=\"url(#clip032)\" style=\"stroke:#000000; stroke-linecap:butt; stroke-linejoin:round; stroke-width:4; stroke-opacity:1; fill:none\" points=\"\n",
       "  4204.67,1384.24 4204.67,1384.24 4249.54,1384.24 4204.67,1384.24 \n",
       "  \"/>\n",
       "<path clip-path=\"url(#clip032)\" d=\"\n",
       "M4249.54 1384.24 L4249.54 1384.24 L4294.42 1384.24 L4294.42 1384.24 L4249.54 1384.24 L4249.54 1384.24  Z\n",
       "  \" fill=\"#009af9\" fill-rule=\"evenodd\" fill-opacity=\"1\"/>\n",
       "<polyline clip-path=\"url(#clip032)\" style=\"stroke:#000000; stroke-linecap:butt; stroke-linejoin:round; stroke-width:4; stroke-opacity:1; fill:none\" points=\"\n",
       "  4249.54,1384.24 4249.54,1384.24 4294.42,1384.24 4249.54,1384.24 \n",
       "  \"/>\n",
       "<path clip-path=\"url(#clip032)\" d=\"\n",
       "M4294.42 1312.12 L4294.42 1384.24 L4339.3 1384.24 L4339.3 1312.12 L4294.42 1312.12 L4294.42 1312.12  Z\n",
       "  \" fill=\"#009af9\" fill-rule=\"evenodd\" fill-opacity=\"1\"/>\n",
       "<polyline clip-path=\"url(#clip032)\" style=\"stroke:#000000; stroke-linecap:butt; stroke-linejoin:round; stroke-width:4; stroke-opacity:1; fill:none\" points=\"\n",
       "  4294.42,1312.12 4294.42,1384.24 4339.3,1384.24 4339.3,1312.12 4294.42,1312.12 \n",
       "  \"/>\n",
       "<path clip-path=\"url(#clip032)\" d=\"\n",
       "M4339.3 1312.12 L4339.3 1384.24 L4384.17 1384.24 L4384.17 1312.12 L4339.3 1312.12 L4339.3 1312.12  Z\n",
       "  \" fill=\"#009af9\" fill-rule=\"evenodd\" fill-opacity=\"1\"/>\n",
       "<polyline clip-path=\"url(#clip032)\" style=\"stroke:#000000; stroke-linecap:butt; stroke-linejoin:round; stroke-width:4; stroke-opacity:1; fill:none\" points=\"\n",
       "  4339.3,1312.12 4339.3,1384.24 4384.17,1384.24 4384.17,1312.12 4339.3,1312.12 \n",
       "  \"/>\n",
       "<path clip-path=\"url(#clip032)\" d=\"\n",
       "M4384.17 1095.78 L4384.17 1384.24 L4429.05 1384.24 L4429.05 1095.78 L4384.17 1095.78 L4384.17 1095.78  Z\n",
       "  \" fill=\"#009af9\" fill-rule=\"evenodd\" fill-opacity=\"1\"/>\n",
       "<polyline clip-path=\"url(#clip032)\" style=\"stroke:#000000; stroke-linecap:butt; stroke-linejoin:round; stroke-width:4; stroke-opacity:1; fill:none\" points=\"\n",
       "  4384.17,1095.78 4384.17,1384.24 4429.05,1384.24 4429.05,1095.78 4384.17,1095.78 \n",
       "  \"/>\n",
       "<path clip-path=\"url(#clip032)\" d=\"\n",
       "M4429.05 1384.24 L4429.05 1384.24 L4473.92 1384.24 L4473.92 1384.24 L4429.05 1384.24 L4429.05 1384.24  Z\n",
       "  \" fill=\"#009af9\" fill-rule=\"evenodd\" fill-opacity=\"1\"/>\n",
       "<polyline clip-path=\"url(#clip032)\" style=\"stroke:#000000; stroke-linecap:butt; stroke-linejoin:round; stroke-width:4; stroke-opacity:1; fill:none\" points=\"\n",
       "  4429.05,1384.24 4429.05,1384.24 4473.92,1384.24 4429.05,1384.24 \n",
       "  \"/>\n",
       "<path clip-path=\"url(#clip032)\" d=\"\n",
       "M4473.92 1384.24 L4473.92 1384.24 L4518.8 1384.24 L4518.8 1384.24 L4473.92 1384.24 L4473.92 1384.24  Z\n",
       "  \" fill=\"#009af9\" fill-rule=\"evenodd\" fill-opacity=\"1\"/>\n",
       "<polyline clip-path=\"url(#clip032)\" style=\"stroke:#000000; stroke-linecap:butt; stroke-linejoin:round; stroke-width:4; stroke-opacity:1; fill:none\" points=\"\n",
       "  4473.92,1384.24 4473.92,1384.24 4518.8,1384.24 4473.92,1384.24 \n",
       "  \"/>\n",
       "<path clip-path=\"url(#clip032)\" d=\"\n",
       "M4518.8 1384.24 L4518.8 1384.24 L4563.68 1384.24 L4563.68 1384.24 L4518.8 1384.24 L4518.8 1384.24  Z\n",
       "  \" fill=\"#009af9\" fill-rule=\"evenodd\" fill-opacity=\"1\"/>\n",
       "<polyline clip-path=\"url(#clip032)\" style=\"stroke:#000000; stroke-linecap:butt; stroke-linejoin:round; stroke-width:4; stroke-opacity:1; fill:none\" points=\"\n",
       "  4518.8,1384.24 4518.8,1384.24 4563.68,1384.24 4518.8,1384.24 \n",
       "  \"/>\n",
       "<path clip-path=\"url(#clip032)\" d=\"\n",
       "M4563.68 1384.24 L4563.68 1384.24 L4608.55 1384.24 L4608.55 1384.24 L4563.68 1384.24 L4563.68 1384.24  Z\n",
       "  \" fill=\"#009af9\" fill-rule=\"evenodd\" fill-opacity=\"1\"/>\n",
       "<polyline clip-path=\"url(#clip032)\" style=\"stroke:#000000; stroke-linecap:butt; stroke-linejoin:round; stroke-width:4; stroke-opacity:1; fill:none\" points=\"\n",
       "  4563.68,1384.24 4563.68,1384.24 4608.55,1384.24 4563.68,1384.24 \n",
       "  \"/>\n",
       "<path clip-path=\"url(#clip032)\" d=\"\n",
       "M4608.55 1167.9 L4608.55 1384.24 L4653.43 1384.24 L4653.43 1167.9 L4608.55 1167.9 L4608.55 1167.9  Z\n",
       "  \" fill=\"#009af9\" fill-rule=\"evenodd\" fill-opacity=\"1\"/>\n",
       "<polyline clip-path=\"url(#clip032)\" style=\"stroke:#000000; stroke-linecap:butt; stroke-linejoin:round; stroke-width:4; stroke-opacity:1; fill:none\" points=\"\n",
       "  4608.55,1167.9 4608.55,1384.24 4653.43,1384.24 4653.43,1167.9 4608.55,1167.9 \n",
       "  \"/>\n",
       "<path clip-path=\"url(#clip032)\" d=\"\n",
       "M4653.43 1384.24 L4653.43 1384.24 L4698.31 1384.24 L4698.31 1384.24 L4653.43 1384.24 L4653.43 1384.24  Z\n",
       "  \" fill=\"#009af9\" fill-rule=\"evenodd\" fill-opacity=\"1\"/>\n",
       "<polyline clip-path=\"url(#clip032)\" style=\"stroke:#000000; stroke-linecap:butt; stroke-linejoin:round; stroke-width:4; stroke-opacity:1; fill:none\" points=\"\n",
       "  4653.43,1384.24 4653.43,1384.24 4698.31,1384.24 4653.43,1384.24 \n",
       "  \"/>\n",
       "<path clip-path=\"url(#clip032)\" d=\"\n",
       "M4698.31 1384.24 L4698.31 1384.24 L4743.18 1384.24 L4743.18 1384.24 L4698.31 1384.24 L4698.31 1384.24  Z\n",
       "  \" fill=\"#009af9\" fill-rule=\"evenodd\" fill-opacity=\"1\"/>\n",
       "<polyline clip-path=\"url(#clip032)\" style=\"stroke:#000000; stroke-linecap:butt; stroke-linejoin:round; stroke-width:4; stroke-opacity:1; fill:none\" points=\"\n",
       "  4698.31,1384.24 4698.31,1384.24 4743.18,1384.24 4698.31,1384.24 \n",
       "  \"/>\n",
       "<path clip-path=\"url(#clip032)\" d=\"\n",
       "M4743.18 1384.24 L4743.18 1384.24 L4788.06 1384.24 L4788.06 1384.24 L4743.18 1384.24 L4743.18 1384.24  Z\n",
       "  \" fill=\"#009af9\" fill-rule=\"evenodd\" fill-opacity=\"1\"/>\n",
       "<polyline clip-path=\"url(#clip032)\" style=\"stroke:#000000; stroke-linecap:butt; stroke-linejoin:round; stroke-width:4; stroke-opacity:1; fill:none\" points=\"\n",
       "  4743.18,1384.24 4743.18,1384.24 4788.06,1384.24 4743.18,1384.24 \n",
       "  \"/>\n",
       "<path clip-path=\"url(#clip032)\" d=\"\n",
       "M4788.06 1384.24 L4788.06 1384.24 L4832.94 1384.24 L4832.94 1384.24 L4788.06 1384.24 L4788.06 1384.24  Z\n",
       "  \" fill=\"#009af9\" fill-rule=\"evenodd\" fill-opacity=\"1\"/>\n",
       "<polyline clip-path=\"url(#clip032)\" style=\"stroke:#000000; stroke-linecap:butt; stroke-linejoin:round; stroke-width:4; stroke-opacity:1; fill:none\" points=\"\n",
       "  4788.06,1384.24 4788.06,1384.24 4832.94,1384.24 4788.06,1384.24 \n",
       "  \"/>\n",
       "<path clip-path=\"url(#clip032)\" d=\"\n",
       "M4832.94 1384.24 L4832.94 1384.24 L4877.81 1384.24 L4877.81 1384.24 L4832.94 1384.24 L4832.94 1384.24  Z\n",
       "  \" fill=\"#009af9\" fill-rule=\"evenodd\" fill-opacity=\"1\"/>\n",
       "<polyline clip-path=\"url(#clip032)\" style=\"stroke:#000000; stroke-linecap:butt; stroke-linejoin:round; stroke-width:4; stroke-opacity:1; fill:none\" points=\"\n",
       "  4832.94,1384.24 4832.94,1384.24 4877.81,1384.24 4832.94,1384.24 \n",
       "  \"/>\n",
       "<path clip-path=\"url(#clip032)\" d=\"\n",
       "M4877.81 1240.01 L4877.81 1384.24 L4922.69 1384.24 L4922.69 1240.01 L4877.81 1240.01 L4877.81 1240.01  Z\n",
       "  \" fill=\"#009af9\" fill-rule=\"evenodd\" fill-opacity=\"1\"/>\n",
       "<polyline clip-path=\"url(#clip032)\" style=\"stroke:#000000; stroke-linecap:butt; stroke-linejoin:round; stroke-width:4; stroke-opacity:1; fill:none\" points=\"\n",
       "  4877.81,1240.01 4877.81,1384.24 4922.69,1384.24 4922.69,1240.01 4877.81,1240.01 \n",
       "  \"/>\n",
       "<path clip-path=\"url(#clip032)\" d=\"\n",
       "M4922.69 1384.24 L4922.69 1384.24 L4967.57 1384.24 L4967.57 1384.24 L4922.69 1384.24 L4922.69 1384.24  Z\n",
       "  \" fill=\"#009af9\" fill-rule=\"evenodd\" fill-opacity=\"1\"/>\n",
       "<polyline clip-path=\"url(#clip032)\" style=\"stroke:#000000; stroke-linecap:butt; stroke-linejoin:round; stroke-width:4; stroke-opacity:1; fill:none\" points=\"\n",
       "  4922.69,1384.24 4922.69,1384.24 4967.57,1384.24 4922.69,1384.24 \n",
       "  \"/>\n",
       "<path clip-path=\"url(#clip032)\" d=\"\n",
       "M4967.57 1312.12 L4967.57 1384.24 L5012.44 1384.24 L5012.44 1312.12 L4967.57 1312.12 L4967.57 1312.12  Z\n",
       "  \" fill=\"#009af9\" fill-rule=\"evenodd\" fill-opacity=\"1\"/>\n",
       "<polyline clip-path=\"url(#clip032)\" style=\"stroke:#000000; stroke-linecap:butt; stroke-linejoin:round; stroke-width:4; stroke-opacity:1; fill:none\" points=\"\n",
       "  4967.57,1312.12 4967.57,1384.24 5012.44,1384.24 5012.44,1312.12 4967.57,1312.12 \n",
       "  \"/>\n",
       "<path clip-path=\"url(#clip032)\" d=\"\n",
       "M5012.44 1312.12 L5012.44 1384.24 L5057.32 1384.24 L5057.32 1312.12 L5012.44 1312.12 L5012.44 1312.12  Z\n",
       "  \" fill=\"#009af9\" fill-rule=\"evenodd\" fill-opacity=\"1\"/>\n",
       "<polyline clip-path=\"url(#clip032)\" style=\"stroke:#000000; stroke-linecap:butt; stroke-linejoin:round; stroke-width:4; stroke-opacity:1; fill:none\" points=\"\n",
       "  5012.44,1312.12 5012.44,1384.24 5057.32,1384.24 5057.32,1312.12 5012.44,1312.12 \n",
       "  \"/>\n",
       "<path clip-path=\"url(#clip032)\" d=\"\n",
       "M5057.32 1312.12 L5057.32 1384.24 L5102.2 1384.24 L5102.2 1312.12 L5057.32 1312.12 L5057.32 1312.12  Z\n",
       "  \" fill=\"#009af9\" fill-rule=\"evenodd\" fill-opacity=\"1\"/>\n",
       "<polyline clip-path=\"url(#clip032)\" style=\"stroke:#000000; stroke-linecap:butt; stroke-linejoin:round; stroke-width:4; stroke-opacity:1; fill:none\" points=\"\n",
       "  5057.32,1312.12 5057.32,1384.24 5102.2,1384.24 5102.2,1312.12 5057.32,1312.12 \n",
       "  \"/>\n",
       "<path clip-path=\"url(#clip032)\" d=\"\n",
       "M5102.2 1384.24 L5102.2 1384.24 L5147.07 1384.24 L5147.07 1384.24 L5102.2 1384.24 L5102.2 1384.24  Z\n",
       "  \" fill=\"#009af9\" fill-rule=\"evenodd\" fill-opacity=\"1\"/>\n",
       "<polyline clip-path=\"url(#clip032)\" style=\"stroke:#000000; stroke-linecap:butt; stroke-linejoin:round; stroke-width:4; stroke-opacity:1; fill:none\" points=\"\n",
       "  5102.2,1384.24 5102.2,1384.24 5147.07,1384.24 5102.2,1384.24 \n",
       "  \"/>\n",
       "<path clip-path=\"url(#clip032)\" d=\"\n",
       "M5147.07 1240.01 L5147.07 1384.24 L5191.95 1384.24 L5191.95 1240.01 L5147.07 1240.01 L5147.07 1240.01  Z\n",
       "  \" fill=\"#009af9\" fill-rule=\"evenodd\" fill-opacity=\"1\"/>\n",
       "<polyline clip-path=\"url(#clip032)\" style=\"stroke:#000000; stroke-linecap:butt; stroke-linejoin:round; stroke-width:4; stroke-opacity:1; fill:none\" points=\"\n",
       "  5147.07,1240.01 5147.07,1384.24 5191.95,1384.24 5191.95,1240.01 5147.07,1240.01 \n",
       "  \"/>\n",
       "<path clip-path=\"url(#clip032)\" d=\"\n",
       "M5191.95 1384.24 L5191.95 1384.24 L5236.83 1384.24 L5236.83 1384.24 L5191.95 1384.24 L5191.95 1384.24  Z\n",
       "  \" fill=\"#009af9\" fill-rule=\"evenodd\" fill-opacity=\"1\"/>\n",
       "<polyline clip-path=\"url(#clip032)\" style=\"stroke:#000000; stroke-linecap:butt; stroke-linejoin:round; stroke-width:4; stroke-opacity:1; fill:none\" points=\"\n",
       "  5191.95,1384.24 5191.95,1384.24 5236.83,1384.24 5191.95,1384.24 \n",
       "  \"/>\n",
       "<path clip-path=\"url(#clip032)\" d=\"\n",
       "M5236.83 1384.24 L5236.83 1384.24 L5281.7 1384.24 L5281.7 1384.24 L5236.83 1384.24 L5236.83 1384.24  Z\n",
       "  \" fill=\"#009af9\" fill-rule=\"evenodd\" fill-opacity=\"1\"/>\n",
       "<polyline clip-path=\"url(#clip032)\" style=\"stroke:#000000; stroke-linecap:butt; stroke-linejoin:round; stroke-width:4; stroke-opacity:1; fill:none\" points=\"\n",
       "  5236.83,1384.24 5236.83,1384.24 5281.7,1384.24 5236.83,1384.24 \n",
       "  \"/>\n",
       "<path clip-path=\"url(#clip032)\" d=\"\n",
       "M5281.7 1384.24 L5281.7 1384.24 L5326.58 1384.24 L5326.58 1384.24 L5281.7 1384.24 L5281.7 1384.24  Z\n",
       "  \" fill=\"#009af9\" fill-rule=\"evenodd\" fill-opacity=\"1\"/>\n",
       "<polyline clip-path=\"url(#clip032)\" style=\"stroke:#000000; stroke-linecap:butt; stroke-linejoin:round; stroke-width:4; stroke-opacity:1; fill:none\" points=\"\n",
       "  5281.7,1384.24 5281.7,1384.24 5326.58,1384.24 5281.7,1384.24 \n",
       "  \"/>\n",
       "<path clip-path=\"url(#clip032)\" d=\"\n",
       "M5326.58 1384.24 L5326.58 1384.24 L5371.45 1384.24 L5371.45 1384.24 L5326.58 1384.24 L5326.58 1384.24  Z\n",
       "  \" fill=\"#009af9\" fill-rule=\"evenodd\" fill-opacity=\"1\"/>\n",
       "<polyline clip-path=\"url(#clip032)\" style=\"stroke:#000000; stroke-linecap:butt; stroke-linejoin:round; stroke-width:4; stroke-opacity:1; fill:none\" points=\"\n",
       "  5326.58,1384.24 5326.58,1384.24 5371.45,1384.24 5326.58,1384.24 \n",
       "  \"/>\n",
       "<path clip-path=\"url(#clip032)\" d=\"\n",
       "M5371.45 1384.24 L5371.45 1384.24 L5416.33 1384.24 L5416.33 1384.24 L5371.45 1384.24 L5371.45 1384.24  Z\n",
       "  \" fill=\"#009af9\" fill-rule=\"evenodd\" fill-opacity=\"1\"/>\n",
       "<polyline clip-path=\"url(#clip032)\" style=\"stroke:#000000; stroke-linecap:butt; stroke-linejoin:round; stroke-width:4; stroke-opacity:1; fill:none\" points=\"\n",
       "  5371.45,1384.24 5371.45,1384.24 5416.33,1384.24 5371.45,1384.24 \n",
       "  \"/>\n",
       "<path clip-path=\"url(#clip032)\" d=\"\n",
       "M5416.33 1384.24 L5416.33 1384.24 L5461.21 1384.24 L5461.21 1384.24 L5416.33 1384.24 L5416.33 1384.24  Z\n",
       "  \" fill=\"#009af9\" fill-rule=\"evenodd\" fill-opacity=\"1\"/>\n",
       "<polyline clip-path=\"url(#clip032)\" style=\"stroke:#000000; stroke-linecap:butt; stroke-linejoin:round; stroke-width:4; stroke-opacity:1; fill:none\" points=\"\n",
       "  5416.33,1384.24 5416.33,1384.24 5461.21,1384.24 5416.33,1384.24 \n",
       "  \"/>\n",
       "<path clip-path=\"url(#clip032)\" d=\"\n",
       "M5461.21 1312.12 L5461.21 1384.24 L5506.08 1384.24 L5506.08 1312.12 L5461.21 1312.12 L5461.21 1312.12  Z\n",
       "  \" fill=\"#009af9\" fill-rule=\"evenodd\" fill-opacity=\"1\"/>\n",
       "<polyline clip-path=\"url(#clip032)\" style=\"stroke:#000000; stroke-linecap:butt; stroke-linejoin:round; stroke-width:4; stroke-opacity:1; fill:none\" points=\"\n",
       "  5461.21,1312.12 5461.21,1384.24 5506.08,1384.24 5506.08,1312.12 5461.21,1312.12 \n",
       "  \"/>\n",
       "<path clip-path=\"url(#clip032)\" d=\"\n",
       "M5506.08 1384.24 L5506.08 1384.24 L5550.96 1384.24 L5550.96 1384.24 L5506.08 1384.24 L5506.08 1384.24  Z\n",
       "  \" fill=\"#009af9\" fill-rule=\"evenodd\" fill-opacity=\"1\"/>\n",
       "<polyline clip-path=\"url(#clip032)\" style=\"stroke:#000000; stroke-linecap:butt; stroke-linejoin:round; stroke-width:4; stroke-opacity:1; fill:none\" points=\"\n",
       "  5506.08,1384.24 5506.08,1384.24 5550.96,1384.24 5506.08,1384.24 \n",
       "  \"/>\n",
       "<path clip-path=\"url(#clip032)\" d=\"\n",
       "M5550.96 1312.12 L5550.96 1384.24 L5595.84 1384.24 L5595.84 1312.12 L5550.96 1312.12 L5550.96 1312.12  Z\n",
       "  \" fill=\"#009af9\" fill-rule=\"evenodd\" fill-opacity=\"1\"/>\n",
       "<polyline clip-path=\"url(#clip032)\" style=\"stroke:#000000; stroke-linecap:butt; stroke-linejoin:round; stroke-width:4; stroke-opacity:1; fill:none\" points=\"\n",
       "  5550.96,1312.12 5550.96,1384.24 5595.84,1384.24 5595.84,1312.12 5550.96,1312.12 \n",
       "  \"/>\n",
       "<path clip-path=\"url(#clip032)\" d=\"\n",
       "M5595.84 1384.24 L5595.84 1384.24 L5640.71 1384.24 L5640.71 1384.24 L5595.84 1384.24 L5595.84 1384.24  Z\n",
       "  \" fill=\"#009af9\" fill-rule=\"evenodd\" fill-opacity=\"1\"/>\n",
       "<polyline clip-path=\"url(#clip032)\" style=\"stroke:#000000; stroke-linecap:butt; stroke-linejoin:round; stroke-width:4; stroke-opacity:1; fill:none\" points=\"\n",
       "  5595.84,1384.24 5595.84,1384.24 5640.71,1384.24 5595.84,1384.24 \n",
       "  \"/>\n",
       "<path clip-path=\"url(#clip032)\" d=\"\n",
       "M5640.71 1384.24 L5640.71 1384.24 L5685.59 1384.24 L5685.59 1384.24 L5640.71 1384.24 L5640.71 1384.24  Z\n",
       "  \" fill=\"#009af9\" fill-rule=\"evenodd\" fill-opacity=\"1\"/>\n",
       "<polyline clip-path=\"url(#clip032)\" style=\"stroke:#000000; stroke-linecap:butt; stroke-linejoin:round; stroke-width:4; stroke-opacity:1; fill:none\" points=\"\n",
       "  5640.71,1384.24 5640.71,1384.24 5685.59,1384.24 5640.71,1384.24 \n",
       "  \"/>\n",
       "<path clip-path=\"url(#clip032)\" d=\"\n",
       "M5685.59 1312.12 L5685.59 1384.24 L5730.47 1384.24 L5730.47 1312.12 L5685.59 1312.12 L5685.59 1312.12  Z\n",
       "  \" fill=\"#009af9\" fill-rule=\"evenodd\" fill-opacity=\"1\"/>\n",
       "<polyline clip-path=\"url(#clip032)\" style=\"stroke:#000000; stroke-linecap:butt; stroke-linejoin:round; stroke-width:4; stroke-opacity:1; fill:none\" points=\"\n",
       "  5685.59,1312.12 5685.59,1384.24 5730.47,1384.24 5730.47,1312.12 5685.59,1312.12 \n",
       "  \"/>\n",
       "<path clip-path=\"url(#clip032)\" d=\"\n",
       "M5730.47 1312.12 L5730.47 1384.24 L5775.34 1384.24 L5775.34 1312.12 L5730.47 1312.12 L5730.47 1312.12  Z\n",
       "  \" fill=\"#009af9\" fill-rule=\"evenodd\" fill-opacity=\"1\"/>\n",
       "<polyline clip-path=\"url(#clip032)\" style=\"stroke:#000000; stroke-linecap:butt; stroke-linejoin:round; stroke-width:4; stroke-opacity:1; fill:none\" points=\"\n",
       "  5730.47,1312.12 5730.47,1384.24 5775.34,1384.24 5775.34,1312.12 5730.47,1312.12 \n",
       "  \"/>\n",
       "<path clip-path=\"url(#clip032)\" d=\"\n",
       "M5775.34 1167.9 L5775.34 1384.24 L5820.22 1384.24 L5820.22 1167.9 L5775.34 1167.9 L5775.34 1167.9  Z\n",
       "  \" fill=\"#009af9\" fill-rule=\"evenodd\" fill-opacity=\"1\"/>\n",
       "<polyline clip-path=\"url(#clip032)\" style=\"stroke:#000000; stroke-linecap:butt; stroke-linejoin:round; stroke-width:4; stroke-opacity:1; fill:none\" points=\"\n",
       "  5775.34,1167.9 5775.34,1384.24 5820.22,1384.24 5820.22,1167.9 5775.34,1167.9 \n",
       "  \"/>\n",
       "<path clip-path=\"url(#clip032)\" d=\"\n",
       "M5820.22 1384.24 L5820.22 1384.24 L5865.1 1384.24 L5865.1 1384.24 L5820.22 1384.24 L5820.22 1384.24  Z\n",
       "  \" fill=\"#009af9\" fill-rule=\"evenodd\" fill-opacity=\"1\"/>\n",
       "<polyline clip-path=\"url(#clip032)\" style=\"stroke:#000000; stroke-linecap:butt; stroke-linejoin:round; stroke-width:4; stroke-opacity:1; fill:none\" points=\"\n",
       "  5820.22,1384.24 5820.22,1384.24 5865.1,1384.24 5820.22,1384.24 \n",
       "  \"/>\n",
       "<path clip-path=\"url(#clip032)\" d=\"\n",
       "M5865.1 1240.01 L5865.1 1384.24 L5909.97 1384.24 L5909.97 1240.01 L5865.1 1240.01 L5865.1 1240.01  Z\n",
       "  \" fill=\"#009af9\" fill-rule=\"evenodd\" fill-opacity=\"1\"/>\n",
       "<polyline clip-path=\"url(#clip032)\" style=\"stroke:#000000; stroke-linecap:butt; stroke-linejoin:round; stroke-width:4; stroke-opacity:1; fill:none\" points=\"\n",
       "  5865.1,1240.01 5865.1,1384.24 5909.97,1384.24 5909.97,1240.01 5865.1,1240.01 \n",
       "  \"/>\n",
       "<path clip-path=\"url(#clip032)\" d=\"\n",
       "M5909.97 1384.24 L5909.97 1384.24 L5954.85 1384.24 L5954.85 1384.24 L5909.97 1384.24 L5909.97 1384.24  Z\n",
       "  \" fill=\"#009af9\" fill-rule=\"evenodd\" fill-opacity=\"1\"/>\n",
       "<polyline clip-path=\"url(#clip032)\" style=\"stroke:#000000; stroke-linecap:butt; stroke-linejoin:round; stroke-width:4; stroke-opacity:1; fill:none\" points=\"\n",
       "  5909.97,1384.24 5909.97,1384.24 5954.85,1384.24 5909.97,1384.24 \n",
       "  \"/>\n",
       "<path clip-path=\"url(#clip032)\" d=\"\n",
       "M5954.85 1312.12 L5954.85 1384.24 L5999.73 1384.24 L5999.73 1312.12 L5954.85 1312.12 L5954.85 1312.12  Z\n",
       "  \" fill=\"#009af9\" fill-rule=\"evenodd\" fill-opacity=\"1\"/>\n",
       "<polyline clip-path=\"url(#clip032)\" style=\"stroke:#000000; stroke-linecap:butt; stroke-linejoin:round; stroke-width:4; stroke-opacity:1; fill:none\" points=\"\n",
       "  5954.85,1312.12 5954.85,1384.24 5999.73,1384.24 5999.73,1312.12 5954.85,1312.12 \n",
       "  \"/>\n",
       "<path clip-path=\"url(#clip032)\" d=\"\n",
       "M5999.73 1384.24 L5999.73 1384.24 L6044.6 1384.24 L6044.6 1384.24 L5999.73 1384.24 L5999.73 1384.24  Z\n",
       "  \" fill=\"#009af9\" fill-rule=\"evenodd\" fill-opacity=\"1\"/>\n",
       "<polyline clip-path=\"url(#clip032)\" style=\"stroke:#000000; stroke-linecap:butt; stroke-linejoin:round; stroke-width:4; stroke-opacity:1; fill:none\" points=\"\n",
       "  5999.73,1384.24 5999.73,1384.24 6044.6,1384.24 5999.73,1384.24 \n",
       "  \"/>\n",
       "<path clip-path=\"url(#clip032)\" d=\"\n",
       "M6044.6 1384.24 L6044.6 1384.24 L6089.48 1384.24 L6089.48 1384.24 L6044.6 1384.24 L6044.6 1384.24  Z\n",
       "  \" fill=\"#009af9\" fill-rule=\"evenodd\" fill-opacity=\"1\"/>\n",
       "<polyline clip-path=\"url(#clip032)\" style=\"stroke:#000000; stroke-linecap:butt; stroke-linejoin:round; stroke-width:4; stroke-opacity:1; fill:none\" points=\"\n",
       "  6044.6,1384.24 6044.6,1384.24 6089.48,1384.24 6044.6,1384.24 \n",
       "  \"/>\n",
       "<path clip-path=\"url(#clip032)\" d=\"\n",
       "M6089.48 1312.12 L6089.48 1384.24 L6134.36 1384.24 L6134.36 1312.12 L6089.48 1312.12 L6089.48 1312.12  Z\n",
       "  \" fill=\"#009af9\" fill-rule=\"evenodd\" fill-opacity=\"1\"/>\n",
       "<polyline clip-path=\"url(#clip032)\" style=\"stroke:#000000; stroke-linecap:butt; stroke-linejoin:round; stroke-width:4; stroke-opacity:1; fill:none\" points=\"\n",
       "  6089.48,1312.12 6089.48,1384.24 6134.36,1384.24 6134.36,1312.12 6089.48,1312.12 \n",
       "  \"/>\n",
       "<path clip-path=\"url(#clip032)\" d=\"\n",
       "M6134.36 1384.24 L6134.36 1384.24 L6179.23 1384.24 L6179.23 1384.24 L6134.36 1384.24 L6134.36 1384.24  Z\n",
       "  \" fill=\"#009af9\" fill-rule=\"evenodd\" fill-opacity=\"1\"/>\n",
       "<polyline clip-path=\"url(#clip032)\" style=\"stroke:#000000; stroke-linecap:butt; stroke-linejoin:round; stroke-width:4; stroke-opacity:1; fill:none\" points=\"\n",
       "  6134.36,1384.24 6134.36,1384.24 6179.23,1384.24 6134.36,1384.24 \n",
       "  \"/>\n",
       "<path clip-path=\"url(#clip032)\" d=\"\n",
       "M6179.23 1384.24 L6179.23 1384.24 L6224.11 1384.24 L6224.11 1384.24 L6179.23 1384.24 L6179.23 1384.24  Z\n",
       "  \" fill=\"#009af9\" fill-rule=\"evenodd\" fill-opacity=\"1\"/>\n",
       "<polyline clip-path=\"url(#clip032)\" style=\"stroke:#000000; stroke-linecap:butt; stroke-linejoin:round; stroke-width:4; stroke-opacity:1; fill:none\" points=\"\n",
       "  6179.23,1384.24 6179.23,1384.24 6224.11,1384.24 6179.23,1384.24 \n",
       "  \"/>\n",
       "<path clip-path=\"url(#clip032)\" d=\"\n",
       "M6224.11 1384.24 L6224.11 1384.24 L6268.98 1384.24 L6268.98 1384.24 L6224.11 1384.24 L6224.11 1384.24  Z\n",
       "  \" fill=\"#009af9\" fill-rule=\"evenodd\" fill-opacity=\"1\"/>\n",
       "<polyline clip-path=\"url(#clip032)\" style=\"stroke:#000000; stroke-linecap:butt; stroke-linejoin:round; stroke-width:4; stroke-opacity:1; fill:none\" points=\"\n",
       "  6224.11,1384.24 6224.11,1384.24 6268.98,1384.24 6224.11,1384.24 \n",
       "  \"/>\n",
       "<path clip-path=\"url(#clip032)\" d=\"\n",
       "M6268.98 1384.24 L6268.98 1384.24 L6313.86 1384.24 L6313.86 1384.24 L6268.98 1384.24 L6268.98 1384.24  Z\n",
       "  \" fill=\"#009af9\" fill-rule=\"evenodd\" fill-opacity=\"1\"/>\n",
       "<polyline clip-path=\"url(#clip032)\" style=\"stroke:#000000; stroke-linecap:butt; stroke-linejoin:round; stroke-width:4; stroke-opacity:1; fill:none\" points=\"\n",
       "  6268.98,1384.24 6268.98,1384.24 6313.86,1384.24 6268.98,1384.24 \n",
       "  \"/>\n",
       "<path clip-path=\"url(#clip032)\" d=\"\n",
       "M6313.86 1384.24 L6313.86 1384.24 L6358.74 1384.24 L6358.74 1384.24 L6313.86 1384.24 L6313.86 1384.24  Z\n",
       "  \" fill=\"#009af9\" fill-rule=\"evenodd\" fill-opacity=\"1\"/>\n",
       "<polyline clip-path=\"url(#clip032)\" style=\"stroke:#000000; stroke-linecap:butt; stroke-linejoin:round; stroke-width:4; stroke-opacity:1; fill:none\" points=\"\n",
       "  6313.86,1384.24 6313.86,1384.24 6358.74,1384.24 6313.86,1384.24 \n",
       "  \"/>\n",
       "<path clip-path=\"url(#clip032)\" d=\"\n",
       "M6358.74 1240.01 L6358.74 1384.24 L6403.61 1384.24 L6403.61 1240.01 L6358.74 1240.01 L6358.74 1240.01  Z\n",
       "  \" fill=\"#009af9\" fill-rule=\"evenodd\" fill-opacity=\"1\"/>\n",
       "<polyline clip-path=\"url(#clip032)\" style=\"stroke:#000000; stroke-linecap:butt; stroke-linejoin:round; stroke-width:4; stroke-opacity:1; fill:none\" points=\"\n",
       "  6358.74,1240.01 6358.74,1384.24 6403.61,1384.24 6403.61,1240.01 6358.74,1240.01 \n",
       "  \"/>\n",
       "<path clip-path=\"url(#clip032)\" d=\"\n",
       "M6403.61 1312.12 L6403.61 1384.24 L6448.49 1384.24 L6448.49 1312.12 L6403.61 1312.12 L6403.61 1312.12  Z\n",
       "  \" fill=\"#009af9\" fill-rule=\"evenodd\" fill-opacity=\"1\"/>\n",
       "<polyline clip-path=\"url(#clip032)\" style=\"stroke:#000000; stroke-linecap:butt; stroke-linejoin:round; stroke-width:4; stroke-opacity:1; fill:none\" points=\"\n",
       "  6403.61,1312.12 6403.61,1384.24 6448.49,1384.24 6448.49,1312.12 6403.61,1312.12 \n",
       "  \"/>\n",
       "<path clip-path=\"url(#clip032)\" d=\"\n",
       "M6448.49 1312.12 L6448.49 1384.24 L6493.37 1384.24 L6493.37 1312.12 L6448.49 1312.12 L6448.49 1312.12  Z\n",
       "  \" fill=\"#009af9\" fill-rule=\"evenodd\" fill-opacity=\"1\"/>\n",
       "<polyline clip-path=\"url(#clip032)\" style=\"stroke:#000000; stroke-linecap:butt; stroke-linejoin:round; stroke-width:4; stroke-opacity:1; fill:none\" points=\"\n",
       "  6448.49,1312.12 6448.49,1384.24 6493.37,1384.24 6493.37,1312.12 6448.49,1312.12 \n",
       "  \"/>\n",
       "<path clip-path=\"url(#clip032)\" d=\"\n",
       "M6493.37 1312.12 L6493.37 1384.24 L6538.24 1384.24 L6538.24 1312.12 L6493.37 1312.12 L6493.37 1312.12  Z\n",
       "  \" fill=\"#009af9\" fill-rule=\"evenodd\" fill-opacity=\"1\"/>\n",
       "<polyline clip-path=\"url(#clip032)\" style=\"stroke:#000000; stroke-linecap:butt; stroke-linejoin:round; stroke-width:4; stroke-opacity:1; fill:none\" points=\"\n",
       "  6493.37,1312.12 6493.37,1384.24 6538.24,1384.24 6538.24,1312.12 6493.37,1312.12 \n",
       "  \"/>\n",
       "<path clip-path=\"url(#clip032)\" d=\"\n",
       "M6538.24 1384.24 L6538.24 1384.24 L6583.12 1384.24 L6583.12 1384.24 L6538.24 1384.24 L6538.24 1384.24  Z\n",
       "  \" fill=\"#009af9\" fill-rule=\"evenodd\" fill-opacity=\"1\"/>\n",
       "<polyline clip-path=\"url(#clip032)\" style=\"stroke:#000000; stroke-linecap:butt; stroke-linejoin:round; stroke-width:4; stroke-opacity:1; fill:none\" points=\"\n",
       "  6538.24,1384.24 6538.24,1384.24 6583.12,1384.24 6538.24,1384.24 \n",
       "  \"/>\n",
       "<path clip-path=\"url(#clip032)\" d=\"\n",
       "M6583.12 1384.24 L6583.12 1384.24 L6628 1384.24 L6628 1384.24 L6583.12 1384.24 L6583.12 1384.24  Z\n",
       "  \" fill=\"#009af9\" fill-rule=\"evenodd\" fill-opacity=\"1\"/>\n",
       "<polyline clip-path=\"url(#clip032)\" style=\"stroke:#000000; stroke-linecap:butt; stroke-linejoin:round; stroke-width:4; stroke-opacity:1; fill:none\" points=\"\n",
       "  6583.12,1384.24 6583.12,1384.24 6628,1384.24 6583.12,1384.24 \n",
       "  \"/>\n",
       "<path clip-path=\"url(#clip032)\" d=\"\n",
       "M6628 1384.24 L6628 1384.24 L6672.87 1384.24 L6672.87 1384.24 L6628 1384.24 L6628 1384.24  Z\n",
       "  \" fill=\"#009af9\" fill-rule=\"evenodd\" fill-opacity=\"1\"/>\n",
       "<polyline clip-path=\"url(#clip032)\" style=\"stroke:#000000; stroke-linecap:butt; stroke-linejoin:round; stroke-width:4; stroke-opacity:1; fill:none\" points=\"\n",
       "  6628,1384.24 6628,1384.24 6672.87,1384.24 6628,1384.24 \n",
       "  \"/>\n",
       "<path clip-path=\"url(#clip032)\" d=\"\n",
       "M6672.87 1312.12 L6672.87 1384.24 L6717.75 1384.24 L6717.75 1312.12 L6672.87 1312.12 L6672.87 1312.12  Z\n",
       "  \" fill=\"#009af9\" fill-rule=\"evenodd\" fill-opacity=\"1\"/>\n",
       "<polyline clip-path=\"url(#clip032)\" style=\"stroke:#000000; stroke-linecap:butt; stroke-linejoin:round; stroke-width:4; stroke-opacity:1; fill:none\" points=\"\n",
       "  6672.87,1312.12 6672.87,1384.24 6717.75,1384.24 6717.75,1312.12 6672.87,1312.12 \n",
       "  \"/>\n",
       "<path clip-path=\"url(#clip032)\" d=\"\n",
       "M6717.75 1384.24 L6717.75 1384.24 L6762.63 1384.24 L6762.63 1384.24 L6717.75 1384.24 L6717.75 1384.24  Z\n",
       "  \" fill=\"#009af9\" fill-rule=\"evenodd\" fill-opacity=\"1\"/>\n",
       "<polyline clip-path=\"url(#clip032)\" style=\"stroke:#000000; stroke-linecap:butt; stroke-linejoin:round; stroke-width:4; stroke-opacity:1; fill:none\" points=\"\n",
       "  6717.75,1384.24 6717.75,1384.24 6762.63,1384.24 6717.75,1384.24 \n",
       "  \"/>\n",
       "<path clip-path=\"url(#clip032)\" d=\"\n",
       "M6762.63 1312.12 L6762.63 1384.24 L6807.5 1384.24 L6807.5 1312.12 L6762.63 1312.12 L6762.63 1312.12  Z\n",
       "  \" fill=\"#009af9\" fill-rule=\"evenodd\" fill-opacity=\"1\"/>\n",
       "<polyline clip-path=\"url(#clip032)\" style=\"stroke:#000000; stroke-linecap:butt; stroke-linejoin:round; stroke-width:4; stroke-opacity:1; fill:none\" points=\"\n",
       "  6762.63,1312.12 6762.63,1384.24 6807.5,1384.24 6807.5,1312.12 6762.63,1312.12 \n",
       "  \"/>\n",
       "<path clip-path=\"url(#clip032)\" d=\"\n",
       "M6807.5 1384.24 L6807.5 1384.24 L6852.38 1384.24 L6852.38 1384.24 L6807.5 1384.24 L6807.5 1384.24  Z\n",
       "  \" fill=\"#009af9\" fill-rule=\"evenodd\" fill-opacity=\"1\"/>\n",
       "<polyline clip-path=\"url(#clip032)\" style=\"stroke:#000000; stroke-linecap:butt; stroke-linejoin:round; stroke-width:4; stroke-opacity:1; fill:none\" points=\"\n",
       "  6807.5,1384.24 6807.5,1384.24 6852.38,1384.24 6807.5,1384.24 \n",
       "  \"/>\n",
       "<path clip-path=\"url(#clip032)\" d=\"\n",
       "M6852.38 1312.12 L6852.38 1384.24 L6897.26 1384.24 L6897.26 1312.12 L6852.38 1312.12 L6852.38 1312.12  Z\n",
       "  \" fill=\"#009af9\" fill-rule=\"evenodd\" fill-opacity=\"1\"/>\n",
       "<polyline clip-path=\"url(#clip032)\" style=\"stroke:#000000; stroke-linecap:butt; stroke-linejoin:round; stroke-width:4; stroke-opacity:1; fill:none\" points=\"\n",
       "  6852.38,1312.12 6852.38,1384.24 6897.26,1384.24 6897.26,1312.12 6852.38,1312.12 \n",
       "  \"/>\n",
       "<path clip-path=\"url(#clip032)\" d=\"\n",
       "M6897.26 1240.01 L6897.26 1384.24 L6942.13 1384.24 L6942.13 1240.01 L6897.26 1240.01 L6897.26 1240.01  Z\n",
       "  \" fill=\"#009af9\" fill-rule=\"evenodd\" fill-opacity=\"1\"/>\n",
       "<polyline clip-path=\"url(#clip032)\" style=\"stroke:#000000; stroke-linecap:butt; stroke-linejoin:round; stroke-width:4; stroke-opacity:1; fill:none\" points=\"\n",
       "  6897.26,1240.01 6897.26,1384.24 6942.13,1384.24 6942.13,1240.01 6897.26,1240.01 \n",
       "  \"/>\n",
       "<path clip-path=\"url(#clip032)\" d=\"\n",
       "M6942.13 1384.24 L6942.13 1384.24 L6987.01 1384.24 L6987.01 1384.24 L6942.13 1384.24 L6942.13 1384.24  Z\n",
       "  \" fill=\"#009af9\" fill-rule=\"evenodd\" fill-opacity=\"1\"/>\n",
       "<polyline clip-path=\"url(#clip032)\" style=\"stroke:#000000; stroke-linecap:butt; stroke-linejoin:round; stroke-width:4; stroke-opacity:1; fill:none\" points=\"\n",
       "  6942.13,1384.24 6942.13,1384.24 6987.01,1384.24 6942.13,1384.24 \n",
       "  \"/>\n",
       "<path clip-path=\"url(#clip032)\" d=\"\n",
       "M6987.01 1312.12 L6987.01 1384.24 L7031.89 1384.24 L7031.89 1312.12 L6987.01 1312.12 L6987.01 1312.12  Z\n",
       "  \" fill=\"#009af9\" fill-rule=\"evenodd\" fill-opacity=\"1\"/>\n",
       "<polyline clip-path=\"url(#clip032)\" style=\"stroke:#000000; stroke-linecap:butt; stroke-linejoin:round; stroke-width:4; stroke-opacity:1; fill:none\" points=\"\n",
       "  6987.01,1312.12 6987.01,1384.24 7031.89,1384.24 7031.89,1312.12 6987.01,1312.12 \n",
       "  \"/>\n",
       "<path clip-path=\"url(#clip032)\" d=\"\n",
       "M7031.89 1384.24 L7031.89 1384.24 L7076.76 1384.24 L7076.76 1384.24 L7031.89 1384.24 L7031.89 1384.24  Z\n",
       "  \" fill=\"#009af9\" fill-rule=\"evenodd\" fill-opacity=\"1\"/>\n",
       "<polyline clip-path=\"url(#clip032)\" style=\"stroke:#000000; stroke-linecap:butt; stroke-linejoin:round; stroke-width:4; stroke-opacity:1; fill:none\" points=\"\n",
       "  7031.89,1384.24 7031.89,1384.24 7076.76,1384.24 7031.89,1384.24 \n",
       "  \"/>\n",
       "<path clip-path=\"url(#clip032)\" d=\"\n",
       "M7076.76 1384.24 L7076.76 1384.24 L7121.64 1384.24 L7121.64 1384.24 L7076.76 1384.24 L7076.76 1384.24  Z\n",
       "  \" fill=\"#009af9\" fill-rule=\"evenodd\" fill-opacity=\"1\"/>\n",
       "<polyline clip-path=\"url(#clip032)\" style=\"stroke:#000000; stroke-linecap:butt; stroke-linejoin:round; stroke-width:4; stroke-opacity:1; fill:none\" points=\"\n",
       "  7076.76,1384.24 7076.76,1384.24 7121.64,1384.24 7076.76,1384.24 \n",
       "  \"/>\n",
       "<path clip-path=\"url(#clip032)\" d=\"\n",
       "M7121.64 1384.24 L7121.64 1384.24 L7166.51 1384.24 L7166.51 1384.24 L7121.64 1384.24 L7121.64 1384.24  Z\n",
       "  \" fill=\"#009af9\" fill-rule=\"evenodd\" fill-opacity=\"1\"/>\n",
       "<polyline clip-path=\"url(#clip032)\" style=\"stroke:#000000; stroke-linecap:butt; stroke-linejoin:round; stroke-width:4; stroke-opacity:1; fill:none\" points=\"\n",
       "  7121.64,1384.24 7121.64,1384.24 7166.51,1384.24 7121.64,1384.24 \n",
       "  \"/>\n",
       "<path clip-path=\"url(#clip032)\" d=\"\n",
       "M7166.51 1312.12 L7166.51 1384.24 L7211.39 1384.24 L7211.39 1312.12 L7166.51 1312.12 L7166.51 1312.12  Z\n",
       "  \" fill=\"#009af9\" fill-rule=\"evenodd\" fill-opacity=\"1\"/>\n",
       "<polyline clip-path=\"url(#clip032)\" style=\"stroke:#000000; stroke-linecap:butt; stroke-linejoin:round; stroke-width:4; stroke-opacity:1; fill:none\" points=\"\n",
       "  7166.51,1312.12 7166.51,1384.24 7211.39,1384.24 7211.39,1312.12 7166.51,1312.12 \n",
       "  \"/>\n",
       "<path clip-path=\"url(#clip032)\" d=\"\n",
       "M7211.39 1312.12 L7211.39 1384.24 L7256.27 1384.24 L7256.27 1312.12 L7211.39 1312.12 L7211.39 1312.12  Z\n",
       "  \" fill=\"#009af9\" fill-rule=\"evenodd\" fill-opacity=\"1\"/>\n",
       "<polyline clip-path=\"url(#clip032)\" style=\"stroke:#000000; stroke-linecap:butt; stroke-linejoin:round; stroke-width:4; stroke-opacity:1; fill:none\" points=\"\n",
       "  7211.39,1312.12 7211.39,1384.24 7256.27,1384.24 7256.27,1312.12 7211.39,1312.12 \n",
       "  \"/>\n",
       "<path clip-path=\"url(#clip032)\" d=\"\n",
       "M7256.27 1384.24 L7256.27 1384.24 L7301.14 1384.24 L7301.14 1384.24 L7256.27 1384.24 L7256.27 1384.24  Z\n",
       "  \" fill=\"#009af9\" fill-rule=\"evenodd\" fill-opacity=\"1\"/>\n",
       "<polyline clip-path=\"url(#clip032)\" style=\"stroke:#000000; stroke-linecap:butt; stroke-linejoin:round; stroke-width:4; stroke-opacity:1; fill:none\" points=\"\n",
       "  7256.27,1384.24 7256.27,1384.24 7301.14,1384.24 7256.27,1384.24 \n",
       "  \"/>\n",
       "<path clip-path=\"url(#clip032)\" d=\"\n",
       "M7301.14 1384.24 L7301.14 1384.24 L7346.02 1384.24 L7346.02 1384.24 L7301.14 1384.24 L7301.14 1384.24  Z\n",
       "  \" fill=\"#009af9\" fill-rule=\"evenodd\" fill-opacity=\"1\"/>\n",
       "<polyline clip-path=\"url(#clip032)\" style=\"stroke:#000000; stroke-linecap:butt; stroke-linejoin:round; stroke-width:4; stroke-opacity:1; fill:none\" points=\"\n",
       "  7301.14,1384.24 7301.14,1384.24 7346.02,1384.24 7301.14,1384.24 \n",
       "  \"/>\n",
       "<path clip-path=\"url(#clip032)\" d=\"\n",
       "M7346.02 1384.24 L7346.02 1384.24 L7390.9 1384.24 L7390.9 1384.24 L7346.02 1384.24 L7346.02 1384.24  Z\n",
       "  \" fill=\"#009af9\" fill-rule=\"evenodd\" fill-opacity=\"1\"/>\n",
       "<polyline clip-path=\"url(#clip032)\" style=\"stroke:#000000; stroke-linecap:butt; stroke-linejoin:round; stroke-width:4; stroke-opacity:1; fill:none\" points=\"\n",
       "  7346.02,1384.24 7346.02,1384.24 7390.9,1384.24 7346.02,1384.24 \n",
       "  \"/>\n",
       "<path clip-path=\"url(#clip032)\" d=\"\n",
       "M7390.9 1384.24 L7390.9 1384.24 L7435.77 1384.24 L7435.77 1384.24 L7390.9 1384.24 L7390.9 1384.24  Z\n",
       "  \" fill=\"#009af9\" fill-rule=\"evenodd\" fill-opacity=\"1\"/>\n",
       "<polyline clip-path=\"url(#clip032)\" style=\"stroke:#000000; stroke-linecap:butt; stroke-linejoin:round; stroke-width:4; stroke-opacity:1; fill:none\" points=\"\n",
       "  7390.9,1384.24 7390.9,1384.24 7435.77,1384.24 7390.9,1384.24 \n",
       "  \"/>\n",
       "<path clip-path=\"url(#clip032)\" d=\"\n",
       "M7435.77 1312.12 L7435.77 1384.24 L7480.65 1384.24 L7480.65 1312.12 L7435.77 1312.12 L7435.77 1312.12  Z\n",
       "  \" fill=\"#009af9\" fill-rule=\"evenodd\" fill-opacity=\"1\"/>\n",
       "<polyline clip-path=\"url(#clip032)\" style=\"stroke:#000000; stroke-linecap:butt; stroke-linejoin:round; stroke-width:4; stroke-opacity:1; fill:none\" points=\"\n",
       "  7435.77,1312.12 7435.77,1384.24 7480.65,1384.24 7480.65,1312.12 7435.77,1312.12 \n",
       "  \"/>\n",
       "<path clip-path=\"url(#clip032)\" d=\"\n",
       "M7480.65 1384.24 L7480.65 1384.24 L7525.53 1384.24 L7525.53 1384.24 L7480.65 1384.24 L7480.65 1384.24  Z\n",
       "  \" fill=\"#009af9\" fill-rule=\"evenodd\" fill-opacity=\"1\"/>\n",
       "<polyline clip-path=\"url(#clip032)\" style=\"stroke:#000000; stroke-linecap:butt; stroke-linejoin:round; stroke-width:4; stroke-opacity:1; fill:none\" points=\"\n",
       "  7480.65,1384.24 7480.65,1384.24 7525.53,1384.24 7480.65,1384.24 \n",
       "  \"/>\n",
       "<path clip-path=\"url(#clip032)\" d=\"\n",
       "M7525.53 1384.24 L7525.53 1384.24 L7570.4 1384.24 L7570.4 1384.24 L7525.53 1384.24 L7525.53 1384.24  Z\n",
       "  \" fill=\"#009af9\" fill-rule=\"evenodd\" fill-opacity=\"1\"/>\n",
       "<polyline clip-path=\"url(#clip032)\" style=\"stroke:#000000; stroke-linecap:butt; stroke-linejoin:round; stroke-width:4; stroke-opacity:1; fill:none\" points=\"\n",
       "  7525.53,1384.24 7525.53,1384.24 7570.4,1384.24 7525.53,1384.24 \n",
       "  \"/>\n",
       "<path clip-path=\"url(#clip032)\" d=\"\n",
       "M7570.4 1384.24 L7570.4 1384.24 L7615.28 1384.24 L7615.28 1384.24 L7570.4 1384.24 L7570.4 1384.24  Z\n",
       "  \" fill=\"#009af9\" fill-rule=\"evenodd\" fill-opacity=\"1\"/>\n",
       "<polyline clip-path=\"url(#clip032)\" style=\"stroke:#000000; stroke-linecap:butt; stroke-linejoin:round; stroke-width:4; stroke-opacity:1; fill:none\" points=\"\n",
       "  7570.4,1384.24 7570.4,1384.24 7615.28,1384.24 7570.4,1384.24 \n",
       "  \"/>\n",
       "<path clip-path=\"url(#clip032)\" d=\"\n",
       "M7615.28 1384.24 L7615.28 1384.24 L7660.16 1384.24 L7660.16 1384.24 L7615.28 1384.24 L7615.28 1384.24  Z\n",
       "  \" fill=\"#009af9\" fill-rule=\"evenodd\" fill-opacity=\"1\"/>\n",
       "<polyline clip-path=\"url(#clip032)\" style=\"stroke:#000000; stroke-linecap:butt; stroke-linejoin:round; stroke-width:4; stroke-opacity:1; fill:none\" points=\"\n",
       "  7615.28,1384.24 7615.28,1384.24 7660.16,1384.24 7615.28,1384.24 \n",
       "  \"/>\n",
       "<path clip-path=\"url(#clip032)\" d=\"\n",
       "M7660.16 1384.24 L7660.16 1384.24 L7705.03 1384.24 L7705.03 1384.24 L7660.16 1384.24 L7660.16 1384.24  Z\n",
       "  \" fill=\"#009af9\" fill-rule=\"evenodd\" fill-opacity=\"1\"/>\n",
       "<polyline clip-path=\"url(#clip032)\" style=\"stroke:#000000; stroke-linecap:butt; stroke-linejoin:round; stroke-width:4; stroke-opacity:1; fill:none\" points=\"\n",
       "  7660.16,1384.24 7660.16,1384.24 7705.03,1384.24 7660.16,1384.24 \n",
       "  \"/>\n",
       "<path clip-path=\"url(#clip032)\" d=\"\n",
       "M7705.03 1384.24 L7705.03 1384.24 L7749.91 1384.24 L7749.91 1384.24 L7705.03 1384.24 L7705.03 1384.24  Z\n",
       "  \" fill=\"#009af9\" fill-rule=\"evenodd\" fill-opacity=\"1\"/>\n",
       "<polyline clip-path=\"url(#clip032)\" style=\"stroke:#000000; stroke-linecap:butt; stroke-linejoin:round; stroke-width:4; stroke-opacity:1; fill:none\" points=\"\n",
       "  7705.03,1384.24 7705.03,1384.24 7749.91,1384.24 7705.03,1384.24 \n",
       "  \"/>\n",
       "<path clip-path=\"url(#clip032)\" d=\"\n",
       "M7749.91 1384.24 L7749.91 1384.24 L7794.79 1384.24 L7794.79 1384.24 L7749.91 1384.24 L7749.91 1384.24  Z\n",
       "  \" fill=\"#009af9\" fill-rule=\"evenodd\" fill-opacity=\"1\"/>\n",
       "<polyline clip-path=\"url(#clip032)\" style=\"stroke:#000000; stroke-linecap:butt; stroke-linejoin:round; stroke-width:4; stroke-opacity:1; fill:none\" points=\"\n",
       "  7749.91,1384.24 7749.91,1384.24 7794.79,1384.24 7749.91,1384.24 \n",
       "  \"/>\n",
       "<path clip-path=\"url(#clip032)\" d=\"\n",
       "M7794.79 1384.24 L7794.79 1384.24 L7839.66 1384.24 L7839.66 1384.24 L7794.79 1384.24 L7794.79 1384.24  Z\n",
       "  \" fill=\"#009af9\" fill-rule=\"evenodd\" fill-opacity=\"1\"/>\n",
       "<polyline clip-path=\"url(#clip032)\" style=\"stroke:#000000; stroke-linecap:butt; stroke-linejoin:round; stroke-width:4; stroke-opacity:1; fill:none\" points=\"\n",
       "  7794.79,1384.24 7794.79,1384.24 7839.66,1384.24 7794.79,1384.24 \n",
       "  \"/>\n",
       "<path clip-path=\"url(#clip032)\" d=\"\n",
       "M7839.66 1384.24 L7839.66 1384.24 L7884.54 1384.24 L7884.54 1384.24 L7839.66 1384.24 L7839.66 1384.24  Z\n",
       "  \" fill=\"#009af9\" fill-rule=\"evenodd\" fill-opacity=\"1\"/>\n",
       "<polyline clip-path=\"url(#clip032)\" style=\"stroke:#000000; stroke-linecap:butt; stroke-linejoin:round; stroke-width:4; stroke-opacity:1; fill:none\" points=\"\n",
       "  7839.66,1384.24 7839.66,1384.24 7884.54,1384.24 7839.66,1384.24 \n",
       "  \"/>\n",
       "<path clip-path=\"url(#clip032)\" d=\"\n",
       "M7884.54 1384.24 L7884.54 1384.24 L7929.42 1384.24 L7929.42 1384.24 L7884.54 1384.24 L7884.54 1384.24  Z\n",
       "  \" fill=\"#009af9\" fill-rule=\"evenodd\" fill-opacity=\"1\"/>\n",
       "<polyline clip-path=\"url(#clip032)\" style=\"stroke:#000000; stroke-linecap:butt; stroke-linejoin:round; stroke-width:4; stroke-opacity:1; fill:none\" points=\"\n",
       "  7884.54,1384.24 7884.54,1384.24 7929.42,1384.24 7884.54,1384.24 \n",
       "  \"/>\n",
       "<path clip-path=\"url(#clip032)\" d=\"\n",
       "M7929.42 1312.12 L7929.42 1384.24 L7974.29 1384.24 L7974.29 1312.12 L7929.42 1312.12 L7929.42 1312.12  Z\n",
       "  \" fill=\"#009af9\" fill-rule=\"evenodd\" fill-opacity=\"1\"/>\n",
       "<polyline clip-path=\"url(#clip032)\" style=\"stroke:#000000; stroke-linecap:butt; stroke-linejoin:round; stroke-width:4; stroke-opacity:1; fill:none\" points=\"\n",
       "  7929.42,1312.12 7929.42,1384.24 7974.29,1384.24 7974.29,1312.12 7929.42,1312.12 \n",
       "  \"/>\n",
       "<path clip-path=\"url(#clip032)\" d=\"\n",
       "M7974.29 1384.24 L7974.29 1384.24 L8019.17 1384.24 L8019.17 1384.24 L7974.29 1384.24 L7974.29 1384.24  Z\n",
       "  \" fill=\"#009af9\" fill-rule=\"evenodd\" fill-opacity=\"1\"/>\n",
       "<polyline clip-path=\"url(#clip032)\" style=\"stroke:#000000; stroke-linecap:butt; stroke-linejoin:round; stroke-width:4; stroke-opacity:1; fill:none\" points=\"\n",
       "  7974.29,1384.24 7974.29,1384.24 8019.17,1384.24 7974.29,1384.24 \n",
       "  \"/>\n",
       "<path clip-path=\"url(#clip032)\" d=\"\n",
       "M8019.17 1384.24 L8019.17 1384.24 L8064.05 1384.24 L8064.05 1384.24 L8019.17 1384.24 L8019.17 1384.24  Z\n",
       "  \" fill=\"#009af9\" fill-rule=\"evenodd\" fill-opacity=\"1\"/>\n",
       "<polyline clip-path=\"url(#clip032)\" style=\"stroke:#000000; stroke-linecap:butt; stroke-linejoin:round; stroke-width:4; stroke-opacity:1; fill:none\" points=\"\n",
       "  8019.17,1384.24 8019.17,1384.24 8064.05,1384.24 8019.17,1384.24 \n",
       "  \"/>\n",
       "<path clip-path=\"url(#clip032)\" d=\"\n",
       "M8064.05 1384.24 L8064.05 1384.24 L8108.92 1384.24 L8108.92 1384.24 L8064.05 1384.24 L8064.05 1384.24  Z\n",
       "  \" fill=\"#009af9\" fill-rule=\"evenodd\" fill-opacity=\"1\"/>\n",
       "<polyline clip-path=\"url(#clip032)\" style=\"stroke:#000000; stroke-linecap:butt; stroke-linejoin:round; stroke-width:4; stroke-opacity:1; fill:none\" points=\"\n",
       "  8064.05,1384.24 8064.05,1384.24 8108.92,1384.24 8064.05,1384.24 \n",
       "  \"/>\n",
       "<path clip-path=\"url(#clip032)\" d=\"\n",
       "M8108.92 1384.24 L8108.92 1384.24 L8153.8 1384.24 L8153.8 1384.24 L8108.92 1384.24 L8108.92 1384.24  Z\n",
       "  \" fill=\"#009af9\" fill-rule=\"evenodd\" fill-opacity=\"1\"/>\n",
       "<polyline clip-path=\"url(#clip032)\" style=\"stroke:#000000; stroke-linecap:butt; stroke-linejoin:round; stroke-width:4; stroke-opacity:1; fill:none\" points=\"\n",
       "  8108.92,1384.24 8108.92,1384.24 8153.8,1384.24 8108.92,1384.24 \n",
       "  \"/>\n",
       "<path clip-path=\"url(#clip032)\" d=\"\n",
       "M8153.8 1384.24 L8153.8 1384.24 L8198.67 1384.24 L8198.67 1384.24 L8153.8 1384.24 L8153.8 1384.24  Z\n",
       "  \" fill=\"#009af9\" fill-rule=\"evenodd\" fill-opacity=\"1\"/>\n",
       "<polyline clip-path=\"url(#clip032)\" style=\"stroke:#000000; stroke-linecap:butt; stroke-linejoin:round; stroke-width:4; stroke-opacity:1; fill:none\" points=\"\n",
       "  8153.8,1384.24 8153.8,1384.24 8198.67,1384.24 8153.8,1384.24 \n",
       "  \"/>\n",
       "<path clip-path=\"url(#clip032)\" d=\"\n",
       "M8198.67 1312.12 L8198.67 1384.24 L8243.55 1384.24 L8243.55 1312.12 L8198.67 1312.12 L8198.67 1312.12  Z\n",
       "  \" fill=\"#009af9\" fill-rule=\"evenodd\" fill-opacity=\"1\"/>\n",
       "<polyline clip-path=\"url(#clip032)\" style=\"stroke:#000000; stroke-linecap:butt; stroke-linejoin:round; stroke-width:4; stroke-opacity:1; fill:none\" points=\"\n",
       "  8198.67,1312.12 8198.67,1384.24 8243.55,1384.24 8243.55,1312.12 8198.67,1312.12 \n",
       "  \"/>\n",
       "<path clip-path=\"url(#clip032)\" d=\"\n",
       "M8243.55 1312.12 L8243.55 1384.24 L8288.43 1384.24 L8288.43 1312.12 L8243.55 1312.12 L8243.55 1312.12  Z\n",
       "  \" fill=\"#009af9\" fill-rule=\"evenodd\" fill-opacity=\"1\"/>\n",
       "<polyline clip-path=\"url(#clip032)\" style=\"stroke:#000000; stroke-linecap:butt; stroke-linejoin:round; stroke-width:4; stroke-opacity:1; fill:none\" points=\"\n",
       "  8243.55,1312.12 8243.55,1384.24 8288.43,1384.24 8288.43,1312.12 8243.55,1312.12 \n",
       "  \"/>\n",
       "<path clip-path=\"url(#clip032)\" d=\"\n",
       "M8288.43 1384.24 L8288.43 1384.24 L8333.3 1384.24 L8333.3 1384.24 L8288.43 1384.24 L8288.43 1384.24  Z\n",
       "  \" fill=\"#009af9\" fill-rule=\"evenodd\" fill-opacity=\"1\"/>\n",
       "<polyline clip-path=\"url(#clip032)\" style=\"stroke:#000000; stroke-linecap:butt; stroke-linejoin:round; stroke-width:4; stroke-opacity:1; fill:none\" points=\"\n",
       "  8288.43,1384.24 8288.43,1384.24 8333.3,1384.24 8288.43,1384.24 \n",
       "  \"/>\n",
       "<path clip-path=\"url(#clip032)\" d=\"\n",
       "M8333.3 1384.24 L8333.3 1384.24 L8378.18 1384.24 L8378.18 1384.24 L8333.3 1384.24 L8333.3 1384.24  Z\n",
       "  \" fill=\"#009af9\" fill-rule=\"evenodd\" fill-opacity=\"1\"/>\n",
       "<polyline clip-path=\"url(#clip032)\" style=\"stroke:#000000; stroke-linecap:butt; stroke-linejoin:round; stroke-width:4; stroke-opacity:1; fill:none\" points=\"\n",
       "  8333.3,1384.24 8333.3,1384.24 8378.18,1384.24 8333.3,1384.24 \n",
       "  \"/>\n",
       "<path clip-path=\"url(#clip032)\" d=\"\n",
       "M8378.18 1240.01 L8378.18 1384.24 L8423.06 1384.24 L8423.06 1240.01 L8378.18 1240.01 L8378.18 1240.01  Z\n",
       "  \" fill=\"#009af9\" fill-rule=\"evenodd\" fill-opacity=\"1\"/>\n",
       "<polyline clip-path=\"url(#clip032)\" style=\"stroke:#000000; stroke-linecap:butt; stroke-linejoin:round; stroke-width:4; stroke-opacity:1; fill:none\" points=\"\n",
       "  8378.18,1240.01 8378.18,1384.24 8423.06,1384.24 8423.06,1240.01 8378.18,1240.01 \n",
       "  \"/>\n",
       "<path clip-path=\"url(#clip032)\" d=\"\n",
       "M8423.06 1384.24 L8423.06 1384.24 L8467.93 1384.24 L8467.93 1384.24 L8423.06 1384.24 L8423.06 1384.24  Z\n",
       "  \" fill=\"#009af9\" fill-rule=\"evenodd\" fill-opacity=\"1\"/>\n",
       "<polyline clip-path=\"url(#clip032)\" style=\"stroke:#000000; stroke-linecap:butt; stroke-linejoin:round; stroke-width:4; stroke-opacity:1; fill:none\" points=\"\n",
       "  8423.06,1384.24 8423.06,1384.24 8467.93,1384.24 8423.06,1384.24 \n",
       "  \"/>\n",
       "<path clip-path=\"url(#clip032)\" d=\"\n",
       "M8467.93 1384.24 L8467.93 1384.24 L8512.81 1384.24 L8512.81 1384.24 L8467.93 1384.24 L8467.93 1384.24  Z\n",
       "  \" fill=\"#009af9\" fill-rule=\"evenodd\" fill-opacity=\"1\"/>\n",
       "<polyline clip-path=\"url(#clip032)\" style=\"stroke:#000000; stroke-linecap:butt; stroke-linejoin:round; stroke-width:4; stroke-opacity:1; fill:none\" points=\"\n",
       "  8467.93,1384.24 8467.93,1384.24 8512.81,1384.24 8467.93,1384.24 \n",
       "  \"/>\n",
       "<path clip-path=\"url(#clip032)\" d=\"\n",
       "M8512.81 1384.24 L8512.81 1384.24 L8557.69 1384.24 L8557.69 1384.24 L8512.81 1384.24 L8512.81 1384.24  Z\n",
       "  \" fill=\"#009af9\" fill-rule=\"evenodd\" fill-opacity=\"1\"/>\n",
       "<polyline clip-path=\"url(#clip032)\" style=\"stroke:#000000; stroke-linecap:butt; stroke-linejoin:round; stroke-width:4; stroke-opacity:1; fill:none\" points=\"\n",
       "  8512.81,1384.24 8512.81,1384.24 8557.69,1384.24 8512.81,1384.24 \n",
       "  \"/>\n",
       "<path clip-path=\"url(#clip032)\" d=\"\n",
       "M8557.69 1384.24 L8557.69 1384.24 L8602.56 1384.24 L8602.56 1384.24 L8557.69 1384.24 L8557.69 1384.24  Z\n",
       "  \" fill=\"#009af9\" fill-rule=\"evenodd\" fill-opacity=\"1\"/>\n",
       "<polyline clip-path=\"url(#clip032)\" style=\"stroke:#000000; stroke-linecap:butt; stroke-linejoin:round; stroke-width:4; stroke-opacity:1; fill:none\" points=\"\n",
       "  8557.69,1384.24 8557.69,1384.24 8602.56,1384.24 8557.69,1384.24 \n",
       "  \"/>\n",
       "<path clip-path=\"url(#clip032)\" d=\"\n",
       "M8602.56 1384.24 L8602.56 1384.24 L8647.44 1384.24 L8647.44 1384.24 L8602.56 1384.24 L8602.56 1384.24  Z\n",
       "  \" fill=\"#009af9\" fill-rule=\"evenodd\" fill-opacity=\"1\"/>\n",
       "<polyline clip-path=\"url(#clip032)\" style=\"stroke:#000000; stroke-linecap:butt; stroke-linejoin:round; stroke-width:4; stroke-opacity:1; fill:none\" points=\"\n",
       "  8602.56,1384.24 8602.56,1384.24 8647.44,1384.24 8602.56,1384.24 \n",
       "  \"/>\n",
       "<path clip-path=\"url(#clip032)\" d=\"\n",
       "M8647.44 1384.24 L8647.44 1384.24 L8692.32 1384.24 L8692.32 1384.24 L8647.44 1384.24 L8647.44 1384.24  Z\n",
       "  \" fill=\"#009af9\" fill-rule=\"evenodd\" fill-opacity=\"1\"/>\n",
       "<polyline clip-path=\"url(#clip032)\" style=\"stroke:#000000; stroke-linecap:butt; stroke-linejoin:round; stroke-width:4; stroke-opacity:1; fill:none\" points=\"\n",
       "  8647.44,1384.24 8647.44,1384.24 8692.32,1384.24 8647.44,1384.24 \n",
       "  \"/>\n",
       "<path clip-path=\"url(#clip032)\" d=\"\n",
       "M8692.32 1384.24 L8692.32 1384.24 L8737.19 1384.24 L8737.19 1384.24 L8692.32 1384.24 L8692.32 1384.24  Z\n",
       "  \" fill=\"#009af9\" fill-rule=\"evenodd\" fill-opacity=\"1\"/>\n",
       "<polyline clip-path=\"url(#clip032)\" style=\"stroke:#000000; stroke-linecap:butt; stroke-linejoin:round; stroke-width:4; stroke-opacity:1; fill:none\" points=\"\n",
       "  8692.32,1384.24 8692.32,1384.24 8737.19,1384.24 8692.32,1384.24 \n",
       "  \"/>\n",
       "<path clip-path=\"url(#clip032)\" d=\"\n",
       "M8737.19 1384.24 L8737.19 1384.24 L8782.07 1384.24 L8782.07 1384.24 L8737.19 1384.24 L8737.19 1384.24  Z\n",
       "  \" fill=\"#009af9\" fill-rule=\"evenodd\" fill-opacity=\"1\"/>\n",
       "<polyline clip-path=\"url(#clip032)\" style=\"stroke:#000000; stroke-linecap:butt; stroke-linejoin:round; stroke-width:4; stroke-opacity:1; fill:none\" points=\"\n",
       "  8737.19,1384.24 8737.19,1384.24 8782.07,1384.24 8737.19,1384.24 \n",
       "  \"/>\n",
       "<path clip-path=\"url(#clip032)\" d=\"\n",
       "M8782.07 1384.24 L8782.07 1384.24 L8826.95 1384.24 L8826.95 1384.24 L8782.07 1384.24 L8782.07 1384.24  Z\n",
       "  \" fill=\"#009af9\" fill-rule=\"evenodd\" fill-opacity=\"1\"/>\n",
       "<polyline clip-path=\"url(#clip032)\" style=\"stroke:#000000; stroke-linecap:butt; stroke-linejoin:round; stroke-width:4; stroke-opacity:1; fill:none\" points=\"\n",
       "  8782.07,1384.24 8782.07,1384.24 8826.95,1384.24 8782.07,1384.24 \n",
       "  \"/>\n",
       "<path clip-path=\"url(#clip032)\" d=\"\n",
       "M8826.95 1384.24 L8826.95 1384.24 L8871.82 1384.24 L8871.82 1384.24 L8826.95 1384.24 L8826.95 1384.24  Z\n",
       "  \" fill=\"#009af9\" fill-rule=\"evenodd\" fill-opacity=\"1\"/>\n",
       "<polyline clip-path=\"url(#clip032)\" style=\"stroke:#000000; stroke-linecap:butt; stroke-linejoin:round; stroke-width:4; stroke-opacity:1; fill:none\" points=\"\n",
       "  8826.95,1384.24 8826.95,1384.24 8871.82,1384.24 8826.95,1384.24 \n",
       "  \"/>\n",
       "<path clip-path=\"url(#clip032)\" d=\"\n",
       "M8871.82 1384.24 L8871.82 1384.24 L8916.7 1384.24 L8916.7 1384.24 L8871.82 1384.24 L8871.82 1384.24  Z\n",
       "  \" fill=\"#009af9\" fill-rule=\"evenodd\" fill-opacity=\"1\"/>\n",
       "<polyline clip-path=\"url(#clip032)\" style=\"stroke:#000000; stroke-linecap:butt; stroke-linejoin:round; stroke-width:4; stroke-opacity:1; fill:none\" points=\"\n",
       "  8871.82,1384.24 8871.82,1384.24 8916.7,1384.24 8871.82,1384.24 \n",
       "  \"/>\n",
       "<path clip-path=\"url(#clip032)\" d=\"\n",
       "M8916.7 1384.24 L8916.7 1384.24 L8961.58 1384.24 L8961.58 1384.24 L8916.7 1384.24 L8916.7 1384.24  Z\n",
       "  \" fill=\"#009af9\" fill-rule=\"evenodd\" fill-opacity=\"1\"/>\n",
       "<polyline clip-path=\"url(#clip032)\" style=\"stroke:#000000; stroke-linecap:butt; stroke-linejoin:round; stroke-width:4; stroke-opacity:1; fill:none\" points=\"\n",
       "  8916.7,1384.24 8916.7,1384.24 8961.58,1384.24 8916.7,1384.24 \n",
       "  \"/>\n",
       "<path clip-path=\"url(#clip032)\" d=\"\n",
       "M8961.58 1384.24 L8961.58 1384.24 L9006.45 1384.24 L9006.45 1384.24 L8961.58 1384.24 L8961.58 1384.24  Z\n",
       "  \" fill=\"#009af9\" fill-rule=\"evenodd\" fill-opacity=\"1\"/>\n",
       "<polyline clip-path=\"url(#clip032)\" style=\"stroke:#000000; stroke-linecap:butt; stroke-linejoin:round; stroke-width:4; stroke-opacity:1; fill:none\" points=\"\n",
       "  8961.58,1384.24 8961.58,1384.24 9006.45,1384.24 8961.58,1384.24 \n",
       "  \"/>\n",
       "<path clip-path=\"url(#clip032)\" d=\"\n",
       "M9006.45 1384.24 L9006.45 1384.24 L9051.33 1384.24 L9051.33 1384.24 L9006.45 1384.24 L9006.45 1384.24  Z\n",
       "  \" fill=\"#009af9\" fill-rule=\"evenodd\" fill-opacity=\"1\"/>\n",
       "<polyline clip-path=\"url(#clip032)\" style=\"stroke:#000000; stroke-linecap:butt; stroke-linejoin:round; stroke-width:4; stroke-opacity:1; fill:none\" points=\"\n",
       "  9006.45,1384.24 9006.45,1384.24 9051.33,1384.24 9006.45,1384.24 \n",
       "  \"/>\n",
       "<path clip-path=\"url(#clip032)\" d=\"\n",
       "M9051.33 1384.24 L9051.33 1384.24 L9096.2 1384.24 L9096.2 1384.24 L9051.33 1384.24 L9051.33 1384.24  Z\n",
       "  \" fill=\"#009af9\" fill-rule=\"evenodd\" fill-opacity=\"1\"/>\n",
       "<polyline clip-path=\"url(#clip032)\" style=\"stroke:#000000; stroke-linecap:butt; stroke-linejoin:round; stroke-width:4; stroke-opacity:1; fill:none\" points=\"\n",
       "  9051.33,1384.24 9051.33,1384.24 9096.2,1384.24 9051.33,1384.24 \n",
       "  \"/>\n",
       "<path clip-path=\"url(#clip032)\" d=\"\n",
       "M9096.2 1384.24 L9096.2 1384.24 L9141.08 1384.24 L9141.08 1384.24 L9096.2 1384.24 L9096.2 1384.24  Z\n",
       "  \" fill=\"#009af9\" fill-rule=\"evenodd\" fill-opacity=\"1\"/>\n",
       "<polyline clip-path=\"url(#clip032)\" style=\"stroke:#000000; stroke-linecap:butt; stroke-linejoin:round; stroke-width:4; stroke-opacity:1; fill:none\" points=\"\n",
       "  9096.2,1384.24 9096.2,1384.24 9141.08,1384.24 9096.2,1384.24 \n",
       "  \"/>\n",
       "<path clip-path=\"url(#clip032)\" d=\"\n",
       "M9141.08 1312.12 L9141.08 1384.24 L9185.96 1384.24 L9185.96 1312.12 L9141.08 1312.12 L9141.08 1312.12  Z\n",
       "  \" fill=\"#009af9\" fill-rule=\"evenodd\" fill-opacity=\"1\"/>\n",
       "<polyline clip-path=\"url(#clip032)\" style=\"stroke:#000000; stroke-linecap:butt; stroke-linejoin:round; stroke-width:4; stroke-opacity:1; fill:none\" points=\"\n",
       "  9141.08,1312.12 9141.08,1384.24 9185.96,1384.24 9185.96,1312.12 9141.08,1312.12 \n",
       "  \"/>\n",
       "<path clip-path=\"url(#clip032)\" d=\"\n",
       "M9185.96 1384.24 L9185.96 1384.24 L9230.83 1384.24 L9230.83 1384.24 L9185.96 1384.24 L9185.96 1384.24  Z\n",
       "  \" fill=\"#009af9\" fill-rule=\"evenodd\" fill-opacity=\"1\"/>\n",
       "<polyline clip-path=\"url(#clip032)\" style=\"stroke:#000000; stroke-linecap:butt; stroke-linejoin:round; stroke-width:4; stroke-opacity:1; fill:none\" points=\"\n",
       "  9185.96,1384.24 9185.96,1384.24 9230.83,1384.24 9185.96,1384.24 \n",
       "  \"/>\n",
       "<path clip-path=\"url(#clip032)\" d=\"\n",
       "M9230.83 1384.24 L9230.83 1384.24 L9275.71 1384.24 L9275.71 1384.24 L9230.83 1384.24 L9230.83 1384.24  Z\n",
       "  \" fill=\"#009af9\" fill-rule=\"evenodd\" fill-opacity=\"1\"/>\n",
       "<polyline clip-path=\"url(#clip032)\" style=\"stroke:#000000; stroke-linecap:butt; stroke-linejoin:round; stroke-width:4; stroke-opacity:1; fill:none\" points=\"\n",
       "  9230.83,1384.24 9230.83,1384.24 9275.71,1384.24 9230.83,1384.24 \n",
       "  \"/>\n",
       "<path clip-path=\"url(#clip032)\" d=\"\n",
       "M9275.71 1384.24 L9275.71 1384.24 L9320.59 1384.24 L9320.59 1384.24 L9275.71 1384.24 L9275.71 1384.24  Z\n",
       "  \" fill=\"#009af9\" fill-rule=\"evenodd\" fill-opacity=\"1\"/>\n",
       "<polyline clip-path=\"url(#clip032)\" style=\"stroke:#000000; stroke-linecap:butt; stroke-linejoin:round; stroke-width:4; stroke-opacity:1; fill:none\" points=\"\n",
       "  9275.71,1384.24 9275.71,1384.24 9320.59,1384.24 9275.71,1384.24 \n",
       "  \"/>\n",
       "<path clip-path=\"url(#clip032)\" d=\"\n",
       "M9320.59 1384.24 L9320.59 1384.24 L9365.46 1384.24 L9365.46 1384.24 L9320.59 1384.24 L9320.59 1384.24  Z\n",
       "  \" fill=\"#009af9\" fill-rule=\"evenodd\" fill-opacity=\"1\"/>\n",
       "<polyline clip-path=\"url(#clip032)\" style=\"stroke:#000000; stroke-linecap:butt; stroke-linejoin:round; stroke-width:4; stroke-opacity:1; fill:none\" points=\"\n",
       "  9320.59,1384.24 9320.59,1384.24 9365.46,1384.24 9320.59,1384.24 \n",
       "  \"/>\n",
       "<path clip-path=\"url(#clip032)\" d=\"\n",
       "M9365.46 1384.24 L9365.46 1384.24 L9410.34 1384.24 L9410.34 1384.24 L9365.46 1384.24 L9365.46 1384.24  Z\n",
       "  \" fill=\"#009af9\" fill-rule=\"evenodd\" fill-opacity=\"1\"/>\n",
       "<polyline clip-path=\"url(#clip032)\" style=\"stroke:#000000; stroke-linecap:butt; stroke-linejoin:round; stroke-width:4; stroke-opacity:1; fill:none\" points=\"\n",
       "  9365.46,1384.24 9365.46,1384.24 9410.34,1384.24 9365.46,1384.24 \n",
       "  \"/>\n",
       "<path clip-path=\"url(#clip032)\" d=\"\n",
       "M9410.34 1384.24 L9410.34 1384.24 L9455.22 1384.24 L9455.22 1384.24 L9410.34 1384.24 L9410.34 1384.24  Z\n",
       "  \" fill=\"#009af9\" fill-rule=\"evenodd\" fill-opacity=\"1\"/>\n",
       "<polyline clip-path=\"url(#clip032)\" style=\"stroke:#000000; stroke-linecap:butt; stroke-linejoin:round; stroke-width:4; stroke-opacity:1; fill:none\" points=\"\n",
       "  9410.34,1384.24 9410.34,1384.24 9455.22,1384.24 9410.34,1384.24 \n",
       "  \"/>\n",
       "<path clip-path=\"url(#clip032)\" d=\"\n",
       "M9455.22 1384.24 L9455.22 1384.24 L9500.09 1384.24 L9500.09 1384.24 L9455.22 1384.24 L9455.22 1384.24  Z\n",
       "  \" fill=\"#009af9\" fill-rule=\"evenodd\" fill-opacity=\"1\"/>\n",
       "<polyline clip-path=\"url(#clip032)\" style=\"stroke:#000000; stroke-linecap:butt; stroke-linejoin:round; stroke-width:4; stroke-opacity:1; fill:none\" points=\"\n",
       "  9455.22,1384.24 9455.22,1384.24 9500.09,1384.24 9455.22,1384.24 \n",
       "  \"/>\n",
       "<path clip-path=\"url(#clip032)\" d=\"\n",
       "M9500.09 1384.24 L9500.09 1384.24 L9544.97 1384.24 L9544.97 1384.24 L9500.09 1384.24 L9500.09 1384.24  Z\n",
       "  \" fill=\"#009af9\" fill-rule=\"evenodd\" fill-opacity=\"1\"/>\n",
       "<polyline clip-path=\"url(#clip032)\" style=\"stroke:#000000; stroke-linecap:butt; stroke-linejoin:round; stroke-width:4; stroke-opacity:1; fill:none\" points=\"\n",
       "  9500.09,1384.24 9500.09,1384.24 9544.97,1384.24 9500.09,1384.24 \n",
       "  \"/>\n",
       "<path clip-path=\"url(#clip032)\" d=\"\n",
       "M9544.97 1384.24 L9544.97 1384.24 L9589.85 1384.24 L9589.85 1384.24 L9544.97 1384.24 L9544.97 1384.24  Z\n",
       "  \" fill=\"#009af9\" fill-rule=\"evenodd\" fill-opacity=\"1\"/>\n",
       "<polyline clip-path=\"url(#clip032)\" style=\"stroke:#000000; stroke-linecap:butt; stroke-linejoin:round; stroke-width:4; stroke-opacity:1; fill:none\" points=\"\n",
       "  9544.97,1384.24 9544.97,1384.24 9589.85,1384.24 9544.97,1384.24 \n",
       "  \"/>\n",
       "<path clip-path=\"url(#clip032)\" d=\"\n",
       "M9589.85 1384.24 L9589.85 1384.24 L9634.72 1384.24 L9634.72 1384.24 L9589.85 1384.24 L9589.85 1384.24  Z\n",
       "  \" fill=\"#009af9\" fill-rule=\"evenodd\" fill-opacity=\"1\"/>\n",
       "<polyline clip-path=\"url(#clip032)\" style=\"stroke:#000000; stroke-linecap:butt; stroke-linejoin:round; stroke-width:4; stroke-opacity:1; fill:none\" points=\"\n",
       "  9589.85,1384.24 9589.85,1384.24 9634.72,1384.24 9589.85,1384.24 \n",
       "  \"/>\n",
       "<path clip-path=\"url(#clip032)\" d=\"\n",
       "M9634.72 1384.24 L9634.72 1384.24 L9679.6 1384.24 L9679.6 1384.24 L9634.72 1384.24 L9634.72 1384.24  Z\n",
       "  \" fill=\"#009af9\" fill-rule=\"evenodd\" fill-opacity=\"1\"/>\n",
       "<polyline clip-path=\"url(#clip032)\" style=\"stroke:#000000; stroke-linecap:butt; stroke-linejoin:round; stroke-width:4; stroke-opacity:1; fill:none\" points=\"\n",
       "  9634.72,1384.24 9634.72,1384.24 9679.6,1384.24 9634.72,1384.24 \n",
       "  \"/>\n",
       "<path clip-path=\"url(#clip032)\" d=\"\n",
       "M9679.6 1312.12 L9679.6 1384.24 L9724.48 1384.24 L9724.48 1312.12 L9679.6 1312.12 L9679.6 1312.12  Z\n",
       "  \" fill=\"#009af9\" fill-rule=\"evenodd\" fill-opacity=\"1\"/>\n",
       "<polyline clip-path=\"url(#clip032)\" style=\"stroke:#000000; stroke-linecap:butt; stroke-linejoin:round; stroke-width:4; stroke-opacity:1; fill:none\" points=\"\n",
       "  9679.6,1312.12 9679.6,1384.24 9724.48,1384.24 9724.48,1312.12 9679.6,1312.12 \n",
       "  \"/>\n",
       "<path clip-path=\"url(#clip032)\" d=\"\n",
       "M9724.48 1384.24 L9724.48 1384.24 L9769.35 1384.24 L9769.35 1384.24 L9724.48 1384.24 L9724.48 1384.24  Z\n",
       "  \" fill=\"#009af9\" fill-rule=\"evenodd\" fill-opacity=\"1\"/>\n",
       "<polyline clip-path=\"url(#clip032)\" style=\"stroke:#000000; stroke-linecap:butt; stroke-linejoin:round; stroke-width:4; stroke-opacity:1; fill:none\" points=\"\n",
       "  9724.48,1384.24 9724.48,1384.24 9769.35,1384.24 9724.48,1384.24 \n",
       "  \"/>\n",
       "<path clip-path=\"url(#clip032)\" d=\"\n",
       "M9769.35 1384.24 L9769.35 1384.24 L9814.23 1384.24 L9814.23 1384.24 L9769.35 1384.24 L9769.35 1384.24  Z\n",
       "  \" fill=\"#009af9\" fill-rule=\"evenodd\" fill-opacity=\"1\"/>\n",
       "<polyline clip-path=\"url(#clip032)\" style=\"stroke:#000000; stroke-linecap:butt; stroke-linejoin:round; stroke-width:4; stroke-opacity:1; fill:none\" points=\"\n",
       "  9769.35,1384.24 9769.35,1384.24 9814.23,1384.24 9769.35,1384.24 \n",
       "  \"/>\n",
       "<path clip-path=\"url(#clip032)\" d=\"\n",
       "M9814.23 1384.24 L9814.23 1384.24 L9859.11 1384.24 L9859.11 1384.24 L9814.23 1384.24 L9814.23 1384.24  Z\n",
       "  \" fill=\"#009af9\" fill-rule=\"evenodd\" fill-opacity=\"1\"/>\n",
       "<polyline clip-path=\"url(#clip032)\" style=\"stroke:#000000; stroke-linecap:butt; stroke-linejoin:round; stroke-width:4; stroke-opacity:1; fill:none\" points=\"\n",
       "  9814.23,1384.24 9814.23,1384.24 9859.11,1384.24 9814.23,1384.24 \n",
       "  \"/>\n",
       "<path clip-path=\"url(#clip032)\" d=\"\n",
       "M9859.11 1384.24 L9859.11 1384.24 L9903.98 1384.24 L9903.98 1384.24 L9859.11 1384.24 L9859.11 1384.24  Z\n",
       "  \" fill=\"#009af9\" fill-rule=\"evenodd\" fill-opacity=\"1\"/>\n",
       "<polyline clip-path=\"url(#clip032)\" style=\"stroke:#000000; stroke-linecap:butt; stroke-linejoin:round; stroke-width:4; stroke-opacity:1; fill:none\" points=\"\n",
       "  9859.11,1384.24 9859.11,1384.24 9903.98,1384.24 9859.11,1384.24 \n",
       "  \"/>\n",
       "<path clip-path=\"url(#clip032)\" d=\"\n",
       "M9903.98 1384.24 L9903.98 1384.24 L9948.86 1384.24 L9948.86 1384.24 L9903.98 1384.24 L9903.98 1384.24  Z\n",
       "  \" fill=\"#009af9\" fill-rule=\"evenodd\" fill-opacity=\"1\"/>\n",
       "<polyline clip-path=\"url(#clip032)\" style=\"stroke:#000000; stroke-linecap:butt; stroke-linejoin:round; stroke-width:4; stroke-opacity:1; fill:none\" points=\"\n",
       "  9903.98,1384.24 9903.98,1384.24 9948.86,1384.24 9903.98,1384.24 \n",
       "  \"/>\n",
       "<path clip-path=\"url(#clip032)\" d=\"\n",
       "M9948.86 1384.24 L9948.86 1384.24 L9993.73 1384.24 L9993.73 1384.24 L9948.86 1384.24 L9948.86 1384.24  Z\n",
       "  \" fill=\"#009af9\" fill-rule=\"evenodd\" fill-opacity=\"1\"/>\n",
       "<polyline clip-path=\"url(#clip032)\" style=\"stroke:#000000; stroke-linecap:butt; stroke-linejoin:round; stroke-width:4; stroke-opacity:1; fill:none\" points=\"\n",
       "  9948.86,1384.24 9948.86,1384.24 9993.73,1384.24 9948.86,1384.24 \n",
       "  \"/>\n",
       "<path clip-path=\"url(#clip032)\" d=\"\n",
       "M9993.73 1384.24 L9993.73 1384.24 L10038.6 1384.24 L10038.6 1384.24 L9993.73 1384.24 L9993.73 1384.24  Z\n",
       "  \" fill=\"#009af9\" fill-rule=\"evenodd\" fill-opacity=\"1\"/>\n",
       "<polyline clip-path=\"url(#clip032)\" style=\"stroke:#000000; stroke-linecap:butt; stroke-linejoin:round; stroke-width:4; stroke-opacity:1; fill:none\" points=\"\n",
       "  9993.73,1384.24 9993.73,1384.24 10038.6,1384.24 9993.73,1384.24 \n",
       "  \"/>\n",
       "<path clip-path=\"url(#clip032)\" d=\"\n",
       "M10038.6 1384.24 L10038.6 1384.24 L10083.5 1384.24 L10083.5 1384.24 L10038.6 1384.24 L10038.6 1384.24  Z\n",
       "  \" fill=\"#009af9\" fill-rule=\"evenodd\" fill-opacity=\"1\"/>\n",
       "<polyline clip-path=\"url(#clip032)\" style=\"stroke:#000000; stroke-linecap:butt; stroke-linejoin:round; stroke-width:4; stroke-opacity:1; fill:none\" points=\"\n",
       "  10038.6,1384.24 10038.6,1384.24 10083.5,1384.24 10038.6,1384.24 \n",
       "  \"/>\n",
       "<path clip-path=\"url(#clip032)\" d=\"\n",
       "M10083.5 1384.24 L10083.5 1384.24 L10128.4 1384.24 L10128.4 1384.24 L10083.5 1384.24 L10083.5 1384.24  Z\n",
       "  \" fill=\"#009af9\" fill-rule=\"evenodd\" fill-opacity=\"1\"/>\n",
       "<polyline clip-path=\"url(#clip032)\" style=\"stroke:#000000; stroke-linecap:butt; stroke-linejoin:round; stroke-width:4; stroke-opacity:1; fill:none\" points=\"\n",
       "  10083.5,1384.24 10083.5,1384.24 10128.4,1384.24 10083.5,1384.24 \n",
       "  \"/>\n",
       "<path clip-path=\"url(#clip032)\" d=\"\n",
       "M10128.4 1384.24 L10128.4 1384.24 L10173.2 1384.24 L10173.2 1384.24 L10128.4 1384.24 L10128.4 1384.24  Z\n",
       "  \" fill=\"#009af9\" fill-rule=\"evenodd\" fill-opacity=\"1\"/>\n",
       "<polyline clip-path=\"url(#clip032)\" style=\"stroke:#000000; stroke-linecap:butt; stroke-linejoin:round; stroke-width:4; stroke-opacity:1; fill:none\" points=\"\n",
       "  10128.4,1384.24 10128.4,1384.24 10173.2,1384.24 10128.4,1384.24 \n",
       "  \"/>\n",
       "<path clip-path=\"url(#clip032)\" d=\"\n",
       "M10173.2 1384.24 L10173.2 1384.24 L10218.1 1384.24 L10218.1 1384.24 L10173.2 1384.24 L10173.2 1384.24  Z\n",
       "  \" fill=\"#009af9\" fill-rule=\"evenodd\" fill-opacity=\"1\"/>\n",
       "<polyline clip-path=\"url(#clip032)\" style=\"stroke:#000000; stroke-linecap:butt; stroke-linejoin:round; stroke-width:4; stroke-opacity:1; fill:none\" points=\"\n",
       "  10173.2,1384.24 10173.2,1384.24 10218.1,1384.24 10173.2,1384.24 \n",
       "  \"/>\n",
       "<path clip-path=\"url(#clip032)\" d=\"\n",
       "M10218.1 1384.24 L10218.1 1384.24 L10263 1384.24 L10263 1384.24 L10218.1 1384.24 L10218.1 1384.24  Z\n",
       "  \" fill=\"#009af9\" fill-rule=\"evenodd\" fill-opacity=\"1\"/>\n",
       "<polyline clip-path=\"url(#clip032)\" style=\"stroke:#000000; stroke-linecap:butt; stroke-linejoin:round; stroke-width:4; stroke-opacity:1; fill:none\" points=\"\n",
       "  10218.1,1384.24 10218.1,1384.24 10263,1384.24 10218.1,1384.24 \n",
       "  \"/>\n",
       "<path clip-path=\"url(#clip032)\" d=\"\n",
       "M10263 1384.24 L10263 1384.24 L10307.9 1384.24 L10307.9 1384.24 L10263 1384.24 L10263 1384.24  Z\n",
       "  \" fill=\"#009af9\" fill-rule=\"evenodd\" fill-opacity=\"1\"/>\n",
       "<polyline clip-path=\"url(#clip032)\" style=\"stroke:#000000; stroke-linecap:butt; stroke-linejoin:round; stroke-width:4; stroke-opacity:1; fill:none\" points=\"\n",
       "  10263,1384.24 10263,1384.24 10307.9,1384.24 10263,1384.24 \n",
       "  \"/>\n",
       "<path clip-path=\"url(#clip032)\" d=\"\n",
       "M10307.9 1384.24 L10307.9 1384.24 L10352.7 1384.24 L10352.7 1384.24 L10307.9 1384.24 L10307.9 1384.24  Z\n",
       "  \" fill=\"#009af9\" fill-rule=\"evenodd\" fill-opacity=\"1\"/>\n",
       "<polyline clip-path=\"url(#clip032)\" style=\"stroke:#000000; stroke-linecap:butt; stroke-linejoin:round; stroke-width:4; stroke-opacity:1; fill:none\" points=\"\n",
       "  10307.9,1384.24 10307.9,1384.24 10352.7,1384.24 10307.9,1384.24 \n",
       "  \"/>\n",
       "<path clip-path=\"url(#clip032)\" d=\"\n",
       "M10352.7 1384.24 L10352.7 1384.24 L10397.6 1384.24 L10397.6 1384.24 L10352.7 1384.24 L10352.7 1384.24  Z\n",
       "  \" fill=\"#009af9\" fill-rule=\"evenodd\" fill-opacity=\"1\"/>\n",
       "<polyline clip-path=\"url(#clip032)\" style=\"stroke:#000000; stroke-linecap:butt; stroke-linejoin:round; stroke-width:4; stroke-opacity:1; fill:none\" points=\"\n",
       "  10352.7,1384.24 10352.7,1384.24 10397.6,1384.24 10352.7,1384.24 \n",
       "  \"/>\n",
       "<path clip-path=\"url(#clip032)\" d=\"\n",
       "M10397.6 1384.24 L10397.6 1384.24 L10442.5 1384.24 L10442.5 1384.24 L10397.6 1384.24 L10397.6 1384.24  Z\n",
       "  \" fill=\"#009af9\" fill-rule=\"evenodd\" fill-opacity=\"1\"/>\n",
       "<polyline clip-path=\"url(#clip032)\" style=\"stroke:#000000; stroke-linecap:butt; stroke-linejoin:round; stroke-width:4; stroke-opacity:1; fill:none\" points=\"\n",
       "  10397.6,1384.24 10397.6,1384.24 10442.5,1384.24 10397.6,1384.24 \n",
       "  \"/>\n",
       "<path clip-path=\"url(#clip032)\" d=\"\n",
       "M10442.5 1384.24 L10442.5 1384.24 L10487.4 1384.24 L10487.4 1384.24 L10442.5 1384.24 L10442.5 1384.24  Z\n",
       "  \" fill=\"#009af9\" fill-rule=\"evenodd\" fill-opacity=\"1\"/>\n",
       "<polyline clip-path=\"url(#clip032)\" style=\"stroke:#000000; stroke-linecap:butt; stroke-linejoin:round; stroke-width:4; stroke-opacity:1; fill:none\" points=\"\n",
       "  10442.5,1384.24 10442.5,1384.24 10487.4,1384.24 10442.5,1384.24 \n",
       "  \"/>\n",
       "<path clip-path=\"url(#clip032)\" d=\"\n",
       "M10487.4 1384.24 L10487.4 1384.24 L10532.3 1384.24 L10532.3 1384.24 L10487.4 1384.24 L10487.4 1384.24  Z\n",
       "  \" fill=\"#009af9\" fill-rule=\"evenodd\" fill-opacity=\"1\"/>\n",
       "<polyline clip-path=\"url(#clip032)\" style=\"stroke:#000000; stroke-linecap:butt; stroke-linejoin:round; stroke-width:4; stroke-opacity:1; fill:none\" points=\"\n",
       "  10487.4,1384.24 10487.4,1384.24 10532.3,1384.24 10487.4,1384.24 \n",
       "  \"/>\n",
       "<path clip-path=\"url(#clip032)\" d=\"\n",
       "M10532.3 1384.24 L10532.3 1384.24 L10577.1 1384.24 L10577.1 1384.24 L10532.3 1384.24 L10532.3 1384.24  Z\n",
       "  \" fill=\"#009af9\" fill-rule=\"evenodd\" fill-opacity=\"1\"/>\n",
       "<polyline clip-path=\"url(#clip032)\" style=\"stroke:#000000; stroke-linecap:butt; stroke-linejoin:round; stroke-width:4; stroke-opacity:1; fill:none\" points=\"\n",
       "  10532.3,1384.24 10532.3,1384.24 10577.1,1384.24 10532.3,1384.24 \n",
       "  \"/>\n",
       "<path clip-path=\"url(#clip032)\" d=\"\n",
       "M10577.1 1384.24 L10577.1 1384.24 L10622 1384.24 L10622 1384.24 L10577.1 1384.24 L10577.1 1384.24  Z\n",
       "  \" fill=\"#009af9\" fill-rule=\"evenodd\" fill-opacity=\"1\"/>\n",
       "<polyline clip-path=\"url(#clip032)\" style=\"stroke:#000000; stroke-linecap:butt; stroke-linejoin:round; stroke-width:4; stroke-opacity:1; fill:none\" points=\"\n",
       "  10577.1,1384.24 10577.1,1384.24 10622,1384.24 10577.1,1384.24 \n",
       "  \"/>\n",
       "<path clip-path=\"url(#clip032)\" d=\"\n",
       "M10622 1384.24 L10622 1384.24 L10666.9 1384.24 L10666.9 1384.24 L10622 1384.24 L10622 1384.24  Z\n",
       "  \" fill=\"#009af9\" fill-rule=\"evenodd\" fill-opacity=\"1\"/>\n",
       "<polyline clip-path=\"url(#clip032)\" style=\"stroke:#000000; stroke-linecap:butt; stroke-linejoin:round; stroke-width:4; stroke-opacity:1; fill:none\" points=\"\n",
       "  10622,1384.24 10622,1384.24 10666.9,1384.24 10622,1384.24 \n",
       "  \"/>\n",
       "<path clip-path=\"url(#clip032)\" d=\"\n",
       "M10666.9 1384.24 L10666.9 1384.24 L10711.8 1384.24 L10711.8 1384.24 L10666.9 1384.24 L10666.9 1384.24  Z\n",
       "  \" fill=\"#009af9\" fill-rule=\"evenodd\" fill-opacity=\"1\"/>\n",
       "<polyline clip-path=\"url(#clip032)\" style=\"stroke:#000000; stroke-linecap:butt; stroke-linejoin:round; stroke-width:4; stroke-opacity:1; fill:none\" points=\"\n",
       "  10666.9,1384.24 10666.9,1384.24 10711.8,1384.24 10666.9,1384.24 \n",
       "  \"/>\n",
       "<path clip-path=\"url(#clip032)\" d=\"\n",
       "M10711.8 1384.24 L10711.8 1384.24 L10756.6 1384.24 L10756.6 1384.24 L10711.8 1384.24 L10711.8 1384.24  Z\n",
       "  \" fill=\"#009af9\" fill-rule=\"evenodd\" fill-opacity=\"1\"/>\n",
       "<polyline clip-path=\"url(#clip032)\" style=\"stroke:#000000; stroke-linecap:butt; stroke-linejoin:round; stroke-width:4; stroke-opacity:1; fill:none\" points=\"\n",
       "  10711.8,1384.24 10711.8,1384.24 10756.6,1384.24 10711.8,1384.24 \n",
       "  \"/>\n",
       "<path clip-path=\"url(#clip032)\" d=\"\n",
       "M10756.6 1384.24 L10756.6 1384.24 L10801.5 1384.24 L10801.5 1384.24 L10756.6 1384.24 L10756.6 1384.24  Z\n",
       "  \" fill=\"#009af9\" fill-rule=\"evenodd\" fill-opacity=\"1\"/>\n",
       "<polyline clip-path=\"url(#clip032)\" style=\"stroke:#000000; stroke-linecap:butt; stroke-linejoin:round; stroke-width:4; stroke-opacity:1; fill:none\" points=\"\n",
       "  10756.6,1384.24 10756.6,1384.24 10801.5,1384.24 10756.6,1384.24 \n",
       "  \"/>\n",
       "<path clip-path=\"url(#clip032)\" d=\"\n",
       "M10801.5 1384.24 L10801.5 1384.24 L10846.4 1384.24 L10846.4 1384.24 L10801.5 1384.24 L10801.5 1384.24  Z\n",
       "  \" fill=\"#009af9\" fill-rule=\"evenodd\" fill-opacity=\"1\"/>\n",
       "<polyline clip-path=\"url(#clip032)\" style=\"stroke:#000000; stroke-linecap:butt; stroke-linejoin:round; stroke-width:4; stroke-opacity:1; fill:none\" points=\"\n",
       "  10801.5,1384.24 10801.5,1384.24 10846.4,1384.24 10801.5,1384.24 \n",
       "  \"/>\n",
       "<path clip-path=\"url(#clip032)\" d=\"\n",
       "M10846.4 1384.24 L10846.4 1384.24 L10891.3 1384.24 L10891.3 1384.24 L10846.4 1384.24 L10846.4 1384.24  Z\n",
       "  \" fill=\"#009af9\" fill-rule=\"evenodd\" fill-opacity=\"1\"/>\n",
       "<polyline clip-path=\"url(#clip032)\" style=\"stroke:#000000; stroke-linecap:butt; stroke-linejoin:round; stroke-width:4; stroke-opacity:1; fill:none\" points=\"\n",
       "  10846.4,1384.24 10846.4,1384.24 10891.3,1384.24 10846.4,1384.24 \n",
       "  \"/>\n",
       "<path clip-path=\"url(#clip032)\" d=\"\n",
       "M10891.3 1384.24 L10891.3 1384.24 L10936.1 1384.24 L10936.1 1384.24 L10891.3 1384.24 L10891.3 1384.24  Z\n",
       "  \" fill=\"#009af9\" fill-rule=\"evenodd\" fill-opacity=\"1\"/>\n",
       "<polyline clip-path=\"url(#clip032)\" style=\"stroke:#000000; stroke-linecap:butt; stroke-linejoin:round; stroke-width:4; stroke-opacity:1; fill:none\" points=\"\n",
       "  10891.3,1384.24 10891.3,1384.24 10936.1,1384.24 10891.3,1384.24 \n",
       "  \"/>\n",
       "<path clip-path=\"url(#clip032)\" d=\"\n",
       "M10936.1 1384.24 L10936.1 1384.24 L10981 1384.24 L10981 1384.24 L10936.1 1384.24 L10936.1 1384.24  Z\n",
       "  \" fill=\"#009af9\" fill-rule=\"evenodd\" fill-opacity=\"1\"/>\n",
       "<polyline clip-path=\"url(#clip032)\" style=\"stroke:#000000; stroke-linecap:butt; stroke-linejoin:round; stroke-width:4; stroke-opacity:1; fill:none\" points=\"\n",
       "  10936.1,1384.24 10936.1,1384.24 10981,1384.24 10936.1,1384.24 \n",
       "  \"/>\n",
       "<path clip-path=\"url(#clip032)\" d=\"\n",
       "M10981 1384.24 L10981 1384.24 L11025.9 1384.24 L11025.9 1384.24 L10981 1384.24 L10981 1384.24  Z\n",
       "  \" fill=\"#009af9\" fill-rule=\"evenodd\" fill-opacity=\"1\"/>\n",
       "<polyline clip-path=\"url(#clip032)\" style=\"stroke:#000000; stroke-linecap:butt; stroke-linejoin:round; stroke-width:4; stroke-opacity:1; fill:none\" points=\"\n",
       "  10981,1384.24 10981,1384.24 11025.9,1384.24 10981,1384.24 \n",
       "  \"/>\n",
       "<path clip-path=\"url(#clip032)\" d=\"\n",
       "M11025.9 1384.24 L11025.9 1384.24 L11070.8 1384.24 L11070.8 1384.24 L11025.9 1384.24 L11025.9 1384.24  Z\n",
       "  \" fill=\"#009af9\" fill-rule=\"evenodd\" fill-opacity=\"1\"/>\n",
       "<polyline clip-path=\"url(#clip032)\" style=\"stroke:#000000; stroke-linecap:butt; stroke-linejoin:round; stroke-width:4; stroke-opacity:1; fill:none\" points=\"\n",
       "  11025.9,1384.24 11025.9,1384.24 11070.8,1384.24 11025.9,1384.24 \n",
       "  \"/>\n",
       "<path clip-path=\"url(#clip032)\" d=\"\n",
       "M11070.8 1384.24 L11070.8 1384.24 L11115.6 1384.24 L11115.6 1384.24 L11070.8 1384.24 L11070.8 1384.24  Z\n",
       "  \" fill=\"#009af9\" fill-rule=\"evenodd\" fill-opacity=\"1\"/>\n",
       "<polyline clip-path=\"url(#clip032)\" style=\"stroke:#000000; stroke-linecap:butt; stroke-linejoin:round; stroke-width:4; stroke-opacity:1; fill:none\" points=\"\n",
       "  11070.8,1384.24 11070.8,1384.24 11115.6,1384.24 11070.8,1384.24 \n",
       "  \"/>\n",
       "<path clip-path=\"url(#clip032)\" d=\"\n",
       "M11115.6 1384.24 L11115.6 1384.24 L11160.5 1384.24 L11160.5 1384.24 L11115.6 1384.24 L11115.6 1384.24  Z\n",
       "  \" fill=\"#009af9\" fill-rule=\"evenodd\" fill-opacity=\"1\"/>\n",
       "<polyline clip-path=\"url(#clip032)\" style=\"stroke:#000000; stroke-linecap:butt; stroke-linejoin:round; stroke-width:4; stroke-opacity:1; fill:none\" points=\"\n",
       "  11115.6,1384.24 11115.6,1384.24 11160.5,1384.24 11115.6,1384.24 \n",
       "  \"/>\n",
       "<path clip-path=\"url(#clip032)\" d=\"\n",
       "M11160.5 1384.24 L11160.5 1384.24 L11205.4 1384.24 L11205.4 1384.24 L11160.5 1384.24 L11160.5 1384.24  Z\n",
       "  \" fill=\"#009af9\" fill-rule=\"evenodd\" fill-opacity=\"1\"/>\n",
       "<polyline clip-path=\"url(#clip032)\" style=\"stroke:#000000; stroke-linecap:butt; stroke-linejoin:round; stroke-width:4; stroke-opacity:1; fill:none\" points=\"\n",
       "  11160.5,1384.24 11160.5,1384.24 11205.4,1384.24 11160.5,1384.24 \n",
       "  \"/>\n",
       "<path clip-path=\"url(#clip032)\" d=\"\n",
       "M11205.4 1384.24 L11205.4 1384.24 L11250.3 1384.24 L11250.3 1384.24 L11205.4 1384.24 L11205.4 1384.24  Z\n",
       "  \" fill=\"#009af9\" fill-rule=\"evenodd\" fill-opacity=\"1\"/>\n",
       "<polyline clip-path=\"url(#clip032)\" style=\"stroke:#000000; stroke-linecap:butt; stroke-linejoin:round; stroke-width:4; stroke-opacity:1; fill:none\" points=\"\n",
       "  11205.4,1384.24 11205.4,1384.24 11250.3,1384.24 11205.4,1384.24 \n",
       "  \"/>\n",
       "<path clip-path=\"url(#clip032)\" d=\"\n",
       "M11250.3 1384.24 L11250.3 1384.24 L11295.2 1384.24 L11295.2 1384.24 L11250.3 1384.24 L11250.3 1384.24  Z\n",
       "  \" fill=\"#009af9\" fill-rule=\"evenodd\" fill-opacity=\"1\"/>\n",
       "<polyline clip-path=\"url(#clip032)\" style=\"stroke:#000000; stroke-linecap:butt; stroke-linejoin:round; stroke-width:4; stroke-opacity:1; fill:none\" points=\"\n",
       "  11250.3,1384.24 11250.3,1384.24 11295.2,1384.24 11250.3,1384.24 \n",
       "  \"/>\n",
       "<path clip-path=\"url(#clip032)\" d=\"\n",
       "M11295.2 1384.24 L11295.2 1384.24 L11340 1384.24 L11340 1384.24 L11295.2 1384.24 L11295.2 1384.24  Z\n",
       "  \" fill=\"#009af9\" fill-rule=\"evenodd\" fill-opacity=\"1\"/>\n",
       "<polyline clip-path=\"url(#clip032)\" style=\"stroke:#000000; stroke-linecap:butt; stroke-linejoin:round; stroke-width:4; stroke-opacity:1; fill:none\" points=\"\n",
       "  11295.2,1384.24 11295.2,1384.24 11340,1384.24 11295.2,1384.24 \n",
       "  \"/>\n",
       "<path clip-path=\"url(#clip032)\" d=\"\n",
       "M11340 1384.24 L11340 1384.24 L11384.9 1384.24 L11384.9 1384.24 L11340 1384.24 L11340 1384.24  Z\n",
       "  \" fill=\"#009af9\" fill-rule=\"evenodd\" fill-opacity=\"1\"/>\n",
       "<polyline clip-path=\"url(#clip032)\" style=\"stroke:#000000; stroke-linecap:butt; stroke-linejoin:round; stroke-width:4; stroke-opacity:1; fill:none\" points=\"\n",
       "  11340,1384.24 11340,1384.24 11384.9,1384.24 11340,1384.24 \n",
       "  \"/>\n",
       "<path clip-path=\"url(#clip032)\" d=\"\n",
       "M11384.9 1384.24 L11384.9 1384.24 L11429.8 1384.24 L11429.8 1384.24 L11384.9 1384.24 L11384.9 1384.24  Z\n",
       "  \" fill=\"#009af9\" fill-rule=\"evenodd\" fill-opacity=\"1\"/>\n",
       "<polyline clip-path=\"url(#clip032)\" style=\"stroke:#000000; stroke-linecap:butt; stroke-linejoin:round; stroke-width:4; stroke-opacity:1; fill:none\" points=\"\n",
       "  11384.9,1384.24 11384.9,1384.24 11429.8,1384.24 11384.9,1384.24 \n",
       "  \"/>\n",
       "<path clip-path=\"url(#clip032)\" d=\"\n",
       "M11429.8 1384.24 L11429.8 1384.24 L11474.7 1384.24 L11474.7 1384.24 L11429.8 1384.24 L11429.8 1384.24  Z\n",
       "  \" fill=\"#009af9\" fill-rule=\"evenodd\" fill-opacity=\"1\"/>\n",
       "<polyline clip-path=\"url(#clip032)\" style=\"stroke:#000000; stroke-linecap:butt; stroke-linejoin:round; stroke-width:4; stroke-opacity:1; fill:none\" points=\"\n",
       "  11429.8,1384.24 11429.8,1384.24 11474.7,1384.24 11429.8,1384.24 \n",
       "  \"/>\n",
       "<path clip-path=\"url(#clip032)\" d=\"\n",
       "M11474.7 1384.24 L11474.7 1384.24 L11519.5 1384.24 L11519.5 1384.24 L11474.7 1384.24 L11474.7 1384.24  Z\n",
       "  \" fill=\"#009af9\" fill-rule=\"evenodd\" fill-opacity=\"1\"/>\n",
       "<polyline clip-path=\"url(#clip032)\" style=\"stroke:#000000; stroke-linecap:butt; stroke-linejoin:round; stroke-width:4; stroke-opacity:1; fill:none\" points=\"\n",
       "  11474.7,1384.24 11474.7,1384.24 11519.5,1384.24 11474.7,1384.24 \n",
       "  \"/>\n",
       "<path clip-path=\"url(#clip032)\" d=\"\n",
       "M11519.5 1384.24 L11519.5 1384.24 L11564.4 1384.24 L11564.4 1384.24 L11519.5 1384.24 L11519.5 1384.24  Z\n",
       "  \" fill=\"#009af9\" fill-rule=\"evenodd\" fill-opacity=\"1\"/>\n",
       "<polyline clip-path=\"url(#clip032)\" style=\"stroke:#000000; stroke-linecap:butt; stroke-linejoin:round; stroke-width:4; stroke-opacity:1; fill:none\" points=\"\n",
       "  11519.5,1384.24 11519.5,1384.24 11564.4,1384.24 11519.5,1384.24 \n",
       "  \"/>\n",
       "<path clip-path=\"url(#clip032)\" d=\"\n",
       "M11564.4 1384.24 L11564.4 1384.24 L11609.3 1384.24 L11609.3 1384.24 L11564.4 1384.24 L11564.4 1384.24  Z\n",
       "  \" fill=\"#009af9\" fill-rule=\"evenodd\" fill-opacity=\"1\"/>\n",
       "<polyline clip-path=\"url(#clip032)\" style=\"stroke:#000000; stroke-linecap:butt; stroke-linejoin:round; stroke-width:4; stroke-opacity:1; fill:none\" points=\"\n",
       "  11564.4,1384.24 11564.4,1384.24 11609.3,1384.24 11564.4,1384.24 \n",
       "  \"/>\n",
       "<path clip-path=\"url(#clip032)\" d=\"\n",
       "M11609.3 1384.24 L11609.3 1384.24 L11654.2 1384.24 L11654.2 1384.24 L11609.3 1384.24 L11609.3 1384.24  Z\n",
       "  \" fill=\"#009af9\" fill-rule=\"evenodd\" fill-opacity=\"1\"/>\n",
       "<polyline clip-path=\"url(#clip032)\" style=\"stroke:#000000; stroke-linecap:butt; stroke-linejoin:round; stroke-width:4; stroke-opacity:1; fill:none\" points=\"\n",
       "  11609.3,1384.24 11609.3,1384.24 11654.2,1384.24 11609.3,1384.24 \n",
       "  \"/>\n",
       "<path clip-path=\"url(#clip032)\" d=\"\n",
       "M11654.2 1384.24 L11654.2 1384.24 L11699 1384.24 L11699 1384.24 L11654.2 1384.24 L11654.2 1384.24  Z\n",
       "  \" fill=\"#009af9\" fill-rule=\"evenodd\" fill-opacity=\"1\"/>\n",
       "<polyline clip-path=\"url(#clip032)\" style=\"stroke:#000000; stroke-linecap:butt; stroke-linejoin:round; stroke-width:4; stroke-opacity:1; fill:none\" points=\"\n",
       "  11654.2,1384.24 11654.2,1384.24 11699,1384.24 11654.2,1384.24 \n",
       "  \"/>\n",
       "<path clip-path=\"url(#clip032)\" d=\"\n",
       "M11699 1384.24 L11699 1384.24 L11743.9 1384.24 L11743.9 1384.24 L11699 1384.24 L11699 1384.24  Z\n",
       "  \" fill=\"#009af9\" fill-rule=\"evenodd\" fill-opacity=\"1\"/>\n",
       "<polyline clip-path=\"url(#clip032)\" style=\"stroke:#000000; stroke-linecap:butt; stroke-linejoin:round; stroke-width:4; stroke-opacity:1; fill:none\" points=\"\n",
       "  11699,1384.24 11699,1384.24 11743.9,1384.24 11699,1384.24 \n",
       "  \"/>\n",
       "<path clip-path=\"url(#clip032)\" d=\"\n",
       "M11743.9 1384.24 L11743.9 1384.24 L11788.8 1384.24 L11788.8 1384.24 L11743.9 1384.24 L11743.9 1384.24  Z\n",
       "  \" fill=\"#009af9\" fill-rule=\"evenodd\" fill-opacity=\"1\"/>\n",
       "<polyline clip-path=\"url(#clip032)\" style=\"stroke:#000000; stroke-linecap:butt; stroke-linejoin:round; stroke-width:4; stroke-opacity:1; fill:none\" points=\"\n",
       "  11743.9,1384.24 11743.9,1384.24 11788.8,1384.24 11743.9,1384.24 \n",
       "  \"/>\n",
       "<path clip-path=\"url(#clip032)\" d=\"\n",
       "M11788.8 1384.24 L11788.8 1384.24 L11833.7 1384.24 L11833.7 1384.24 L11788.8 1384.24 L11788.8 1384.24  Z\n",
       "  \" fill=\"#009af9\" fill-rule=\"evenodd\" fill-opacity=\"1\"/>\n",
       "<polyline clip-path=\"url(#clip032)\" style=\"stroke:#000000; stroke-linecap:butt; stroke-linejoin:round; stroke-width:4; stroke-opacity:1; fill:none\" points=\"\n",
       "  11788.8,1384.24 11788.8,1384.24 11833.7,1384.24 11788.8,1384.24 \n",
       "  \"/>\n",
       "<path clip-path=\"url(#clip032)\" d=\"\n",
       "M11833.7 1384.24 L11833.7 1384.24 L11878.5 1384.24 L11878.5 1384.24 L11833.7 1384.24 L11833.7 1384.24  Z\n",
       "  \" fill=\"#009af9\" fill-rule=\"evenodd\" fill-opacity=\"1\"/>\n",
       "<polyline clip-path=\"url(#clip032)\" style=\"stroke:#000000; stroke-linecap:butt; stroke-linejoin:round; stroke-width:4; stroke-opacity:1; fill:none\" points=\"\n",
       "  11833.7,1384.24 11833.7,1384.24 11878.5,1384.24 11833.7,1384.24 \n",
       "  \"/>\n",
       "<path clip-path=\"url(#clip032)\" d=\"\n",
       "M11878.5 1384.24 L11878.5 1384.24 L11923.4 1384.24 L11923.4 1384.24 L11878.5 1384.24 L11878.5 1384.24  Z\n",
       "  \" fill=\"#009af9\" fill-rule=\"evenodd\" fill-opacity=\"1\"/>\n",
       "<polyline clip-path=\"url(#clip032)\" style=\"stroke:#000000; stroke-linecap:butt; stroke-linejoin:round; stroke-width:4; stroke-opacity:1; fill:none\" points=\"\n",
       "  11878.5,1384.24 11878.5,1384.24 11923.4,1384.24 11878.5,1384.24 \n",
       "  \"/>\n",
       "<path clip-path=\"url(#clip032)\" d=\"\n",
       "M11923.4 1312.12 L11923.4 1384.24 L11968.3 1384.24 L11968.3 1312.12 L11923.4 1312.12 L11923.4 1312.12  Z\n",
       "  \" fill=\"#009af9\" fill-rule=\"evenodd\" fill-opacity=\"1\"/>\n",
       "<polyline clip-path=\"url(#clip032)\" style=\"stroke:#000000; stroke-linecap:butt; stroke-linejoin:round; stroke-width:4; stroke-opacity:1; fill:none\" points=\"\n",
       "  11923.4,1312.12 11923.4,1384.24 11968.3,1384.24 11968.3,1312.12 11923.4,1312.12 \n",
       "  \"/>\n",
       "<circle clip-path=\"url(#clip032)\" style=\"fill:#009af9; stroke:none; fill-opacity:0\" cx=\"233.095\" cy=\"1095.78\" r=\"2\"/>\n",
       "<circle clip-path=\"url(#clip032)\" style=\"fill:#009af9; stroke:none; fill-opacity:0\" cx=\"277.972\" cy=\"1240.01\" r=\"2\"/>\n",
       "<circle clip-path=\"url(#clip032)\" style=\"fill:#009af9; stroke:none; fill-opacity:0\" cx=\"322.848\" cy=\"86.1857\" r=\"2\"/>\n",
       "<circle clip-path=\"url(#clip032)\" style=\"fill:#009af9; stroke:none; fill-opacity:0\" cx=\"367.725\" cy=\"663.098\" r=\"2\"/>\n",
       "<circle clip-path=\"url(#clip032)\" style=\"fill:#009af9; stroke:none; fill-opacity:0\" cx=\"412.601\" cy=\"1023.67\" r=\"2\"/>\n",
       "<circle clip-path=\"url(#clip032)\" style=\"fill:#009af9; stroke:none; fill-opacity:0\" cx=\"457.478\" cy=\"590.984\" r=\"2\"/>\n",
       "<circle clip-path=\"url(#clip032)\" style=\"fill:#009af9; stroke:none; fill-opacity:0\" cx=\"502.354\" cy=\"1023.67\" r=\"2\"/>\n",
       "<circle clip-path=\"url(#clip032)\" style=\"fill:#009af9; stroke:none; fill-opacity:0\" cx=\"547.231\" cy=\"879.44\" r=\"2\"/>\n",
       "<circle clip-path=\"url(#clip032)\" style=\"fill:#009af9; stroke:none; fill-opacity:0\" cx=\"592.107\" cy=\"807.326\" r=\"2\"/>\n",
       "<circle clip-path=\"url(#clip032)\" style=\"fill:#009af9; stroke:none; fill-opacity:0\" cx=\"636.984\" cy=\"302.528\" r=\"2\"/>\n",
       "<circle clip-path=\"url(#clip032)\" style=\"fill:#009af9; stroke:none; fill-opacity:0\" cx=\"681.86\" cy=\"1095.78\" r=\"2\"/>\n",
       "<circle clip-path=\"url(#clip032)\" style=\"fill:#009af9; stroke:none; fill-opacity:0\" cx=\"726.737\" cy=\"807.326\" r=\"2\"/>\n",
       "<circle clip-path=\"url(#clip032)\" style=\"fill:#009af9; stroke:none; fill-opacity:0\" cx=\"771.613\" cy=\"879.44\" r=\"2\"/>\n",
       "<circle clip-path=\"url(#clip032)\" style=\"fill:#009af9; stroke:none; fill-opacity:0\" cx=\"816.49\" cy=\"1023.67\" r=\"2\"/>\n",
       "<circle clip-path=\"url(#clip032)\" style=\"fill:#009af9; stroke:none; fill-opacity:0\" cx=\"861.366\" cy=\"807.326\" r=\"2\"/>\n",
       "<circle clip-path=\"url(#clip032)\" style=\"fill:#009af9; stroke:none; fill-opacity:0\" cx=\"906.243\" cy=\"302.528\" r=\"2\"/>\n",
       "<circle clip-path=\"url(#clip032)\" style=\"fill:#009af9; stroke:none; fill-opacity:0\" cx=\"951.119\" cy=\"374.642\" r=\"2\"/>\n",
       "<circle clip-path=\"url(#clip032)\" style=\"fill:#009af9; stroke:none; fill-opacity:0\" cx=\"995.996\" cy=\"735.212\" r=\"2\"/>\n",
       "<circle clip-path=\"url(#clip032)\" style=\"fill:#009af9; stroke:none; fill-opacity:0\" cx=\"1040.87\" cy=\"879.44\" r=\"2\"/>\n",
       "<circle clip-path=\"url(#clip032)\" style=\"fill:#009af9; stroke:none; fill-opacity:0\" cx=\"1085.75\" cy=\"879.44\" r=\"2\"/>\n",
       "<circle clip-path=\"url(#clip032)\" style=\"fill:#009af9; stroke:none; fill-opacity:0\" cx=\"1130.63\" cy=\"1095.78\" r=\"2\"/>\n",
       "<circle clip-path=\"url(#clip032)\" style=\"fill:#009af9; stroke:none; fill-opacity:0\" cx=\"1175.5\" cy=\"1095.78\" r=\"2\"/>\n",
       "<circle clip-path=\"url(#clip032)\" style=\"fill:#009af9; stroke:none; fill-opacity:0\" cx=\"1220.38\" cy=\"1240.01\" r=\"2\"/>\n",
       "<circle clip-path=\"url(#clip032)\" style=\"fill:#009af9; stroke:none; fill-opacity:0\" cx=\"1265.25\" cy=\"230.414\" r=\"2\"/>\n",
       "<circle clip-path=\"url(#clip032)\" style=\"fill:#009af9; stroke:none; fill-opacity:0\" cx=\"1310.13\" cy=\"446.756\" r=\"2\"/>\n",
       "<circle clip-path=\"url(#clip032)\" style=\"fill:#009af9; stroke:none; fill-opacity:0\" cx=\"1355.01\" cy=\"1240.01\" r=\"2\"/>\n",
       "<circle clip-path=\"url(#clip032)\" style=\"fill:#009af9; stroke:none; fill-opacity:0\" cx=\"1399.88\" cy=\"1312.12\" r=\"2\"/>\n",
       "<circle clip-path=\"url(#clip032)\" style=\"fill:#009af9; stroke:none; fill-opacity:0\" cx=\"1444.76\" cy=\"951.554\" r=\"2\"/>\n",
       "<circle clip-path=\"url(#clip032)\" style=\"fill:#009af9; stroke:none; fill-opacity:0\" cx=\"1489.64\" cy=\"1384.24\" r=\"2\"/>\n",
       "<circle clip-path=\"url(#clip032)\" style=\"fill:#009af9; stroke:none; fill-opacity:0\" cx=\"1534.51\" cy=\"1095.78\" r=\"2\"/>\n",
       "<circle clip-path=\"url(#clip032)\" style=\"fill:#009af9; stroke:none; fill-opacity:0\" cx=\"1579.39\" cy=\"1167.9\" r=\"2\"/>\n",
       "<circle clip-path=\"url(#clip032)\" style=\"fill:#009af9; stroke:none; fill-opacity:0\" cx=\"1624.27\" cy=\"1240.01\" r=\"2\"/>\n",
       "<circle clip-path=\"url(#clip032)\" style=\"fill:#009af9; stroke:none; fill-opacity:0\" cx=\"1669.14\" cy=\"1384.24\" r=\"2\"/>\n",
       "<circle clip-path=\"url(#clip032)\" style=\"fill:#009af9; stroke:none; fill-opacity:0\" cx=\"1714.02\" cy=\"1384.24\" r=\"2\"/>\n",
       "<circle clip-path=\"url(#clip032)\" style=\"fill:#009af9; stroke:none; fill-opacity:0\" cx=\"1758.9\" cy=\"1384.24\" r=\"2\"/>\n",
       "<circle clip-path=\"url(#clip032)\" style=\"fill:#009af9; stroke:none; fill-opacity:0\" cx=\"1803.77\" cy=\"1240.01\" r=\"2\"/>\n",
       "<circle clip-path=\"url(#clip032)\" style=\"fill:#009af9; stroke:none; fill-opacity:0\" cx=\"1848.65\" cy=\"1384.24\" r=\"2\"/>\n",
       "<circle clip-path=\"url(#clip032)\" style=\"fill:#009af9; stroke:none; fill-opacity:0\" cx=\"1893.53\" cy=\"1384.24\" r=\"2\"/>\n",
       "<circle clip-path=\"url(#clip032)\" style=\"fill:#009af9; stroke:none; fill-opacity:0\" cx=\"1938.4\" cy=\"1384.24\" r=\"2\"/>\n",
       "<circle clip-path=\"url(#clip032)\" style=\"fill:#009af9; stroke:none; fill-opacity:0\" cx=\"1983.28\" cy=\"1384.24\" r=\"2\"/>\n",
       "<circle clip-path=\"url(#clip032)\" style=\"fill:#009af9; stroke:none; fill-opacity:0\" cx=\"2028.16\" cy=\"1312.12\" r=\"2\"/>\n",
       "<circle clip-path=\"url(#clip032)\" style=\"fill:#009af9; stroke:none; fill-opacity:0\" cx=\"2073.03\" cy=\"1384.24\" r=\"2\"/>\n",
       "<circle clip-path=\"url(#clip032)\" style=\"fill:#009af9; stroke:none; fill-opacity:0\" cx=\"2117.91\" cy=\"1312.12\" r=\"2\"/>\n",
       "<circle clip-path=\"url(#clip032)\" style=\"fill:#009af9; stroke:none; fill-opacity:0\" cx=\"2162.78\" cy=\"1384.24\" r=\"2\"/>\n",
       "<circle clip-path=\"url(#clip032)\" style=\"fill:#009af9; stroke:none; fill-opacity:0\" cx=\"2207.66\" cy=\"1312.12\" r=\"2\"/>\n",
       "<circle clip-path=\"url(#clip032)\" style=\"fill:#009af9; stroke:none; fill-opacity:0\" cx=\"2252.54\" cy=\"1312.12\" r=\"2\"/>\n",
       "<circle clip-path=\"url(#clip032)\" style=\"fill:#009af9; stroke:none; fill-opacity:0\" cx=\"2297.41\" cy=\"1240.01\" r=\"2\"/>\n",
       "<circle clip-path=\"url(#clip032)\" style=\"fill:#009af9; stroke:none; fill-opacity:0\" cx=\"2342.29\" cy=\"1384.24\" r=\"2\"/>\n",
       "</svg>\n"
      ]
     },
     "metadata": {},
     "output_type": "display_data"
    }
   ],
   "source": [
    "using Statistics # bring in statistical support for standard deviations\n",
    "t = c_bench.times / 1e6 # times in milliseconds\n",
    "m, σ = minimum(t), std(t)\n",
    "\n",
    "histogram(t, bins=500,\n",
    "    xlim=(m - 0.01, m + σ),\n",
    "    xlabel=\"milliseconds\", ylabel=\"count\", label=\"\")"
   ]
  },
  {
   "cell_type": "markdown",
   "metadata": {},
   "source": [
    "# 2. C with -ffast-math\n",
    "\n",
    "If we allow C to re-arrange the floating point operations, then it'll vectorize with SIMD (single instruction, multiple data) instructions."
   ]
  },
  {
   "cell_type": "code",
   "execution_count": 21,
   "metadata": {},
   "outputs": [
    {
     "data": {
      "text/plain": [
       "c_sum_fastmath (generic function with 1 method)"
      ]
     },
     "metadata": {},
     "output_type": "display_data"
    }
   ],
   "source": [
    "const Clib_fastmath = tempname()   # make a temporary file\n",
    "\n",
    "# The same as above but with a -ffast-math flag added\n",
    "open(`gcc -fPIC -O3 -msse3 -xc -shared -ffast-math -o $(Clib_fastmath * \".\" * Libdl.dlext) -`, \"w\") do f\n",
    "    print(f, C_code) \n",
    "end\n",
    "\n",
    "# define a Julia function that calls the C function:\n",
    "c_sum_fastmath(X::Array{Float64}) = ccall((\"c_sum\", Clib_fastmath), Float64, (Csize_t, Ptr{Float64}), length(X), X)"
   ]
  },
  {
   "cell_type": "code",
   "execution_count": 22,
   "metadata": {},
   "outputs": [
    {
     "data": {
      "text/plain": [
       "BenchmarkTools.Trial: 527 samples with 1 evaluation.\n",
       " Range \u001b[90m(\u001b[39m\u001b[36m\u001b[1mmin\u001b[22m\u001b[39m … \u001b[35mmax\u001b[39m\u001b[90m):  \u001b[39m\u001b[36m\u001b[1m9.119 ms\u001b[22m\u001b[39m … \u001b[35m 10.342 ms\u001b[39m  \u001b[90m┊\u001b[39m GC \u001b[90m(\u001b[39mmin … max\u001b[90m): \u001b[39m0.00% … 0.00%\n",
       " Time  \u001b[90m(\u001b[39m\u001b[34m\u001b[1mmedian\u001b[22m\u001b[39m\u001b[90m):     \u001b[39m\u001b[34m\u001b[1m9.445 ms               \u001b[22m\u001b[39m\u001b[90m┊\u001b[39m GC \u001b[90m(\u001b[39mmedian\u001b[90m):    \u001b[39m0.00%\n",
       " Time  \u001b[90m(\u001b[39m\u001b[32m\u001b[1mmean\u001b[22m\u001b[39m ± \u001b[32mσ\u001b[39m\u001b[90m):   \u001b[39m\u001b[32m\u001b[1m9.477 ms\u001b[22m\u001b[39m ± \u001b[32m266.664 μs\u001b[39m  \u001b[90m┊\u001b[39m GC \u001b[90m(\u001b[39mmean ± σ\u001b[90m):  \u001b[39m0.00% ± 0.00%\n",
       "\n",
       "  \u001b[39m \u001b[39m \u001b[39m█\u001b[39m█\u001b[39m▆\u001b[39m \u001b[39m \u001b[39m \u001b[39m \u001b[39m \u001b[39m \u001b[39m \u001b[39m \u001b[39m \u001b[39m▁\u001b[39m \u001b[34m▁\u001b[39m\u001b[39m \u001b[32m \u001b[39m\u001b[39m▁\u001b[39m \u001b[39m \u001b[39m \u001b[39m \u001b[39m \u001b[39m \u001b[39m \u001b[39m \u001b[39m \u001b[39m \u001b[39m \u001b[39m \u001b[39m \u001b[39m \u001b[39m \u001b[39m \u001b[39m \u001b[39m \u001b[39m \u001b[39m \u001b[39m \u001b[39m \u001b[39m \u001b[39m \u001b[39m \u001b[39m \u001b[39m \u001b[39m \u001b[39m \u001b[39m \u001b[39m \u001b[39m \u001b[39m \u001b[39m \u001b[39m \u001b[39m \u001b[39m \u001b[39m \u001b[39m \u001b[39m \u001b[39m \n",
       "  \u001b[39m▇\u001b[39m▆\u001b[39m█\u001b[39m█\u001b[39m█\u001b[39m▇\u001b[39m▄\u001b[39m▆\u001b[39m▃\u001b[39m▆\u001b[39m▇\u001b[39m▇\u001b[39m▇\u001b[39m▇\u001b[39m█\u001b[39m▇\u001b[34m█\u001b[39m\u001b[39m█\u001b[32m▇\u001b[39m\u001b[39m█\u001b[39m▆\u001b[39m▇\u001b[39m▅\u001b[39m▇\u001b[39m█\u001b[39m▆\u001b[39m▇\u001b[39m▇\u001b[39m▅\u001b[39m▅\u001b[39m▅\u001b[39m▅\u001b[39m▄\u001b[39m▅\u001b[39m▄\u001b[39m▃\u001b[39m▃\u001b[39m▄\u001b[39m▄\u001b[39m▂\u001b[39m▄\u001b[39m▃\u001b[39m▃\u001b[39m▃\u001b[39m▃\u001b[39m▃\u001b[39m▃\u001b[39m▂\u001b[39m▃\u001b[39m▂\u001b[39m▃\u001b[39m▃\u001b[39m▃\u001b[39m▁\u001b[39m▂\u001b[39m▁\u001b[39m▂\u001b[39m▁\u001b[39m▂\u001b[39m \u001b[39m▄\n",
       "  9.12 ms\u001b[90m         Histogram: frequency by time\u001b[39m        10.3 ms \u001b[0m\u001b[1m<\u001b[22m\n",
       "\n",
       " Memory estimate\u001b[90m: \u001b[39m\u001b[33m0 bytes\u001b[39m, allocs estimate\u001b[90m: \u001b[39m\u001b[33m0\u001b[39m."
      ]
     },
     "metadata": {},
     "output_type": "display_data"
    }
   ],
   "source": [
    "c_fastmath_bench = @benchmark $c_sum_fastmath($a)"
   ]
  },
  {
   "cell_type": "code",
   "execution_count": 23,
   "metadata": {},
   "outputs": [
    {
     "data": {
      "text/plain": [
       "9.119009"
      ]
     },
     "metadata": {},
     "output_type": "display_data"
    }
   ],
   "source": [
    "d[\"C -ffast-math\"] = minimum(c_fastmath_bench.times) / 1e6  # in milliseconds"
   ]
  },
  {
   "cell_type": "markdown",
   "metadata": {},
   "source": [
    "# 3. Python's built in `sum` "
   ]
  },
  {
   "cell_type": "markdown",
   "metadata": {},
   "source": [
    "The `PyCall` package provides a Julia interface to Python:"
   ]
  },
  {
   "cell_type": "code",
   "execution_count": 24,
   "metadata": {
    "scrolled": true
   },
   "outputs": [
    {
     "name": "stderr",
     "output_type": "stream",
     "text": [
      "\u001b[32m\u001b[1m   Resolving\u001b[22m\u001b[39m package versions...\n",
      "\u001b[32m\u001b[1m   Installed\u001b[22m\u001b[39m PyCall ─ v1.93.1\n",
      "\u001b[32m\u001b[1m    Updating\u001b[22m\u001b[39m `~/.julia/environments/v1.7/Project.toml`\n",
      " \u001b[90m [438e738f] \u001b[39m\u001b[92m+ PyCall v1.93.1\u001b[39m\n",
      "\u001b[32m\u001b[1m    Updating\u001b[22m\u001b[39m `~/.julia/environments/v1.7/Manifest.toml`\n",
      " \u001b[90m [438e738f] \u001b[39m\u001b[92m+ PyCall v1.93.1\u001b[39m\n",
      "\u001b[32m\u001b[1m    Building\u001b[22m\u001b[39m PyCall → `~/.julia/scratchspaces/44cfe95a-1eb2-52ea-b672-e2afdf69b78f/1fc929f47d7c151c839c5fc1375929766fb8edcc/build.log`\n",
      "\u001b[32m\u001b[1mPrecompiling\u001b[22m\u001b[39m project...\n",
      "\u001b[32m  ✓ \u001b[39mPyCall\n",
      "  1 dependency successfully precompiled in 6 seconds (153 already precompiled)\n"
     ]
    }
   ],
   "source": [
    "using Pkg; Pkg.add(\"PyCall\")\n",
    "using PyCall"
   ]
  },
  {
   "cell_type": "code",
   "execution_count": 25,
   "metadata": {},
   "outputs": [
    {
     "data": {
      "text/plain": [
       "PyObject <built-in function sum>"
      ]
     },
     "metadata": {},
     "output_type": "display_data"
    }
   ],
   "source": [
    "# get the Python built-in \"sum\" function:\n",
    "pysum = pybuiltin(\"sum\")"
   ]
  },
  {
   "cell_type": "code",
   "execution_count": 26,
   "metadata": {},
   "outputs": [
    {
     "data": {
      "text/plain": [
       "4.999427650656588e6"
      ]
     },
     "metadata": {},
     "output_type": "display_data"
    }
   ],
   "source": [
    "pysum(a)"
   ]
  },
  {
   "cell_type": "code",
   "execution_count": 27,
   "metadata": {},
   "outputs": [
    {
     "data": {
      "text/plain": [
       "true"
      ]
     },
     "metadata": {},
     "output_type": "display_data"
    }
   ],
   "source": [
    "pysum(a) ≈ sum(a)"
   ]
  },
  {
   "cell_type": "code",
   "execution_count": 28,
   "metadata": {},
   "outputs": [
    {
     "data": {
      "text/plain": [
       "BenchmarkTools.Trial: 6 samples with 1 evaluation.\n",
       " Range \u001b[90m(\u001b[39m\u001b[36m\u001b[1mmin\u001b[22m\u001b[39m … \u001b[35mmax\u001b[39m\u001b[90m):  \u001b[39m\u001b[36m\u001b[1m835.393 ms\u001b[22m\u001b[39m … \u001b[35m877.840 ms\u001b[39m  \u001b[90m┊\u001b[39m GC \u001b[90m(\u001b[39mmin … max\u001b[90m): \u001b[39m0.00% … 0.00%\n",
       " Time  \u001b[90m(\u001b[39m\u001b[34m\u001b[1mmedian\u001b[22m\u001b[39m\u001b[90m):     \u001b[39m\u001b[34m\u001b[1m848.842 ms               \u001b[22m\u001b[39m\u001b[90m┊\u001b[39m GC \u001b[90m(\u001b[39mmedian\u001b[90m):    \u001b[39m0.00%\n",
       " Time  \u001b[90m(\u001b[39m\u001b[32m\u001b[1mmean\u001b[22m\u001b[39m ± \u001b[32mσ\u001b[39m\u001b[90m):   \u001b[39m\u001b[32m\u001b[1m852.705 ms\u001b[22m\u001b[39m ± \u001b[32m 15.521 ms\u001b[39m  \u001b[90m┊\u001b[39m GC \u001b[90m(\u001b[39mmean ± σ\u001b[90m):  \u001b[39m0.00% ± 0.00%\n",
       "\n",
       "  \u001b[39m█\u001b[39m \u001b[39m \u001b[39m \u001b[39m \u001b[39m \u001b[39m \u001b[39m \u001b[39m \u001b[39m█\u001b[39m \u001b[39m \u001b[39m \u001b[39m \u001b[39m \u001b[39m█\u001b[34m \u001b[39m\u001b[39m \u001b[39m \u001b[39m \u001b[39m \u001b[39m \u001b[39m█\u001b[39m \u001b[39m \u001b[32m \u001b[39m\u001b[39m \u001b[39m \u001b[39m \u001b[39m \u001b[39m \u001b[39m \u001b[39m \u001b[39m \u001b[39m \u001b[39m \u001b[39m \u001b[39m \u001b[39m \u001b[39m \u001b[39m█\u001b[39m \u001b[39m \u001b[39m \u001b[39m \u001b[39m \u001b[39m \u001b[39m \u001b[39m \u001b[39m \u001b[39m \u001b[39m \u001b[39m \u001b[39m \u001b[39m \u001b[39m \u001b[39m \u001b[39m \u001b[39m \u001b[39m \u001b[39m█\u001b[39m \u001b[39m \n",
       "  \u001b[39m█\u001b[39m▁\u001b[39m▁\u001b[39m▁\u001b[39m▁\u001b[39m▁\u001b[39m▁\u001b[39m▁\u001b[39m▁\u001b[39m█\u001b[39m▁\u001b[39m▁\u001b[39m▁\u001b[39m▁\u001b[39m▁\u001b[39m█\u001b[34m▁\u001b[39m\u001b[39m▁\u001b[39m▁\u001b[39m▁\u001b[39m▁\u001b[39m▁\u001b[39m█\u001b[39m▁\u001b[39m▁\u001b[32m▁\u001b[39m\u001b[39m▁\u001b[39m▁\u001b[39m▁\u001b[39m▁\u001b[39m▁\u001b[39m▁\u001b[39m▁\u001b[39m▁\u001b[39m▁\u001b[39m▁\u001b[39m▁\u001b[39m▁\u001b[39m▁\u001b[39m▁\u001b[39m█\u001b[39m▁\u001b[39m▁\u001b[39m▁\u001b[39m▁\u001b[39m▁\u001b[39m▁\u001b[39m▁\u001b[39m▁\u001b[39m▁\u001b[39m▁\u001b[39m▁\u001b[39m▁\u001b[39m▁\u001b[39m▁\u001b[39m▁\u001b[39m▁\u001b[39m▁\u001b[39m▁\u001b[39m▁\u001b[39m█\u001b[39m \u001b[39m▁\n",
       "  835 ms\u001b[90m           Histogram: frequency by time\u001b[39m          878 ms \u001b[0m\u001b[1m<\u001b[22m\n",
       "\n",
       " Memory estimate\u001b[90m: \u001b[39m\u001b[33m240 bytes\u001b[39m, allocs estimate\u001b[90m: \u001b[39m\u001b[33m6\u001b[39m."
      ]
     },
     "metadata": {},
     "output_type": "display_data"
    }
   ],
   "source": [
    "py_list_bench = @benchmark $pysum($a)"
   ]
  },
  {
   "cell_type": "code",
   "execution_count": 29,
   "metadata": {},
   "outputs": [
    {
     "data": {
      "text/plain": [
       "Dict{Any, Any} with 3 entries:\n",
       "  \"C\"               => 15.0006\n",
       "  \"Python built-in\" => 835.393\n",
       "  \"C -ffast-math\"   => 9.11901"
      ]
     },
     "metadata": {},
     "output_type": "display_data"
    }
   ],
   "source": [
    "d[\"Python built-in\"] = minimum(py_list_bench.times) / 1e6\n",
    "d"
   ]
  },
  {
   "cell_type": "markdown",
   "metadata": {},
   "source": [
    "# 4. Python: `numpy` \n",
    "\n",
    "## Takes advantage of hardware \"SIMD\", but only works when it works.\n",
    "\n",
    "`numpy` is an optimized C library, callable from Python.\n",
    "It may be installed within Julia as follows:"
   ]
  },
  {
   "cell_type": "code",
   "execution_count": 30,
   "metadata": {},
   "outputs": [
    {
     "name": "stderr",
     "output_type": "stream",
     "text": [
      "\u001b[32m\u001b[1m   Resolving\u001b[22m\u001b[39m package versions...\n",
      "\u001b[32m\u001b[1m    Updating\u001b[22m\u001b[39m `~/.julia/environments/v1.7/Project.toml`\n",
      " \u001b[90m [8f4d0f93] \u001b[39m\u001b[92m+ Conda v1.7.0\u001b[39m\n",
      "\u001b[32m\u001b[1m  No Changes\u001b[22m\u001b[39m to `~/.julia/environments/v1.7/Manifest.toml`\n"
     ]
    }
   ],
   "source": [
    "using Pkg; Pkg.add(\"Conda\")\n",
    "using Conda"
   ]
  },
  {
   "cell_type": "code",
   "execution_count": 31,
   "metadata": {},
   "outputs": [
    {
     "name": "stdout",
     "output_type": "stream",
     "text": [
      "PREFIX=/home/alex/.julia/conda/3\n",
      "Unpacking payload ...\n",
      "Extracting \"brotlipy-0.7.0-py39h3811e60_1003.tar.bz2\"\n",
      "Extracting \"pyopenssl-22.0.0-pyhd8ed1ab_0.tar.bz2\"\n",
      "Extracting \"_openmp_mutex-4.5-1_gnu.tar.bz2\"\n",
      "Extracting \"conda-package-handling-1.8.0-py39hb9d737c_0.tar.bz2\"\n",
      "Extracting \"xz-5.2.5-h516909a_1.tar.bz2\"\n",
      "Extracting \"ncurses-6.3-h9c3ff4c_0.tar.bz2\"\n",
      "Extracting \"tzdata-2022a-h191b570_0.tar.bz2\"\n",
      "Extracting \"libffi-3.4.2-h7f98852_5.tar.bz2\"\n",
      "Extracting \"readline-8.1-h46c0cb4_0.tar.bz2\"\n",
      "Extracting \"ruamel_yaml-0.15.80-py39h3811e60_1006.tar.bz2\"\n",
      "Extracting \"libgcc-ng-11.2.0-h1d223b6_14.tar.bz2\"\n",
      "Extracting \"tqdm-4.63.0-pyhd8ed1ab_0.tar.bz2\"\n",
      "Extracting \"requests-2.27.1-pyhd8ed1ab_0.tar.bz2\"\n",
      "Extracting \"zlib-1.2.11-h36c2ea0_1013.tar.bz2\"\n",
      "Extracting \"ca-certificates-2021.10.8-ha878542_0.tar.bz2\"\n",
      "Extracting \"wheel-0.37.1-pyhd8ed1ab_0.tar.bz2\"\n",
      "Extracting \"libzlib-1.2.11-h36c2ea0_1013.tar.bz2\"\n",
      "Extracting \"colorama-0.4.4-pyh9f0ad1d_0.tar.bz2\"\n",
      "Extracting \"pip-22.0.4-pyhd8ed1ab_0.tar.bz2\"\n",
      "Extracting \"six-1.16.0-pyh6c4a22f_0.tar.bz2\"\n",
      "Extracting \"setuptools-60.10.0-py39hf3d152e_0.tar.bz2\"\n",
      "Extracting \"python_abi-3.9-2_cp39.tar.bz2\"\n",
      "Extracting \"tk-8.6.12-h27826a3_0.tar.bz2\"\n",
      "Extracting \"charset-normalizer-2.0.12-pyhd8ed1ab_0.tar.bz2\"\n",
      "Extracting \"pycparser-2.21-pyhd8ed1ab_0.tar.bz2\"\n",
      "Extracting \"libnsl-2.0.0-h7f98852_0.tar.bz2\"\n",
      "Extracting \"openssl-1.1.1l-h7f98852_0.tar.bz2\"\n",
      "Extracting \"conda-4.12.0-py39hf3d152e_0.tar.bz2\"\n",
      "Extracting \"pysocks-1.7.1-py39hf3d152e_4.tar.bz2\"\n",
      "Extracting \"yaml-0.2.5-h7f98852_2.tar.bz2\"\n",
      "Extracting \"idna-3.3-pyhd8ed1ab_0.tar.bz2\"\n",
      "Extracting \"sqlite-3.37.1-h4ff8645_0.tar.bz2\"\n",
      "Extracting \"cryptography-36.0.2-py39hd97740a_0.tar.bz2\"\n",
      "Extracting \"bzip2-1.0.8-h7f98852_4.tar.bz2\"\n",
      "Extracting \"pycosat-0.6.3-py39h3811e60_1009.tar.bz2\"\n",
      "Extracting \"_libgcc_mutex-0.1-conda_forge.tar.bz2\"\n",
      "Extracting \"urllib3-1.26.9-pyhd8ed1ab_0.tar.bz2\"\n",
      "Extracting \"python-3.9.10-h85951f9_2_cpython.tar.bz2\"\n",
      "Extracting \"certifi-2021.10.8-py39hf3d152e_1.tar.bz2\"\n",
      "Extracting \"ld_impl_linux-64-2.36.1-hea4e1c9_2.tar.bz2\"\n",
      "Extracting \"libgomp-11.2.0-h1d223b6_14.tar.bz2\"\n",
      "Extracting \"cffi-1.15.0-py39h4bc2ebd_0.tar.bz2\"\n",
      "Extracting \"libuuid-2.32.1-h7f98852_1000.tar.bz2\"\n",
      "\n",
      "                                           __\n",
      "          __  ______ ___  ____ _____ ___  / /_  ____ _\n",
      "         / / / / __ `__ \\/ __ `/ __ `__ \\/ __ \\/ __ `/\n",
      "        / /_/ / / / / / / /_/ / / / / / / /_/ / /_/ /\n",
      "       / .___/_/ /_/ /_/\\__,_/_/ /_/ /_/_.___/\\__,_/\n",
      "      /_/\n",
      "\n",
      "conda-forge/linux-64                                        Using cache\n",
      "conda-forge/noarch                                          Using cache\n",
      "\n",
      "Transaction\n",
      "\n",
      "  Prefix: /home/alex/.julia/conda/3\n",
      "\n",
      "  Updating specs:\n",
      "\n",
      "   - python==3.9.10=h85951f9_2_cpython\n",
      "   - _libgcc_mutex==0.1=conda_forge\n",
      "   - ca-certificates==2021.10.8=ha878542_0\n",
      "   - ld_impl_linux-64==2.36.1=hea4e1c9_2\n",
      "   - tzdata==2022a=h191b570_0\n",
      "   - libgomp==11.2.0=h1d223b6_14\n",
      "   - _openmp_mutex==4.5=1_gnu\n",
      "   - libgcc-ng==11.2.0=h1d223b6_14\n",
      "   - bzip2==1.0.8=h7f98852_4\n",
      "   - libffi==3.4.2=h7f98852_5\n",
      "   - libnsl==2.0.0=h7f98852_0\n",
      "   - libuuid==2.32.1=h7f98852_1000\n",
      "   - libzlib==1.2.11=h36c2ea0_1013\n",
      "   - ncurses==6.3=h9c3ff4c_0\n",
      "   - openssl==1.1.1l=h7f98852_0\n",
      "   - xz==5.2.5=h516909a_1\n",
      "   - yaml==0.2.5=h7f98852_2\n",
      "   - readline==8.1=h46c0cb4_0\n",
      "   - tk==8.6.12=h27826a3_0\n",
      "   - zlib==1.2.11=h36c2ea0_1013\n",
      "   - sqlite==3.37.1=h4ff8645_0\n",
      "   - charset-normalizer==2.0.12=pyhd8ed1ab_0\n",
      "   - colorama==0.4.4=pyh9f0ad1d_0\n",
      "   - idna==3.3=pyhd8ed1ab_0\n",
      "   - pycparser==2.21=pyhd8ed1ab_0\n",
      "   - python_abi==3.9=2_cp39\n",
      "   - six==1.16.0=pyh6c4a22f_0\n",
      "   - wheel==0.37.1=pyhd8ed1ab_0\n",
      "   - certifi==2021.10.8=py39hf3d152e_1\n",
      "   - cffi==1.15.0=py39h4bc2ebd_0\n",
      "   - pycosat==0.6.3=py39h3811e60_1009\n",
      "   - pysocks==1.7.1=py39hf3d152e_4\n",
      "   - ruamel_yaml==0.15.80=py39h3811e60_1006\n",
      "   - setuptools==60.10.0=py39hf3d152e_0\n",
      "   - tqdm==4.63.0=pyhd8ed1ab_0\n",
      "   - brotlipy==0.7.0=py39h3811e60_1003\n",
      "   - conda-package-handling==1.8.0=py39hb9d737c_0\n",
      "   - cryptography==36.0.2=py39hd97740a_0\n",
      "   - pip==22.0.4=pyhd8ed1ab_0\n",
      "   - pyopenssl==22.0.0=pyhd8ed1ab_0\n",
      "   - urllib3==1.26.9=pyhd8ed1ab_0\n",
      "   - requests==2.27.1=pyhd8ed1ab_0\n",
      "   - conda==4.12.0=py39hf3d152e_0\n",
      "\n",
      "\n",
      "  Package                     Version  Build               Channel                    Size\n",
      "────────────────────────────────────────────────────────────────────────────────────────────\n",
      "  Install:\n",
      "────────────────────────────────────────────────────────────────────────────────────────────\n",
      "\n",
      "  + _libgcc_mutex                 0.1  conda_forge         conda-forge/linux-64     Cached\n",
      "  + _openmp_mutex                 4.5  1_gnu               conda-forge/linux-64     Cached\n",
      "  + brotlipy                    0.7.0  py39h3811e60_1003   conda-forge/linux-64     Cached\n",
      "  + bzip2                       1.0.8  h7f98852_4          conda-forge/linux-64     Cached\n",
      "  + ca-certificates         2021.10.8  ha878542_0          conda-forge/linux-64     Cached\n",
      "  + certifi                 2021.10.8  py39hf3d152e_1      conda-forge/linux-64     Cached\n",
      "  + cffi                       1.15.0  py39h4bc2ebd_0      conda-forge/linux-64     Cached\n",
      "  + charset-normalizer         2.0.12  pyhd8ed1ab_0        conda-forge/noarch       Cached\n",
      "  + colorama                    0.4.4  pyh9f0ad1d_0        conda-forge/noarch       Cached\n",
      "  + conda                      4.12.0  py39hf3d152e_0      conda-forge/linux-64     Cached\n",
      "  + conda-package-handling      1.8.0  py39hb9d737c_0      conda-forge/linux-64     Cached\n",
      "  + cryptography               36.0.2  py39hd97740a_0      conda-forge/linux-64     Cached\n",
      "  + idna                          3.3  pyhd8ed1ab_0        conda-forge/noarch       Cached\n",
      "  + ld_impl_linux-64           2.36.1  hea4e1c9_2          conda-forge/linux-64     Cached\n",
      "  + libffi                      3.4.2  h7f98852_5          conda-forge/linux-64     Cached\n",
      "  + libgcc-ng                  11.2.0  h1d223b6_14         conda-forge/linux-64     Cached\n",
      "  + libgomp                    11.2.0  h1d223b6_14         conda-forge/linux-64     Cached\n",
      "  + libnsl                      2.0.0  h7f98852_0          conda-forge/linux-64     Cached\n",
      "  + libuuid                    2.32.1  h7f98852_1000       conda-forge/linux-64     Cached\n",
      "  + libzlib                    1.2.11  h36c2ea0_1013       conda-forge/linux-64     Cached\n",
      "  + ncurses                       6.3  h9c3ff4c_0          conda-forge/linux-64     Cached\n",
      "  + openssl                    1.1.1l  h7f98852_0          conda-forge/linux-64     Cached\n",
      "  + pip                        22.0.4  pyhd8ed1ab_0        conda-forge/noarch       Cached\n",
      "  + pycosat                     0.6.3  py39h3811e60_1009   conda-forge/linux-64     Cached\n",
      "  + pycparser                    2.21  pyhd8ed1ab_0        conda-forge/noarch       Cached\n",
      "  + pyopenssl                  22.0.0  pyhd8ed1ab_0        conda-forge/noarch       Cached\n",
      "  + pysocks                     1.7.1  py39hf3d152e_4      conda-forge/linux-64     Cached\n",
      "  + python                     3.9.10  h85951f9_2_cpython  conda-forge/linux-64     Cached\n",
      "  + python_abi                    3.9  2_cp39              conda-forge/linux-64     Cached\n",
      "  + readline                      8.1  h46c0cb4_0          conda-forge/linux-64     Cached\n",
      "  + requests                   2.27.1  pyhd8ed1ab_0        conda-forge/noarch       Cached\n",
      "  + ruamel_yaml               0.15.80  py39h3811e60_1006   conda-forge/linux-64     Cached\n",
      "  + setuptools                60.10.0  py39hf3d152e_0      conda-forge/linux-64     Cached\n",
      "  + six                        1.16.0  pyh6c4a22f_0        conda-forge/noarch       Cached\n",
      "  + sqlite                     3.37.1  h4ff8645_0          conda-forge/linux-64     Cached\n",
      "  + tk                         8.6.12  h27826a3_0          conda-forge/linux-64     Cached\n",
      "  + tqdm                       4.63.0  pyhd8ed1ab_0        conda-forge/noarch       Cached\n",
      "  + tzdata                      2022a  h191b570_0          conda-forge/noarch       Cached\n",
      "  + urllib3                    1.26.9  pyhd8ed1ab_0        conda-forge/noarch       Cached\n",
      "  + wheel                      0.37.1  pyhd8ed1ab_0        conda-forge/noarch       Cached\n",
      "  + xz                          5.2.5  h516909a_1          conda-forge/linux-64     Cached\n",
      "  + yaml                        0.2.5  h7f98852_2          conda-forge/linux-64     Cached\n",
      "  + zlib                       1.2.11  h36c2ea0_1013       conda-forge/linux-64     Cached\n",
      "\n",
      "  Summary:\n",
      "\n",
      "  Install: 43 packages\n",
      "\n",
      "  Total download: 0 B\n",
      "\n",
      "────────────────────────────────────────────────────────────────────────────────────────────\n",
      "\n",
      "\n",
      "Transaction starting\n",
      "Linking _libgcc_mutex-0.1-conda_forge\n",
      "Linking ca-certificates-2021.10.8-ha878542_0\n",
      "Linking ld_impl_linux-64-2.36.1-hea4e1c9_2\n",
      "Linking libgomp-11.2.0-h1d223b6_14\n",
      "Linking _openmp_mutex-4.5-1_gnu\n",
      "Linking libgcc-ng-11.2.0-h1d223b6_14\n",
      "Linking yaml-0.2.5-h7f98852_2\n",
      "Linking xz-5.2.5-h516909a_1\n",
      "Linking openssl-1.1.1l-h7f98852_0\n",
      "Linking ncurses-6.3-h9c3ff4c_0\n",
      "Linking libzlib-1.2.11-h36c2ea0_1013\n",
      "Linking libuuid-2.32.1-h7f98852_1000\n",
      "Linking libnsl-2.0.0-h7f98852_0\n",
      "Linking libffi-3.4.2-h7f98852_5\n",
      "Linking bzip2-1.0.8-h7f98852_4\n",
      "Linking readline-8.1-h46c0cb4_0\n",
      "Linking zlib-1.2.11-h36c2ea0_1013\n",
      "Linking tk-8.6.12-h27826a3_0\n",
      "Linking sqlite-3.37.1-h4ff8645_0\n",
      "Linking tzdata-2022a-h191b570_0\n",
      "Linking python-3.9.10-h85951f9_2_cpython\n",
      "Linking python_abi-3.9-2_cp39\n",
      "Linking setuptools-60.10.0-py39hf3d152e_0\n",
      "Linking wheel-0.37.1-pyhd8ed1ab_0\n",
      "Linking pip-22.0.4-pyhd8ed1ab_0\n",
      "Linking six-1.16.0-pyh6c4a22f_0\n",
      "Linking pycparser-2.21-pyhd8ed1ab_0\n",
      "Linking idna-3.3-pyhd8ed1ab_0\n",
      "Linking colorama-0.4.4-pyh9f0ad1d_0\n",
      "Linking charset-normalizer-2.0.12-pyhd8ed1ab_0\n",
      "Linking tqdm-4.63.0-pyhd8ed1ab_0\n",
      "Linking ruamel_yaml-0.15.80-py39h3811e60_1006\n",
      "Linking pysocks-1.7.1-py39hf3d152e_4\n",
      "Linking pycosat-0.6.3-py39h3811e60_1009\n"
     ]
    },
    {
     "name": "stdout",
     "output_type": "stream",
     "text": [
      "Linking certifi-2021.10.8-py39hf3d152e_1\n",
      "Linking cffi-1.15.0-py39h4bc2ebd_0\n",
      "Linking conda-package-handling-1.8.0-py39hb9d737c_0\n",
      "Linking cryptography-36.0.2-py39hd97740a_0\n",
      "Linking brotlipy-0.7.0-py39h3811e60_1003\n",
      "Linking pyopenssl-22.0.0-pyhd8ed1ab_0\n",
      "Linking urllib3-1.26.9-pyhd8ed1ab_0\n",
      "Linking requests-2.27.1-pyhd8ed1ab_0\n",
      "Linking conda-4.12.0-py39hf3d152e_0\n",
      "Transaction finished\n",
      "installation finished.\n",
      "Collecting package metadata (current_repodata.json): ...working... done\n",
      "Solving environment: ...working... done\n",
      "\n",
      "## Package Plan ##\n",
      "\n",
      "  environment location: /home/alex/.julia/conda/3\n",
      "\n",
      "  added / updated specs:\n",
      "    - numpy\n",
      "\n",
      "\n",
      "The following packages will be downloaded:\n",
      "\n",
      "    package                    |            build\n",
      "    ---------------------------|-----------------\n",
      "    ca-certificates-2022.5.18  |       ha878542_0         144 KB  conda-forge\n",
      "    certifi-2022.5.18          |   py39hf3d152e_0         150 KB  conda-forge\n",
      "    libblas-3.9.0              |14_linux64_openblas          12 KB  conda-forge\n",
      "    libcblas-3.9.0             |14_linux64_openblas          12 KB  conda-forge\n",
      "    libgfortran-ng-12.1.0      |      h69a702a_16          23 KB  conda-forge\n",
      "    libgfortran5-12.1.0        |      hdcd56e2_16         1.8 MB  conda-forge\n",
      "    liblapack-3.9.0            |14_linux64_openblas          12 KB  conda-forge\n",
      "    libopenblas-0.3.20         |pthreads_h78a6416_0        10.1 MB  conda-forge\n",
      "    libstdcxx-ng-12.1.0        |      ha89aaad_16         4.3 MB  conda-forge\n",
      "    numpy-1.22.3               |   py39hc58783e_2         6.8 MB  conda-forge\n",
      "    openssl-1.1.1o             |       h166bdaf_0         2.1 MB  conda-forge\n",
      "    ------------------------------------------------------------\n",
      "                                           Total:        25.4 MB\n",
      "\n",
      "The following NEW packages will be INSTALLED:\n",
      "\n",
      "  libblas            conda-forge/linux-64::libblas-3.9.0-14_linux64_openblas\n",
      "  libcblas           conda-forge/linux-64::libcblas-3.9.0-14_linux64_openblas\n",
      "  libgfortran-ng     conda-forge/linux-64::libgfortran-ng-12.1.0-h69a702a_16\n",
      "  libgfortran5       conda-forge/linux-64::libgfortran5-12.1.0-hdcd56e2_16\n",
      "  liblapack          conda-forge/linux-64::liblapack-3.9.0-14_linux64_openblas\n",
      "  libopenblas        conda-forge/linux-64::libopenblas-0.3.20-pthreads_h78a6416_0\n",
      "  libstdcxx-ng       conda-forge/linux-64::libstdcxx-ng-12.1.0-ha89aaad_16\n",
      "  numpy              conda-forge/linux-64::numpy-1.22.3-py39hc58783e_2\n",
      "\n",
      "The following packages will be UPDATED:\n",
      "\n",
      "  ca-certificates                      2021.10.8-ha878542_0 --> 2022.5.18-ha878542_0\n",
      "  certifi                          2021.10.8-py39hf3d152e_1 --> 2022.5.18-py39hf3d152e_0\n",
      "  openssl                                 1.1.1l-h7f98852_0 --> 1.1.1o-h166bdaf_0\n",
      "\n",
      "\n",
      "\n",
      "Downloading and Extracting Packages\n",
      "\rlibblas-3.9.0        | 12 KB     |            |   0% \rlibblas-3.9.0        | 12 KB     | ########## | 100% \rlibblas-3.9.0        | 12 KB     | ########## | 100% \n",
      "\rlibcblas-3.9.0       | 12 KB     |            |   0% \rlibcblas-3.9.0       | 12 KB     | ########## | 100% \n",
      "\rca-certificates-2022 | 144 KB    |            |   0% \rca-certificates-2022 | 144 KB    | ########## | 100% \rca-certificates-2022 | 144 KB    | ########## | 100% \n",
      "\rcertifi-2022.5.18    | 150 KB    |            |   0% \rcertifi-2022.5.18    | 150 KB    | ########## | 100% \rcertifi-2022.5.18    | 150 KB    | ########## | 100% \n",
      "\rlibgfortran5-12.1.0  | 1.8 MB    |            |   0% \rlibgfortran5-12.1.0  | 1.8 MB    | 7          |   8% \rlibgfortran5-12.1.0  | 1.8 MB    | ##1        |  21% \rlibgfortran5-12.1.0  | 1.8 MB    | ###4       |  35% \rlibgfortran5-12.1.0  | 1.8 MB    | ####6      |  46% \rlibgfortran5-12.1.0  | 1.8 MB    | #####8     |  59% \rlibgfortran5-12.1.0  | 1.8 MB    | #######3   |  74% \rlibgfortran5-12.1.0  | 1.8 MB    | ########## | 100% \rlibgfortran5-12.1.0  | 1.8 MB    | ########## | 100% \n",
      "\rlibgfortran-ng-12.1. | 23 KB     |            |   0% \rlibgfortran-ng-12.1. | 23 KB     | ########## | 100% \n",
      "\rnumpy-1.22.3         | 6.8 MB    |            |   0% \rnumpy-1.22.3         | 6.8 MB    | 1          |   1% \rnumpy-1.22.3         | 6.8 MB    | 4          |   5% \rnumpy-1.22.3         | 6.8 MB    | 8          |   9% \rnumpy-1.22.3         | 6.8 MB    | #2         |  12% \rnumpy-1.22.3         | 6.8 MB    | #6         |  16% \rnumpy-1.22.3         | 6.8 MB    | ##         |  20% \rnumpy-1.22.3         | 6.8 MB    | ##3        |  24% \rnumpy-1.22.3         | 6.8 MB    | ##7        |  27% \rnumpy-1.22.3         | 6.8 MB    | ###2       |  32% \rnumpy-1.22.3         | 6.8 MB    | ###7       |  38% \rnumpy-1.22.3         | 6.8 MB    | ####5      |  45% \rnumpy-1.22.3         | 6.8 MB    | #####2     |  53% \rnumpy-1.22.3         | 6.8 MB    | ######2    |  62% \rnumpy-1.22.3         | 6.8 MB    | ######9    |  69% \rnumpy-1.22.3         | 6.8 MB    | #######5   |  75% \rnumpy-1.22.3         | 6.8 MB    | ########   |  80% \rnumpy-1.22.3         | 6.8 MB    | ########4  |  85% \rnumpy-1.22.3         | 6.8 MB    | ########9  |  89% \rnumpy-1.22.3         | 6.8 MB    | #########3 |  93% \rnumpy-1.22.3         | 6.8 MB    | #########8 |  98% \rnumpy-1.22.3         | 6.8 MB    | ########## | 100% \n",
      "\rlibopenblas-0.3.20   | 10.1 MB   |            |   0% \rlibopenblas-0.3.20   | 10.1 MB   | 1          |   2% \rlibopenblas-0.3.20   | 10.1 MB   | 5          |   6% \rlibopenblas-0.3.20   | 10.1 MB   | #          |  10% \rlibopenblas-0.3.20   | 10.1 MB   | #6         |  16% \rlibopenblas-0.3.20   | 10.1 MB   | ##2        |  22% \rlibopenblas-0.3.20   | 10.1 MB   | ##8        |  28% \rlibopenblas-0.3.20   | 10.1 MB   | ###3       |  34% \rlibopenblas-0.3.20   | 10.1 MB   | ###9       |  40% \rlibopenblas-0.3.20   | 10.1 MB   | ####6      |  46% \rlibopenblas-0.3.20   | 10.1 MB   | #####1     |  52% \rlibopenblas-0.3.20   | 10.1 MB   | #####7     |  58% \rlibopenblas-0.3.20   | 10.1 MB   | ######3    |  64% \rlibopenblas-0.3.20   | 10.1 MB   | #######    |  70% \rlibopenblas-0.3.20   | 10.1 MB   | #######6   |  76% \rlibopenblas-0.3.20   | 10.1 MB   | ########1  |  82% \rlibopenblas-0.3.20   | 10.1 MB   | ########7  |  88% \rlibopenblas-0.3.20   | 10.1 MB   | #########4 |  94% \rlibopenblas-0.3.20   | 10.1 MB   | ########## | 100% \n",
      "\rliblapack-3.9.0      | 12 KB     |            |   0% \rliblapack-3.9.0      | 12 KB     | ########## | 100% \n",
      "\rlibstdcxx-ng-12.1.0  | 4.3 MB    |            |   0% \rlibstdcxx-ng-12.1.0  | 4.3 MB    | 8          |   8% \rlibstdcxx-ng-12.1.0  | 4.3 MB    | ##         |  20% \rlibstdcxx-ng-12.1.0  | 4.3 MB    | ###4       |  34% \rlibstdcxx-ng-12.1.0  | 4.3 MB    | ####6      |  46% \rlibstdcxx-ng-12.1.0  | 4.3 MB    | #####9     |  60% \rlibstdcxx-ng-12.1.0  | 4.3 MB    | #######1   |  71% \rlibstdcxx-ng-12.1.0  | 4.3 MB    | ########4  |  84% \rlibstdcxx-ng-12.1.0  | 4.3 MB    | #########8 |  98% \rlibstdcxx-ng-12.1.0  | 4.3 MB    | ########## | 100% \n",
      "\ropenssl-1.1.1o       | 2.1 MB    |            |   0% \ropenssl-1.1.1o       | 2.1 MB    | #9         |  20% \ropenssl-1.1.1o       | 2.1 MB    | #####2     |  52% \ropenssl-1.1.1o       | 2.1 MB    | ########   |  80% \ropenssl-1.1.1o       | 2.1 MB    | ########## | 100% \n",
      "Preparing transaction: ...working... done\n",
      "Verifying transaction: ...working... done\n",
      "Executing transaction: ...working... done\n"
     ]
    },
    {
     "name": "stderr",
     "output_type": "stream",
     "text": [
      "┌ Info: Downloading miniconda installer ...\n",
      "└ @ Conda /home/alex/.julia/packages/Conda/x2UxR/src/Conda.jl:193\n",
      "┌ Info: Installing miniconda ...\n",
      "└ @ Conda /home/alex/.julia/packages/Conda/x2UxR/src/Conda.jl:203\n",
      "┌ Info: Running `conda install -y numpy` in root environment\n",
      "└ @ Conda /home/alex/.julia/packages/Conda/x2UxR/src/Conda.jl:127\n"
     ]
    }
   ],
   "source": [
    "Conda.add(\"numpy\")"
   ]
  },
  {
   "cell_type": "code",
   "execution_count": 32,
   "metadata": {},
   "outputs": [
    {
     "data": {
      "text/plain": [
       "BenchmarkTools.Trial: 797 samples with 1 evaluation.\n",
       " Range \u001b[90m(\u001b[39m\u001b[36m\u001b[1mmin\u001b[22m\u001b[39m … \u001b[35mmax\u001b[39m\u001b[90m):  \u001b[39m\u001b[36m\u001b[1m5.723 ms\u001b[22m\u001b[39m … \u001b[35m  8.187 ms\u001b[39m  \u001b[90m┊\u001b[39m GC \u001b[90m(\u001b[39mmin … max\u001b[90m): \u001b[39m0.00% … 0.00%\n",
       " Time  \u001b[90m(\u001b[39m\u001b[34m\u001b[1mmedian\u001b[22m\u001b[39m\u001b[90m):     \u001b[39m\u001b[34m\u001b[1m6.165 ms               \u001b[22m\u001b[39m\u001b[90m┊\u001b[39m GC \u001b[90m(\u001b[39mmedian\u001b[90m):    \u001b[39m0.00%\n",
       " Time  \u001b[90m(\u001b[39m\u001b[32m\u001b[1mmean\u001b[22m\u001b[39m ± \u001b[32mσ\u001b[39m\u001b[90m):   \u001b[39m\u001b[32m\u001b[1m6.265 ms\u001b[22m\u001b[39m ± \u001b[32m411.869 μs\u001b[39m  \u001b[90m┊\u001b[39m GC \u001b[90m(\u001b[39mmean ± σ\u001b[90m):  \u001b[39m0.00% ± 0.00%\n",
       "\n",
       "  \u001b[39m \u001b[39m \u001b[39m▂\u001b[39m▃\u001b[39m▁\u001b[39m \u001b[39m \u001b[39m \u001b[39m▂\u001b[39m▂\u001b[39m█\u001b[39m▇\u001b[39m█\u001b[34m▄\u001b[39m\u001b[39m▄\u001b[32m▃\u001b[39m\u001b[39m \u001b[39m \u001b[39m \u001b[39m \u001b[39m \u001b[39m \u001b[39m \u001b[39m \u001b[39m \u001b[39m \u001b[39m \u001b[39m \u001b[39m \u001b[39m \u001b[39m \u001b[39m \u001b[39m \u001b[39m \u001b[39m \u001b[39m \u001b[39m \u001b[39m \u001b[39m \u001b[39m \u001b[39m \u001b[39m \u001b[39m \u001b[39m \u001b[39m \u001b[39m \u001b[39m \u001b[39m \u001b[39m \u001b[39m \u001b[39m \u001b[39m \u001b[39m \u001b[39m \u001b[39m \u001b[39m \u001b[39m \u001b[39m \u001b[39m \u001b[39m \u001b[39m \n",
       "  \u001b[39m▆\u001b[39m▇\u001b[39m█\u001b[39m█\u001b[39m█\u001b[39m█\u001b[39m█\u001b[39m▄\u001b[39m█\u001b[39m█\u001b[39m█\u001b[39m█\u001b[39m█\u001b[34m█\u001b[39m\u001b[39m█\u001b[32m█\u001b[39m\u001b[39m█\u001b[39m▆\u001b[39m▅\u001b[39m▄\u001b[39m▄\u001b[39m▅\u001b[39m▃\u001b[39m▅\u001b[39m▆\u001b[39m▄\u001b[39m▃\u001b[39m▅\u001b[39m▄\u001b[39m▄\u001b[39m▅\u001b[39m▃\u001b[39m▄\u001b[39m▄\u001b[39m▃\u001b[39m▃\u001b[39m▂\u001b[39m▄\u001b[39m▃\u001b[39m▃\u001b[39m▂\u001b[39m▂\u001b[39m▂\u001b[39m▂\u001b[39m▃\u001b[39m▂\u001b[39m▂\u001b[39m▁\u001b[39m▂\u001b[39m▂\u001b[39m▂\u001b[39m▃\u001b[39m▂\u001b[39m▁\u001b[39m▁\u001b[39m▁\u001b[39m▁\u001b[39m▁\u001b[39m▂\u001b[39m \u001b[39m▄\n",
       "  5.72 ms\u001b[90m         Histogram: frequency by time\u001b[39m        7.81 ms \u001b[0m\u001b[1m<\u001b[22m\n",
       "\n",
       " Memory estimate\u001b[90m: \u001b[39m\u001b[33m240 bytes\u001b[39m, allocs estimate\u001b[90m: \u001b[39m\u001b[33m6\u001b[39m."
      ]
     },
     "metadata": {},
     "output_type": "display_data"
    }
   ],
   "source": [
    "numpy_sum = pyimport(\"numpy\")[\"sum\"]\n",
    "\n",
    "py_numpy_bench = @benchmark $numpy_sum($a)"
   ]
  },
  {
   "cell_type": "code",
   "execution_count": 33,
   "metadata": {},
   "outputs": [
    {
     "data": {
      "text/plain": [
       "4.999427650656369e6"
      ]
     },
     "metadata": {},
     "output_type": "display_data"
    }
   ],
   "source": [
    "numpy_sum(a)"
   ]
  },
  {
   "cell_type": "code",
   "execution_count": 34,
   "metadata": {},
   "outputs": [
    {
     "data": {
      "text/plain": [
       "true"
      ]
     },
     "metadata": {},
     "output_type": "display_data"
    }
   ],
   "source": [
    "numpy_sum(a) ≈ sum(a)"
   ]
  },
  {
   "cell_type": "code",
   "execution_count": 35,
   "metadata": {
    "scrolled": true
   },
   "outputs": [
    {
     "data": {
      "text/plain": [
       "Dict{Any, Any} with 4 entries:\n",
       "  \"C\"               => 15.0006\n",
       "  \"Python numpy\"    => 5.72308\n",
       "  \"Python built-in\" => 835.393\n",
       "  \"C -ffast-math\"   => 9.11901"
      ]
     },
     "metadata": {},
     "output_type": "display_data"
    }
   ],
   "source": [
    "d[\"Python numpy\"] = minimum(py_numpy_bench.times) / 1e6\n",
    "d"
   ]
  },
  {
   "cell_type": "markdown",
   "metadata": {},
   "source": [
    "# 5. Python, hand-written "
   ]
  },
  {
   "cell_type": "code",
   "execution_count": 36,
   "metadata": {},
   "outputs": [
    {
     "data": {
      "text/plain": [
       "PyObject <function py_sum at 0x7fe6254b5820>"
      ]
     },
     "metadata": {},
     "output_type": "display_data"
    }
   ],
   "source": [
    "py\"\"\"\n",
    "def py_sum(A):\n",
    "    s = 0.0\n",
    "    for a in A:\n",
    "        s += a\n",
    "    return s\n",
    "\"\"\"\n",
    "\n",
    "sum_py = py\"py_sum\""
   ]
  },
  {
   "cell_type": "code",
   "execution_count": 37,
   "metadata": {},
   "outputs": [
    {
     "data": {
      "text/plain": [
       "BenchmarkTools.Trial: 5 samples with 1 evaluation.\n",
       " Range \u001b[90m(\u001b[39m\u001b[36m\u001b[1mmin\u001b[22m\u001b[39m … \u001b[35mmax\u001b[39m\u001b[90m):  \u001b[39m\u001b[36m\u001b[1m1.093 s\u001b[22m\u001b[39m … \u001b[35m  1.174 s\u001b[39m  \u001b[90m┊\u001b[39m GC \u001b[90m(\u001b[39mmin … max\u001b[90m): \u001b[39m0.00% … 0.00%\n",
       " Time  \u001b[90m(\u001b[39m\u001b[34m\u001b[1mmedian\u001b[22m\u001b[39m\u001b[90m):     \u001b[39m\u001b[34m\u001b[1m1.130 s              \u001b[22m\u001b[39m\u001b[90m┊\u001b[39m GC \u001b[90m(\u001b[39mmedian\u001b[90m):    \u001b[39m0.00%\n",
       " Time  \u001b[90m(\u001b[39m\u001b[32m\u001b[1mmean\u001b[22m\u001b[39m ± \u001b[32mσ\u001b[39m\u001b[90m):   \u001b[39m\u001b[32m\u001b[1m1.130 s\u001b[22m\u001b[39m ± \u001b[32m33.547 ms\u001b[39m  \u001b[90m┊\u001b[39m GC \u001b[90m(\u001b[39mmean ± σ\u001b[90m):  \u001b[39m0.00% ± 0.00%\n",
       "\n",
       "  \u001b[39m█\u001b[39m \u001b[39m \u001b[39m \u001b[39m \u001b[39m \u001b[39m \u001b[34m█\u001b[39m\u001b[39m \u001b[39m \u001b[39m \u001b[39m \u001b[39m \u001b[39m \u001b[39m \u001b[39m \u001b[39m \u001b[39m \u001b[39m \u001b[39m \u001b[39m \u001b[39m \u001b[39m \u001b[39m \u001b[39m \u001b[39m \u001b[32m█\u001b[39m\u001b[39m \u001b[39m \u001b[39m \u001b[39m \u001b[39m \u001b[39m \u001b[39m \u001b[39m \u001b[39m \u001b[39m \u001b[39m \u001b[39m \u001b[39m \u001b[39m \u001b[39m█\u001b[39m \u001b[39m \u001b[39m \u001b[39m \u001b[39m \u001b[39m \u001b[39m \u001b[39m \u001b[39m \u001b[39m \u001b[39m \u001b[39m \u001b[39m \u001b[39m \u001b[39m█\u001b[39m \u001b[39m \n",
       "  \u001b[39m█\u001b[39m▁\u001b[39m▁\u001b[39m▁\u001b[39m▁\u001b[39m▁\u001b[39m▁\u001b[34m█\u001b[39m\u001b[39m▁\u001b[39m▁\u001b[39m▁\u001b[39m▁\u001b[39m▁\u001b[39m▁\u001b[39m▁\u001b[39m▁\u001b[39m▁\u001b[39m▁\u001b[39m▁\u001b[39m▁\u001b[39m▁\u001b[39m▁\u001b[39m▁\u001b[39m▁\u001b[39m▁\u001b[39m▁\u001b[32m█\u001b[39m\u001b[39m▁\u001b[39m▁\u001b[39m▁\u001b[39m▁\u001b[39m▁\u001b[39m▁\u001b[39m▁\u001b[39m▁\u001b[39m▁\u001b[39m▁\u001b[39m▁\u001b[39m▁\u001b[39m▁\u001b[39m▁\u001b[39m█\u001b[39m▁\u001b[39m▁\u001b[39m▁\u001b[39m▁\u001b[39m▁\u001b[39m▁\u001b[39m▁\u001b[39m▁\u001b[39m▁\u001b[39m▁\u001b[39m▁\u001b[39m▁\u001b[39m▁\u001b[39m▁\u001b[39m█\u001b[39m \u001b[39m▁\n",
       "  1.09 s\u001b[90m         Histogram: frequency by time\u001b[39m        1.17 s \u001b[0m\u001b[1m<\u001b[22m\n",
       "\n",
       " Memory estimate\u001b[90m: \u001b[39m\u001b[33m240 bytes\u001b[39m, allocs estimate\u001b[90m: \u001b[39m\u001b[33m6\u001b[39m."
      ]
     },
     "metadata": {},
     "output_type": "display_data"
    }
   ],
   "source": [
    "py_hand = @benchmark $sum_py($a)"
   ]
  },
  {
   "cell_type": "code",
   "execution_count": 38,
   "metadata": {},
   "outputs": [
    {
     "data": {
      "text/plain": [
       "4.999427650656588e6"
      ]
     },
     "metadata": {},
     "output_type": "display_data"
    }
   ],
   "source": [
    "sum_py(a)"
   ]
  },
  {
   "cell_type": "code",
   "execution_count": 39,
   "metadata": {},
   "outputs": [
    {
     "data": {
      "text/plain": [
       "true"
      ]
     },
     "metadata": {},
     "output_type": "display_data"
    }
   ],
   "source": [
    "sum_py(a) ≈ sum(a)"
   ]
  },
  {
   "cell_type": "code",
   "execution_count": 40,
   "metadata": {
    "scrolled": true
   },
   "outputs": [
    {
     "data": {
      "text/plain": [
       "Dict{Any, Any} with 5 entries:\n",
       "  \"C\"                   => 15.0006\n",
       "  \"Python numpy\"        => 5.72308\n",
       "  \"Python hand-written\" => 1092.81\n",
       "  \"Python built-in\"     => 835.393\n",
       "  \"C -ffast-math\"       => 9.11901"
      ]
     },
     "metadata": {},
     "output_type": "display_data"
    }
   ],
   "source": [
    "d[\"Python hand-written\"] = minimum(py_hand.times) / 1e6\n",
    "d"
   ]
  },
  {
   "cell_type": "markdown",
   "metadata": {},
   "source": [
    "# 6. Julia (built-in) \n",
    "\n",
    "## Written directly in Julia, not in C!"
   ]
  },
  {
   "cell_type": "code",
   "execution_count": 41,
   "metadata": {},
   "outputs": [
    {
     "data": {
      "text/html": [
       "sum(a::<b>AbstractArray</b>; <i>dims, kw...</i>) in Base at <a href=\"https://github.com/JuliaLang/julia/tree/bf534986350a991e4a1b29126de0342ffd76205e/base/reducedim.jl#L889\" target=\"_blank\">reducedim.jl:889</a>"
      ],
      "text/plain": [
       "sum(a::AbstractArray; dims, kw...) in Base at reducedim.jl:889"
      ]
     },
     "metadata": {},
     "output_type": "display_data"
    }
   ],
   "source": [
    "@which sum(a)"
   ]
  },
  {
   "cell_type": "code",
   "execution_count": 42,
   "metadata": {},
   "outputs": [
    {
     "data": {
      "text/plain": [
       "BenchmarkTools.Trial: 744 samples with 1 evaluation.\n",
       " Range \u001b[90m(\u001b[39m\u001b[36m\u001b[1mmin\u001b[22m\u001b[39m … \u001b[35mmax\u001b[39m\u001b[90m):  \u001b[39m\u001b[36m\u001b[1m5.879 ms\u001b[22m\u001b[39m … \u001b[35m15.909 ms\u001b[39m  \u001b[90m┊\u001b[39m GC \u001b[90m(\u001b[39mmin … max\u001b[90m): \u001b[39m0.00% … 0.00%\n",
       " Time  \u001b[90m(\u001b[39m\u001b[34m\u001b[1mmedian\u001b[22m\u001b[39m\u001b[90m):     \u001b[39m\u001b[34m\u001b[1m6.279 ms              \u001b[22m\u001b[39m\u001b[90m┊\u001b[39m GC \u001b[90m(\u001b[39mmedian\u001b[90m):    \u001b[39m0.00%\n",
       " Time  \u001b[90m(\u001b[39m\u001b[32m\u001b[1mmean\u001b[22m\u001b[39m ± \u001b[32mσ\u001b[39m\u001b[90m):   \u001b[39m\u001b[32m\u001b[1m6.705 ms\u001b[22m\u001b[39m ± \u001b[32m 1.266 ms\u001b[39m  \u001b[90m┊\u001b[39m GC \u001b[90m(\u001b[39mmean ± σ\u001b[90m):  \u001b[39m0.00% ± 0.00%\n",
       "\n",
       "  \u001b[39m▇\u001b[39m▇\u001b[39m█\u001b[34m▇\u001b[39m\u001b[39m▅\u001b[39m▄\u001b[39m▅\u001b[32m▄\u001b[39m\u001b[39m▃\u001b[39m▂\u001b[39m▂\u001b[39m \u001b[39m \u001b[39m \u001b[39m \u001b[39m \u001b[39m \u001b[39m \u001b[39m \u001b[39m \u001b[39m \u001b[39m \u001b[39m \u001b[39m \u001b[39m \u001b[39m \u001b[39m \u001b[39m \u001b[39m \u001b[39m \u001b[39m \u001b[39m \u001b[39m \u001b[39m \u001b[39m \u001b[39m \u001b[39m \u001b[39m \u001b[39m \u001b[39m \u001b[39m \u001b[39m \u001b[39m \u001b[39m \u001b[39m \u001b[39m \u001b[39m \u001b[39m \u001b[39m \u001b[39m \u001b[39m \u001b[39m \u001b[39m \u001b[39m \u001b[39m \u001b[39m \u001b[39m \u001b[39m \u001b[39m \u001b[39m \n",
       "  \u001b[39m█\u001b[39m█\u001b[39m█\u001b[34m█\u001b[39m\u001b[39m█\u001b[39m█\u001b[39m█\u001b[32m█\u001b[39m\u001b[39m█\u001b[39m█\u001b[39m█\u001b[39m█\u001b[39m▇\u001b[39m▇\u001b[39m█\u001b[39m▇\u001b[39m▆\u001b[39m▆\u001b[39m▆\u001b[39m▆\u001b[39m▅\u001b[39m▆\u001b[39m▄\u001b[39m▅\u001b[39m▆\u001b[39m▅\u001b[39m▅\u001b[39m▇\u001b[39m▅\u001b[39m▆\u001b[39m▄\u001b[39m▅\u001b[39m▇\u001b[39m▄\u001b[39m▁\u001b[39m▆\u001b[39m▁\u001b[39m▅\u001b[39m▅\u001b[39m▁\u001b[39m▄\u001b[39m▄\u001b[39m▄\u001b[39m▄\u001b[39m▁\u001b[39m▁\u001b[39m▄\u001b[39m▅\u001b[39m▁\u001b[39m▁\u001b[39m▅\u001b[39m▁\u001b[39m▄\u001b[39m▁\u001b[39m▁\u001b[39m▁\u001b[39m▁\u001b[39m▅\u001b[39m \u001b[39m█\n",
       "  5.88 ms\u001b[90m      \u001b[39m\u001b[90mHistogram: \u001b[39m\u001b[90m\u001b[1mlog(\u001b[22m\u001b[39m\u001b[90mfrequency\u001b[39m\u001b[90m\u001b[1m)\u001b[22m\u001b[39m\u001b[90m by time\u001b[39m     12.7 ms \u001b[0m\u001b[1m<\u001b[22m\n",
       "\n",
       " Memory estimate\u001b[90m: \u001b[39m\u001b[33m0 bytes\u001b[39m, allocs estimate\u001b[90m: \u001b[39m\u001b[33m0\u001b[39m."
      ]
     },
     "metadata": {},
     "output_type": "display_data"
    }
   ],
   "source": [
    "j_bench = @benchmark sum($a)"
   ]
  },
  {
   "cell_type": "code",
   "execution_count": 43,
   "metadata": {
    "scrolled": true
   },
   "outputs": [
    {
     "data": {
      "text/plain": [
       "Dict{Any, Any} with 6 entries:\n",
       "  \"C\"                   => 15.0006\n",
       "  \"Python numpy\"        => 5.72308\n",
       "  \"Python hand-written\" => 1092.81\n",
       "  \"Python built-in\"     => 835.393\n",
       "  \"Julia built-in\"      => 5.8788\n",
       "  \"C -ffast-math\"       => 9.11901"
      ]
     },
     "metadata": {},
     "output_type": "display_data"
    }
   ],
   "source": [
    "d[\"Julia built-in\"] = minimum(j_bench.times) / 1e6\n",
    "d"
   ]
  },
  {
   "cell_type": "markdown",
   "metadata": {},
   "source": [
    "# 7. Julia (hand-written) "
   ]
  },
  {
   "cell_type": "code",
   "execution_count": 44,
   "metadata": {
    "scrolled": true
   },
   "outputs": [
    {
     "data": {
      "text/plain": [
       "mysum (generic function with 1 method)"
      ]
     },
     "metadata": {},
     "output_type": "display_data"
    }
   ],
   "source": [
    "function mysum(A)   \n",
    "    s = 0.0 # s = zero(eltype(a))\n",
    "    for a in A\n",
    "        s += a\n",
    "    end\n",
    "    s\n",
    "end"
   ]
  },
  {
   "cell_type": "code",
   "execution_count": 45,
   "metadata": {},
   "outputs": [
    {
     "data": {
      "text/plain": [
       "BenchmarkTools.Trial: 317 samples with 1 evaluation.\n",
       " Range \u001b[90m(\u001b[39m\u001b[36m\u001b[1mmin\u001b[22m\u001b[39m … \u001b[35mmax\u001b[39m\u001b[90m):  \u001b[39m\u001b[36m\u001b[1m15.344 ms\u001b[22m\u001b[39m … \u001b[35m 18.291 ms\u001b[39m  \u001b[90m┊\u001b[39m GC \u001b[90m(\u001b[39mmin … max\u001b[90m): \u001b[39m0.00% … 0.00%\n",
       " Time  \u001b[90m(\u001b[39m\u001b[34m\u001b[1mmedian\u001b[22m\u001b[39m\u001b[90m):     \u001b[39m\u001b[34m\u001b[1m15.806 ms               \u001b[22m\u001b[39m\u001b[90m┊\u001b[39m GC \u001b[90m(\u001b[39mmedian\u001b[90m):    \u001b[39m0.00%\n",
       " Time  \u001b[90m(\u001b[39m\u001b[32m\u001b[1mmean\u001b[22m\u001b[39m ± \u001b[32mσ\u001b[39m\u001b[90m):   \u001b[39m\u001b[32m\u001b[1m15.786 ms\u001b[22m\u001b[39m ± \u001b[32m276.208 μs\u001b[39m  \u001b[90m┊\u001b[39m GC \u001b[90m(\u001b[39mmean ± σ\u001b[90m):  \u001b[39m0.00% ± 0.00%\n",
       "\n",
       "  \u001b[39m \u001b[39m \u001b[39m \u001b[39m \u001b[39m \u001b[39m \u001b[39m \u001b[39m \u001b[39m \u001b[39m \u001b[39m \u001b[39m \u001b[39m▂\u001b[39m \u001b[39m \u001b[39m \u001b[39m \u001b[39m \u001b[39m▅\u001b[39m \u001b[39m \u001b[39m \u001b[39m \u001b[39m \u001b[39m▄\u001b[39m \u001b[39m \u001b[39m▁\u001b[39m▁\u001b[39m \u001b[39m \u001b[32m \u001b[39m\u001b[34m▁\u001b[39m\u001b[39m▇\u001b[39m▃\u001b[39m█\u001b[39m▆\u001b[39m▁\u001b[39m▂\u001b[39m▆\u001b[39m \u001b[39m▁\u001b[39m▁\u001b[39m▁\u001b[39m \u001b[39m \u001b[39m \u001b[39m▁\u001b[39m \u001b[39m \u001b[39m \u001b[39m \u001b[39m \u001b[39m \u001b[39m \u001b[39m \u001b[39m \u001b[39m \u001b[39m \u001b[39m \u001b[39m \u001b[39m \n",
       "  \u001b[39m▅\u001b[39m▅\u001b[39m▄\u001b[39m▅\u001b[39m▅\u001b[39m▁\u001b[39m▄\u001b[39m▆\u001b[39m▅\u001b[39m▅\u001b[39m▇\u001b[39m█\u001b[39m█\u001b[39m▆\u001b[39m▇\u001b[39m▆\u001b[39m▅\u001b[39m▇\u001b[39m█\u001b[39m▆\u001b[39m▇\u001b[39m█\u001b[39m▇\u001b[39m█\u001b[39m█\u001b[39m▇\u001b[39m▆\u001b[39m█\u001b[39m█\u001b[39m█\u001b[39m█\u001b[32m▆\u001b[39m\u001b[34m█\u001b[39m\u001b[39m█\u001b[39m█\u001b[39m█\u001b[39m█\u001b[39m█\u001b[39m█\u001b[39m█\u001b[39m▆\u001b[39m█\u001b[39m█\u001b[39m█\u001b[39m▇\u001b[39m▇\u001b[39m▆\u001b[39m█\u001b[39m▄\u001b[39m▆\u001b[39m▇\u001b[39m▄\u001b[39m▃\u001b[39m▁\u001b[39m▅\u001b[39m▁\u001b[39m▁\u001b[39m▁\u001b[39m▃\u001b[39m▅\u001b[39m \u001b[39m▅\n",
       "  15.3 ms\u001b[90m         Histogram: frequency by time\u001b[39m         16.2 ms \u001b[0m\u001b[1m<\u001b[22m\n",
       "\n",
       " Memory estimate\u001b[90m: \u001b[39m\u001b[33m0 bytes\u001b[39m, allocs estimate\u001b[90m: \u001b[39m\u001b[33m0\u001b[39m."
      ]
     },
     "metadata": {},
     "output_type": "display_data"
    }
   ],
   "source": [
    "j_bench_hand = @benchmark mysum($a)"
   ]
  },
  {
   "cell_type": "code",
   "execution_count": 46,
   "metadata": {
    "scrolled": true
   },
   "outputs": [
    {
     "data": {
      "text/plain": [
       "Dict{Any, Any} with 7 entries:\n",
       "  \"C\"                   => 15.0006\n",
       "  \"Python numpy\"        => 5.72308\n",
       "  \"Julia hand-written\"  => 15.3437\n",
       "  \"Python hand-written\" => 1092.81\n",
       "  \"Python built-in\"     => 835.393\n",
       "  \"Julia built-in\"      => 5.8788\n",
       "  \"C -ffast-math\"       => 9.11901"
      ]
     },
     "metadata": {},
     "output_type": "display_data"
    }
   ],
   "source": [
    "d[\"Julia hand-written\"] = minimum(j_bench_hand.times) / 1e6\n",
    "d"
   ]
  },
  {
   "cell_type": "markdown",
   "metadata": {},
   "source": [
    "# 8. Julia (hand-written w. simd) "
   ]
  },
  {
   "cell_type": "code",
   "execution_count": 47,
   "metadata": {},
   "outputs": [
    {
     "data": {
      "text/plain": [
       "mysum_simd (generic function with 1 method)"
      ]
     },
     "metadata": {},
     "output_type": "display_data"
    }
   ],
   "source": [
    "function mysum_simd(A)   \n",
    "    s = 0.0 # s = zero(eltype(A))\n",
    "    @simd for a in A\n",
    "        s += a\n",
    "    end\n",
    "    s\n",
    "end"
   ]
  },
  {
   "cell_type": "code",
   "execution_count": 48,
   "metadata": {},
   "outputs": [
    {
     "data": {
      "text/plain": [
       "BenchmarkTools.Trial: 795 samples with 1 evaluation.\n",
       " Range \u001b[90m(\u001b[39m\u001b[36m\u001b[1mmin\u001b[22m\u001b[39m … \u001b[35mmax\u001b[39m\u001b[90m):  \u001b[39m\u001b[36m\u001b[1m5.759 ms\u001b[22m\u001b[39m … \u001b[35m  8.940 ms\u001b[39m  \u001b[90m┊\u001b[39m GC \u001b[90m(\u001b[39mmin … max\u001b[90m): \u001b[39m0.00% … 0.00%\n",
       " Time  \u001b[90m(\u001b[39m\u001b[34m\u001b[1mmedian\u001b[22m\u001b[39m\u001b[90m):     \u001b[39m\u001b[34m\u001b[1m6.224 ms               \u001b[22m\u001b[39m\u001b[90m┊\u001b[39m GC \u001b[90m(\u001b[39mmedian\u001b[90m):    \u001b[39m0.00%\n",
       " Time  \u001b[90m(\u001b[39m\u001b[32m\u001b[1mmean\u001b[22m\u001b[39m ± \u001b[32mσ\u001b[39m\u001b[90m):   \u001b[39m\u001b[32m\u001b[1m6.281 ms\u001b[22m\u001b[39m ± \u001b[32m331.129 μs\u001b[39m  \u001b[90m┊\u001b[39m GC \u001b[90m(\u001b[39mmean ± σ\u001b[90m):  \u001b[39m0.00% ± 0.00%\n",
       "\n",
       "  \u001b[39m \u001b[39m \u001b[39m \u001b[39m \u001b[39m \u001b[39m \u001b[39m▁\u001b[39m▅\u001b[39m▆\u001b[39m▅\u001b[39m▄\u001b[39m▃\u001b[39m▂\u001b[39m▃\u001b[39m█\u001b[34m▄\u001b[39m\u001b[32m▁\u001b[39m\u001b[39m▂\u001b[39m▃\u001b[39m \u001b[39m▁\u001b[39m▁\u001b[39m \u001b[39m \u001b[39m \u001b[39m \u001b[39m \u001b[39m \u001b[39m \u001b[39m \u001b[39m \u001b[39m \u001b[39m \u001b[39m \u001b[39m \u001b[39m \u001b[39m \u001b[39m \u001b[39m \u001b[39m \u001b[39m \u001b[39m \u001b[39m \u001b[39m \u001b[39m \u001b[39m \u001b[39m \u001b[39m \u001b[39m \u001b[39m \u001b[39m \u001b[39m \u001b[39m \u001b[39m \u001b[39m \u001b[39m \u001b[39m \u001b[39m \u001b[39m \u001b[39m \u001b[39m \n",
       "  \u001b[39m▃\u001b[39m▄\u001b[39m▄\u001b[39m▅\u001b[39m▇\u001b[39m█\u001b[39m█\u001b[39m█\u001b[39m█\u001b[39m█\u001b[39m█\u001b[39m█\u001b[39m█\u001b[39m█\u001b[39m█\u001b[34m█\u001b[39m\u001b[32m█\u001b[39m\u001b[39m█\u001b[39m█\u001b[39m█\u001b[39m█\u001b[39m█\u001b[39m▆\u001b[39m▆\u001b[39m▄\u001b[39m▆\u001b[39m▅\u001b[39m▆\u001b[39m▅\u001b[39m▅\u001b[39m▄\u001b[39m▅\u001b[39m▃\u001b[39m▄\u001b[39m▃\u001b[39m▂\u001b[39m▃\u001b[39m▃\u001b[39m▃\u001b[39m▄\u001b[39m▂\u001b[39m▂\u001b[39m▂\u001b[39m▂\u001b[39m▂\u001b[39m▁\u001b[39m▁\u001b[39m▁\u001b[39m▁\u001b[39m▂\u001b[39m▂\u001b[39m▁\u001b[39m▁\u001b[39m▁\u001b[39m▁\u001b[39m▁\u001b[39m▁\u001b[39m▁\u001b[39m▂\u001b[39m \u001b[39m▄\n",
       "  5.76 ms\u001b[90m         Histogram: frequency by time\u001b[39m        7.64 ms \u001b[0m\u001b[1m<\u001b[22m\n",
       "\n",
       " Memory estimate\u001b[90m: \u001b[39m\u001b[33m0 bytes\u001b[39m, allocs estimate\u001b[90m: \u001b[39m\u001b[33m0\u001b[39m."
      ]
     },
     "metadata": {},
     "output_type": "display_data"
    }
   ],
   "source": [
    "j_bench_hand_simd = @benchmark mysum_simd($a)"
   ]
  },
  {
   "cell_type": "code",
   "execution_count": 49,
   "metadata": {},
   "outputs": [
    {
     "data": {
      "text/plain": [
       "4.999427650656337e6"
      ]
     },
     "metadata": {},
     "output_type": "display_data"
    }
   ],
   "source": [
    "mysum_simd(a)"
   ]
  },
  {
   "cell_type": "code",
   "execution_count": 50,
   "metadata": {
    "scrolled": true
   },
   "outputs": [
    {
     "data": {
      "text/plain": [
       "Dict{Any, Any} with 8 entries:\n",
       "  \"Julia hand-written simd\" => 5.75917\n",
       "  \"C\"                       => 15.0006\n",
       "  \"Python numpy\"            => 5.72308\n",
       "  \"Julia hand-written\"      => 15.3437\n",
       "  \"Python hand-written\"     => 1092.81\n",
       "  \"Python built-in\"         => 835.393\n",
       "  \"Julia built-in\"          => 5.8788\n",
       "  \"C -ffast-math\"           => 9.11901"
      ]
     },
     "metadata": {},
     "output_type": "display_data"
    }
   ],
   "source": [
    "d[\"Julia hand-written simd\"] = minimum(j_bench_hand_simd.times) / 1e6\n",
    "d"
   ]
  },
  {
   "cell_type": "markdown",
   "metadata": {},
   "source": [
    "# Summary"
   ]
  },
  {
   "cell_type": "code",
   "execution_count": 51,
   "metadata": {
    "scrolled": true
   },
   "outputs": [
    {
     "name": "stdout",
     "output_type": "stream",
     "text": [
      "Python numpy................5.7\n",
      "Julia hand-written simd.....5.8\n",
      "Julia built-in..............5.9\n",
      "C -ffast-math...............9.1\n",
      "C..........................15.0\n",
      "Julia hand-written.........15.3\n",
      "Python built-in...........835.4\n",
      "Python hand-written......1092.8\n"
     ]
    }
   ],
   "source": [
    "for (key, value) in sort(collect(d), by=last)\n",
    "    println(rpad(key, 25, \".\"), lpad(round(value; digits=1), 6, \".\"))\n",
    "end"
   ]
  }
 ],
 "metadata": {
  "anaconda-cloud": {},
  "kernelspec": {
   "display_name": "Julia 1.7.2",
   "language": "julia",
   "name": "julia-1.7"
  },
  "language_info": {
   "file_extension": ".jl",
   "mimetype": "application/julia",
   "name": "julia",
   "version": "1.7.2"
  },
  "toc": {
   "colors": {
    "hover_highlight": "#DAA520",
    "running_highlight": "#FF0000",
    "selected_highlight": "#FFD700"
   },
   "moveMenuLeft": true,
   "nav_menu": {
    "height": "212px",
    "width": "252px"
   },
   "navigate_menu": true,
   "number_sections": true,
   "sideBar": true,
   "threshold": "2",
   "toc_cell": false,
   "toc_section_display": "block",
   "toc_window_display": false
  }
 },
 "nbformat": 4,
 "nbformat_minor": 4
}
